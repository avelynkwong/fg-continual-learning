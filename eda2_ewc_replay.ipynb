{
  "cells": [
    {
      "cell_type": "code",
      "execution_count": 1,
      "id": "4ZIq16KN2hQw",
      "metadata": {
        "id": "4ZIq16KN2hQw"
      },
      "outputs": [],
      "source": [
        "import os\n",
        "os.environ[\"CUBLAS_WORKSPACE_CONFIG\"] = \":4096:8\""
      ]
    },
    {
      "cell_type": "code",
      "execution_count": 2,
      "id": "8caPCMc81HvQ",
      "metadata": {
        "id": "8caPCMc81HvQ"
      },
      "outputs": [],
      "source": [
        "import torch\n",
        "import torch.backends.cudnn as cudnn\n",
        "import random\n",
        "import numpy as np\n",
        "\n",
        "# seeds\n",
        "seed = 88\n",
        "random.seed(seed)\n",
        "np.random.seed(seed)\n",
        "torch.manual_seed(seed)\n",
        "torch.cuda.manual_seed(seed)\n",
        "torch.cuda.manual_seed_all(seed)\n",
        "cudnn.deterministic = True\n",
        "cudnn.benchmark = False\n",
        "torch.use_deterministic_algorithms(True)\n",
        "g = torch.Generator()\n",
        "g.manual_seed(seed)\n",
        "\n",
        "def seed_worker(worker_id):\n",
        "    worker_seed = torch.initial_seed() % 2**32\n",
        "    np.random.seed(worker_seed)\n",
        "    random.seed(worker_seed)"
      ]
    },
    {
      "cell_type": "code",
      "execution_count": 3,
      "id": "dbeff534",
      "metadata": {
        "id": "dbeff534"
      },
      "outputs": [],
      "source": [
        "# import torchvision.datasets as datasets\n",
        "# import torchvision.transforms as transforms\n",
        "# import matplotlib.pyplot as plt\n",
        "# from torch.utils.data import ConcatDataset\n",
        "\n",
        "# # remove copyright banner\n",
        "# class RemoveCopyrightBanner(object):\n",
        "#     def __call__(self, img):\n",
        "#         width, height = img.size\n",
        "#         return img.crop((0, 0, width, height - 20))\n",
        "\n",
        "# transform = transforms.Compose([\n",
        "#     RemoveCopyrightBanner(),\n",
        "#     transforms.Resize((224, 224)),\n",
        "#     transforms.ToTensor(),\n",
        "#     transforms.Normalize(mean=[0.485, 0.456, 0.406], std=[0.229, 0.224, 0.225])\n",
        "# ])\n",
        "\n",
        "# granularity = 'variant'\n",
        "\n",
        "# # # Create the FGVC Aircraft dataset instance\n",
        "# # train_dataset = FGVCAircraft(\n",
        "# #     root='./data',\n",
        "# #     split='trainval',              # Options: 'train', 'val', 'trainval', 'test'\n",
        "# #     annotation_level=granularity,    # Options: 'variant', 'family', 'manufacturer'\n",
        "# #     transform=transform,\n",
        "# #     download=True\n",
        "# # )\n",
        "\n",
        "# data_root = './data'\n",
        "\n",
        "# train_dataset = datasets.FGVCAircraft(\n",
        "#     root=data_root,\n",
        "#     split='train',\n",
        "#     annotation_level=granularity,\n",
        "#     download=True,\n",
        "#     transform=transform\n",
        "# )\n",
        "\n",
        "# val_dataset = datasets.FGVCAircraft(\n",
        "#     root=data_root,\n",
        "#     split='val',\n",
        "#     annotation_level=granularity,\n",
        "#     download=True,\n",
        "#     transform=transform\n",
        "# )\n",
        "# test_dataset = datasets.FGVCAircraft(\n",
        "#     root=data_root,\n",
        "#     split='test',\n",
        "#     annotation_level=granularity,\n",
        "#     download=True,\n",
        "#     transform=transform\n",
        "# )\n",
        "\n",
        "# trainval_dataset = ConcatDataset([train_dataset, val_dataset])\n",
        "# train_dataset, val_dataset = torch.utils.data.random_split(trainval_dataset, [0.8, 0.2], generator=g)\n",
        "\n",
        "# # val_dataset = FGVCAircraft(\n",
        "# #     root='./data',\n",
        "# #     split='val',\n",
        "# #     annotation_level='variant',\n",
        "# #     transform=transform,\n",
        "# #     download=True\n",
        "# # )\n",
        "\n",
        "# # test_dataset = FGVCAircraft(\n",
        "# #     root='./data',\n",
        "# #     split='test',\n",
        "# #     annotation_level=granularity,\n",
        "# #     transform=transform,\n",
        "# #     download=True\n",
        "# # )"
      ]
    },
    {
      "cell_type": "code",
      "source": [
        "import torchvision.datasets as datasets\n",
        "import torchvision.transforms as transforms\n",
        "import matplotlib.pyplot as plt\n",
        "from torch.utils.data import ConcatDataset\n",
        "\n",
        "# remove copyright banner\n",
        "class RemoveCopyrightBanner(object):\n",
        "    def __call__(self, img):\n",
        "        width, height = img.size\n",
        "        return img.crop((0, 0, width, height - 20))\n",
        "\n",
        "transform = transforms.Compose([\n",
        "    RemoveCopyrightBanner(),\n",
        "    transforms.Resize((224, 224)),\n",
        "    transforms.ToTensor(),\n",
        "    transforms.Normalize(mean=[0.485, 0.456, 0.406], std=[0.229, 0.224, 0.225])\n",
        "])\n",
        "\n",
        "# granularity = 'variant'\n",
        "\n",
        "# # Create the FGVC Aircraft dataset instance\n",
        "# train_dataset = FGVCAircraft(\n",
        "#     root='./data',\n",
        "#     split='trainval',              # Options: 'train', 'val', 'trainval', 'test'\n",
        "#     annotation_level=granularity,    # Options: 'variant', 'family', 'manufacturer'\n",
        "#     transform=transform,\n",
        "#     download=True\n",
        "# )\n",
        "\n",
        "data_root = './data'\n",
        "\n",
        "train_dataset = datasets.DTD(\n",
        "    root=data_root,\n",
        "    split='train',\n",
        "    download=True,\n",
        "    transform=transform\n",
        ")\n",
        "\n",
        "val_dataset = datasets.DTD(\n",
        "    root=data_root,\n",
        "    split='val',\n",
        "    download=True,\n",
        "    transform=transform\n",
        ")\n",
        "test_dataset = datasets.DTD(\n",
        "    root=data_root,\n",
        "    split='test',\n",
        "    download=True,\n",
        "    transform=transform\n",
        ")\n",
        "\n",
        "trainval_dataset = ConcatDataset([train_dataset, val_dataset])\n",
        "train_dataset, val_dataset = torch.utils.data.random_split(trainval_dataset, [0.8, 0.2], generator=g)\n",
        "\n",
        "# val_dataset = FGVCAircraft(\n",
        "#     root='./data',\n",
        "#     split='val',\n",
        "#     annotation_level='variant',\n",
        "#     transform=transform,\n",
        "#     download=True\n",
        "# )\n",
        "\n",
        "# test_dataset = FGVCAircraft(\n",
        "#     root='./data',\n",
        "#     split='test',\n",
        "#     annotation_level=granularity,\n",
        "#     transform=transform,\n",
        "#     download=True\n",
        "# )"
      ],
      "metadata": {
        "id": "M5CEowTLKR_a"
      },
      "id": "M5CEowTLKR_a",
      "execution_count": 8,
      "outputs": []
    },
    {
      "cell_type": "code",
      "execution_count": 9,
      "id": "a8dd6b2b",
      "metadata": {
        "id": "a8dd6b2b",
        "outputId": "0ea2dd93-cc41-4cc2-927b-edb54a6dee26",
        "colab": {
          "base_uri": "https://localhost:8080/",
          "height": 364
        }
      },
      "outputs": [
        {
          "output_type": "stream",
          "name": "stderr",
          "text": [
            "WARNING:matplotlib.image:Clipping input data to the valid range for imshow with RGB data ([0..1] for floats or [0..255] for integers). Got range [0.13515405..2.2391288].\n",
            "WARNING:matplotlib.image:Clipping input data to the valid range for imshow with RGB data ([0..1] for floats or [0..255] for integers). Got range [-2.117904..1.0280112].\n",
            "WARNING:matplotlib.image:Clipping input data to the valid range for imshow with RGB data ([0..1] for floats or [0..255] for integers). Got range [-2.1007793..2.4482791].\n",
            "WARNING:matplotlib.image:Clipping input data to the valid range for imshow with RGB data ([0..1] for floats or [0..255] for integers). Got range [-0.8109804..1.9064132].\n",
            "WARNING:matplotlib.image:Clipping input data to the valid range for imshow with RGB data ([0..1] for floats or [0..255] for integers). Got range [-1.7870152..1.9577874].\n"
          ]
        },
        {
          "output_type": "display_data",
          "data": {
            "text/plain": [
              "<Figure size 1500x500 with 5 Axes>"
            ],
            "image/png": "[encoded data removed]"
          },
          "metadata": {}
        }
      ],
      "source": [
        "# function to show images\n",
        "def show_images(train_dataset, num_images=5):\n",
        "  #shuffle the dataset\n",
        "  train_dataset = torch.utils.data.Subset(train_dataset, torch.randperm(len(train_dataset)))\n",
        "  fig, axes = plt.subplots(1, num_images, figsize=(15, 5))\n",
        "  for i in range(num_images):\n",
        "      image, label = train_dataset[i]\n",
        "      image = image.permute(1, 2, 0)  # convert from CxHxW to HxWxC\n",
        "      axes[i].imshow(image)\n",
        "      axes[i].set_title(f'Label: {label}')\n",
        "      axes[i].axis('off')\n",
        "  plt.show()\n",
        "\n",
        "show_images(train_dataset, num_images=5)"
      ]
    },
    {
      "cell_type": "markdown",
      "id": "f7TG9oD76Q6G",
      "metadata": {
        "id": "f7TG9oD76Q6G"
      },
      "source": [
        "# Create Dataset"
      ]
    },
    {
      "cell_type": "code",
      "execution_count": 10,
      "id": "4a397327",
      "metadata": {
        "colab": {
          "base_uri": "https://localhost:8080/"
        },
        "id": "4a397327",
        "outputId": "302ea5cd-2284-4a52-e01a-f57648a2c309"
      },
      "outputs": [
        {
          "output_type": "stream",
          "name": "stderr",
          "text": [
            "100%|██████████| 3008/3008 [00:15<00:00, 192.19it/s]\n",
            "100%|██████████| 752/752 [00:04<00:00, 176.91it/s]\n",
            "100%|██████████| 1880/1880 [00:08<00:00, 209.13it/s]\n"
          ]
        }
      ],
      "source": [
        "from collections import defaultdict\n",
        "import torch\n",
        "from tqdm import tqdm\n",
        "\n",
        "def group_task_indices(dataset, cumulative=False, max_per_class=1000, classes_per_task=10):\n",
        "    \"\"\"\n",
        "    Task 0: 0-9, Task 1: 10-19, ..., Task 9: 90-99\n",
        "    Output a dictionary where keys are task indices and values are lists of image indices.\n",
        "    For example, task_dict[0] will contain indices of images with labels 0-9.\n",
        "    \"\"\"\n",
        "    per_class_counts = defaultdict(int)\n",
        "    task_dict = defaultdict(list)\n",
        "    for idx, (_, label) in tqdm(enumerate(dataset), total=len(dataset)):\n",
        "        # for test and val, should have cumulative indices (all classes seen so far)\n",
        "        if per_class_counts[label] >= max_per_class:\n",
        "          continue\n",
        "        per_class_counts[label] += 1\n",
        "        if cumulative:\n",
        "          for i in range((label // classes_per_task), classes_per_task):\n",
        "            task_dict[i].append(idx)\n",
        "        else:\n",
        "          task_dict[label // classes_per_task].append(idx)\n",
        "    return task_dict\n",
        "\n",
        "train_task_idxs = group_task_indices(train_dataset, cumulative=False, max_per_class=60)\n",
        "val_task_idxs = group_task_indices(val_dataset, cumulative=True)\n",
        "test_task_idxs = group_task_indices(test_dataset, cumulative=True)"
      ]
    },
    {
      "cell_type": "code",
      "execution_count": 11,
      "id": "infsWUtUupE4",
      "metadata": {
        "colab": {
          "base_uri": "https://localhost:8080/"
        },
        "id": "infsWUtUupE4",
        "outputId": "777a8e93-6d86-4dd7-daf8-b6810d590874"
      },
      "outputs": [
        {
          "output_type": "stream",
          "name": "stderr",
          "text": [
            "599it [00:03, 184.47it/s]"
          ]
        },
        {
          "output_type": "stream",
          "name": "stdout",
          "text": [
            "defaultdict(<class 'int'>, {0: 60, 5: 60, 3: 60, 2: 60, 7: 60, 4: 60, 1: 60, 6: 59, 8: 60, 9: 60})\n",
            "Total number of tasks: 5\n"
          ]
        },
        {
          "output_type": "stream",
          "name": "stderr",
          "text": [
            "\n"
          ]
        }
      ],
      "source": [
        "labels_dict = defaultdict(int)\n",
        "for i in tqdm(train_task_idxs[0], total=len(train_task_idxs)):\n",
        "    _, label = train_dataset[i]\n",
        "    labels_dict[label] += 1\n",
        "print(labels_dict)\n",
        "\n",
        "print(f'Total number of tasks: {len(train_task_idxs)}')"
      ]
    },
    {
      "cell_type": "markdown",
      "id": "cub55VRd6Q6J",
      "metadata": {
        "id": "cub55VRd6Q6J"
      },
      "source": [
        "## Training Code"
      ]
    },
    {
      "cell_type": "code",
      "execution_count": 12,
      "id": "1J34wLym6Q6J",
      "metadata": {
        "id": "1J34wLym6Q6J"
      },
      "outputs": [],
      "source": [
        "def val_net(net_to_val, val_loader):\n",
        "    net_to_val.eval()\n",
        "    loss = 0\n",
        "\n",
        "    criterion = torch.nn.CrossEntropyLoss()\n",
        "\n",
        "    with torch.no_grad():\n",
        "        for img, label in tqdm(val_loader, desc=\"Validating\"):\n",
        "\n",
        "            # Get the input images and their corresponding labels\n",
        "            img, label = img.cuda(), label.cuda()\n",
        "\n",
        "            # Forward pass: Get predictions from the model\n",
        "            outputs = net_to_val(img)\n",
        "\n",
        "            # compute SmoothL1Losss\n",
        "            loss += criterion(outputs, label)\n",
        "\n",
        "        return loss / len(val_loader)\n",
        "\n",
        "def train_net(max_epochs, freeze_epochs, patience, net_to_train, opt, train_loader, val_loader, task, save_file=None, save_path=None):\n",
        "    criterion = torch.nn.CrossEntropyLoss()\n",
        "\n",
        "    train_losses = []\n",
        "    val_losses = []\n",
        "    # prepare the net for training\n",
        "    net_to_train.cuda()\n",
        "\n",
        "    # freeze backbone\n",
        "    for param in net_to_train.parameters():\n",
        "        param.requires_grad = False\n",
        "    for param in net_to_train.fc.parameters():\n",
        "        param.requires_grad = True\n",
        "\n",
        "    # loop over the dataset multiple times\n",
        "    for epoch in range(max_epochs):\n",
        "        net_to_train.train()\n",
        "\n",
        "        running_loss = 0.0\n",
        "\n",
        "        # unfreeze all layers\n",
        "        if epoch == freeze_epochs:\n",
        "          for param in net_to_train.parameters():\n",
        "              param.requires_grad = True\n",
        "              # change optimizer learning rate\n",
        "              opt.param_groups[0]['lr'] = 1e-4\n",
        "\n",
        "        # train on batches of data\n",
        "        for imgs, labels in tqdm(train_loader, unit='batch'):\n",
        "\n",
        "            imgs, labels = imgs.cuda(), labels.cuda()\n",
        "\n",
        "            # zero the parameter gradients\n",
        "            opt.zero_grad()\n",
        "\n",
        "            # prediction\n",
        "            outputs = net_to_train(imgs)\n",
        "\n",
        "            # compute the loss\n",
        "            loss = criterion(outputs, labels)\n",
        "            loss.backward()\n",
        "            opt.step()\n",
        "\n",
        "            # print loss statistics\n",
        "            running_loss += loss.item()\n",
        "\n",
        "        avg_loss = running_loss / len(train_loader)\n",
        "        train_losses.append(avg_loss)\n",
        "        val_losses.append(val_net(net_to_train, val_loader))\n",
        "        print(f\"Epoch {epoch + 1}, Training Loss: {avg_loss:.3f}, Validation Loss: {val_losses[-1]:.3f}\")\n",
        "\n",
        "        # save to checkpoint\n",
        "        if save_path:\n",
        "            torch.save({\n",
        "                'epoch': epoch + 1,\n",
        "                'model_state_dict': net_to_train.state_dict(),\n",
        "                'optimizer_state_dict': opt.state_dict(),\n",
        "                'loss': avg_loss,\n",
        "            }, save_path)\n",
        "            print(f\"Checkpoint saved to {save_path}\")\n",
        "\n",
        "        # save task, trainloss, valloss to file\n",
        "        if save_file:\n",
        "            with open(save_file, 'a') as f:\n",
        "                f.write(f\"{task},{epoch + 1},{avg_loss},{val_losses[-1]}\\n\")\n",
        "\n",
        "        # early stopping based on patience\n",
        "        if len(val_losses) > patience and val_losses[-1] >= min(val_losses[:-patience]):\n",
        "            print(f\"Early stopping at epoch {epoch + 1}\")\n",
        "            break\n",
        "\n",
        "    print(\"finished training\")\n",
        "    return train_losses, val_losses"
      ]
    },
    {
      "cell_type": "code",
      "execution_count": 13,
      "id": "fc054005",
      "metadata": {
        "id": "fc054005"
      },
      "outputs": [],
      "source": [
        "import torch.nn as nn\n",
        "def modify_resnet_head(model, num_classes):\n",
        "  \"\"\"\n",
        "  Modify the last fully connected layer of the ResNet model to match the number of classes.\n",
        "  \"\"\"\n",
        "\n",
        "  old_fc = model.fc\n",
        "  old_num_classes = old_fc.out_features\n",
        "  num_ftrs = old_fc.in_features\n",
        "\n",
        "  # Create the new head\n",
        "  new_fc = nn.Linear(num_ftrs, num_classes).cuda()\n",
        "\n",
        "  # Copy weights and biases from the old head\n",
        "  if old_num_classes < num_classes:\n",
        "    new_fc.weight.data[:old_num_classes, :] = old_fc.weight.data.clone().cuda()\n",
        "    new_fc.bias.data[:old_num_classes] = old_fc.bias.data.clone().cuda()\n",
        "\n",
        "  model.fc = new_fc\n",
        "  return model"
      ]
    },
    {
      "cell_type": "code",
      "execution_count": 14,
      "id": "61220f9a",
      "metadata": {
        "id": "61220f9a"
      },
      "outputs": [],
      "source": [
        "import torch\n",
        "\n",
        "def get_test_accuracy(model, test_loader, num_classes):\n",
        "    model.eval()\n",
        "    correct_preds = 0\n",
        "    total = 0\n",
        "    correct_per_class = [0] * num_classes\n",
        "    total_per_class = [0] * num_classes\n",
        "\n",
        "    with torch.no_grad():\n",
        "        for imgs, labels in tqdm(test_loader, desc=\"Testing\", total=len(test_loader)):\n",
        "            imgs, labels = imgs.cuda(), labels.cuda()\n",
        "            output = model(imgs)\n",
        "            preds = output.argmax(dim=1)\n",
        "\n",
        "            correct_preds += (preds == labels).sum().item()\n",
        "            total += labels.size(0)\n",
        "\n",
        "            # Per-class stats\n",
        "            for c in range(num_classes):\n",
        "                correct_per_class[c] += ((preds == c) & (labels == c)).sum().item()\n",
        "                total_per_class[c] += (labels == c).sum().item()\n",
        "\n",
        "    overall_acc = correct_preds / total\n",
        "    per_class_acc = [correct_per_class[c] / total_per_class[c] if total_per_class[c] > 0 else 0.0\n",
        "                     for c in range(num_classes)]\n",
        "    return overall_acc, per_class_acc\n"
      ]
    },
    {
      "cell_type": "code",
      "execution_count": null,
      "id": "c93b1d5b",
      "metadata": {
        "id": "c93b1d5b"
      },
      "outputs": [],
      "source": [
        "from torch.utils.data import Subset\n",
        "from torchvision import models\n",
        "import torch.optim as optim\n",
        "\n",
        "# Initialize the model\n",
        "model = models.resnet18(pretrained=True)\n",
        "\n",
        "# freeze all parameters except the last fc layer\n",
        "for name, param in model.named_parameters():\n",
        "    if name != 'fc.weight' and name != 'fc.bias':\n",
        "        param.requires_grad = False\n",
        "\n",
        "# test_loader = torch.utils.data.DataLoader(\n",
        "#     test_dataset, batch_size=32, shuffle=False, num_workers=4, worker_init_fn=seed_worker, generator=g\n",
        "# )\n",
        "\n",
        "# create output file for train and val losses\n",
        "\n",
        "save_dir = 'naive'\n",
        "\n",
        "for task in range(10):\n",
        "\n",
        "    print(f\"Training on task {task}...\")\n",
        "\n",
        "    model = modify_resnet_head(model, (task+1) * 10)\n",
        "    model = model.cuda()\n",
        "\n",
        "    optimizer = optim.Adam(model.parameters(), lr=0.0015)\n",
        "\n",
        "    train_loader = torch.utils.data.DataLoader(\n",
        "        Subset(train_dataset, train_task_idxs[task]), batch_size=64, shuffle=True, num_workers=4, worker_init_fn=seed_worker, generator=g\n",
        "    )\n",
        "    val_loader = torch.utils.data.DataLoader(\n",
        "        Subset(val_dataset, val_task_idxs[task]), batch_size=64, shuffle=False, num_workers=4, worker_init_fn=seed_worker, generator=g\n",
        "    )\n",
        "\n",
        "    test_loader = torch.utils.data.DataLoader(\n",
        "        Subset(test_dataset, test_task_idxs[task]), batch_size=64, shuffle=False, num_workers=4, worker_init_fn=seed_worker, generator=g\n",
        "    )\n",
        "\n",
        "    # create output file for train and val losses\n",
        "    if not os.path.exists(save_dir):\n",
        "        os.makedirs(save_dir)\n",
        "\n",
        "    # Train the model on the current task\n",
        "    train_losses, val_losses = train_net(15, 5, 8, model, optimizer, train_loader, val_loader, task, save_file=os.path.join(save_dir, 'train_val_losses.txt'))\n",
        "\n",
        "    # Evaluate the model on the test set\n",
        "    overall_acc, per_class_acc = get_test_accuracy(model, test_loader, (task+1) * 10)\n",
        "    print(f\"Overall accuracy for task {task}: {overall_acc:.4f}\")\n",
        "    print(f\"Per-class accuracy for task {task}: {per_class_acc}\")\n",
        "\n",
        "    # save to text file in save dir\n",
        "    if not os.path.exists(os.path.join(save_dir, 'accuracies.txt')):\n",
        "        with open(os.path.join(save_dir, 'accuracies.txt'), 'w') as f:\n",
        "            f.write(\"Task,Overall Accuracy,Per-Class Accuracy\\n\")\n",
        "    with open(os.path.join(save_dir, 'accuracies.txt'), 'a') as f:\n",
        "        f.write(f\"{task},{overall_acc:.4f},{per_class_acc}\\n\")\n",
        "\n",
        "    # Save the model after training on each task in save dir\n",
        "    if not os.path.exists(save_dir):\n",
        "        os.makedirs(save_dir)\n",
        "    torch.save(model.state_dict(), os.path.join(save_dir, f\"model_task_{task}.pth\"))\n",
        "    print(f\"Model for task {task} saved as model_task_{task}.pth\")"
      ]
    },
    {
      "cell_type": "code",
      "execution_count": null,
      "id": "HwbezrmjWwIA",
      "metadata": {
        "id": "HwbezrmjWwIA",
        "colab": {
          "base_uri": "https://localhost:8080/",
          "height": 35
        },
        "outputId": "2cde0f4c-2717-44f8-9bce-2d81a1ae38f0"
      },
      "outputs": [
        {
          "output_type": "execute_result",
          "data": {
            "text/plain": [
              "'/content/naive.zip'"
            ],
            "application/vnd.google.colaboratory.intrinsic+json": {
              "type": "string"
            }
          },
          "metadata": {},
          "execution_count": 15
        }
      ],
      "source": [
        "# zip the naive folder\n",
        "import shutil\n",
        "shutil.make_archive('naive', 'zip', 'naive')"
      ]
    },
    {
      "cell_type": "markdown",
      "source": [
        "## Replay Code"
      ],
      "metadata": {
        "id": "SXRAKbeHyXKj"
      },
      "id": "SXRAKbeHyXKj"
    },
    {
      "cell_type": "code",
      "source": [
        "def train_net(max_epochs, freeze_epochs, patience, net_to_train, opt, train_loader, val_loader, task, save_file=None, save_path=None):\n",
        "    criterion = torch.nn.CrossEntropyLoss()\n",
        "\n",
        "    train_losses = []\n",
        "    val_losses = []\n",
        "    net_to_train.cuda()\n",
        "\n",
        "    initial_freeze = (task == 0) # Only freeze initially for the very first task\n",
        "\n",
        "    for name, param in net_to_train.named_parameters():\n",
        "        # do not train non-fc layers\n",
        "        if initial_freeze and 'fc' not in name:\n",
        "            param.requires_grad = False\n",
        "        else:\n",
        "            param.requires_grad = True\n",
        "\n",
        "    optimizer = opt\n",
        "\n",
        "    best_val_loss = float('inf')\n",
        "    epochs_no_improve = 0\n",
        "\n",
        "    print(f\"Starting training for Task {task}. Trainable parameters:\")\n",
        "    for name, param in net_to_train.named_parameters():\n",
        "        if param.requires_grad:\n",
        "             print(f\"  - {name}\")\n",
        "\n",
        "\n",
        "    for epoch in range(max_epochs):\n",
        "        net_to_train.train()\n",
        "        running_loss = 0.0\n",
        "\n",
        "        # Unfreeze logic (if desired for staged training within a task)\n",
        "        if epoch == freeze_epochs and task > 0: # Only unfreeze/adjust LR if NOT task 0 and freeze_epochs > 0\n",
        "            print(f\"Unfreezing backbone at epoch {epoch} for task {task}\")\n",
        "            for param in net_to_train.parameters():\n",
        "                param.requires_grad = True\n",
        "            # Adjust LR for the existing optimizer\n",
        "            current_lr = optimizer.param_groups[0]['lr']\n",
        "            new_lr = 1e-4 # Or some other value\n",
        "            if current_lr != new_lr:\n",
        "                 print(f\"Setting LR to {new_lr}\")\n",
        "                 for g in optimizer.param_groups:\n",
        "                     g['lr'] = new_lr\n",
        "\n",
        "\n",
        "        for imgs, labels in tqdm(train_loader, unit='batch', desc=f\"Task {task} Epoch {epoch+1}\"):\n",
        "            imgs, labels = imgs.cuda(), labels.cuda()\n",
        "            optimizer.zero_grad()\n",
        "            outputs = net_to_train(imgs)\n",
        "            loss = criterion(outputs, labels) # Loss calculated on combined batch\n",
        "            loss.backward()\n",
        "            optimizer.step()\n",
        "            running_loss += loss.item()\n",
        "\n",
        "        avg_loss = running_loss / len(train_loader)\n",
        "        train_losses.append(avg_loss)\n",
        "\n",
        "        # --- Validation (Use Cumulative Loader!) ---\n",
        "        current_val_loss = val_net(net_to_train, val_loader) # val_loader MUST be cumulative\n",
        "        val_losses.append(current_val_loss)\n",
        "\n",
        "        print(f\"Task {task}, Epoch {epoch + 1}, Train Loss: {avg_loss:.4f}, Val Loss (Cumulative): {current_val_loss:.4f}\")\n",
        "\n",
        "        # --- Logging to file ---\n",
        "        if save_file:\n",
        "             with open(save_file, 'a') as f:\n",
        "                  f.write(f\"{task},{epoch + 1},{avg_loss},{current_val_loss}\\n\") # Log cumulative val loss\n",
        "\n",
        "        # --- Early Stopping (Based on CUMULATIVE validation loss) ---\n",
        "        if current_val_loss < best_val_loss:\n",
        "            best_val_loss = current_val_loss\n",
        "            epochs_no_improve = 0\n",
        "            if save_path: # Optional: save best model state\n",
        "               torch.save(net_to_train.state_dict(), os.path.join(save_path, f\"model_task{task}_best.pth\"))\n",
        "               print(f\"  New best validation loss: {best_val_loss:.4f}. Saved best model.\")\n",
        "        else:\n",
        "            epochs_no_improve += 1\n",
        "            # print(f\"  Validation loss did not improve for {epochs_no_improve} epoch(s). Best: {best_val_loss:.4f}\") # Optional verbose print\n",
        "\n",
        "        if epochs_no_improve >= patience:\n",
        "            print(f\"Early stopping triggered at epoch {epoch + 1} for task {task}. Best Val Loss: {best_val_loss:.4f}\")\n",
        "            if save_path and os.path.exists(os.path.join(save_path, f\"model_task{task}_best.pth\")):\n",
        "               print(\"Loading best model weights before exiting.\")\n",
        "               net_to_train.load_state_dict(torch.load(os.path.join(save_path, f\"model_task{task}_best.pth\")))\n",
        "            break\n",
        "\n",
        "    print(f\"Finished training task {task}\")\n",
        "    return train_losses, val_losses"
      ],
      "metadata": {
        "id": "Ke2aqvBaynhG"
      },
      "id": "Ke2aqvBaynhG",
      "execution_count": null,
      "outputs": []
    },
    {
      "cell_type": "code",
      "source": [
        "import random\n",
        "from torch.utils.data import Dataset, DataLoader, Subset, ConcatDataset\n",
        "from torchvision import models\n",
        "import torch.optim as optim\n",
        "\n",
        "\n",
        "# Initialize the model\n",
        "model = models.resnet18(pretrained=True)\n",
        "\n",
        "# freeze all parameters except the last fc layer\n",
        "for name, param in model.named_parameters():\n",
        "    if name != 'fc.weight' and name != 'fc.bias':\n",
        "        param.requires_grad = False\n",
        "\n",
        "# --- Add outside the loop ---\n",
        "memory_buffer = [] # Simple list to store (image_tensor, label) tuples\n",
        "memory_size = 1000 # Max number of samples in buffer (hyperparameter)\n",
        "samples_per_task_in_memory = 20 # How many samples to add from each task (hyperparameter)\n",
        "\n",
        "def update_memory_buffer(buffer, max_size, new_samples):\n",
        "    \"\"\"Adds new samples to the buffer and trims it if it exceeds max_size.\"\"\"\n",
        "    buffer.extend(new_samples)\n",
        "    # If buffer exceeds max size, remove samples randomly (or use FIFO)\n",
        "    overflow = len(buffer) - max_size\n",
        "    if overflow > 0:\n",
        "        # Randomly remove 'overflow' samples\n",
        "        indices_to_remove = random.sample(range(len(buffer)), overflow)\n",
        "        # Remove in reverse sorted order to avoid index shifting issues\n",
        "        for index in sorted(indices_to_remove, reverse=True):\n",
        "            del buffer[index]\n",
        "        # Alternatively, for FIFO: del buffer[:overflow]\n",
        "    print(f\"Memory buffer size: {len(buffer)} / {max_size}\")\n",
        "\n",
        "class MemoryDataset(Dataset):\n",
        "    \"\"\"A simple Dataset wrapper for the list-based memory buffer.\"\"\"\n",
        "    def __init__(self, buffer_list):\n",
        "        self.buffer = buffer_list\n",
        "\n",
        "    def __len__(self):\n",
        "        return len(self.buffer)\n",
        "\n",
        "    def __getitem__(self, idx):\n",
        "        # buffer contains (image_tensor, label)\n",
        "        return self.buffer[idx]\n",
        "\n",
        "# --- Modify your main loop ---\n",
        "save_dir = 'replay-coarse-grained' # Changed directory name\n",
        "\n",
        "if not os.path.exists(save_dir):\n",
        "    os.makedirs(save_dir)\n",
        "# Clear or initialize log files\n",
        "open(os.path.join(save_dir, 'train_val_losses.txt'), 'w').close()\n",
        "open(os.path.join(save_dir, 'accuracies.txt'), 'w').write(\"Task,Overall Accuracy,Per-Class Accuracy\\n\")\n",
        "\n",
        "\n",
        "for task in range(5):\n",
        "    print(f\"Training on task {task}...\")\n",
        "\n",
        "    model = modify_resnet_head(model, (task+1) * 10)\n",
        "    model = model.cuda()\n",
        "\n",
        "    # --- Prepare Current Task Dataset ---\n",
        "    current_task_train_subset = Subset(train_dataset, train_task_idxs[task])\n",
        "\n",
        "    # --- Prepare Combined Training Loader ---\n",
        "    if task > 0 and len(memory_buffer) > 0:\n",
        "        # Create a dataset from the memory buffer\n",
        "        replay_dataset = MemoryDataset(memory_buffer)\n",
        "        # Combine current task data and replay data\n",
        "        combined_train_dataset = ConcatDataset([current_task_train_subset, replay_dataset])\n",
        "        print(f\"Task {task}: Training with {len(current_task_train_subset)} current samples and {len(replay_dataset)} replay samples.\")\n",
        "    else:\n",
        "        # Task 0 or empty buffer: train only on current task data\n",
        "        combined_train_dataset = current_task_train_subset\n",
        "        print(f\"Task {task}: Training only with {len(current_task_train_subset)} current samples.\")\n",
        "\n",
        "    # Create DataLoader for the combined dataset\n",
        "    # Adjust batch size if needed, maybe smaller if memory is large\n",
        "    train_loader_combined = DataLoader(\n",
        "        combined_train_dataset,\n",
        "        batch_size=128, # Or adjust dynamically\n",
        "        shuffle=True,\n",
        "        num_workers=4,\n",
        "        worker_init_fn=seed_worker,\n",
        "        generator=g\n",
        "    )\n",
        "\n",
        "    # --- Validation and Test Loaders (Should still be CUMULATIVE!) ---\n",
        "    val_loader_cumulative = torch.utils.data.DataLoader(\n",
        "        Subset(val_dataset, val_task_idxs[task]),\n",
        "        batch_size=256,\n",
        "        shuffle=False,\n",
        "        num_workers=4,\n",
        "        worker_init_fn=seed_worker,\n",
        "        generator=g\n",
        "    )\n",
        "\n",
        "    test_loader_cumulative = torch.utils.data.DataLoader(\n",
        "        Subset(test_dataset, test_task_idxs[task]),\n",
        "        batch_size=256,\n",
        "        shuffle=False,\n",
        "        num_workers=4,\n",
        "        worker_init_fn=seed_worker,\n",
        "        generator=g\n",
        "    )\n",
        "\n",
        "    # --- Optimizer ---\n",
        "    # Consider re-initializing or adjusting LR, especially after task 0\n",
        "    if task == 0:\n",
        "        optimizer = optim.Adam(filter(lambda p: p.requires_grad, model.parameters()), lr=0.0015)\n",
        "    else:\n",
        "        optimizer = optim.Adam(model.parameters(), lr=1e-4) # Lower LR for full network\n",
        "\n",
        "\n",
        "    # --- Train the model ---\n",
        "    # train_net now uses the combined loader\n",
        "    # No need for EWC parameters here\n",
        "    train_losses, val_losses = train_net(\n",
        "        max_epochs=15,\n",
        "        freeze_epochs=5, # Still relevant if you want staged training\n",
        "        patience=5,\n",
        "        net_to_train=model,\n",
        "        opt=optimizer,\n",
        "        train_loader=train_loader_combined, # Use the combined loader\n",
        "        val_loader=val_loader_cumulative, # Use the CUMULATIVE validation loader\n",
        "        task=task,\n",
        "        save_file=os.path.join(save_dir, 'train_val_losses.txt')\n",
        "    )\n",
        "\n",
        "    # --- Update Memory Buffer AFTER training ---\n",
        "    # Select samples from the task just finished\n",
        "    num_to_sample = min(samples_per_task_in_memory, len(current_task_train_subset))\n",
        "    if num_to_sample > 0:\n",
        "        indices_to_sample = random.sample(range(len(current_task_train_subset)), num_to_sample)\n",
        "        new_memory_samples = []\n",
        "        print(f\"Sampling {num_to_sample} examples from task {task} for memory buffer...\")\n",
        "        for idx in indices_to_sample:\n",
        "            # Get the actual data point (image tensor, label) from the subset\n",
        "            img_tensor, label = current_task_train_subset[idx]\n",
        "            new_memory_samples.append((img_tensor, label)) # Append as tuple\n",
        "\n",
        "        # Add to buffer and manage size\n",
        "        update_memory_buffer(memory_buffer, memory_size, new_memory_samples)\n",
        "    else:\n",
        "        print(f\"Not enough samples in task {task} subset to add to memory.\")\n",
        "\n",
        "\n",
        "    # --- Evaluate and Save ---\n",
        "    overall_acc, per_class_acc = get_test_accuracy(model, test_loader_cumulative, (task+1) * 10)\n",
        "    print(f\"Overall accuracy for task {task} (on classes 0-{(task+1)*10 - 1}): {overall_acc:.4f}\")\n",
        "\n",
        "    with open(os.path.join(save_dir, 'accuracies.txt'), 'a') as f:\n",
        "        f.write(f\"{task},{overall_acc:.4f},{per_class_acc}\\n\")\n",
        "\n",
        "    torch.save(model.state_dict(), os.path.join(save_dir, f\"model_task_{task}.pth\"))\n",
        "    print(f\"Model for task {task} saved as model_task_{task}.pth\")"
      ],
      "metadata": {
        "id": "o7yuCLojysxx"
      },
      "id": "o7yuCLojysxx",
      "execution_count": null,
      "outputs": []
    },
    {
      "cell_type": "code",
      "source": [
        "import shutil\n",
        "shutil.make_archive('replay-coarse-grained', 'zip', 'replay-coarse-grained')"
      ],
      "metadata": {
        "colab": {
          "base_uri": "https://localhost:8080/",
          "height": 35
        },
        "id": "L1MIgUIEzAX6",
        "outputId": "6e3e632f-4602-4a41-f89e-db49c87e91e4"
      },
      "id": "L1MIgUIEzAX6",
      "execution_count": null,
      "outputs": [
        {
          "output_type": "execute_result",
          "data": {
            "text/plain": [
              "'/content/replay-coardse-grained.zip'"
            ],
            "application/vnd.google.colaboratory.intrinsic+json": {
              "type": "string"
            }
          },
          "metadata": {},
          "execution_count": 37
        }
      ]
    },
    {
      "cell_type": "markdown",
      "source": [
        "# EWC + Replay Code"
      ],
      "metadata": {
        "id": "7kDzzGHR4zUJ"
      },
      "id": "7kDzzGHR4zUJ"
    },
    {
      "cell_type": "code",
      "source": [
        "import torch\n",
        "import torch.nn.functional as F\n",
        "from tqdm import tqdm\n",
        "import random\n",
        "\n",
        "class EWC:\n",
        "    def __init__(self, model, device='cuda', lambda_ewc=5000):\n",
        "        \"\"\"\n",
        "        Initialize the Robust EWC class with a model and hyperparameters.\n",
        "\n",
        "        Args:\n",
        "            model: The neural network model\n",
        "            device: Device to perform computations on ('cuda' or 'cpu')\n",
        "            lambda_ewc: Regularization strength for EWC penalty\n",
        "        \"\"\"\n",
        "        self.model = model\n",
        "        self.device = device\n",
        "        self.lambda_ewc = lambda_ewc\n",
        "\n",
        "        # Dictionary to store Fisher information for each task\n",
        "        self.fisher_dict = {}\n",
        "        # Dictionary to store optimal parameters for each task\n",
        "        self.optpar_dict = {}\n",
        "        # Dictionary to store output layer sizes for each task\n",
        "        self.output_sizes = {}\n",
        "        # Dictionary to track important parameters\n",
        "        self.important_params = {}\n",
        "\n",
        "    def compute_fisher(self, data_loader, samples=500):\n",
        "        \"\"\"\n",
        "        Compute the diagonal Fisher Information Matrix with proper sampling and verification.\n",
        "\n",
        "        Args:\n",
        "            data_loader: DataLoader containing the task's data\n",
        "            samples: Number of samples to use for Fisher computation\n",
        "\n",
        "        Returns:\n",
        "            Dictionary with parameter names as keys and Fisher values as values\n",
        "        \"\"\"\n",
        "        fisher = {n: torch.zeros_like(p) for n, p in self.model.named_parameters() if p.requires_grad}\n",
        "        self.model.eval()\n",
        "\n",
        "        sample_loader = torch.utils.data.DataLoader(\n",
        "            torch.utils.data.Subset(data_loader.dataset,\n",
        "                                  torch.randperm(len(data_loader.dataset))[:samples].tolist()),\n",
        "            batch_size=1, shuffle=True\n",
        "        )\n",
        "\n",
        "        for input_data, _ in sample_loader:\n",
        "            input_data = input_data.to(self.device)\n",
        "            output = self.model(input_data)\n",
        "            probs = F.softmax(output, dim=1)\n",
        "\n",
        "            num_classes = probs.size(1)\n",
        "            for c in range(num_classes):\n",
        "                self.model.zero_grad()\n",
        "                class_prob = probs[0, c]\n",
        "                log_class_prob = torch.log(class_prob)\n",
        "                log_class_prob.backward(retain_graph=(c < num_classes-1))\n",
        "\n",
        "                prob_value = class_prob.item()\n",
        "                for n, p in self.model.named_parameters():\n",
        "                    if p.grad is not None and p.requires_grad:\n",
        "                        fisher[n] += prob_value * p.grad.data.pow(2) / samples\n",
        "\n",
        "        return fisher\n",
        "\n",
        "    def store_task_parameters(self, task_id, data_loader):\n",
        "        \"\"\"\n",
        "        Store the optimal parameters and compute Fisher after training on a task.\n",
        "\n",
        "        Args:\n",
        "            task_id: ID of the current task\n",
        "            data_loader: DataLoader for the current task\n",
        "        \"\"\"\n",
        "        print(f\"Storing parameters for task {task_id}...\")\n",
        "\n",
        "        # Store current parameter values\n",
        "        self.optpar_dict[task_id] = {}\n",
        "        for n, p in self.model.named_parameters():\n",
        "            if p.requires_grad:\n",
        "                self.optpar_dict[task_id][n] = p.data.clone()\n",
        "                # Debug: Print parameter statistics for key layers\n",
        "                if 'fc' in n or 'layer4' in n:\n",
        "                    print(f\"Stored parameter {n}: min={p.min().item():.6f}, max={p.max().item():.6f}, mean={p.mean().item():.6f}\")\n",
        "\n",
        "        # Compute and store Fisher Information Matrix\n",
        "        self.fisher_dict[task_id] = self.compute_fisher(data_loader)\n",
        "\n",
        "        # Store output layer size for this task\n",
        "        if hasattr(self.model, 'fc'):\n",
        "            self.output_sizes[task_id] = self.model.fc.weight.size(0)\n",
        "            print(f\"Stored output size for task {task_id}: {self.output_sizes[task_id]}\")\n",
        "        elif hasattr(self.model, 'classifier'):\n",
        "            self.output_sizes[task_id] = self.model.classifier.weight.size(0)\n",
        "            print(f\"Stored output size for task {task_id}: {self.output_sizes[task_id]}\")\n",
        "\n",
        "    def ewc_loss(self, current_task_id):\n",
        "        \"\"\"\n",
        "        Calculate the EWC penalty with importance scaling and verification.\n",
        "\n",
        "        Args:\n",
        "            current_task_id: ID of the current task\n",
        "\n",
        "        Returns:\n",
        "            EWC penalty loss\n",
        "        \"\"\"\n",
        "        if current_task_id == 0:\n",
        "            return torch.tensor(0.0, device=self.device)\n",
        "\n",
        "        total_loss = 0\n",
        "        param_count = 0\n",
        "\n",
        "        # Calculate EWC loss for all previous tasks\n",
        "        for task_id in range(current_task_id):\n",
        "            task_loss = 0\n",
        "\n",
        "            for n, p in self.model.named_parameters():\n",
        "                if p.requires_grad and n in self.fisher_dict[task_id] and n in self.optpar_dict[task_id]:\n",
        "                    # Handle expanding output layer\n",
        "                    if \"fc.weight\" in n:\n",
        "                        prev_size = self.output_sizes[task_id]\n",
        "                        fisher_term = self.fisher_dict[task_id][n][:prev_size, :]\n",
        "                        param_diff = (p[:prev_size, :] - self.optpar_dict[task_id][n][:prev_size, :]).pow(2)\n",
        "                        task_loss += (fisher_term * param_diff).sum()\n",
        "                        param_count += fisher_term.numel()\n",
        "                    elif \"fc.bias\" in n:\n",
        "                        prev_size = self.output_sizes[task_id]\n",
        "                        fisher_term = self.fisher_dict[task_id][n][:prev_size]\n",
        "                        param_diff = (p[:prev_size] - self.optpar_dict[task_id][n][:prev_size]).pow(2)\n",
        "                        task_loss += (fisher_term * param_diff).sum()\n",
        "                        param_count += fisher_term.numel()\n",
        "                    else:\n",
        "                        fisher_term = self.fisher_dict[task_id][n]\n",
        "                        param_diff = (p - self.optpar_dict[task_id][n]).pow(2)\n",
        "                        task_loss += (fisher_term * param_diff).sum()\n",
        "                        param_count += fisher_term.numel()\n",
        "\n",
        "            total_loss += task_loss\n",
        "\n",
        "        # Apply lambda scaling\n",
        "        ewc_penalty = self.lambda_ewc * total_loss / 2\n",
        "\n",
        "        # Verify EWC penalty is significant enough (only in training mode to avoid spam)\n",
        "        if self.model.training:\n",
        "            with torch.no_grad():\n",
        "                avg_penalty = ewc_penalty.item() / param_count if param_count > 0 else 0\n",
        "                if avg_penalty < 1e-4:\n",
        "                    print(f\"WARNING: Average EWC penalty per parameter is very small: {avg_penalty:.8f}\")\n",
        "\n",
        "        return ewc_penalty\n",
        "\n",
        "    def freeze_important_parameters(self, current_task_id, importance_threshold=0.1):\n",
        "        \"\"\"\n",
        "        Freeze parameters that are most important for previous tasks.\n",
        "\n",
        "        Args:\n",
        "            current_task_id: ID of the current task\n",
        "            importance_threshold: Threshold for determining important parameters\n",
        "        \"\"\"\n",
        "        if current_task_id == 0:\n",
        "            return\n",
        "\n",
        "        # Calculate importance for each parameter based on Fisher\n",
        "        importance = {}\n",
        "        for n, p in self.model.named_parameters():\n",
        "            if p.requires_grad:\n",
        "                importance[n] = 0\n",
        "                for task_id in range(current_task_id):\n",
        "                    if n in self.fisher_dict[task_id]:\n",
        "                        # For expanding layers, only consider the relevant part\n",
        "                        if \"fc.weight\" in n or \"fc.bias\" in n:\n",
        "                            prev_size = self.output_sizes[task_id]\n",
        "                            if \"fc.weight\" in n:\n",
        "                                importance[n] += self.fisher_dict[task_id][n][:prev_size, :].mean().item()\n",
        "                            else:  # fc.bias\n",
        "                                importance[n] += self.fisher_dict[task_id][n][:prev_size].mean().item()\n",
        "                        else:\n",
        "                            importance[n] += self.fisher_dict[task_id][n].mean().item()\n",
        "\n",
        "                # Average across tasks\n",
        "                importance[n] /= current_task_id\n",
        "\n",
        "        # Sort parameters by importance\n",
        "        sorted_importance = sorted(importance.items(), key=lambda x: x[1], reverse=True)\n",
        "\n",
        "        # Determine threshold value\n",
        "        if importance_threshold < 1:  # Interpreted as a fraction\n",
        "            threshold_idx = int(len(sorted_importance) * importance_threshold)\n",
        "            threshold_value = sorted_importance[threshold_idx][1] if threshold_idx < len(sorted_importance) else 0\n",
        "        else:  # Interpreted as an absolute value\n",
        "            threshold_value = importance_threshold\n",
        "\n",
        "        # Freeze important parameters\n",
        "        frozen_count = 0\n",
        "        self.important_params = {}\n",
        "        for n, imp in sorted_importance:\n",
        "            if imp > threshold_value:\n",
        "                for name, param in self.model.named_parameters():\n",
        "                    if name == n:\n",
        "                        param.requires_grad = False\n",
        "                        self.important_params[name] = imp\n",
        "                        frozen_count += 1\n",
        "                        break\n",
        "\n",
        "        print(f\"Froze {frozen_count} important parameters with importance > {threshold_value:.6f}\")\n",
        "\n",
        "    def consolidate_weights(self):\n",
        "        \"\"\"\n",
        "        Consolidate weights after training on a task by averaging with previous optimal weights\n",
        "        weighted by their importance.\n",
        "        \"\"\"\n",
        "        if not self.optpar_dict:  # No previous tasks\n",
        "            return\n",
        "\n",
        "        print(\"Consolidating weights based on importance...\")\n",
        "\n",
        "        # Get the most recent task_id\n",
        "        last_task_id = max(self.optpar_dict.keys())\n",
        "\n",
        "        with torch.no_grad():\n",
        "            for n, p in self.model.named_parameters():\n",
        "                if n in self.important_params and n in self.optpar_dict[last_task_id]:\n",
        "                    # Calculate importance-weighted average of current weights and previous optimal weights\n",
        "                    importance = self.important_params[n]\n",
        "                    if importance > 0.1:  # Only consolidate highly important parameters\n",
        "                        weight_factor = min(0.8, importance)  # Cap at 0.8 to allow some adaptation\n",
        "                        consolidated_weight = (\n",
        "                            weight_factor * self.optpar_dict[last_task_id][n] +\n",
        "                            (1 - weight_factor) * p.data\n",
        "                        )\n",
        "                        p.data.copy_(consolidated_weight)\n",
        "                        print(f\"Consolidated parameter {n} with weight factor {weight_factor:.4f}\")"
      ],
      "metadata": {
        "id": "spOBQduj5jgi"
      },
      "id": "spOBQduj5jgi",
      "execution_count": 15,
      "outputs": []
    },
    {
      "cell_type": "code",
      "source": [
        "def train_net_ewc_replay(max_epochs, freeze_epochs, patience, ewc, net_to_train, opt, train_loader, val_loader, task, save_file=None, save_path=None):\n",
        "    criterion = torch.nn.CrossEntropyLoss()\n",
        "\n",
        "    train_losses = []\n",
        "    val_losses = []\n",
        "    net_to_train.cuda()\n",
        "\n",
        "    initial_freeze = (task == 0) # Only freeze initially for the very first task\n",
        "\n",
        "    # if task > 0:\n",
        "    #     ewc.freeze_important_parameters(task, importance_threshold=0.05)\n",
        "\n",
        "    for name, param in net_to_train.named_parameters():\n",
        "        # do not train non-fc layers\n",
        "        if initial_freeze and 'fc' not in name:\n",
        "            param.requires_grad = False\n",
        "        else:\n",
        "            param.requires_grad = True\n",
        "\n",
        "    optimizer = opt\n",
        "\n",
        "    best_val_loss = float('inf')\n",
        "    epochs_no_improve = 0\n",
        "\n",
        "    print(f\"Starting training for Task {task}. Trainable parameters:\")\n",
        "    for name, param in net_to_train.named_parameters():\n",
        "        if param.requires_grad:\n",
        "             print(f\"  - {name}\")\n",
        "\n",
        "\n",
        "    for epoch in range(max_epochs):\n",
        "        net_to_train.train()\n",
        "        running_loss = 0.0\n",
        "        running_ewc = 0.0\n",
        "\n",
        "        # Unfreeze logic (if desired for staged training within a task)\n",
        "        if epoch == freeze_epochs and task > 0: # Only unfreeze/adjust LR if NOT task 0 and freeze_epochs > 0\n",
        "            print(f\"Unfreezing backbone at epoch {epoch} for task {task}\")\n",
        "            for name, param in net_to_train.named_parameters():\n",
        "                if not param.requires_grad and 'fc' not in name:\n",
        "                    # Check if this parameter was frozen by importance\n",
        "                    was_frozen_by_importance = False\n",
        "                    for n, imp in getattr(ewc, 'important_params', {}).items():\n",
        "                        if n == name:\n",
        "                            was_frozen_by_importance = True\n",
        "                            break\n",
        "\n",
        "                    if not was_frozen_by_importance:\n",
        "                        param.requires_grad = True\n",
        "\n",
        "            # Adjust LR for the existing optimizer\n",
        "            current_lr = optimizer.param_groups[0]['lr']\n",
        "            new_lr = 1e-4 # Or some other value\n",
        "            if current_lr != new_lr:\n",
        "                 print(f\"Setting LR to {new_lr}\")\n",
        "                 for g in optimizer.param_groups:\n",
        "                     g['lr'] = new_lr\n",
        "\n",
        "\n",
        "        for imgs, labels in tqdm(train_loader, unit='batch', desc=f\"Task {task} Epoch {epoch+1}\"):\n",
        "            imgs, labels = imgs.cuda(), labels.cuda()\n",
        "            optimizer.zero_grad()\n",
        "            outputs = net_to_train(imgs)\n",
        "            loss = criterion(outputs, labels) # Loss calculated on combined batch\n",
        "            ewc_loss = ewc.ewc_loss(task)\n",
        "            running_ewc += ewc_loss.item()\n",
        "            loss += ewc_loss\n",
        "            loss.backward()\n",
        "            torch.nn.utils.clip_grad_norm_(net_to_train.parameters(), max_norm=1.0) # Gradient clipping\n",
        "            optimizer.step()\n",
        "            running_loss += loss.item()\n",
        "\n",
        "        avg_loss = running_loss / len(train_loader)\n",
        "        avg_ewc_loss = running_ewc / len(train_loader)\n",
        "        train_losses.append(avg_loss)\n",
        "\n",
        "        # --- Validation (Use Cumulative Loader!) ---\n",
        "        current_val_loss = val_net(net_to_train, val_loader) # val_loader MUST be cumulative\n",
        "        val_losses.append(current_val_loss)\n",
        "\n",
        "        print(f\"Task {task}, Epoch {epoch + 1}, EWC Loss: {avg_ewc_loss:.4f}, Total Loss: {avg_loss:.4f}, Val Loss (Cumulative): {current_val_loss:.4f}\")\n",
        "\n",
        "        # --- Logging to file ---\n",
        "        if save_file:\n",
        "             with open(save_file, 'a') as f:\n",
        "                  f.write(f\"{task},{epoch + 1},{avg_loss},{current_val_loss}\\n\") # Log cumulative val loss\n",
        "\n",
        "        # --- Early Stopping (Based on CUMULATIVE validation loss) ---\n",
        "        if current_val_loss < best_val_loss:\n",
        "            best_val_loss = current_val_loss\n",
        "            epochs_no_improve = 0\n",
        "            if save_path: # Optional: save best model state\n",
        "               torch.save(net_to_train.state_dict(), os.path.join(save_path, f\"model_task{task}_best.pth\"))\n",
        "               print(f\"  New best validation loss: {best_val_loss:.4f}. Saved best model.\")\n",
        "        else:\n",
        "            epochs_no_improve += 1\n",
        "            # print(f\"  Validation loss did not improve for {epochs_no_improve} epoch(s). Best: {best_val_loss:.4f}\") # Optional verbose print\n",
        "\n",
        "        if epochs_no_improve >= patience:\n",
        "            print(f\"Early stopping triggered at epoch {epoch + 1} for task {task}. Best Val Loss: {best_val_loss:.4f}\")\n",
        "            if save_path and os.path.exists(os.path.join(save_path, f\"model_task{task}_best.pth\")):\n",
        "               print(\"Loading best model weights before exiting.\")\n",
        "               net_to_train.load_state_dict(torch.load(os.path.join(save_path, f\"model_task{task}_best.pth\")))\n",
        "            break\n",
        "\n",
        "    print(f\"Finished training task {task}\")\n",
        "    return train_losses, val_losses"
      ],
      "metadata": {
        "id": "mfz2G2XV42EH"
      },
      "id": "mfz2G2XV42EH",
      "execution_count": 16,
      "outputs": []
    },
    {
      "cell_type": "code",
      "source": [
        "import random\n",
        "from torch.utils.data import Dataset, DataLoader, Subset, ConcatDataset\n",
        "from torchvision import models\n",
        "import torch.optim as optim\n",
        "\n",
        "LAMBDA_EWC = 10e5\n",
        "save_dir = 'replay-ewc-coarse-grained-1M' # Changed directory name\n",
        "\n",
        "# Initialize the model\n",
        "model = models.resnet18(pretrained=True)\n",
        "ewc = EWC(model, device='cuda', lambda_ewc=LAMBDA_EWC)\n",
        "\n",
        "# freeze all parameters except the last fc layer\n",
        "for name, param in model.named_parameters():\n",
        "    if name != 'fc.weight' and name != 'fc.bias':\n",
        "        param.requires_grad = False\n",
        "\n",
        "# --- Add outside the loop ---\n",
        "memory_buffer = [] # Simple list to store (image_tensor, label) tuples\n",
        "memory_size = 1000 # Max number of samples in buffer (hyperparameter)\n",
        "samples_per_task_in_memory = 20 # How many samples to add from each task (hyperparameter)\n",
        "\n",
        "def update_memory_buffer(buffer, max_size, new_samples):\n",
        "    \"\"\"Adds new samples to the buffer and trims it if it exceeds max_size.\"\"\"\n",
        "    buffer.extend(new_samples)\n",
        "    # If buffer exceeds max size, remove samples randomly (or use FIFO)\n",
        "    overflow = len(buffer) - max_size\n",
        "    if overflow > 0:\n",
        "        # Randomly remove 'overflow' samples\n",
        "        indices_to_remove = random.sample(range(len(buffer)), overflow)\n",
        "        # Remove in reverse sorted order to avoid index shifting issues\n",
        "        for index in sorted(indices_to_remove, reverse=True):\n",
        "            del buffer[index]\n",
        "        # Alternatively, for FIFO: del buffer[:overflow]\n",
        "    print(f\"Memory buffer size: {len(buffer)} / {max_size}\")\n",
        "\n",
        "class MemoryDataset(Dataset):\n",
        "    \"\"\"A simple Dataset wrapper for the list-based memory buffer.\"\"\"\n",
        "    def __init__(self, buffer_list):\n",
        "        self.buffer = buffer_list\n",
        "\n",
        "    def __len__(self):\n",
        "        return len(self.buffer)\n",
        "\n",
        "    def __getitem__(self, idx):\n",
        "        # buffer contains (image_tensor, label)\n",
        "        return self.buffer[idx]\n",
        "\n",
        "if not os.path.exists(save_dir):\n",
        "    os.makedirs(save_dir)\n",
        "# Clear or initialize log files\n",
        "open(os.path.join(save_dir, 'train_val_losses.txt'), 'w').close()\n",
        "open(os.path.join(save_dir, 'accuracies.txt'), 'w').write(\"Task,Overall Accuracy,Per-Class Accuracy\\n\")\n",
        "\n",
        "\n",
        "for task in range(5):\n",
        "    print(f\"Training on task {task}...\")\n",
        "\n",
        "    model = modify_resnet_head(model, (task+1) * 10)\n",
        "    model = model.cuda()\n",
        "\n",
        "    # --- Prepare Current Task Dataset ---\n",
        "    current_task_train_subset = Subset(train_dataset, train_task_idxs[task])\n",
        "\n",
        "    # --- Prepare Combined Training Loader ---\n",
        "    if task > 0 and len(memory_buffer) > 0:\n",
        "        # Create a dataset from the memory buffer\n",
        "        replay_dataset = MemoryDataset(memory_buffer)\n",
        "        # Combine current task data and replay data\n",
        "        combined_train_dataset = ConcatDataset([current_task_train_subset, replay_dataset])\n",
        "        print(f\"Task {task}: Training with {len(current_task_train_subset)} current samples and {len(replay_dataset)} replay samples.\")\n",
        "    else:\n",
        "        # Task 0 or empty buffer: train only on current task data\n",
        "        combined_train_dataset = current_task_train_subset\n",
        "        print(f\"Task {task}: Training only with {len(current_task_train_subset)} current samples.\")\n",
        "\n",
        "    # Create DataLoader for the combined dataset\n",
        "    # Adjust batch size if needed, maybe smaller if memory is large\n",
        "    train_loader_combined = DataLoader(\n",
        "        combined_train_dataset,\n",
        "        batch_size=128, # Or adjust dynamically\n",
        "        shuffle=True,\n",
        "        num_workers=4,\n",
        "        worker_init_fn=seed_worker,\n",
        "        generator=g\n",
        "    )\n",
        "\n",
        "    train_loader_not_combined = DataLoader(\n",
        "        current_task_train_subset,\n",
        "        batch_size=128,\n",
        "        shuffle=True,\n",
        "        num_workers=4,\n",
        "        worker_init_fn=seed_worker,\n",
        "        generator=g\n",
        "    )\n",
        "\n",
        "    # --- Validation and Test Loaders (Should still be CUMULATIVE!) ---\n",
        "    val_loader_cumulative = torch.utils.data.DataLoader(\n",
        "        Subset(val_dataset, val_task_idxs[task]),\n",
        "        batch_size=256,\n",
        "        shuffle=False,\n",
        "        num_workers=4,\n",
        "        worker_init_fn=seed_worker,\n",
        "        generator=g\n",
        "    )\n",
        "\n",
        "    test_loader_cumulative = torch.utils.data.DataLoader(\n",
        "        Subset(test_dataset, test_task_idxs[task]),\n",
        "        batch_size=256,\n",
        "        shuffle=False,\n",
        "        num_workers=4,\n",
        "        worker_init_fn=seed_worker,\n",
        "        generator=g\n",
        "    )\n",
        "\n",
        "    # --- Optimizer ---\n",
        "    # Consider re-initializing or adjusting LR, especially after task 0\n",
        "    if task == 0:\n",
        "        optimizer = optim.Adam(filter(lambda p: p.requires_grad, model.parameters()), lr=0.0015)\n",
        "    else:\n",
        "        optimizer = optim.Adam(model.parameters(), lr=1e-4) # Lower LR for full network\n",
        "\n",
        "\n",
        "    # --- Train the model ---\n",
        "    # train_net now uses the combined loader\n",
        "    # No need for EWC parameters here\n",
        "    train_losses, val_losses = train_net_ewc_replay(\n",
        "        max_epochs=15,\n",
        "        freeze_epochs=5, # Still relevant if you want staged training\n",
        "        patience=5,\n",
        "        ewc=ewc,\n",
        "        net_to_train=model,\n",
        "        opt=optimizer,\n",
        "        train_loader=train_loader_combined, # Use the combined loader\n",
        "        val_loader=val_loader_cumulative, # Use the CUMULATIVE validation loader\n",
        "        task=task,\n",
        "        save_file=os.path.join(save_dir, 'train_val_losses.txt')\n",
        "    )\n",
        "\n",
        "\n",
        "\n",
        "    # --- Update EWC after training ---\n",
        "    ewc.store_task_parameters(task, train_loader_not_combined)\n",
        "    # ewc.consolidate_weights()\n",
        "\n",
        "    # --- Update Memory Buffer AFTER training ---\n",
        "    # Select samples from the task just finished\n",
        "    num_to_sample = min(samples_per_task_in_memory, len(current_task_train_subset))\n",
        "    if num_to_sample > 0:\n",
        "        indices_to_sample = random.sample(range(len(current_task_train_subset)), num_to_sample)\n",
        "        new_memory_samples = []\n",
        "        print(f\"Sampling {num_to_sample} examples from task {task} for memory buffer...\")\n",
        "        for idx in indices_to_sample:\n",
        "            # Get the actual data point (image tensor, label) from the subset\n",
        "            img_tensor, label = current_task_train_subset[idx]\n",
        "            new_memory_samples.append((img_tensor, label)) # Append as tuple\n",
        "\n",
        "        # Add to buffer and manage size\n",
        "        update_memory_buffer(memory_buffer, memory_size, new_memory_samples)\n",
        "    else:\n",
        "        print(f\"Not enough samples in task {task} subset to add to memory.\")\n",
        "\n",
        "\n",
        "    # --- Evaluate and Save ---\n",
        "    overall_acc, per_class_acc = get_test_accuracy(model, test_loader_cumulative, (task+1) * 10)\n",
        "    print(f\"Overall accuracy for task {task} (on classes 0-{(task+1)*10 - 1}): {overall_acc:.4f}\")\n",
        "\n",
        "    with open(os.path.join(save_dir, 'accuracies.txt'), 'a') as f:\n",
        "        f.write(f\"{task},{overall_acc:.4f},{per_class_acc}\\n\")\n",
        "\n",
        "    torch.save(model.state_dict(), os.path.join(save_dir, f\"model_task_{task}.pth\"))\n",
        "    print(f\"Model for task {task} saved as model_task_{task}.pth\")"
      ],
      "metadata": {
        "collapsed": true,
        "id": "ELJye_8m5iEp",
        "outputId": "b803877b-878b-4e71-cebf-d5b6356d07b5",
        "colab": {
          "base_uri": "https://localhost:8080/"
        }
      },
      "id": "ELJye_8m5iEp",
      "execution_count": 17,
      "outputs": [
        {
          "output_type": "stream",
          "name": "stdout",
          "text": [
            "Training on task 0...\n"
          ]
        },
        {
          "output_type": "stream",
          "name": "stderr",
          "text": [
            "/usr/local/lib/python3.11/dist-packages/torch/utils/data/dataloader.py:624: UserWarning: This DataLoader will create 4 worker processes in total. Our suggested max number of worker in current system is 2, which is smaller than what this DataLoader is going to create. Please be aware that excessive worker creation might get DataLoader running slow or even freeze, lower the worker number to avoid potential slowness/freeze if necessary.\n",
            "  warnings.warn(\n"
          ]
        },
        {
          "output_type": "stream",
          "name": "stdout",
          "text": [
            "Task 0: Training only with 599 current samples.\n",
            "Starting training for Task 0. Trainable parameters:\n",
            "  - fc.weight\n",
            "  - fc.bias\n"
          ]
        },
        {
          "output_type": "stream",
          "name": "stderr",
          "text": [
            "Task 0 Epoch 1: 100%|██████████| 5/5 [00:05<00:00,  1.14s/batch]\n",
            "Validating: 100%|██████████| 1/1 [00:01<00:00,  1.17s/it]\n"
          ]
        },
        {
          "output_type": "stream",
          "name": "stdout",
          "text": [
            "Task 0, Epoch 1, EWC Loss: 0.0000, Total Loss: 2.4704, Val Loss (Cumulative): 2.0929\n"
          ]
        },
        {
          "output_type": "stream",
          "name": "stderr",
          "text": [
            "Task 0 Epoch 2: 100%|██████████| 5/5 [00:04<00:00,  1.22batch/s]\n",
            "Validating: 100%|██████████| 1/1 [00:01<00:00,  1.01s/it]\n"
          ]
        },
        {
          "output_type": "stream",
          "name": "stdout",
          "text": [
            "Task 0, Epoch 2, EWC Loss: 0.0000, Total Loss: 1.8889, Val Loss (Cumulative): 1.6405\n"
          ]
        },
        {
          "output_type": "stream",
          "name": "stderr",
          "text": [
            "Task 0 Epoch 3: 100%|██████████| 5/5 [00:03<00:00,  1.59batch/s]\n",
            "Validating: 100%|██████████| 1/1 [00:01<00:00,  1.01s/it]\n"
          ]
        },
        {
          "output_type": "stream",
          "name": "stdout",
          "text": [
            "Task 0, Epoch 3, EWC Loss: 0.0000, Total Loss: 1.4342, Val Loss (Cumulative): 1.3128\n"
          ]
        },
        {
          "output_type": "stream",
          "name": "stderr",
          "text": [
            "Task 0 Epoch 4: 100%|██████████| 5/5 [00:03<00:00,  1.63batch/s]\n",
            "Validating: 100%|██████████| 1/1 [00:01<00:00,  1.52s/it]\n"
          ]
        },
        {
          "output_type": "stream",
          "name": "stdout",
          "text": [
            "Task 0, Epoch 4, EWC Loss: 0.0000, Total Loss: 1.0967, Val Loss (Cumulative): 1.0978\n"
          ]
        },
        {
          "output_type": "stream",
          "name": "stderr",
          "text": [
            "Task 0 Epoch 5: 100%|██████████| 5/5 [00:03<00:00,  1.43batch/s]\n",
            "Validating: 100%|██████████| 1/1 [00:00<00:00,  1.00it/s]\n"
          ]
        },
        {
          "output_type": "stream",
          "name": "stdout",
          "text": [
            "Task 0, Epoch 5, EWC Loss: 0.0000, Total Loss: 0.8715, Val Loss (Cumulative): 0.9281\n"
          ]
        },
        {
          "output_type": "stream",
          "name": "stderr",
          "text": [
            "Task 0 Epoch 6: 100%|██████████| 5/5 [00:03<00:00,  1.64batch/s]\n",
            "Validating: 100%|██████████| 1/1 [00:01<00:00,  1.03s/it]\n"
          ]
        },
        {
          "output_type": "stream",
          "name": "stdout",
          "text": [
            "Task 0, Epoch 6, EWC Loss: 0.0000, Total Loss: 0.7146, Val Loss (Cumulative): 0.8158\n"
          ]
        },
        {
          "output_type": "stream",
          "name": "stderr",
          "text": [
            "Task 0 Epoch 7: 100%|██████████| 5/5 [00:03<00:00,  1.40batch/s]\n",
            "Validating: 100%|██████████| 1/1 [00:01<00:00,  1.45s/it]\n"
          ]
        },
        {
          "output_type": "stream",
          "name": "stdout",
          "text": [
            "Task 0, Epoch 7, EWC Loss: 0.0000, Total Loss: 0.6001, Val Loss (Cumulative): 0.7613\n"
          ]
        },
        {
          "output_type": "stream",
          "name": "stderr",
          "text": [
            "Task 0 Epoch 8: 100%|██████████| 5/5 [00:03<00:00,  1.62batch/s]\n",
            "Validating: 100%|██████████| 1/1 [00:01<00:00,  1.04s/it]\n"
          ]
        },
        {
          "output_type": "stream",
          "name": "stdout",
          "text": [
            "Task 0, Epoch 8, EWC Loss: 0.0000, Total Loss: 0.5346, Val Loss (Cumulative): 0.7141\n"
          ]
        },
        {
          "output_type": "stream",
          "name": "stderr",
          "text": [
            "Task 0 Epoch 9: 100%|██████████| 5/5 [00:03<00:00,  1.59batch/s]\n",
            "Validating: 100%|██████████| 1/1 [00:01<00:00,  1.01s/it]\n"
          ]
        },
        {
          "output_type": "stream",
          "name": "stdout",
          "text": [
            "Task 0, Epoch 9, EWC Loss: 0.0000, Total Loss: 0.4641, Val Loss (Cumulative): 0.6696\n"
          ]
        },
        {
          "output_type": "stream",
          "name": "stderr",
          "text": [
            "Task 0 Epoch 10: 100%|██████████| 5/5 [00:04<00:00,  1.18batch/s]\n",
            "Validating: 100%|██████████| 1/1 [00:01<00:00,  1.01s/it]\n"
          ]
        },
        {
          "output_type": "stream",
          "name": "stdout",
          "text": [
            "Task 0, Epoch 10, EWC Loss: 0.0000, Total Loss: 0.4105, Val Loss (Cumulative): 0.6394\n"
          ]
        },
        {
          "output_type": "stream",
          "name": "stderr",
          "text": [
            "Task 0 Epoch 11: 100%|██████████| 5/5 [00:03<00:00,  1.61batch/s]\n",
            "Validating: 100%|██████████| 1/1 [00:01<00:00,  1.01s/it]\n"
          ]
        },
        {
          "output_type": "stream",
          "name": "stdout",
          "text": [
            "Task 0, Epoch 11, EWC Loss: 0.0000, Total Loss: 0.3693, Val Loss (Cumulative): 0.6222\n"
          ]
        },
        {
          "output_type": "stream",
          "name": "stderr",
          "text": [
            "Task 0 Epoch 12: 100%|██████████| 5/5 [00:03<00:00,  1.60batch/s]\n",
            "Validating: 100%|██████████| 1/1 [00:01<00:00,  1.01s/it]\n"
          ]
        },
        {
          "output_type": "stream",
          "name": "stdout",
          "text": [
            "Task 0, Epoch 12, EWC Loss: 0.0000, Total Loss: 0.3461, Val Loss (Cumulative): 0.6181\n"
          ]
        },
        {
          "output_type": "stream",
          "name": "stderr",
          "text": [
            "Task 0 Epoch 13: 100%|██████████| 5/5 [00:04<00:00,  1.18batch/s]\n",
            "Validating: 100%|██████████| 1/1 [00:01<00:00,  1.03s/it]\n"
          ]
        },
        {
          "output_type": "stream",
          "name": "stdout",
          "text": [
            "Task 0, Epoch 13, EWC Loss: 0.0000, Total Loss: 0.3027, Val Loss (Cumulative): 0.5908\n"
          ]
        },
        {
          "output_type": "stream",
          "name": "stderr",
          "text": [
            "Task 0 Epoch 14: 100%|██████████| 5/5 [00:03<00:00,  1.54batch/s]\n",
            "Validating: 100%|██████████| 1/1 [00:01<00:00,  1.03s/it]\n"
          ]
        },
        {
          "output_type": "stream",
          "name": "stdout",
          "text": [
            "Task 0, Epoch 14, EWC Loss: 0.0000, Total Loss: 0.2644, Val Loss (Cumulative): 0.5848\n"
          ]
        },
        {
          "output_type": "stream",
          "name": "stderr",
          "text": [
            "Task 0 Epoch 15: 100%|██████████| 5/5 [00:03<00:00,  1.43batch/s]\n",
            "Validating: 100%|██████████| 1/1 [00:01<00:00,  1.83s/it]\n"
          ]
        },
        {
          "output_type": "stream",
          "name": "stdout",
          "text": [
            "Task 0, Epoch 15, EWC Loss: 0.0000, Total Loss: 0.2518, Val Loss (Cumulative): 0.5771\n",
            "Finished training task 0\n",
            "Storing parameters for task 0...\n",
            "Stored parameter fc.weight: min=-0.124354, max=0.117243, mean=-0.004799\n",
            "Stored parameter fc.bias: min=-0.055483, max=0.058792, mean=0.011413\n",
            "Stored output size for task 0: 10\n",
            "Sampling 20 examples from task 0 for memory buffer...\n",
            "Memory buffer size: 20 / 1000\n"
          ]
        },
        {
          "output_type": "stream",
          "name": "stderr",
          "text": [
            "Testing: 100%|██████████| 2/2 [00:03<00:00,  1.61s/it]\n"
          ]
        },
        {
          "output_type": "stream",
          "name": "stdout",
          "text": [
            "Overall accuracy for task 0 (on classes 0-9): 0.8250\n",
            "Model for task 0 saved as model_task_0.pth\n",
            "Training on task 1...\n",
            "Task 1: Training with 591 current samples and 20 replay samples.\n",
            "Starting training for Task 1. Trainable parameters:\n",
            "  - conv1.weight\n",
            "  - bn1.weight\n",
            "  - bn1.bias\n",
            "  - layer1.0.conv1.weight\n",
            "  - layer1.0.bn1.weight\n",
            "  - layer1.0.bn1.bias\n",
            "  - layer1.0.conv2.weight\n",
            "  - layer1.0.bn2.weight\n",
            "  - layer1.0.bn2.bias\n",
            "  - layer1.1.conv1.weight\n",
            "  - layer1.1.bn1.weight\n",
            "  - layer1.1.bn1.bias\n",
            "  - layer1.1.conv2.weight\n",
            "  - layer1.1.bn2.weight\n",
            "  - layer1.1.bn2.bias\n",
            "  - layer2.0.conv1.weight\n",
            "  - layer2.0.bn1.weight\n",
            "  - layer2.0.bn1.bias\n",
            "  - layer2.0.conv2.weight\n",
            "  - layer2.0.bn2.weight\n",
            "  - layer2.0.bn2.bias\n",
            "  - layer2.0.downsample.0.weight\n",
            "  - layer2.0.downsample.1.weight\n",
            "  - layer2.0.downsample.1.bias\n",
            "  - layer2.1.conv1.weight\n",
            "  - layer2.1.bn1.weight\n",
            "  - layer2.1.bn1.bias\n",
            "  - layer2.1.conv2.weight\n",
            "  - layer2.1.bn2.weight\n",
            "  - layer2.1.bn2.bias\n",
            "  - layer3.0.conv1.weight\n",
            "  - layer3.0.bn1.weight\n",
            "  - layer3.0.bn1.bias\n",
            "  - layer3.0.conv2.weight\n",
            "  - layer3.0.bn2.weight\n",
            "  - layer3.0.bn2.bias\n",
            "  - layer3.0.downsample.0.weight\n",
            "  - layer3.0.downsample.1.weight\n",
            "  - layer3.0.downsample.1.bias\n",
            "  - layer3.1.conv1.weight\n",
            "  - layer3.1.bn1.weight\n",
            "  - layer3.1.bn1.bias\n",
            "  - layer3.1.conv2.weight\n",
            "  - layer3.1.bn2.weight\n",
            "  - layer3.1.bn2.bias\n",
            "  - layer4.0.conv1.weight\n",
            "  - layer4.0.bn1.weight\n",
            "  - layer4.0.bn1.bias\n",
            "  - layer4.0.conv2.weight\n",
            "  - layer4.0.bn2.weight\n",
            "  - layer4.0.bn2.bias\n",
            "  - layer4.0.downsample.0.weight\n",
            "  - layer4.0.downsample.1.weight\n",
            "  - layer4.0.downsample.1.bias\n",
            "  - layer4.1.conv1.weight\n",
            "  - layer4.1.bn1.weight\n",
            "  - layer4.1.bn1.bias\n",
            "  - layer4.1.conv2.weight\n",
            "  - layer4.1.bn2.weight\n",
            "  - layer4.1.bn2.bias\n",
            "  - fc.weight\n",
            "  - fc.bias\n"
          ]
        },
        {
          "output_type": "stream",
          "name": "stderr",
          "text": [
            "\rTask 1 Epoch 1:   0%|          | 0/5 [00:00<?, ?batch/s]"
          ]
        },
        {
          "output_type": "stream",
          "name": "stdout",
          "text": [
            "WARNING: Average EWC penalty per parameter is very small: 0.00000000\n"
          ]
        },
        {
          "output_type": "stream",
          "name": "stderr",
          "text": [
            "Task 1 Epoch 1:  40%|████      | 2/5 [00:03<00:04,  1.43s/batch]"
          ]
        },
        {
          "output_type": "stream",
          "name": "stdout",
          "text": [
            "WARNING: Average EWC penalty per parameter is very small: 0.00004235\n"
          ]
        },
        {
          "output_type": "stream",
          "name": "stderr",
          "text": [
            "\rTask 1 Epoch 1:  60%|██████    | 3/5 [00:03<00:01,  1.02batch/s]"
          ]
        },
        {
          "output_type": "stream",
          "name": "stdout",
          "text": [
            "WARNING: Average EWC penalty per parameter is very small: 0.00001769\n"
          ]
        },
        {
          "output_type": "stream",
          "name": "stderr",
          "text": [
            "\rTask 1 Epoch 1:  80%|████████  | 4/5 [00:04<00:00,  1.30batch/s]"
          ]
        },
        {
          "output_type": "stream",
          "name": "stdout",
          "text": [
            "WARNING: Average EWC penalty per parameter is very small: 0.00004745\n"
          ]
        },
        {
          "output_type": "stream",
          "name": "stderr",
          "text": [
            "Task 1 Epoch 1: 100%|██████████| 5/5 [00:04<00:00,  1.09batch/s]\n",
            "Validating: 100%|██████████| 2/2 [00:02<00:00,  1.07s/it]\n"
          ]
        },
        {
          "output_type": "stream",
          "name": "stdout",
          "text": [
            "Task 1, Epoch 1, EWC Loss: 0.2979, Total Loss: 2.8190, Val Loss (Cumulative): 1.8571\n"
          ]
        },
        {
          "output_type": "stream",
          "name": "stderr",
          "text": [
            "\rTask 1 Epoch 2:   0%|          | 0/5 [00:00<?, ?batch/s]"
          ]
        },
        {
          "output_type": "stream",
          "name": "stdout",
          "text": [
            "WARNING: Average EWC penalty per parameter is very small: 0.00003349\n"
          ]
        },
        {
          "output_type": "stream",
          "name": "stderr",
          "text": [
            "\rTask 1 Epoch 2:  20%|██        | 1/5 [00:02<00:11,  2.98s/batch]"
          ]
        },
        {
          "output_type": "stream",
          "name": "stdout",
          "text": [
            "WARNING: Average EWC penalty per parameter is very small: 0.00000681\n"
          ]
        },
        {
          "output_type": "stream",
          "name": "stderr",
          "text": [
            "\rTask 1 Epoch 2:  40%|████      | 2/5 [00:03<00:04,  1.51s/batch]"
          ]
        },
        {
          "output_type": "stream",
          "name": "stdout",
          "text": [
            "WARNING: Average EWC penalty per parameter is very small: 0.00001368\n"
          ]
        },
        {
          "output_type": "stream",
          "name": "stderr",
          "text": [
            "\rTask 1 Epoch 2:  60%|██████    | 3/5 [00:03<00:02,  1.03s/batch]"
          ]
        },
        {
          "output_type": "stream",
          "name": "stdout",
          "text": [
            "WARNING: Average EWC penalty per parameter is very small: 0.00002658\n"
          ]
        },
        {
          "output_type": "stream",
          "name": "stderr",
          "text": [
            "\rTask 1 Epoch 2:  80%|████████  | 4/5 [00:04<00:00,  1.24batch/s]"
          ]
        },
        {
          "output_type": "stream",
          "name": "stdout",
          "text": [
            "WARNING: Average EWC penalty per parameter is very small: 0.00002165\n"
          ]
        },
        {
          "output_type": "stream",
          "name": "stderr",
          "text": [
            "Task 1 Epoch 2: 100%|██████████| 5/5 [00:04<00:00,  1.03batch/s]\n",
            "Validating: 100%|██████████| 2/2 [00:02<00:00,  1.20s/it]\n"
          ]
        },
        {
          "output_type": "stream",
          "name": "stdout",
          "text": [
            "Task 1, Epoch 2, EWC Loss: 0.1049, Total Loss: 1.5853, Val Loss (Cumulative): 1.6868\n"
          ]
        },
        {
          "output_type": "stream",
          "name": "stderr",
          "text": [
            "\rTask 1 Epoch 3:   0%|          | 0/5 [00:00<?, ?batch/s]"
          ]
        },
        {
          "output_type": "stream",
          "name": "stdout",
          "text": [
            "WARNING: Average EWC penalty per parameter is very small: 0.00001011\n"
          ]
        },
        {
          "output_type": "stream",
          "name": "stderr",
          "text": [
            "\rTask 1 Epoch 3:  20%|██        | 1/5 [00:02<00:11,  2.81s/batch]"
          ]
        },
        {
          "output_type": "stream",
          "name": "stdout",
          "text": [
            "WARNING: Average EWC penalty per parameter is very small: 0.00000725\n"
          ]
        },
        {
          "output_type": "stream",
          "name": "stderr",
          "text": [
            "\rTask 1 Epoch 3:  40%|████      | 2/5 [00:03<00:04,  1.43s/batch]"
          ]
        },
        {
          "output_type": "stream",
          "name": "stdout",
          "text": [
            "WARNING: Average EWC penalty per parameter is very small: 0.00000891\n"
          ]
        },
        {
          "output_type": "stream",
          "name": "stderr",
          "text": [
            "\rTask 1 Epoch 3:  60%|██████    | 3/5 [00:03<00:01,  1.02batch/s]"
          ]
        },
        {
          "output_type": "stream",
          "name": "stdout",
          "text": [
            "WARNING: Average EWC penalty per parameter is very small: 0.00000917\n"
          ]
        },
        {
          "output_type": "stream",
          "name": "stderr",
          "text": [
            "\rTask 1 Epoch 3:  80%|████████  | 4/5 [00:04<00:00,  1.30batch/s]"
          ]
        },
        {
          "output_type": "stream",
          "name": "stdout",
          "text": [
            "WARNING: Average EWC penalty per parameter is very small: 0.00000806\n"
          ]
        },
        {
          "output_type": "stream",
          "name": "stderr",
          "text": [
            "Task 1 Epoch 3: 100%|██████████| 5/5 [00:04<00:00,  1.09batch/s]\n",
            "Validating: 100%|██████████| 2/2 [00:02<00:00,  1.21s/it]\n"
          ]
        },
        {
          "output_type": "stream",
          "name": "stdout",
          "text": [
            "Task 1, Epoch 3, EWC Loss: 0.0446, Total Loss: 0.9949, Val Loss (Cumulative): 1.6002\n"
          ]
        },
        {
          "output_type": "stream",
          "name": "stderr",
          "text": [
            "\rTask 1 Epoch 4:   0%|          | 0/5 [00:00<?, ?batch/s]"
          ]
        },
        {
          "output_type": "stream",
          "name": "stdout",
          "text": [
            "WARNING: Average EWC penalty per parameter is very small: 0.00000596\n"
          ]
        },
        {
          "output_type": "stream",
          "name": "stderr",
          "text": [
            "\rTask 1 Epoch 4:  20%|██        | 1/5 [00:03<00:15,  3.78s/batch]"
          ]
        },
        {
          "output_type": "stream",
          "name": "stdout",
          "text": [
            "WARNING: Average EWC penalty per parameter is very small: 0.00000443\n"
          ]
        },
        {
          "output_type": "stream",
          "name": "stderr",
          "text": [
            "\rTask 1 Epoch 4:  40%|████      | 2/5 [00:04<00:05,  1.85s/batch]"
          ]
        },
        {
          "output_type": "stream",
          "name": "stdout",
          "text": [
            "WARNING: Average EWC penalty per parameter is very small: 0.00000435\n"
          ]
        },
        {
          "output_type": "stream",
          "name": "stderr",
          "text": [
            "\rTask 1 Epoch 4:  60%|██████    | 3/5 [00:04<00:02,  1.21s/batch]"
          ]
        },
        {
          "output_type": "stream",
          "name": "stdout",
          "text": [
            "WARNING: Average EWC penalty per parameter is very small: 0.00000431\n"
          ]
        },
        {
          "output_type": "stream",
          "name": "stderr",
          "text": [
            "\rTask 1 Epoch 4:  80%|████████  | 4/5 [00:05<00:00,  1.10batch/s]"
          ]
        },
        {
          "output_type": "stream",
          "name": "stdout",
          "text": [
            "WARNING: Average EWC penalty per parameter is very small: 0.00000385\n"
          ]
        },
        {
          "output_type": "stream",
          "name": "stderr",
          "text": [
            "Task 1 Epoch 4: 100%|██████████| 5/5 [00:05<00:00,  1.12s/batch]\n",
            "Validating: 100%|██████████| 2/2 [00:02<00:00,  1.05s/it]\n"
          ]
        },
        {
          "output_type": "stream",
          "name": "stdout",
          "text": [
            "Task 1, Epoch 4, EWC Loss: 0.0235, Total Loss: 0.6276, Val Loss (Cumulative): 1.5561\n"
          ]
        },
        {
          "output_type": "stream",
          "name": "stderr",
          "text": [
            "\rTask 1 Epoch 5:   0%|          | 0/5 [00:00<?, ?batch/s]"
          ]
        },
        {
          "output_type": "stream",
          "name": "stdout",
          "text": [
            "WARNING: Average EWC penalty per parameter is very small: 0.00000303\n"
          ]
        },
        {
          "output_type": "stream",
          "name": "stderr",
          "text": [
            "\rTask 1 Epoch 5:  20%|██        | 1/5 [00:02<00:11,  2.90s/batch]"
          ]
        },
        {
          "output_type": "stream",
          "name": "stdout",
          "text": [
            "WARNING: Average EWC penalty per parameter is very small: 0.00000243\n"
          ]
        },
        {
          "output_type": "stream",
          "name": "stderr",
          "text": [
            "\rTask 1 Epoch 5:  40%|████      | 2/5 [00:03<00:04,  1.46s/batch]"
          ]
        },
        {
          "output_type": "stream",
          "name": "stdout",
          "text": [
            "WARNING: Average EWC penalty per parameter is very small: 0.00000232\n"
          ]
        },
        {
          "output_type": "stream",
          "name": "stderr",
          "text": [
            "\rTask 1 Epoch 5:  60%|██████    | 3/5 [00:03<00:02,  1.00s/batch]"
          ]
        },
        {
          "output_type": "stream",
          "name": "stdout",
          "text": [
            "WARNING: Average EWC penalty per parameter is very small: 0.00000227\n"
          ]
        },
        {
          "output_type": "stream",
          "name": "stderr",
          "text": [
            "\rTask 1 Epoch 5:  80%|████████  | 4/5 [00:04<00:00,  1.28batch/s]"
          ]
        },
        {
          "output_type": "stream",
          "name": "stdout",
          "text": [
            "WARNING: Average EWC penalty per parameter is very small: 0.00000193\n"
          ]
        },
        {
          "output_type": "stream",
          "name": "stderr",
          "text": [
            "Task 1 Epoch 5: 100%|██████████| 5/5 [00:04<00:00,  1.07batch/s]\n",
            "Validating: 100%|██████████| 2/2 [00:02<00:00,  1.16s/it]\n"
          ]
        },
        {
          "output_type": "stream",
          "name": "stdout",
          "text": [
            "Task 1, Epoch 5, EWC Loss: 0.0123, Total Loss: 0.3684, Val Loss (Cumulative): 1.5589\n",
            "Unfreezing backbone at epoch 5 for task 1\n"
          ]
        },
        {
          "output_type": "stream",
          "name": "stderr",
          "text": [
            "\rTask 1 Epoch 6:   0%|          | 0/5 [00:00<?, ?batch/s]"
          ]
        },
        {
          "output_type": "stream",
          "name": "stdout",
          "text": [
            "WARNING: Average EWC penalty per parameter is very small: 0.00000151\n"
          ]
        },
        {
          "output_type": "stream",
          "name": "stderr",
          "text": [
            "\rTask 1 Epoch 6:  20%|██        | 1/5 [00:03<00:14,  3.59s/batch]"
          ]
        },
        {
          "output_type": "stream",
          "name": "stdout",
          "text": [
            "WARNING: Average EWC penalty per parameter is very small: 0.00000140\n"
          ]
        },
        {
          "output_type": "stream",
          "name": "stderr",
          "text": [
            "\rTask 1 Epoch 6:  40%|████      | 2/5 [00:04<00:05,  1.75s/batch]"
          ]
        },
        {
          "output_type": "stream",
          "name": "stdout",
          "text": [
            "WARNING: Average EWC penalty per parameter is very small: 0.00000137\n"
          ]
        },
        {
          "output_type": "stream",
          "name": "stderr",
          "text": [
            "\rTask 1 Epoch 6:  60%|██████    | 3/5 [00:04<00:02,  1.15s/batch]"
          ]
        },
        {
          "output_type": "stream",
          "name": "stdout",
          "text": [
            "WARNING: Average EWC penalty per parameter is very small: 0.00000118\n"
          ]
        },
        {
          "output_type": "stream",
          "name": "stderr",
          "text": [
            "\rTask 1 Epoch 6:  80%|████████  | 4/5 [00:04<00:00,  1.14batch/s]"
          ]
        },
        {
          "output_type": "stream",
          "name": "stdout",
          "text": [
            "WARNING: Average EWC penalty per parameter is very small: 0.00000096\n"
          ]
        },
        {
          "output_type": "stream",
          "name": "stderr",
          "text": [
            "Task 1 Epoch 6: 100%|██████████| 5/5 [00:05<00:00,  1.07s/batch]\n",
            "Validating: 100%|██████████| 2/2 [00:02<00:00,  1.04s/it]\n"
          ]
        },
        {
          "output_type": "stream",
          "name": "stdout",
          "text": [
            "Task 1, Epoch 6, EWC Loss: 0.0066, Total Loss: 0.2202, Val Loss (Cumulative): 1.6167\n"
          ]
        },
        {
          "output_type": "stream",
          "name": "stderr",
          "text": [
            "\rTask 1 Epoch 7:   0%|          | 0/5 [00:00<?, ?batch/s]"
          ]
        },
        {
          "output_type": "stream",
          "name": "stdout",
          "text": [
            "WARNING: Average EWC penalty per parameter is very small: 0.00000089\n"
          ]
        },
        {
          "output_type": "stream",
          "name": "stderr",
          "text": [
            "\rTask 1 Epoch 7:  20%|██        | 1/5 [00:02<00:11,  2.85s/batch]"
          ]
        },
        {
          "output_type": "stream",
          "name": "stdout",
          "text": [
            "WARNING: Average EWC penalty per parameter is very small: 0.00000088\n"
          ]
        },
        {
          "output_type": "stream",
          "name": "stderr",
          "text": [
            "\rTask 1 Epoch 7:  40%|████      | 2/5 [00:03<00:04,  1.44s/batch]"
          ]
        },
        {
          "output_type": "stream",
          "name": "stdout",
          "text": [
            "WARNING: Average EWC penalty per parameter is very small: 0.00000071\n"
          ]
        },
        {
          "output_type": "stream",
          "name": "stderr",
          "text": [
            "\rTask 1 Epoch 7:  60%|██████    | 3/5 [00:03<00:01,  1.01batch/s]"
          ]
        },
        {
          "output_type": "stream",
          "name": "stdout",
          "text": [
            "WARNING: Average EWC penalty per parameter is very small: 0.00000063\n"
          ]
        },
        {
          "output_type": "stream",
          "name": "stderr",
          "text": [
            "\rTask 1 Epoch 7:  80%|████████  | 4/5 [00:04<00:00,  1.29batch/s]"
          ]
        },
        {
          "output_type": "stream",
          "name": "stdout",
          "text": [
            "WARNING: Average EWC penalty per parameter is very small: 0.00000063\n"
          ]
        },
        {
          "output_type": "stream",
          "name": "stderr",
          "text": [
            "Task 1 Epoch 7: 100%|██████████| 5/5 [00:04<00:00,  1.07batch/s]\n",
            "Validating: 100%|██████████| 2/2 [00:02<00:00,  1.43s/it]\n"
          ]
        },
        {
          "output_type": "stream",
          "name": "stdout",
          "text": [
            "Task 1, Epoch 7, EWC Loss: 0.0038, Total Loss: 0.1044, Val Loss (Cumulative): 1.7038\n"
          ]
        },
        {
          "output_type": "stream",
          "name": "stderr",
          "text": [
            "\rTask 1 Epoch 8:   0%|          | 0/5 [00:00<?, ?batch/s]"
          ]
        },
        {
          "output_type": "stream",
          "name": "stdout",
          "text": [
            "WARNING: Average EWC penalty per parameter is very small: 0.00000055\n"
          ]
        },
        {
          "output_type": "stream",
          "name": "stderr",
          "text": [
            "\rTask 1 Epoch 8:  20%|██        | 1/5 [00:02<00:10,  2.72s/batch]"
          ]
        },
        {
          "output_type": "stream",
          "name": "stdout",
          "text": [
            "WARNING: Average EWC penalty per parameter is very small: 0.00000048\n"
          ]
        },
        {
          "output_type": "stream",
          "name": "stderr",
          "text": [
            "\rTask 1 Epoch 8:  40%|████      | 2/5 [00:03<00:04,  1.39s/batch]"
          ]
        },
        {
          "output_type": "stream",
          "name": "stdout",
          "text": [
            "WARNING: Average EWC penalty per parameter is very small: 0.00000046\n"
          ]
        },
        {
          "output_type": "stream",
          "name": "stderr",
          "text": [
            "\rTask 1 Epoch 8:  60%|██████    | 3/5 [00:03<00:01,  1.04batch/s]"
          ]
        },
        {
          "output_type": "stream",
          "name": "stdout",
          "text": [
            "WARNING: Average EWC penalty per parameter is very small: 0.00000041\n"
          ]
        },
        {
          "output_type": "stream",
          "name": "stderr",
          "text": [
            "\rTask 1 Epoch 8:  80%|████████  | 4/5 [00:04<00:00,  1.32batch/s]"
          ]
        },
        {
          "output_type": "stream",
          "name": "stdout",
          "text": [
            "WARNING: Average EWC penalty per parameter is very small: 0.00000039\n"
          ]
        },
        {
          "output_type": "stream",
          "name": "stderr",
          "text": [
            "Task 1 Epoch 8: 100%|██████████| 5/5 [00:04<00:00,  1.11batch/s]\n",
            "Validating: 100%|██████████| 2/2 [00:02<00:00,  1.02s/it]\n"
          ]
        },
        {
          "output_type": "stream",
          "name": "stdout",
          "text": [
            "Task 1, Epoch 8, EWC Loss: 0.0023, Total Loss: 0.0539, Val Loss (Cumulative): 1.7606\n"
          ]
        },
        {
          "output_type": "stream",
          "name": "stderr",
          "text": [
            "\rTask 1 Epoch 9:   0%|          | 0/5 [00:00<?, ?batch/s]"
          ]
        },
        {
          "output_type": "stream",
          "name": "stdout",
          "text": [
            "WARNING: Average EWC penalty per parameter is very small: 0.00000038\n"
          ]
        },
        {
          "output_type": "stream",
          "name": "stderr",
          "text": [
            "\rTask 1 Epoch 9:  20%|██        | 1/5 [00:02<00:10,  2.72s/batch]"
          ]
        },
        {
          "output_type": "stream",
          "name": "stdout",
          "text": [
            "WARNING: Average EWC penalty per parameter is very small: 0.00000035\n"
          ]
        },
        {
          "output_type": "stream",
          "name": "stderr",
          "text": [
            "\rTask 1 Epoch 9:  40%|████      | 2/5 [00:03<00:04,  1.42s/batch]"
          ]
        },
        {
          "output_type": "stream",
          "name": "stdout",
          "text": [
            "WARNING: Average EWC penalty per parameter is very small: 0.00000034\n"
          ]
        },
        {
          "output_type": "stream",
          "name": "stderr",
          "text": [
            "\rTask 1 Epoch 9:  60%|██████    | 3/5 [00:03<00:01,  1.02batch/s]"
          ]
        },
        {
          "output_type": "stream",
          "name": "stdout",
          "text": [
            "WARNING: Average EWC penalty per parameter is very small: 0.00000032\n"
          ]
        },
        {
          "output_type": "stream",
          "name": "stderr",
          "text": [
            "\rTask 1 Epoch 9:  80%|████████  | 4/5 [00:04<00:00,  1.28batch/s]"
          ]
        },
        {
          "output_type": "stream",
          "name": "stdout",
          "text": [
            "WARNING: Average EWC penalty per parameter is very small: 0.00000029\n"
          ]
        },
        {
          "output_type": "stream",
          "name": "stderr",
          "text": [
            "Task 1 Epoch 9: 100%|██████████| 5/5 [00:04<00:00,  1.08batch/s]\n",
            "Validating: 100%|██████████| 2/2 [00:02<00:00,  1.15s/it]\n"
          ]
        },
        {
          "output_type": "stream",
          "name": "stdout",
          "text": [
            "Task 1, Epoch 9, EWC Loss: 0.0017, Total Loss: 0.0322, Val Loss (Cumulative): 1.7996\n",
            "Early stopping triggered at epoch 9 for task 1. Best Val Loss: 1.5561\n",
            "Finished training task 1\n",
            "Storing parameters for task 1...\n",
            "Stored parameter layer4.0.conv1.weight: min=-0.266234, max=0.383188, mean=-0.001589\n",
            "Stored parameter layer4.0.bn1.weight: min=0.137776, max=0.428155, mean=0.264326\n",
            "Stored parameter layer4.0.bn1.bias: min=-0.477460, max=0.147607, mean=-0.225677\n",
            "Stored parameter layer4.0.conv2.weight: min=-0.284163, max=0.349329, mean=-0.001291\n",
            "Stored parameter layer4.0.bn2.weight: min=0.141258, max=0.730531, mean=0.424485\n",
            "Stored parameter layer4.0.bn2.bias: min=-0.400168, max=0.114137, mean=-0.197439\n",
            "Stored parameter layer4.0.downsample.0.weight: min=-0.627720, max=0.747917, mean=-0.000853\n",
            "Stored parameter layer4.0.downsample.1.weight: min=-0.051243, max=0.509745, mean=0.250658\n",
            "Stored parameter layer4.0.downsample.1.bias: min=-0.400168, max=0.114137, mean=-0.197439\n",
            "Stored parameter layer4.1.conv1.weight: min=-0.194861, max=0.266715, mean=-0.002274\n",
            "Stored parameter layer4.1.bn1.weight: min=0.094598, max=0.469139, mean=0.288718\n",
            "Stored parameter layer4.1.bn1.bias: min=-0.586646, max=0.053217, mean=-0.241475\n",
            "Stored parameter layer4.1.conv2.weight: min=-0.173999, max=0.271632, mean=-0.000164\n",
            "Stored parameter layer4.1.bn2.weight: min=1.578279, max=2.408490, mean=1.854893\n",
            "Stored parameter layer4.1.bn2.bias: min=0.074360, max=0.653240, mean=0.274657\n",
            "Stored parameter fc.weight: min=-0.124352, max=0.117243, mean=-0.002430\n",
            "Stored parameter fc.bias: min=-0.055478, max=0.058794, mean=-0.001086\n",
            "Stored output size for task 1: 20\n",
            "Sampling 20 examples from task 1 for memory buffer...\n",
            "Memory buffer size: 40 / 1000\n"
          ]
        },
        {
          "output_type": "stream",
          "name": "stderr",
          "text": [
            "Testing: 100%|██████████| 4/4 [00:04<00:00,  1.08s/it]\n"
          ]
        },
        {
          "output_type": "stream",
          "name": "stdout",
          "text": [
            "Overall accuracy for task 1 (on classes 0-19): 0.5513\n",
            "Model for task 1 saved as model_task_1.pth\n",
            "Training on task 2...\n",
            "Task 2: Training with 599 current samples and 40 replay samples.\n",
            "Starting training for Task 2. Trainable parameters:\n",
            "  - conv1.weight\n",
            "  - bn1.weight\n",
            "  - bn1.bias\n",
            "  - layer1.0.conv1.weight\n",
            "  - layer1.0.bn1.weight\n",
            "  - layer1.0.bn1.bias\n",
            "  - layer1.0.conv2.weight\n",
            "  - layer1.0.bn2.weight\n",
            "  - layer1.0.bn2.bias\n",
            "  - layer1.1.conv1.weight\n",
            "  - layer1.1.bn1.weight\n",
            "  - layer1.1.bn1.bias\n",
            "  - layer1.1.conv2.weight\n",
            "  - layer1.1.bn2.weight\n",
            "  - layer1.1.bn2.bias\n",
            "  - layer2.0.conv1.weight\n",
            "  - layer2.0.bn1.weight\n",
            "  - layer2.0.bn1.bias\n",
            "  - layer2.0.conv2.weight\n",
            "  - layer2.0.bn2.weight\n",
            "  - layer2.0.bn2.bias\n",
            "  - layer2.0.downsample.0.weight\n",
            "  - layer2.0.downsample.1.weight\n",
            "  - layer2.0.downsample.1.bias\n",
            "  - layer2.1.conv1.weight\n",
            "  - layer2.1.bn1.weight\n",
            "  - layer2.1.bn1.bias\n",
            "  - layer2.1.conv2.weight\n",
            "  - layer2.1.bn2.weight\n",
            "  - layer2.1.bn2.bias\n",
            "  - layer3.0.conv1.weight\n",
            "  - layer3.0.bn1.weight\n",
            "  - layer3.0.bn1.bias\n",
            "  - layer3.0.conv2.weight\n",
            "  - layer3.0.bn2.weight\n",
            "  - layer3.0.bn2.bias\n",
            "  - layer3.0.downsample.0.weight\n",
            "  - layer3.0.downsample.1.weight\n",
            "  - layer3.0.downsample.1.bias\n",
            "  - layer3.1.conv1.weight\n",
            "  - layer3.1.bn1.weight\n",
            "  - layer3.1.bn1.bias\n",
            "  - layer3.1.conv2.weight\n",
            "  - layer3.1.bn2.weight\n",
            "  - layer3.1.bn2.bias\n",
            "  - layer4.0.conv1.weight\n",
            "  - layer4.0.bn1.weight\n",
            "  - layer4.0.bn1.bias\n",
            "  - layer4.0.conv2.weight\n",
            "  - layer4.0.bn2.weight\n",
            "  - layer4.0.bn2.bias\n",
            "  - layer4.0.downsample.0.weight\n",
            "  - layer4.0.downsample.1.weight\n",
            "  - layer4.0.downsample.1.bias\n",
            "  - layer4.1.conv1.weight\n",
            "  - layer4.1.bn1.weight\n",
            "  - layer4.1.bn1.bias\n",
            "  - layer4.1.conv2.weight\n",
            "  - layer4.1.bn2.weight\n",
            "  - layer4.1.bn2.bias\n",
            "  - fc.weight\n",
            "  - fc.bias\n"
          ]
        },
        {
          "output_type": "stream",
          "name": "stderr",
          "text": [
            "\rTask 2 Epoch 1:   0%|          | 0/5 [00:00<?, ?batch/s]"
          ]
        },
        {
          "output_type": "stream",
          "name": "stdout",
          "text": [
            "WARNING: Average EWC penalty per parameter is very small: 0.00000000\n"
          ]
        },
        {
          "output_type": "stream",
          "name": "stderr",
          "text": [
            "\rTask 2 Epoch 1:  20%|██        | 1/5 [00:02<00:11,  2.78s/batch]"
          ]
        },
        {
          "output_type": "stream",
          "name": "stdout",
          "text": [
            "WARNING: Average EWC penalty per parameter is very small: 0.00000024\n"
          ]
        },
        {
          "output_type": "stream",
          "name": "stderr",
          "text": [
            "\rTask 2 Epoch 1:  40%|████      | 2/5 [00:03<00:04,  1.43s/batch]"
          ]
        },
        {
          "output_type": "stream",
          "name": "stdout",
          "text": [
            "WARNING: Average EWC penalty per parameter is very small: 0.00000029\n"
          ]
        },
        {
          "output_type": "stream",
          "name": "stderr",
          "text": [
            "\rTask 2 Epoch 1:  60%|██████    | 3/5 [00:03<00:01,  1.01batch/s]"
          ]
        },
        {
          "output_type": "stream",
          "name": "stdout",
          "text": [
            "WARNING: Average EWC penalty per parameter is very small: 0.00000029\n"
          ]
        },
        {
          "output_type": "stream",
          "name": "stderr",
          "text": [
            "\rTask 2 Epoch 1:  80%|████████  | 4/5 [00:04<00:00,  1.28batch/s]"
          ]
        },
        {
          "output_type": "stream",
          "name": "stdout",
          "text": [
            "WARNING: Average EWC penalty per parameter is very small: 0.00000028\n"
          ]
        },
        {
          "output_type": "stream",
          "name": "stderr",
          "text": [
            "Task 2 Epoch 1: 100%|██████████| 5/5 [00:04<00:00,  1.05batch/s]\n",
            "Validating: 100%|██████████| 2/2 [00:03<00:00,  1.65s/it]\n"
          ]
        },
        {
          "output_type": "stream",
          "name": "stdout",
          "text": [
            "Task 2, Epoch 1, EWC Loss: 2.4649, Total Loss: 6.2234, Val Loss (Cumulative): 2.4083\n"
          ]
        },
        {
          "output_type": "stream",
          "name": "stderr",
          "text": [
            "\rTask 2 Epoch 2:   0%|          | 0/5 [00:00<?, ?batch/s]"
          ]
        },
        {
          "output_type": "stream",
          "name": "stdout",
          "text": [
            "WARNING: Average EWC penalty per parameter is very small: 0.00000025\n"
          ]
        },
        {
          "output_type": "stream",
          "name": "stderr",
          "text": [
            "\rTask 2 Epoch 2:  20%|██        | 1/5 [00:03<00:12,  3.13s/batch]"
          ]
        },
        {
          "output_type": "stream",
          "name": "stdout",
          "text": [
            "WARNING: Average EWC penalty per parameter is very small: 0.00000023\n"
          ]
        },
        {
          "output_type": "stream",
          "name": "stderr",
          "text": [
            "\rTask 2 Epoch 2:  40%|████      | 2/5 [00:03<00:04,  1.57s/batch]"
          ]
        },
        {
          "output_type": "stream",
          "name": "stdout",
          "text": [
            "WARNING: Average EWC penalty per parameter is very small: 0.00000021\n"
          ]
        },
        {
          "output_type": "stream",
          "name": "stderr",
          "text": [
            "\rTask 2 Epoch 2:  60%|██████    | 3/5 [00:04<00:02,  1.07s/batch]"
          ]
        },
        {
          "output_type": "stream",
          "name": "stdout",
          "text": [
            "WARNING: Average EWC penalty per parameter is very small: 0.00000019\n"
          ]
        },
        {
          "output_type": "stream",
          "name": "stderr",
          "text": [
            "\rTask 2 Epoch 2:  80%|████████  | 4/5 [00:04<00:00,  1.21batch/s]"
          ]
        },
        {
          "output_type": "stream",
          "name": "stdout",
          "text": [
            "WARNING: Average EWC penalty per parameter is very small: 0.00000017\n"
          ]
        },
        {
          "output_type": "stream",
          "name": "stderr",
          "text": [
            "Task 2 Epoch 2: 100%|██████████| 5/5 [00:05<00:00,  1.01s/batch]\n",
            "Validating: 100%|██████████| 2/2 [00:02<00:00,  1.30s/it]\n"
          ]
        },
        {
          "output_type": "stream",
          "name": "stdout",
          "text": [
            "Task 2, Epoch 2, EWC Loss: 2.3515, Total Loss: 5.1617, Val Loss (Cumulative): 2.3616\n"
          ]
        },
        {
          "output_type": "stream",
          "name": "stderr",
          "text": [
            "\rTask 2 Epoch 3:   0%|          | 0/5 [00:00<?, ?batch/s]"
          ]
        },
        {
          "output_type": "stream",
          "name": "stdout",
          "text": [
            "WARNING: Average EWC penalty per parameter is very small: 0.00000015\n"
          ]
        },
        {
          "output_type": "stream",
          "name": "stderr",
          "text": [
            "\rTask 2 Epoch 3:  20%|██        | 1/5 [00:02<00:11,  2.87s/batch]"
          ]
        },
        {
          "output_type": "stream",
          "name": "stdout",
          "text": [
            "WARNING: Average EWC penalty per parameter is very small: 0.00000014\n"
          ]
        },
        {
          "output_type": "stream",
          "name": "stderr",
          "text": [
            "\rTask 2 Epoch 3:  40%|████      | 2/5 [00:03<00:04,  1.48s/batch]"
          ]
        },
        {
          "output_type": "stream",
          "name": "stdout",
          "text": [
            "WARNING: Average EWC penalty per parameter is very small: 0.00000013\n"
          ]
        },
        {
          "output_type": "stream",
          "name": "stderr",
          "text": [
            "\rTask 2 Epoch 3:  60%|██████    | 3/5 [00:03<00:02,  1.04s/batch]"
          ]
        },
        {
          "output_type": "stream",
          "name": "stdout",
          "text": [
            "WARNING: Average EWC penalty per parameter is very small: 0.00000012\n"
          ]
        },
        {
          "output_type": "stream",
          "name": "stderr",
          "text": [
            "\rTask 2 Epoch 3:  80%|████████  | 4/5 [00:04<00:00,  1.23batch/s]"
          ]
        },
        {
          "output_type": "stream",
          "name": "stdout",
          "text": [
            "WARNING: Average EWC penalty per parameter is very small: 0.00000011\n"
          ]
        },
        {
          "output_type": "stream",
          "name": "stderr",
          "text": [
            "Task 2 Epoch 3: 100%|██████████| 5/5 [00:04<00:00,  1.01batch/s]\n",
            "Validating: 100%|██████████| 2/2 [00:02<00:00,  1.43s/it]\n"
          ]
        },
        {
          "output_type": "stream",
          "name": "stdout",
          "text": [
            "Task 2, Epoch 3, EWC Loss: 1.4796, Total Loss: 4.1154, Val Loss (Cumulative): 2.3508\n"
          ]
        },
        {
          "output_type": "stream",
          "name": "stderr",
          "text": [
            "\rTask 2 Epoch 4:   0%|          | 0/5 [00:00<?, ?batch/s]"
          ]
        },
        {
          "output_type": "stream",
          "name": "stdout",
          "text": [
            "WARNING: Average EWC penalty per parameter is very small: 0.00000011\n"
          ]
        },
        {
          "output_type": "stream",
          "name": "stderr",
          "text": [
            "\rTask 2 Epoch 4:  20%|██        | 1/5 [00:03<00:12,  3.00s/batch]"
          ]
        },
        {
          "output_type": "stream",
          "name": "stdout",
          "text": [
            "WARNING: Average EWC penalty per parameter is very small: 0.00000010\n"
          ]
        },
        {
          "output_type": "stream",
          "name": "stderr",
          "text": [
            "\rTask 2 Epoch 4:  40%|████      | 2/5 [00:03<00:04,  1.52s/batch]"
          ]
        },
        {
          "output_type": "stream",
          "name": "stdout",
          "text": [
            "WARNING: Average EWC penalty per parameter is very small: 0.00000010\n"
          ]
        },
        {
          "output_type": "stream",
          "name": "stderr",
          "text": [
            "\rTask 2 Epoch 4:  60%|██████    | 3/5 [00:03<00:02,  1.04s/batch]"
          ]
        },
        {
          "output_type": "stream",
          "name": "stdout",
          "text": [
            "WARNING: Average EWC penalty per parameter is very small: 0.00000009\n"
          ]
        },
        {
          "output_type": "stream",
          "name": "stderr",
          "text": [
            "\rTask 2 Epoch 4:  80%|████████  | 4/5 [00:04<00:00,  1.23batch/s]"
          ]
        },
        {
          "output_type": "stream",
          "name": "stdout",
          "text": [
            "WARNING: Average EWC penalty per parameter is very small: 0.00000009\n"
          ]
        },
        {
          "output_type": "stream",
          "name": "stderr",
          "text": [
            "Task 2 Epoch 4: 100%|██████████| 5/5 [00:04<00:00,  1.01batch/s]\n",
            "Validating: 100%|██████████| 2/2 [00:02<00:00,  1.30s/it]\n"
          ]
        },
        {
          "output_type": "stream",
          "name": "stdout",
          "text": [
            "Task 2, Epoch 4, EWC Loss: 1.0923, Total Loss: 3.6475, Val Loss (Cumulative): 2.3256\n"
          ]
        },
        {
          "output_type": "stream",
          "name": "stderr",
          "text": [
            "\rTask 2 Epoch 5:   0%|          | 0/5 [00:00<?, ?batch/s]"
          ]
        },
        {
          "output_type": "stream",
          "name": "stdout",
          "text": [
            "WARNING: Average EWC penalty per parameter is very small: 0.00000009\n"
          ]
        },
        {
          "output_type": "stream",
          "name": "stderr",
          "text": [
            "\rTask 2 Epoch 5:  20%|██        | 1/5 [00:03<00:15,  3.77s/batch]"
          ]
        },
        {
          "output_type": "stream",
          "name": "stdout",
          "text": [
            "WARNING: Average EWC penalty per parameter is very small: 0.00000009\n"
          ]
        },
        {
          "output_type": "stream",
          "name": "stderr",
          "text": [
            "\rTask 2 Epoch 5:  40%|████      | 2/5 [00:04<00:05,  1.84s/batch]"
          ]
        },
        {
          "output_type": "stream",
          "name": "stdout",
          "text": [
            "WARNING: Average EWC penalty per parameter is very small: 0.00000009\n"
          ]
        },
        {
          "output_type": "stream",
          "name": "stderr",
          "text": [
            "\rTask 2 Epoch 5:  60%|██████    | 3/5 [00:04<00:02,  1.22s/batch]"
          ]
        },
        {
          "output_type": "stream",
          "name": "stdout",
          "text": [
            "WARNING: Average EWC penalty per parameter is very small: 0.00000009\n"
          ]
        },
        {
          "output_type": "stream",
          "name": "stderr",
          "text": [
            "\rTask 2 Epoch 5:  80%|████████  | 4/5 [00:05<00:00,  1.08batch/s]"
          ]
        },
        {
          "output_type": "stream",
          "name": "stdout",
          "text": [
            "WARNING: Average EWC penalty per parameter is very small: 0.00000008\n"
          ]
        },
        {
          "output_type": "stream",
          "name": "stderr",
          "text": [
            "Task 2 Epoch 5: 100%|██████████| 5/5 [00:05<00:00,  1.15s/batch]\n",
            "Validating: 100%|██████████| 2/2 [00:02<00:00,  1.31s/it]\n"
          ]
        },
        {
          "output_type": "stream",
          "name": "stdout",
          "text": [
            "Task 2, Epoch 5, EWC Loss: 0.9641, Total Loss: 3.3782, Val Loss (Cumulative): 2.2910\n",
            "Unfreezing backbone at epoch 5 for task 2\n"
          ]
        },
        {
          "output_type": "stream",
          "name": "stderr",
          "text": [
            "\rTask 2 Epoch 6:   0%|          | 0/5 [00:00<?, ?batch/s]"
          ]
        },
        {
          "output_type": "stream",
          "name": "stdout",
          "text": [
            "WARNING: Average EWC penalty per parameter is very small: 0.00000008\n"
          ]
        },
        {
          "output_type": "stream",
          "name": "stderr",
          "text": [
            "\rTask 2 Epoch 6:  20%|██        | 1/5 [00:02<00:10,  2.62s/batch]"
          ]
        },
        {
          "output_type": "stream",
          "name": "stdout",
          "text": [
            "WARNING: Average EWC penalty per parameter is very small: 0.00000008\n"
          ]
        },
        {
          "output_type": "stream",
          "name": "stderr",
          "text": [
            "\rTask 2 Epoch 6:  40%|████      | 2/5 [00:03<00:04,  1.37s/batch]"
          ]
        },
        {
          "output_type": "stream",
          "name": "stdout",
          "text": [
            "WARNING: Average EWC penalty per parameter is very small: 0.00000008\n"
          ]
        },
        {
          "output_type": "stream",
          "name": "stderr",
          "text": [
            "\rTask 2 Epoch 6:  60%|██████    | 3/5 [00:03<00:01,  1.04batch/s]"
          ]
        },
        {
          "output_type": "stream",
          "name": "stdout",
          "text": [
            "WARNING: Average EWC penalty per parameter is very small: 0.00000008\n"
          ]
        },
        {
          "output_type": "stream",
          "name": "stderr",
          "text": [
            "\rTask 2 Epoch 6:  80%|████████  | 4/5 [00:04<00:00,  1.30batch/s]"
          ]
        },
        {
          "output_type": "stream",
          "name": "stdout",
          "text": [
            "WARNING: Average EWC penalty per parameter is very small: 0.00000008\n"
          ]
        },
        {
          "output_type": "stream",
          "name": "stderr",
          "text": [
            "Task 2 Epoch 6: 100%|██████████| 5/5 [00:04<00:00,  1.08batch/s]\n",
            "Validating: 100%|██████████| 2/2 [00:03<00:00,  1.73s/it]\n"
          ]
        },
        {
          "output_type": "stream",
          "name": "stdout",
          "text": [
            "Task 2, Epoch 6, EWC Loss: 0.9263, Total Loss: 3.1930, Val Loss (Cumulative): 2.2801\n"
          ]
        },
        {
          "output_type": "stream",
          "name": "stderr",
          "text": [
            "\rTask 2 Epoch 7:   0%|          | 0/5 [00:00<?, ?batch/s]"
          ]
        },
        {
          "output_type": "stream",
          "name": "stdout",
          "text": [
            "WARNING: Average EWC penalty per parameter is very small: 0.00000008\n"
          ]
        },
        {
          "output_type": "stream",
          "name": "stderr",
          "text": [
            "\rTask 2 Epoch 7:  20%|██        | 1/5 [00:02<00:11,  2.79s/batch]"
          ]
        },
        {
          "output_type": "stream",
          "name": "stdout",
          "text": [
            "WARNING: Average EWC penalty per parameter is very small: 0.00000008\n"
          ]
        },
        {
          "output_type": "stream",
          "name": "stderr",
          "text": [
            "\rTask 2 Epoch 7:  40%|████      | 2/5 [00:03<00:04,  1.44s/batch]"
          ]
        },
        {
          "output_type": "stream",
          "name": "stdout",
          "text": [
            "WARNING: Average EWC penalty per parameter is very small: 0.00000008\n"
          ]
        },
        {
          "output_type": "stream",
          "name": "stderr",
          "text": [
            "\rTask 2 Epoch 7:  60%|██████    | 3/5 [00:03<00:02,  1.00s/batch]"
          ]
        },
        {
          "output_type": "stream",
          "name": "stdout",
          "text": [
            "WARNING: Average EWC penalty per parameter is very small: 0.00000008\n"
          ]
        },
        {
          "output_type": "stream",
          "name": "stderr",
          "text": [
            "\rTask 2 Epoch 7:  80%|████████  | 4/5 [00:04<00:00,  1.27batch/s]"
          ]
        },
        {
          "output_type": "stream",
          "name": "stdout",
          "text": [
            "WARNING: Average EWC penalty per parameter is very small: 0.00000008\n"
          ]
        },
        {
          "output_type": "stream",
          "name": "stderr",
          "text": [
            "Task 2 Epoch 7: 100%|██████████| 5/5 [00:04<00:00,  1.04batch/s]\n",
            "Validating: 100%|██████████| 2/2 [00:02<00:00,  1.33s/it]\n"
          ]
        },
        {
          "output_type": "stream",
          "name": "stdout",
          "text": [
            "Task 2, Epoch 7, EWC Loss: 0.9067, Total Loss: 3.0447, Val Loss (Cumulative): 2.2746\n"
          ]
        },
        {
          "output_type": "stream",
          "name": "stderr",
          "text": [
            "\rTask 2 Epoch 8:   0%|          | 0/5 [00:00<?, ?batch/s]"
          ]
        },
        {
          "output_type": "stream",
          "name": "stdout",
          "text": [
            "WARNING: Average EWC penalty per parameter is very small: 0.00000008\n"
          ]
        },
        {
          "output_type": "stream",
          "name": "stderr",
          "text": [
            "\rTask 2 Epoch 8:  20%|██        | 1/5 [00:03<00:14,  3.72s/batch]"
          ]
        },
        {
          "output_type": "stream",
          "name": "stdout",
          "text": [
            "WARNING: Average EWC penalty per parameter is very small: 0.00000008\n"
          ]
        },
        {
          "output_type": "stream",
          "name": "stderr",
          "text": [
            "\rTask 2 Epoch 8:  40%|████      | 2/5 [00:04<00:05,  1.84s/batch]"
          ]
        },
        {
          "output_type": "stream",
          "name": "stdout",
          "text": [
            "WARNING: Average EWC penalty per parameter is very small: 0.00000008\n"
          ]
        },
        {
          "output_type": "stream",
          "name": "stderr",
          "text": [
            "\rTask 2 Epoch 8:  60%|██████    | 3/5 [00:04<00:02,  1.22s/batch]"
          ]
        },
        {
          "output_type": "stream",
          "name": "stdout",
          "text": [
            "WARNING: Average EWC penalty per parameter is very small: 0.00000008\n"
          ]
        },
        {
          "output_type": "stream",
          "name": "stderr",
          "text": [
            "\rTask 2 Epoch 8:  80%|████████  | 4/5 [00:05<00:00,  1.08batch/s]"
          ]
        },
        {
          "output_type": "stream",
          "name": "stdout",
          "text": [
            "WARNING: Average EWC penalty per parameter is very small: 0.00000008\n"
          ]
        },
        {
          "output_type": "stream",
          "name": "stderr",
          "text": [
            "Task 2 Epoch 8: 100%|██████████| 5/5 [00:05<00:00,  1.15s/batch]\n",
            "Validating: 100%|██████████| 2/2 [00:02<00:00,  1.33s/it]\n"
          ]
        },
        {
          "output_type": "stream",
          "name": "stdout",
          "text": [
            "Task 2, Epoch 8, EWC Loss: 0.8875, Total Loss: 2.9284, Val Loss (Cumulative): 2.2812\n"
          ]
        },
        {
          "output_type": "stream",
          "name": "stderr",
          "text": [
            "\rTask 2 Epoch 9:   0%|          | 0/5 [00:00<?, ?batch/s]"
          ]
        },
        {
          "output_type": "stream",
          "name": "stdout",
          "text": [
            "WARNING: Average EWC penalty per parameter is very small: 0.00000008\n"
          ]
        },
        {
          "output_type": "stream",
          "name": "stderr",
          "text": [
            "\rTask 2 Epoch 9:  20%|██        | 1/5 [00:02<00:11,  2.84s/batch]"
          ]
        },
        {
          "output_type": "stream",
          "name": "stdout",
          "text": [
            "WARNING: Average EWC penalty per parameter is very small: 0.00000008\n"
          ]
        },
        {
          "output_type": "stream",
          "name": "stderr",
          "text": [
            "\rTask 2 Epoch 9:  40%|████      | 2/5 [00:03<00:04,  1.46s/batch]"
          ]
        },
        {
          "output_type": "stream",
          "name": "stdout",
          "text": [
            "WARNING: Average EWC penalty per parameter is very small: 0.00000008\n"
          ]
        },
        {
          "output_type": "stream",
          "name": "stderr",
          "text": [
            "\rTask 2 Epoch 9:  60%|██████    | 3/5 [00:03<00:02,  1.01s/batch]"
          ]
        },
        {
          "output_type": "stream",
          "name": "stdout",
          "text": [
            "WARNING: Average EWC penalty per parameter is very small: 0.00000008\n"
          ]
        },
        {
          "output_type": "stream",
          "name": "stderr",
          "text": [
            "\rTask 2 Epoch 9:  80%|████████  | 4/5 [00:04<00:00,  1.25batch/s]"
          ]
        },
        {
          "output_type": "stream",
          "name": "stdout",
          "text": [
            "WARNING: Average EWC penalty per parameter is very small: 0.00000008\n"
          ]
        },
        {
          "output_type": "stream",
          "name": "stderr",
          "text": [
            "Task 2 Epoch 9: 100%|██████████| 5/5 [00:04<00:00,  1.03batch/s]\n",
            "Validating: 100%|██████████| 2/2 [00:03<00:00,  1.88s/it]\n"
          ]
        },
        {
          "output_type": "stream",
          "name": "stdout",
          "text": [
            "Task 2, Epoch 9, EWC Loss: 0.8759, Total Loss: 2.7885, Val Loss (Cumulative): 2.2864\n"
          ]
        },
        {
          "output_type": "stream",
          "name": "stderr",
          "text": [
            "\rTask 2 Epoch 10:   0%|          | 0/5 [00:00<?, ?batch/s]"
          ]
        },
        {
          "output_type": "stream",
          "name": "stdout",
          "text": [
            "WARNING: Average EWC penalty per parameter is very small: 0.00000008\n"
          ]
        },
        {
          "output_type": "stream",
          "name": "stderr",
          "text": [
            "\rTask 2 Epoch 10:  20%|██        | 1/5 [00:02<00:11,  2.76s/batch]"
          ]
        },
        {
          "output_type": "stream",
          "name": "stdout",
          "text": [
            "WARNING: Average EWC penalty per parameter is very small: 0.00000008\n"
          ]
        },
        {
          "output_type": "stream",
          "name": "stderr",
          "text": [
            "\rTask 2 Epoch 10:  40%|████      | 2/5 [00:03<00:04,  1.43s/batch]"
          ]
        },
        {
          "output_type": "stream",
          "name": "stdout",
          "text": [
            "WARNING: Average EWC penalty per parameter is very small: 0.00000008\n"
          ]
        },
        {
          "output_type": "stream",
          "name": "stderr",
          "text": [
            "\rTask 2 Epoch 10:  60%|██████    | 3/5 [00:03<00:02,  1.00s/batch]"
          ]
        },
        {
          "output_type": "stream",
          "name": "stdout",
          "text": [
            "WARNING: Average EWC penalty per parameter is very small: 0.00000008\n"
          ]
        },
        {
          "output_type": "stream",
          "name": "stderr",
          "text": [
            "\rTask 2 Epoch 10:  80%|████████  | 4/5 [00:04<00:00,  1.25batch/s]"
          ]
        },
        {
          "output_type": "stream",
          "name": "stdout",
          "text": [
            "WARNING: Average EWC penalty per parameter is very small: 0.00000008\n"
          ]
        },
        {
          "output_type": "stream",
          "name": "stderr",
          "text": [
            "Task 2 Epoch 10: 100%|██████████| 5/5 [00:04<00:00,  1.05batch/s]\n",
            "Validating: 100%|██████████| 2/2 [00:02<00:00,  1.30s/it]\n"
          ]
        },
        {
          "output_type": "stream",
          "name": "stdout",
          "text": [
            "Task 2, Epoch 10, EWC Loss: 0.8594, Total Loss: 2.6721, Val Loss (Cumulative): 2.3075\n"
          ]
        },
        {
          "output_type": "stream",
          "name": "stderr",
          "text": [
            "\rTask 2 Epoch 11:   0%|          | 0/5 [00:00<?, ?batch/s]"
          ]
        },
        {
          "output_type": "stream",
          "name": "stdout",
          "text": [
            "WARNING: Average EWC penalty per parameter is very small: 0.00000007\n"
          ]
        },
        {
          "output_type": "stream",
          "name": "stderr",
          "text": [
            "\rTask 2 Epoch 11:  20%|██        | 1/5 [00:03<00:12,  3.14s/batch]"
          ]
        },
        {
          "output_type": "stream",
          "name": "stdout",
          "text": [
            "WARNING: Average EWC penalty per parameter is very small: 0.00000007\n"
          ]
        },
        {
          "output_type": "stream",
          "name": "stderr",
          "text": [
            "\rTask 2 Epoch 11:  40%|████      | 2/5 [00:03<00:04,  1.61s/batch]"
          ]
        },
        {
          "output_type": "stream",
          "name": "stdout",
          "text": [
            "WARNING: Average EWC penalty per parameter is very small: 0.00000007\n"
          ]
        },
        {
          "output_type": "stream",
          "name": "stderr",
          "text": [
            "\rTask 2 Epoch 11:  60%|██████    | 3/5 [00:04<00:02,  1.12s/batch]"
          ]
        },
        {
          "output_type": "stream",
          "name": "stdout",
          "text": [
            "WARNING: Average EWC penalty per parameter is very small: 0.00000007\n"
          ]
        },
        {
          "output_type": "stream",
          "name": "stderr",
          "text": [
            "\rTask 2 Epoch 11:  80%|████████  | 4/5 [00:04<00:00,  1.12batch/s]"
          ]
        },
        {
          "output_type": "stream",
          "name": "stdout",
          "text": [
            "WARNING: Average EWC penalty per parameter is very small: 0.00000007\n"
          ]
        },
        {
          "output_type": "stream",
          "name": "stderr",
          "text": [
            "Task 2 Epoch 11: 100%|██████████| 5/5 [00:05<00:00,  1.06s/batch]\n",
            "Validating: 100%|██████████| 2/2 [00:02<00:00,  1.32s/it]\n"
          ]
        },
        {
          "output_type": "stream",
          "name": "stdout",
          "text": [
            "Task 2, Epoch 11, EWC Loss: 0.8205, Total Loss: 2.5656, Val Loss (Cumulative): 2.3379\n"
          ]
        },
        {
          "output_type": "stream",
          "name": "stderr",
          "text": [
            "\rTask 2 Epoch 12:   0%|          | 0/5 [00:00<?, ?batch/s]"
          ]
        },
        {
          "output_type": "stream",
          "name": "stdout",
          "text": [
            "WARNING: Average EWC penalty per parameter is very small: 0.00000007\n"
          ]
        },
        {
          "output_type": "stream",
          "name": "stderr",
          "text": [
            "\rTask 2 Epoch 12:  20%|██        | 1/5 [00:02<00:10,  2.68s/batch]"
          ]
        },
        {
          "output_type": "stream",
          "name": "stdout",
          "text": [
            "WARNING: Average EWC penalty per parameter is very small: 0.00000007\n"
          ]
        },
        {
          "output_type": "stream",
          "name": "stderr",
          "text": [
            "\rTask 2 Epoch 12:  40%|████      | 2/5 [00:03<00:04,  1.39s/batch]"
          ]
        },
        {
          "output_type": "stream",
          "name": "stdout",
          "text": [
            "WARNING: Average EWC penalty per parameter is very small: 0.00000007\n"
          ]
        },
        {
          "output_type": "stream",
          "name": "stderr",
          "text": [
            "\rTask 2 Epoch 12:  60%|██████    | 3/5 [00:03<00:01,  1.01batch/s]"
          ]
        },
        {
          "output_type": "stream",
          "name": "stdout",
          "text": [
            "WARNING: Average EWC penalty per parameter is very small: 0.00000007\n"
          ]
        },
        {
          "output_type": "stream",
          "name": "stderr",
          "text": [
            "\rTask 2 Epoch 12:  80%|████████  | 4/5 [00:04<00:00,  1.26batch/s]"
          ]
        },
        {
          "output_type": "stream",
          "name": "stdout",
          "text": [
            "WARNING: Average EWC penalty per parameter is very small: 0.00000007\n"
          ]
        },
        {
          "output_type": "stream",
          "name": "stderr",
          "text": [
            "Task 2 Epoch 12: 100%|██████████| 5/5 [00:04<00:00,  1.06batch/s]\n",
            "Validating: 100%|██████████| 2/2 [00:02<00:00,  1.43s/it]\n"
          ]
        },
        {
          "output_type": "stream",
          "name": "stdout",
          "text": [
            "Task 2, Epoch 12, EWC Loss: 0.7995, Total Loss: 2.4708, Val Loss (Cumulative): 2.3745\n",
            "Early stopping triggered at epoch 12 for task 2. Best Val Loss: 2.2746\n",
            "Finished training task 2\n",
            "Storing parameters for task 2...\n",
            "Stored parameter layer4.0.conv1.weight: min=-0.266226, max=0.383199, mean=-0.001587\n",
            "Stored parameter layer4.0.bn1.weight: min=0.137775, max=0.428147, mean=0.264326\n",
            "Stored parameter layer4.0.bn1.bias: min=-0.477456, max=0.147601, mean=-0.225676\n",
            "Stored parameter layer4.0.conv2.weight: min=-0.284139, max=0.349329, mean=-0.001286\n",
            "Stored parameter layer4.0.bn2.weight: min=0.141255, max=0.730534, mean=0.424489\n",
            "Stored parameter layer4.0.bn2.bias: min=-0.400203, max=0.114136, mean=-0.197436\n",
            "Stored parameter layer4.0.downsample.0.weight: min=-0.627815, max=0.747924, mean=-0.000854\n",
            "Stored parameter layer4.0.downsample.1.weight: min=-0.051246, max=0.509778, mean=0.250661\n",
            "Stored parameter layer4.0.downsample.1.bias: min=-0.400203, max=0.114136, mean=-0.197436\n",
            "Stored parameter layer4.1.conv1.weight: min=-0.194820, max=0.266677, mean=-0.002229\n",
            "Stored parameter layer4.1.bn1.weight: min=0.094602, max=0.469133, mean=0.288728\n",
            "Stored parameter layer4.1.bn1.bias: min=-0.586611, max=0.053215, mean=-0.241462\n",
            "Stored parameter layer4.1.conv2.weight: min=-0.174198, max=0.271679, mean=-0.000130\n",
            "Stored parameter layer4.1.bn2.weight: min=1.578150, max=2.408698, mean=1.854957\n",
            "Stored parameter layer4.1.bn2.bias: min=0.074153, max=0.652844, mean=0.274750\n",
            "Stored parameter fc.weight: min=-0.124358, max=0.117245, mean=-0.000370\n",
            "Stored parameter fc.bias: min=-0.055481, max=0.058791, mean=-0.004722\n",
            "Stored output size for task 2: 30\n",
            "Sampling 20 examples from task 2 for memory buffer...\n",
            "Memory buffer size: 60 / 1000\n"
          ]
        },
        {
          "output_type": "stream",
          "name": "stderr",
          "text": [
            "Testing: 100%|██████████| 5/5 [00:06<00:00,  1.23s/it]\n"
          ]
        },
        {
          "output_type": "stream",
          "name": "stdout",
          "text": [
            "Overall accuracy for task 2 (on classes 0-29): 0.4525\n",
            "Model for task 2 saved as model_task_2.pth\n",
            "Training on task 3...\n",
            "Task 3: Training with 596 current samples and 60 replay samples.\n",
            "Starting training for Task 3. Trainable parameters:\n",
            "  - conv1.weight\n",
            "  - bn1.weight\n",
            "  - bn1.bias\n",
            "  - layer1.0.conv1.weight\n",
            "  - layer1.0.bn1.weight\n",
            "  - layer1.0.bn1.bias\n",
            "  - layer1.0.conv2.weight\n",
            "  - layer1.0.bn2.weight\n",
            "  - layer1.0.bn2.bias\n",
            "  - layer1.1.conv1.weight\n",
            "  - layer1.1.bn1.weight\n",
            "  - layer1.1.bn1.bias\n",
            "  - layer1.1.conv2.weight\n",
            "  - layer1.1.bn2.weight\n",
            "  - layer1.1.bn2.bias\n",
            "  - layer2.0.conv1.weight\n",
            "  - layer2.0.bn1.weight\n",
            "  - layer2.0.bn1.bias\n",
            "  - layer2.0.conv2.weight\n",
            "  - layer2.0.bn2.weight\n",
            "  - layer2.0.bn2.bias\n",
            "  - layer2.0.downsample.0.weight\n",
            "  - layer2.0.downsample.1.weight\n",
            "  - layer2.0.downsample.1.bias\n",
            "  - layer2.1.conv1.weight\n",
            "  - layer2.1.bn1.weight\n",
            "  - layer2.1.bn1.bias\n",
            "  - layer2.1.conv2.weight\n",
            "  - layer2.1.bn2.weight\n",
            "  - layer2.1.bn2.bias\n",
            "  - layer3.0.conv1.weight\n",
            "  - layer3.0.bn1.weight\n",
            "  - layer3.0.bn1.bias\n",
            "  - layer3.0.conv2.weight\n",
            "  - layer3.0.bn2.weight\n",
            "  - layer3.0.bn2.bias\n",
            "  - layer3.0.downsample.0.weight\n",
            "  - layer3.0.downsample.1.weight\n",
            "  - layer3.0.downsample.1.bias\n",
            "  - layer3.1.conv1.weight\n",
            "  - layer3.1.bn1.weight\n",
            "  - layer3.1.bn1.bias\n",
            "  - layer3.1.conv2.weight\n",
            "  - layer3.1.bn2.weight\n",
            "  - layer3.1.bn2.bias\n",
            "  - layer4.0.conv1.weight\n",
            "  - layer4.0.bn1.weight\n",
            "  - layer4.0.bn1.bias\n",
            "  - layer4.0.conv2.weight\n",
            "  - layer4.0.bn2.weight\n",
            "  - layer4.0.bn2.bias\n",
            "  - layer4.0.downsample.0.weight\n",
            "  - layer4.0.downsample.1.weight\n",
            "  - layer4.0.downsample.1.bias\n",
            "  - layer4.1.conv1.weight\n",
            "  - layer4.1.bn1.weight\n",
            "  - layer4.1.bn1.bias\n",
            "  - layer4.1.conv2.weight\n",
            "  - layer4.1.bn2.weight\n",
            "  - layer4.1.bn2.bias\n",
            "  - fc.weight\n",
            "  - fc.bias\n"
          ]
        },
        {
          "output_type": "stream",
          "name": "stderr",
          "text": [
            "\rTask 3 Epoch 1:   0%|          | 0/6 [00:00<?, ?batch/s]"
          ]
        },
        {
          "output_type": "stream",
          "name": "stdout",
          "text": [
            "WARNING: Average EWC penalty per parameter is very small: 0.00000003\n"
          ]
        },
        {
          "output_type": "stream",
          "name": "stderr",
          "text": [
            "\rTask 3 Epoch 1:  17%|█▋        | 1/6 [00:03<00:16,  3.34s/batch]"
          ]
        },
        {
          "output_type": "stream",
          "name": "stdout",
          "text": [
            "WARNING: Average EWC penalty per parameter is very small: 0.00000196\n"
          ]
        },
        {
          "output_type": "stream",
          "name": "stderr",
          "text": [
            "\rTask 3 Epoch 1:  33%|███▎      | 2/6 [00:03<00:06,  1.70s/batch]"
          ]
        },
        {
          "output_type": "stream",
          "name": "stdout",
          "text": [
            "WARNING: Average EWC penalty per parameter is very small: 0.00000223\n"
          ]
        },
        {
          "output_type": "stream",
          "name": "stderr",
          "text": [
            "\rTask 3 Epoch 1:  50%|█████     | 3/6 [00:04<00:03,  1.16s/batch]"
          ]
        },
        {
          "output_type": "stream",
          "name": "stdout",
          "text": [
            "WARNING: Average EWC penalty per parameter is very small: 0.00000184\n"
          ]
        },
        {
          "output_type": "stream",
          "name": "stderr",
          "text": [
            "\rTask 3 Epoch 1:  67%|██████▋   | 4/6 [00:04<00:01,  1.12batch/s]"
          ]
        },
        {
          "output_type": "stream",
          "name": "stdout",
          "text": [
            "WARNING: Average EWC penalty per parameter is very small: 0.00000149\n"
          ]
        },
        {
          "output_type": "stream",
          "name": "stderr",
          "text": [
            "Task 3 Epoch 1: 100%|██████████| 6/6 [00:05<00:00,  1.08batch/s]\n"
          ]
        },
        {
          "output_type": "stream",
          "name": "stdout",
          "text": [
            "WARNING: Average EWC penalty per parameter is very small: 0.00000125\n"
          ]
        },
        {
          "output_type": "stream",
          "name": "stderr",
          "text": [
            "Validating: 100%|██████████| 3/3 [00:03<00:00,  1.19s/it]\n"
          ]
        },
        {
          "output_type": "stream",
          "name": "stdout",
          "text": [
            "Task 3, Epoch 1, EWC Loss: 32.8746, Total Loss: 37.0245, Val Loss (Cumulative): 2.9769\n"
          ]
        },
        {
          "output_type": "stream",
          "name": "stderr",
          "text": [
            "\rTask 3 Epoch 2:   0%|          | 0/6 [00:00<?, ?batch/s]"
          ]
        },
        {
          "output_type": "stream",
          "name": "stdout",
          "text": [
            "WARNING: Average EWC penalty per parameter is very small: 0.00000101\n"
          ]
        },
        {
          "output_type": "stream",
          "name": "stderr",
          "text": [
            "\rTask 3 Epoch 2:  17%|█▋        | 1/6 [00:02<00:13,  2.66s/batch]"
          ]
        },
        {
          "output_type": "stream",
          "name": "stdout",
          "text": [
            "WARNING: Average EWC penalty per parameter is very small: 0.00000079\n"
          ]
        },
        {
          "output_type": "stream",
          "name": "stderr",
          "text": [
            "\rTask 3 Epoch 2:  33%|███▎      | 2/6 [00:03<00:05,  1.40s/batch]"
          ]
        },
        {
          "output_type": "stream",
          "name": "stdout",
          "text": [
            "WARNING: Average EWC penalty per parameter is very small: 0.00000065\n"
          ]
        },
        {
          "output_type": "stream",
          "name": "stderr",
          "text": [
            "\rTask 3 Epoch 2:  50%|█████     | 3/6 [00:03<00:03,  1.01s/batch]"
          ]
        },
        {
          "output_type": "stream",
          "name": "stdout",
          "text": [
            "WARNING: Average EWC penalty per parameter is very small: 0.00000056\n"
          ]
        },
        {
          "output_type": "stream",
          "name": "stderr",
          "text": [
            "\rTask 3 Epoch 2:  67%|██████▋   | 4/6 [00:04<00:01,  1.25batch/s]"
          ]
        },
        {
          "output_type": "stream",
          "name": "stdout",
          "text": [
            "WARNING: Average EWC penalty per parameter is very small: 0.00000048\n"
          ]
        },
        {
          "output_type": "stream",
          "name": "stderr",
          "text": [
            "Task 3 Epoch 2: 100%|██████████| 6/6 [00:04<00:00,  2.03batch/s]"
          ]
        },
        {
          "output_type": "stream",
          "name": "stdout",
          "text": [
            "WARNING: Average EWC penalty per parameter is very small: 0.00000041\n"
          ]
        },
        {
          "output_type": "stream",
          "name": "stderr",
          "text": [
            "Task 3 Epoch 2: 100%|██████████| 6/6 [00:04<00:00,  1.21batch/s]\n",
            "Validating: 100%|██████████| 3/3 [00:03<00:00,  1.15s/it]\n"
          ]
        },
        {
          "output_type": "stream",
          "name": "stdout",
          "text": [
            "Task 3, Epoch 2, EWC Loss: 14.5860, Total Loss: 18.5712, Val Loss (Cumulative): 3.0038\n"
          ]
        },
        {
          "output_type": "stream",
          "name": "stderr",
          "text": [
            "\rTask 3 Epoch 3:   0%|          | 0/6 [00:00<?, ?batch/s]"
          ]
        },
        {
          "output_type": "stream",
          "name": "stdout",
          "text": [
            "WARNING: Average EWC penalty per parameter is very small: 0.00000036\n"
          ]
        },
        {
          "output_type": "stream",
          "name": "stderr",
          "text": [
            "\rTask 3 Epoch 3:  17%|█▋        | 1/6 [00:02<00:13,  2.70s/batch]"
          ]
        },
        {
          "output_type": "stream",
          "name": "stdout",
          "text": [
            "WARNING: Average EWC penalty per parameter is very small: 0.00000030\n"
          ]
        },
        {
          "output_type": "stream",
          "name": "stderr",
          "text": [
            "\rTask 3 Epoch 3:  33%|███▎      | 2/6 [00:03<00:05,  1.40s/batch]"
          ]
        },
        {
          "output_type": "stream",
          "name": "stdout",
          "text": [
            "WARNING: Average EWC penalty per parameter is very small: 0.00000026\n"
          ]
        },
        {
          "output_type": "stream",
          "name": "stderr",
          "text": [
            "\rTask 3 Epoch 3:  50%|█████     | 3/6 [00:03<00:02,  1.02batch/s]"
          ]
        },
        {
          "output_type": "stream",
          "name": "stdout",
          "text": [
            "WARNING: Average EWC penalty per parameter is very small: 0.00000023\n"
          ]
        },
        {
          "output_type": "stream",
          "name": "stderr",
          "text": [
            "\rTask 3 Epoch 3:  67%|██████▋   | 4/6 [00:04<00:01,  1.28batch/s]"
          ]
        },
        {
          "output_type": "stream",
          "name": "stdout",
          "text": [
            "WARNING: Average EWC penalty per parameter is very small: 0.00000022\n"
          ]
        },
        {
          "output_type": "stream",
          "name": "stderr",
          "text": [
            "Task 3 Epoch 3: 100%|██████████| 6/6 [00:04<00:00,  1.25batch/s]\n"
          ]
        },
        {
          "output_type": "stream",
          "name": "stdout",
          "text": [
            "WARNING: Average EWC penalty per parameter is very small: 0.00000019\n"
          ]
        },
        {
          "output_type": "stream",
          "name": "stderr",
          "text": [
            "Validating: 100%|██████████| 3/3 [00:04<00:00,  1.44s/it]\n"
          ]
        },
        {
          "output_type": "stream",
          "name": "stdout",
          "text": [
            "Task 3, Epoch 3, EWC Loss: 5.7936, Total Loss: 9.9996, Val Loss (Cumulative): 3.0378\n"
          ]
        },
        {
          "output_type": "stream",
          "name": "stderr",
          "text": [
            "\rTask 3 Epoch 4:   0%|          | 0/6 [00:00<?, ?batch/s]"
          ]
        },
        {
          "output_type": "stream",
          "name": "stdout",
          "text": [
            "WARNING: Average EWC penalty per parameter is very small: 0.00000017\n"
          ]
        },
        {
          "output_type": "stream",
          "name": "stderr",
          "text": [
            "\rTask 3 Epoch 4:  17%|█▋        | 1/6 [00:02<00:14,  2.83s/batch]"
          ]
        },
        {
          "output_type": "stream",
          "name": "stdout",
          "text": [
            "WARNING: Average EWC penalty per parameter is very small: 0.00000015\n"
          ]
        },
        {
          "output_type": "stream",
          "name": "stderr",
          "text": [
            "\rTask 3 Epoch 4:  33%|███▎      | 2/6 [00:03<00:05,  1.46s/batch]"
          ]
        },
        {
          "output_type": "stream",
          "name": "stdout",
          "text": [
            "WARNING: Average EWC penalty per parameter is very small: 0.00000014\n"
          ]
        },
        {
          "output_type": "stream",
          "name": "stderr",
          "text": [
            "\rTask 3 Epoch 4:  50%|█████     | 3/6 [00:03<00:03,  1.01s/batch]"
          ]
        },
        {
          "output_type": "stream",
          "name": "stdout",
          "text": [
            "WARNING: Average EWC penalty per parameter is very small: 0.00000013\n"
          ]
        },
        {
          "output_type": "stream",
          "name": "stderr",
          "text": [
            "\rTask 3 Epoch 4:  67%|██████▋   | 4/6 [00:04<00:01,  1.25batch/s]"
          ]
        },
        {
          "output_type": "stream",
          "name": "stdout",
          "text": [
            "WARNING: Average EWC penalty per parameter is very small: 0.00000011\n"
          ]
        },
        {
          "output_type": "stream",
          "name": "stderr",
          "text": [
            "Task 3 Epoch 4: 100%|██████████| 6/6 [00:04<00:00,  1.22batch/s]\n"
          ]
        },
        {
          "output_type": "stream",
          "name": "stdout",
          "text": [
            "WARNING: Average EWC penalty per parameter is very small: 0.00000010\n"
          ]
        },
        {
          "output_type": "stream",
          "name": "stderr",
          "text": [
            "Validating: 100%|██████████| 3/3 [00:03<00:00,  1.18s/it]\n"
          ]
        },
        {
          "output_type": "stream",
          "name": "stdout",
          "text": [
            "Task 3, Epoch 4, EWC Loss: 3.0070, Total Loss: 7.1841, Val Loss (Cumulative): 3.0406\n"
          ]
        },
        {
          "output_type": "stream",
          "name": "stderr",
          "text": [
            "\rTask 3 Epoch 5:   0%|          | 0/6 [00:00<?, ?batch/s]"
          ]
        },
        {
          "output_type": "stream",
          "name": "stdout",
          "text": [
            "WARNING: Average EWC penalty per parameter is very small: 0.00000010\n"
          ]
        },
        {
          "output_type": "stream",
          "name": "stderr",
          "text": [
            "\rTask 3 Epoch 5:  17%|█▋        | 1/6 [00:02<00:14,  2.90s/batch]"
          ]
        },
        {
          "output_type": "stream",
          "name": "stdout",
          "text": [
            "WARNING: Average EWC penalty per parameter is very small: 0.00000009\n"
          ]
        },
        {
          "output_type": "stream",
          "name": "stderr",
          "text": [
            "\rTask 3 Epoch 5:  33%|███▎      | 2/6 [00:03<00:06,  1.52s/batch]"
          ]
        },
        {
          "output_type": "stream",
          "name": "stdout",
          "text": [
            "WARNING: Average EWC penalty per parameter is very small: 0.00000008\n"
          ]
        },
        {
          "output_type": "stream",
          "name": "stderr",
          "text": [
            "\rTask 3 Epoch 5:  50%|█████     | 3/6 [00:04<00:03,  1.09s/batch]"
          ]
        },
        {
          "output_type": "stream",
          "name": "stdout",
          "text": [
            "WARNING: Average EWC penalty per parameter is very small: 0.00000008\n"
          ]
        },
        {
          "output_type": "stream",
          "name": "stderr",
          "text": [
            "\rTask 3 Epoch 5:  67%|██████▋   | 4/6 [00:04<00:01,  1.17batch/s]"
          ]
        },
        {
          "output_type": "stream",
          "name": "stdout",
          "text": [
            "WARNING: Average EWC penalty per parameter is very small: 0.00000007\n"
          ]
        },
        {
          "output_type": "stream",
          "name": "stderr",
          "text": [
            "Task 3 Epoch 5: 100%|██████████| 6/6 [00:05<00:00,  1.16batch/s]\n"
          ]
        },
        {
          "output_type": "stream",
          "name": "stdout",
          "text": [
            "WARNING: Average EWC penalty per parameter is very small: 0.00000007\n"
          ]
        },
        {
          "output_type": "stream",
          "name": "stderr",
          "text": [
            "Validating: 100%|██████████| 3/3 [00:03<00:00,  1.19s/it]\n"
          ]
        },
        {
          "output_type": "stream",
          "name": "stdout",
          "text": [
            "Task 3, Epoch 5, EWC Loss: 1.8405, Total Loss: 5.8719, Val Loss (Cumulative): 3.0302\n",
            "Unfreezing backbone at epoch 5 for task 3\n"
          ]
        },
        {
          "output_type": "stream",
          "name": "stderr",
          "text": [
            "\rTask 3 Epoch 6:   0%|          | 0/6 [00:00<?, ?batch/s]"
          ]
        },
        {
          "output_type": "stream",
          "name": "stdout",
          "text": [
            "WARNING: Average EWC penalty per parameter is very small: 0.00000007\n"
          ]
        },
        {
          "output_type": "stream",
          "name": "stderr",
          "text": [
            "\rTask 3 Epoch 6:  17%|█▋        | 1/6 [00:02<00:14,  2.81s/batch]"
          ]
        },
        {
          "output_type": "stream",
          "name": "stdout",
          "text": [
            "WARNING: Average EWC penalty per parameter is very small: 0.00000006\n"
          ]
        },
        {
          "output_type": "stream",
          "name": "stderr",
          "text": [
            "\rTask 3 Epoch 6:  33%|███▎      | 2/6 [00:03<00:05,  1.45s/batch]"
          ]
        },
        {
          "output_type": "stream",
          "name": "stdout",
          "text": [
            "WARNING: Average EWC penalty per parameter is very small: 0.00000006\n"
          ]
        },
        {
          "output_type": "stream",
          "name": "stderr",
          "text": [
            "\rTask 3 Epoch 6:  50%|█████     | 3/6 [00:03<00:03,  1.01s/batch]"
          ]
        },
        {
          "output_type": "stream",
          "name": "stdout",
          "text": [
            "WARNING: Average EWC penalty per parameter is very small: 0.00000006\n"
          ]
        },
        {
          "output_type": "stream",
          "name": "stderr",
          "text": [
            "\rTask 3 Epoch 6:  67%|██████▋   | 4/6 [00:04<00:01,  1.25batch/s]"
          ]
        },
        {
          "output_type": "stream",
          "name": "stdout",
          "text": [
            "WARNING: Average EWC penalty per parameter is very small: 0.00000006\n"
          ]
        },
        {
          "output_type": "stream",
          "name": "stderr",
          "text": [
            "Task 3 Epoch 6: 100%|██████████| 6/6 [00:04<00:00,  1.22batch/s]\n"
          ]
        },
        {
          "output_type": "stream",
          "name": "stdout",
          "text": [
            "WARNING: Average EWC penalty per parameter is very small: 0.00000005\n"
          ]
        },
        {
          "output_type": "stream",
          "name": "stderr",
          "text": [
            "Validating: 100%|██████████| 3/3 [00:04<00:00,  1.53s/it]\n"
          ]
        },
        {
          "output_type": "stream",
          "name": "stdout",
          "text": [
            "Task 3, Epoch 6, EWC Loss: 1.3331, Total Loss: 5.3572, Val Loss (Cumulative): 3.0194\n",
            "Early stopping triggered at epoch 6 for task 3. Best Val Loss: 2.9769\n",
            "Finished training task 3\n",
            "Storing parameters for task 3...\n",
            "Stored parameter layer4.0.conv1.weight: min=-0.266234, max=0.383208, mean=-0.001587\n",
            "Stored parameter layer4.0.bn1.weight: min=0.137771, max=0.428140, mean=0.264327\n",
            "Stored parameter layer4.0.bn1.bias: min=-0.477446, max=0.147595, mean=-0.225676\n",
            "Stored parameter layer4.0.conv2.weight: min=-0.284157, max=0.349326, mean=-0.001286\n",
            "Stored parameter layer4.0.bn2.weight: min=0.141249, max=0.730525, mean=0.424488\n",
            "Stored parameter layer4.0.bn2.bias: min=-0.400188, max=0.114138, mean=-0.197436\n",
            "Stored parameter layer4.0.downsample.0.weight: min=-0.627791, max=0.747927, mean=-0.000853\n",
            "Stored parameter layer4.0.downsample.1.weight: min=-0.051254, max=0.509785, mean=0.250661\n",
            "Stored parameter layer4.0.downsample.1.bias: min=-0.400188, max=0.114138, mean=-0.197436\n",
            "Stored parameter layer4.1.conv1.weight: min=-0.194858, max=0.266668, mean=-0.002229\n",
            "Stored parameter layer4.1.bn1.weight: min=0.094605, max=0.469147, mean=0.288727\n",
            "Stored parameter layer4.1.bn1.bias: min=-0.586629, max=0.053211, mean=-0.241462\n",
            "Stored parameter layer4.1.conv2.weight: min=-0.174199, max=0.271681, mean=-0.000130\n",
            "Stored parameter layer4.1.bn2.weight: min=1.578164, max=2.408607, mean=1.854946\n",
            "Stored parameter layer4.1.bn2.bias: min=0.074117, max=0.652772, mean=0.274739\n",
            "Stored parameter fc.weight: min=-0.124344, max=0.117250, mean=-0.000008\n",
            "Stored parameter fc.bias: min=-0.055494, max=0.058801, mean=-0.006714\n",
            "Stored output size for task 3: 40\n",
            "Sampling 20 examples from task 3 for memory buffer...\n",
            "Memory buffer size: 80 / 1000\n"
          ]
        },
        {
          "output_type": "stream",
          "name": "stderr",
          "text": [
            "Testing: 100%|██████████| 7/7 [00:08<00:00,  1.15s/it]\n"
          ]
        },
        {
          "output_type": "stream",
          "name": "stdout",
          "text": [
            "Overall accuracy for task 3 (on classes 0-39): 0.3194\n",
            "Model for task 3 saved as model_task_3.pth\n",
            "Training on task 4...\n",
            "Task 4: Training with 419 current samples and 80 replay samples.\n",
            "Starting training for Task 4. Trainable parameters:\n",
            "  - conv1.weight\n",
            "  - bn1.weight\n",
            "  - bn1.bias\n",
            "  - layer1.0.conv1.weight\n",
            "  - layer1.0.bn1.weight\n",
            "  - layer1.0.bn1.bias\n",
            "  - layer1.0.conv2.weight\n",
            "  - layer1.0.bn2.weight\n",
            "  - layer1.0.bn2.bias\n",
            "  - layer1.1.conv1.weight\n",
            "  - layer1.1.bn1.weight\n",
            "  - layer1.1.bn1.bias\n",
            "  - layer1.1.conv2.weight\n",
            "  - layer1.1.bn2.weight\n",
            "  - layer1.1.bn2.bias\n",
            "  - layer2.0.conv1.weight\n",
            "  - layer2.0.bn1.weight\n",
            "  - layer2.0.bn1.bias\n",
            "  - layer2.0.conv2.weight\n",
            "  - layer2.0.bn2.weight\n",
            "  - layer2.0.bn2.bias\n",
            "  - layer2.0.downsample.0.weight\n",
            "  - layer2.0.downsample.1.weight\n",
            "  - layer2.0.downsample.1.bias\n",
            "  - layer2.1.conv1.weight\n",
            "  - layer2.1.bn1.weight\n",
            "  - layer2.1.bn1.bias\n",
            "  - layer2.1.conv2.weight\n",
            "  - layer2.1.bn2.weight\n",
            "  - layer2.1.bn2.bias\n",
            "  - layer3.0.conv1.weight\n",
            "  - layer3.0.bn1.weight\n",
            "  - layer3.0.bn1.bias\n",
            "  - layer3.0.conv2.weight\n",
            "  - layer3.0.bn2.weight\n",
            "  - layer3.0.bn2.bias\n",
            "  - layer3.0.downsample.0.weight\n",
            "  - layer3.0.downsample.1.weight\n",
            "  - layer3.0.downsample.1.bias\n",
            "  - layer3.1.conv1.weight\n",
            "  - layer3.1.bn1.weight\n",
            "  - layer3.1.bn1.bias\n",
            "  - layer3.1.conv2.weight\n",
            "  - layer3.1.bn2.weight\n",
            "  - layer3.1.bn2.bias\n",
            "  - layer4.0.conv1.weight\n",
            "  - layer4.0.bn1.weight\n",
            "  - layer4.0.bn1.bias\n",
            "  - layer4.0.conv2.weight\n",
            "  - layer4.0.bn2.weight\n",
            "  - layer4.0.bn2.bias\n",
            "  - layer4.0.downsample.0.weight\n",
            "  - layer4.0.downsample.1.weight\n",
            "  - layer4.0.downsample.1.bias\n",
            "  - layer4.1.conv1.weight\n",
            "  - layer4.1.bn1.weight\n",
            "  - layer4.1.bn1.bias\n",
            "  - layer4.1.conv2.weight\n",
            "  - layer4.1.bn2.weight\n",
            "  - layer4.1.bn2.bias\n",
            "  - fc.weight\n",
            "  - fc.bias\n"
          ]
        },
        {
          "output_type": "stream",
          "name": "stderr",
          "text": [
            "\rTask 4 Epoch 1:   0%|          | 0/4 [00:00<?, ?batch/s]"
          ]
        },
        {
          "output_type": "stream",
          "name": "stdout",
          "text": [
            "WARNING: Average EWC penalty per parameter is very small: 0.00000004\n"
          ]
        },
        {
          "output_type": "stream",
          "name": "stderr",
          "text": [
            "\rTask 4 Epoch 1:  25%|██▌       | 1/4 [00:02<00:08,  2.89s/batch]"
          ]
        },
        {
          "output_type": "stream",
          "name": "stdout",
          "text": [
            "WARNING: Average EWC penalty per parameter is very small: 0.00000220\n"
          ]
        },
        {
          "output_type": "stream",
          "name": "stderr",
          "text": [
            "\rTask 4 Epoch 1:  50%|█████     | 2/4 [00:03<00:02,  1.47s/batch]"
          ]
        },
        {
          "output_type": "stream",
          "name": "stdout",
          "text": [
            "WARNING: Average EWC penalty per parameter is very small: 0.00000228\n"
          ]
        },
        {
          "output_type": "stream",
          "name": "stderr",
          "text": [
            "\rTask 4 Epoch 1:  75%|███████▌  | 3/4 [00:03<00:01,  1.02s/batch]"
          ]
        },
        {
          "output_type": "stream",
          "name": "stdout",
          "text": [
            "WARNING: Average EWC penalty per parameter is very small: 0.00000147\n"
          ]
        },
        {
          "output_type": "stream",
          "name": "stderr",
          "text": [
            "Task 4 Epoch 1: 100%|██████████| 4/4 [00:04<00:00,  1.09s/batch]\n",
            "Validating: 100%|██████████| 3/3 [00:04<00:00,  1.34s/it]\n"
          ]
        },
        {
          "output_type": "stream",
          "name": "stdout",
          "text": [
            "Task 4, Epoch 1, EWC Loss: 50.2022, Total Loss: 54.4108, Val Loss (Cumulative): 3.3049\n"
          ]
        },
        {
          "output_type": "stream",
          "name": "stderr",
          "text": [
            "\rTask 4 Epoch 2:   0%|          | 0/4 [00:00<?, ?batch/s]"
          ]
        },
        {
          "output_type": "stream",
          "name": "stdout",
          "text": [
            "WARNING: Average EWC penalty per parameter is very small: 0.00000079\n"
          ]
        },
        {
          "output_type": "stream",
          "name": "stderr",
          "text": [
            "\rTask 4 Epoch 2:  25%|██▌       | 1/4 [00:02<00:07,  2.58s/batch]"
          ]
        },
        {
          "output_type": "stream",
          "name": "stdout",
          "text": [
            "WARNING: Average EWC penalty per parameter is very small: 0.00000050\n"
          ]
        },
        {
          "output_type": "stream",
          "name": "stderr",
          "text": [
            "\rTask 4 Epoch 2:  50%|█████     | 2/4 [00:03<00:02,  1.36s/batch]"
          ]
        },
        {
          "output_type": "stream",
          "name": "stdout",
          "text": [
            "WARNING: Average EWC penalty per parameter is very small: 0.00000052\n"
          ]
        },
        {
          "output_type": "stream",
          "name": "stderr",
          "text": [
            "\rTask 4 Epoch 2:  75%|███████▌  | 3/4 [00:03<00:00,  1.04batch/s]"
          ]
        },
        {
          "output_type": "stream",
          "name": "stdout",
          "text": [
            "WARNING: Average EWC penalty per parameter is very small: 0.00000060\n"
          ]
        },
        {
          "output_type": "stream",
          "name": "stderr",
          "text": [
            "Task 4 Epoch 2: 100%|██████████| 4/4 [00:04<00:00,  1.03s/batch]\n",
            "Validating: 100%|██████████| 3/3 [00:04<00:00,  1.42s/it]\n"
          ]
        },
        {
          "output_type": "stream",
          "name": "stdout",
          "text": [
            "Task 4, Epoch 2, EWC Loss: 20.1895, Total Loss: 24.2995, Val Loss (Cumulative): 3.3029\n"
          ]
        },
        {
          "output_type": "stream",
          "name": "stderr",
          "text": [
            "\rTask 4 Epoch 3:   0%|          | 0/4 [00:00<?, ?batch/s]"
          ]
        },
        {
          "output_type": "stream",
          "name": "stdout",
          "text": [
            "WARNING: Average EWC penalty per parameter is very small: 0.00000058\n"
          ]
        },
        {
          "output_type": "stream",
          "name": "stderr",
          "text": [
            "\rTask 4 Epoch 3:  25%|██▌       | 1/4 [00:02<00:07,  2.52s/batch]"
          ]
        },
        {
          "output_type": "stream",
          "name": "stdout",
          "text": [
            "WARNING: Average EWC penalty per parameter is very small: 0.00000044\n"
          ]
        },
        {
          "output_type": "stream",
          "name": "stderr",
          "text": [
            "\rTask 4 Epoch 3:  50%|█████     | 2/4 [00:03<00:02,  1.33s/batch]"
          ]
        },
        {
          "output_type": "stream",
          "name": "stdout",
          "text": [
            "WARNING: Average EWC penalty per parameter is very small: 0.00000029\n"
          ]
        },
        {
          "output_type": "stream",
          "name": "stderr",
          "text": [
            "\rTask 4 Epoch 3:  75%|███████▌  | 3/4 [00:03<00:00,  1.06batch/s]"
          ]
        },
        {
          "output_type": "stream",
          "name": "stdout",
          "text": [
            "WARNING: Average EWC penalty per parameter is very small: 0.00000025\n"
          ]
        },
        {
          "output_type": "stream",
          "name": "stderr",
          "text": [
            "Task 4 Epoch 3: 100%|██████████| 4/4 [00:03<00:00,  1.00batch/s]\n",
            "Validating: 100%|██████████| 3/3 [00:04<00:00,  1.56s/it]\n"
          ]
        },
        {
          "output_type": "stream",
          "name": "stdout",
          "text": [
            "Task 4, Epoch 3, EWC Loss: 13.0523, Total Loss: 17.2177, Val Loss (Cumulative): 3.2994\n"
          ]
        },
        {
          "output_type": "stream",
          "name": "stderr",
          "text": [
            "\rTask 4 Epoch 4:   0%|          | 0/4 [00:00<?, ?batch/s]"
          ]
        },
        {
          "output_type": "stream",
          "name": "stdout",
          "text": [
            "WARNING: Average EWC penalty per parameter is very small: 0.00000027\n"
          ]
        },
        {
          "output_type": "stream",
          "name": "stderr",
          "text": [
            "\rTask 4 Epoch 4:  25%|██▌       | 1/4 [00:02<00:08,  2.75s/batch]"
          ]
        },
        {
          "output_type": "stream",
          "name": "stdout",
          "text": [
            "WARNING: Average EWC penalty per parameter is very small: 0.00000028\n"
          ]
        },
        {
          "output_type": "stream",
          "name": "stderr",
          "text": [
            "\rTask 4 Epoch 4:  50%|█████     | 2/4 [00:03<00:02,  1.41s/batch]"
          ]
        },
        {
          "output_type": "stream",
          "name": "stdout",
          "text": [
            "WARNING: Average EWC penalty per parameter is very small: 0.00000024\n"
          ]
        },
        {
          "output_type": "stream",
          "name": "stderr",
          "text": [
            "\rTask 4 Epoch 4:  75%|███████▌  | 3/4 [00:03<00:00,  1.01batch/s]"
          ]
        },
        {
          "output_type": "stream",
          "name": "stdout",
          "text": [
            "WARNING: Average EWC penalty per parameter is very small: 0.00000018\n"
          ]
        },
        {
          "output_type": "stream",
          "name": "stderr",
          "text": [
            "Task 4 Epoch 4: 100%|██████████| 4/4 [00:04<00:00,  1.06s/batch]\n",
            "Validating: 100%|██████████| 3/3 [00:03<00:00,  1.33s/it]\n"
          ]
        },
        {
          "output_type": "stream",
          "name": "stdout",
          "text": [
            "Task 4, Epoch 4, EWC Loss: 8.0377, Total Loss: 12.1038, Val Loss (Cumulative): 3.2979\n"
          ]
        },
        {
          "output_type": "stream",
          "name": "stderr",
          "text": [
            "\rTask 4 Epoch 5:   0%|          | 0/4 [00:00<?, ?batch/s]"
          ]
        },
        {
          "output_type": "stream",
          "name": "stdout",
          "text": [
            "WARNING: Average EWC penalty per parameter is very small: 0.00000015\n"
          ]
        },
        {
          "output_type": "stream",
          "name": "stderr",
          "text": [
            "\rTask 4 Epoch 5:  25%|██▌       | 1/4 [00:02<00:07,  2.54s/batch]"
          ]
        },
        {
          "output_type": "stream",
          "name": "stdout",
          "text": [
            "WARNING: Average EWC penalty per parameter is very small: 0.00000015\n"
          ]
        },
        {
          "output_type": "stream",
          "name": "stderr",
          "text": [
            "\rTask 4 Epoch 5:  50%|█████     | 2/4 [00:03<00:02,  1.34s/batch]"
          ]
        },
        {
          "output_type": "stream",
          "name": "stdout",
          "text": [
            "WARNING: Average EWC penalty per parameter is very small: 0.00000015\n"
          ]
        },
        {
          "output_type": "stream",
          "name": "stderr",
          "text": [
            "\rTask 4 Epoch 5:  75%|███████▌  | 3/4 [00:03<00:00,  1.04batch/s]"
          ]
        },
        {
          "output_type": "stream",
          "name": "stdout",
          "text": [
            "WARNING: Average EWC penalty per parameter is very small: 0.00000013\n"
          ]
        },
        {
          "output_type": "stream",
          "name": "stderr",
          "text": [
            "Task 4 Epoch 5: 100%|██████████| 4/4 [00:04<00:00,  1.03s/batch]\n",
            "Validating: 100%|██████████| 3/3 [00:04<00:00,  1.36s/it]\n"
          ]
        },
        {
          "output_type": "stream",
          "name": "stdout",
          "text": [
            "Task 4, Epoch 5, EWC Loss: 4.8980, Total Loss: 8.8743, Val Loss (Cumulative): 3.2962\n",
            "Unfreezing backbone at epoch 5 for task 4\n"
          ]
        },
        {
          "output_type": "stream",
          "name": "stderr",
          "text": [
            "\rTask 4 Epoch 6:   0%|          | 0/4 [00:00<?, ?batch/s]"
          ]
        },
        {
          "output_type": "stream",
          "name": "stdout",
          "text": [
            "WARNING: Average EWC penalty per parameter is very small: 0.00000011\n"
          ]
        },
        {
          "output_type": "stream",
          "name": "stderr",
          "text": [
            "\rTask 4 Epoch 6:  25%|██▌       | 1/4 [00:02<00:07,  2.63s/batch]"
          ]
        },
        {
          "output_type": "stream",
          "name": "stdout",
          "text": [
            "WARNING: Average EWC penalty per parameter is very small: 0.00000010\n"
          ]
        },
        {
          "output_type": "stream",
          "name": "stderr",
          "text": [
            "\rTask 4 Epoch 6:  50%|█████     | 2/4 [00:03<00:02,  1.37s/batch]"
          ]
        },
        {
          "output_type": "stream",
          "name": "stdout",
          "text": [
            "WARNING: Average EWC penalty per parameter is very small: 0.00000009\n"
          ]
        },
        {
          "output_type": "stream",
          "name": "stderr",
          "text": [
            "\rTask 4 Epoch 6:  75%|███████▌  | 3/4 [00:03<00:00,  1.03batch/s]"
          ]
        },
        {
          "output_type": "stream",
          "name": "stdout",
          "text": [
            "WARNING: Average EWC penalty per parameter is very small: 0.00000009\n"
          ]
        },
        {
          "output_type": "stream",
          "name": "stderr",
          "text": [
            "Task 4 Epoch 6: 100%|██████████| 4/4 [00:04<00:00,  1.03s/batch]\n",
            "Validating: 100%|██████████| 3/3 [00:05<00:00,  1.69s/it]\n"
          ]
        },
        {
          "output_type": "stream",
          "name": "stdout",
          "text": [
            "Task 4, Epoch 6, EWC Loss: 3.2504, Total Loss: 7.1544, Val Loss (Cumulative): 3.2907\n"
          ]
        },
        {
          "output_type": "stream",
          "name": "stderr",
          "text": [
            "\rTask 4 Epoch 7:   0%|          | 0/4 [00:00<?, ?batch/s]"
          ]
        },
        {
          "output_type": "stream",
          "name": "stdout",
          "text": [
            "WARNING: Average EWC penalty per parameter is very small: 0.00000008\n"
          ]
        },
        {
          "output_type": "stream",
          "name": "stderr",
          "text": [
            "\rTask 4 Epoch 7:  25%|██▌       | 1/4 [00:02<00:07,  2.57s/batch]"
          ]
        },
        {
          "output_type": "stream",
          "name": "stdout",
          "text": [
            "WARNING: Average EWC penalty per parameter is very small: 0.00000007\n"
          ]
        },
        {
          "output_type": "stream",
          "name": "stderr",
          "text": [
            "\rTask 4 Epoch 7:  50%|█████     | 2/4 [00:03<00:02,  1.35s/batch]"
          ]
        },
        {
          "output_type": "stream",
          "name": "stdout",
          "text": [
            "WARNING: Average EWC penalty per parameter is very small: 0.00000007\n"
          ]
        },
        {
          "output_type": "stream",
          "name": "stderr",
          "text": [
            "\rTask 4 Epoch 7:  75%|███████▌  | 3/4 [00:03<00:00,  1.05batch/s]"
          ]
        },
        {
          "output_type": "stream",
          "name": "stdout",
          "text": [
            "WARNING: Average EWC penalty per parameter is very small: 0.00000006\n"
          ]
        },
        {
          "output_type": "stream",
          "name": "stderr",
          "text": [
            "Task 4 Epoch 7: 100%|██████████| 4/4 [00:04<00:00,  1.02s/batch]\n",
            "Validating: 100%|██████████| 3/3 [00:04<00:00,  1.35s/it]\n"
          ]
        },
        {
          "output_type": "stream",
          "name": "stdout",
          "text": [
            "Task 4, Epoch 7, EWC Loss: 2.3656, Total Loss: 6.1705, Val Loss (Cumulative): 3.2859\n"
          ]
        },
        {
          "output_type": "stream",
          "name": "stderr",
          "text": [
            "\rTask 4 Epoch 8:   0%|          | 0/4 [00:00<?, ?batch/s]"
          ]
        },
        {
          "output_type": "stream",
          "name": "stdout",
          "text": [
            "WARNING: Average EWC penalty per parameter is very small: 0.00000006\n"
          ]
        },
        {
          "output_type": "stream",
          "name": "stderr",
          "text": [
            "\rTask 4 Epoch 8:  25%|██▌       | 1/4 [00:02<00:08,  2.89s/batch]"
          ]
        },
        {
          "output_type": "stream",
          "name": "stdout",
          "text": [
            "WARNING: Average EWC penalty per parameter is very small: 0.00000006\n"
          ]
        },
        {
          "output_type": "stream",
          "name": "stderr",
          "text": [
            "\rTask 4 Epoch 8:  50%|█████     | 2/4 [00:03<00:02,  1.49s/batch]"
          ]
        },
        {
          "output_type": "stream",
          "name": "stdout",
          "text": [
            "WARNING: Average EWC penalty per parameter is very small: 0.00000005\n"
          ]
        },
        {
          "output_type": "stream",
          "name": "stderr",
          "text": [
            "\rTask 4 Epoch 8:  75%|███████▌  | 3/4 [00:03<00:01,  1.05s/batch]"
          ]
        },
        {
          "output_type": "stream",
          "name": "stdout",
          "text": [
            "WARNING: Average EWC penalty per parameter is very small: 0.00000005\n"
          ]
        },
        {
          "output_type": "stream",
          "name": "stderr",
          "text": [
            "Task 4 Epoch 8: 100%|██████████| 4/4 [00:04<00:00,  1.11s/batch]\n",
            "Validating: 100%|██████████| 3/3 [00:04<00:00,  1.37s/it]\n"
          ]
        },
        {
          "output_type": "stream",
          "name": "stdout",
          "text": [
            "Task 4, Epoch 8, EWC Loss: 1.8389, Total Loss: 5.5216, Val Loss (Cumulative): 3.2820\n"
          ]
        },
        {
          "output_type": "stream",
          "name": "stderr",
          "text": [
            "\rTask 4 Epoch 9:   0%|          | 0/4 [00:00<?, ?batch/s]"
          ]
        },
        {
          "output_type": "stream",
          "name": "stdout",
          "text": [
            "WARNING: Average EWC penalty per parameter is very small: 0.00000005\n"
          ]
        },
        {
          "output_type": "stream",
          "name": "stderr",
          "text": [
            "\rTask 4 Epoch 9:  25%|██▌       | 1/4 [00:02<00:07,  2.56s/batch]"
          ]
        },
        {
          "output_type": "stream",
          "name": "stdout",
          "text": [
            "WARNING: Average EWC penalty per parameter is very small: 0.00000005\n"
          ]
        },
        {
          "output_type": "stream",
          "name": "stderr",
          "text": [
            "\rTask 4 Epoch 9:  50%|█████     | 2/4 [00:03<00:02,  1.34s/batch]"
          ]
        },
        {
          "output_type": "stream",
          "name": "stdout",
          "text": [
            "WARNING: Average EWC penalty per parameter is very small: 0.00000005\n"
          ]
        },
        {
          "output_type": "stream",
          "name": "stderr",
          "text": [
            "\rTask 4 Epoch 9:  75%|███████▌  | 3/4 [00:03<00:00,  1.04batch/s]"
          ]
        },
        {
          "output_type": "stream",
          "name": "stdout",
          "text": [
            "WARNING: Average EWC penalty per parameter is very small: 0.00000004\n"
          ]
        },
        {
          "output_type": "stream",
          "name": "stderr",
          "text": [
            "Task 4 Epoch 9: 100%|██████████| 4/4 [00:04<00:00,  1.02s/batch]\n",
            "Validating: 100%|██████████| 3/3 [00:05<00:00,  1.68s/it]\n"
          ]
        },
        {
          "output_type": "stream",
          "name": "stdout",
          "text": [
            "Task 4, Epoch 9, EWC Loss: 1.5301, Total Loss: 5.0963, Val Loss (Cumulative): 3.2803\n"
          ]
        },
        {
          "output_type": "stream",
          "name": "stderr",
          "text": [
            "\rTask 4 Epoch 10:   0%|          | 0/4 [00:00<?, ?batch/s]"
          ]
        },
        {
          "output_type": "stream",
          "name": "stdout",
          "text": [
            "WARNING: Average EWC penalty per parameter is very small: 0.00000004\n"
          ]
        },
        {
          "output_type": "stream",
          "name": "stderr",
          "text": [
            "\rTask 4 Epoch 10:  25%|██▌       | 1/4 [00:02<00:07,  2.56s/batch]"
          ]
        },
        {
          "output_type": "stream",
          "name": "stdout",
          "text": [
            "WARNING: Average EWC penalty per parameter is very small: 0.00000004\n"
          ]
        },
        {
          "output_type": "stream",
          "name": "stderr",
          "text": [
            "\rTask 4 Epoch 10:  50%|█████     | 2/4 [00:03<00:02,  1.35s/batch]"
          ]
        },
        {
          "output_type": "stream",
          "name": "stdout",
          "text": [
            "WARNING: Average EWC penalty per parameter is very small: 0.00000004\n"
          ]
        },
        {
          "output_type": "stream",
          "name": "stderr",
          "text": [
            "\rTask 4 Epoch 10:  75%|███████▌  | 3/4 [00:03<00:00,  1.05batch/s]"
          ]
        },
        {
          "output_type": "stream",
          "name": "stdout",
          "text": [
            "WARNING: Average EWC penalty per parameter is very small: 0.00000004\n"
          ]
        },
        {
          "output_type": "stream",
          "name": "stderr",
          "text": [
            "Task 4 Epoch 10: 100%|██████████| 4/4 [00:04<00:00,  1.01s/batch]\n",
            "Validating: 100%|██████████| 3/3 [00:03<00:00,  1.32s/it]\n"
          ]
        },
        {
          "output_type": "stream",
          "name": "stdout",
          "text": [
            "Task 4, Epoch 10, EWC Loss: 1.3559, Total Loss: 4.7838, Val Loss (Cumulative): 3.2810\n"
          ]
        },
        {
          "output_type": "stream",
          "name": "stderr",
          "text": [
            "\rTask 4 Epoch 11:   0%|          | 0/4 [00:00<?, ?batch/s]"
          ]
        },
        {
          "output_type": "stream",
          "name": "stdout",
          "text": [
            "WARNING: Average EWC penalty per parameter is very small: 0.00000004\n"
          ]
        },
        {
          "output_type": "stream",
          "name": "stderr",
          "text": [
            "\rTask 4 Epoch 11:  25%|██▌       | 1/4 [00:03<00:10,  3.51s/batch]"
          ]
        },
        {
          "output_type": "stream",
          "name": "stdout",
          "text": [
            "WARNING: Average EWC penalty per parameter is very small: 0.00000004\n"
          ]
        },
        {
          "output_type": "stream",
          "name": "stderr",
          "text": [
            "\rTask 4 Epoch 11:  50%|█████     | 2/4 [00:03<00:03,  1.73s/batch]"
          ]
        },
        {
          "output_type": "stream",
          "name": "stdout",
          "text": [
            "WARNING: Average EWC penalty per parameter is very small: 0.00000004\n"
          ]
        },
        {
          "output_type": "stream",
          "name": "stderr",
          "text": [
            "\rTask 4 Epoch 11:  75%|███████▌  | 3/4 [00:04<00:01,  1.16s/batch]"
          ]
        },
        {
          "output_type": "stream",
          "name": "stdout",
          "text": [
            "WARNING: Average EWC penalty per parameter is very small: 0.00000004\n"
          ]
        },
        {
          "output_type": "stream",
          "name": "stderr",
          "text": [
            "Task 4 Epoch 11: 100%|██████████| 4/4 [00:04<00:00,  1.25s/batch]\n",
            "Validating: 100%|██████████| 3/3 [00:04<00:00,  1.36s/it]\n"
          ]
        },
        {
          "output_type": "stream",
          "name": "stdout",
          "text": [
            "Task 4, Epoch 11, EWC Loss: 1.2715, Total Loss: 4.5588, Val Loss (Cumulative): 3.2897\n"
          ]
        },
        {
          "output_type": "stream",
          "name": "stderr",
          "text": [
            "\rTask 4 Epoch 12:   0%|          | 0/4 [00:00<?, ?batch/s]"
          ]
        },
        {
          "output_type": "stream",
          "name": "stdout",
          "text": [
            "WARNING: Average EWC penalty per parameter is very small: 0.00000004\n"
          ]
        },
        {
          "output_type": "stream",
          "name": "stderr",
          "text": [
            "\rTask 4 Epoch 12:  25%|██▌       | 1/4 [00:02<00:07,  2.48s/batch]"
          ]
        },
        {
          "output_type": "stream",
          "name": "stdout",
          "text": [
            "WARNING: Average EWC penalty per parameter is very small: 0.00000004\n"
          ]
        },
        {
          "output_type": "stream",
          "name": "stderr",
          "text": [
            "\rTask 4 Epoch 12:  50%|█████     | 2/4 [00:02<00:02,  1.31s/batch]"
          ]
        },
        {
          "output_type": "stream",
          "name": "stdout",
          "text": [
            "WARNING: Average EWC penalty per parameter is very small: 0.00000004\n"
          ]
        },
        {
          "output_type": "stream",
          "name": "stderr",
          "text": [
            "\rTask 4 Epoch 12:  75%|███████▌  | 3/4 [00:03<00:00,  1.07batch/s]"
          ]
        },
        {
          "output_type": "stream",
          "name": "stdout",
          "text": [
            "WARNING: Average EWC penalty per parameter is very small: 0.00000004\n"
          ]
        },
        {
          "output_type": "stream",
          "name": "stderr",
          "text": [
            "Task 4 Epoch 12: 100%|██████████| 4/4 [00:03<00:00,  1.01batch/s]\n",
            "Validating: 100%|██████████| 3/3 [00:05<00:00,  1.73s/it]\n"
          ]
        },
        {
          "output_type": "stream",
          "name": "stdout",
          "text": [
            "Task 4, Epoch 12, EWC Loss: 1.2902, Total Loss: 4.4505, Val Loss (Cumulative): 3.3069\n"
          ]
        },
        {
          "output_type": "stream",
          "name": "stderr",
          "text": [
            "\rTask 4 Epoch 13:   0%|          | 0/4 [00:00<?, ?batch/s]"
          ]
        },
        {
          "output_type": "stream",
          "name": "stdout",
          "text": [
            "WARNING: Average EWC penalty per parameter is very small: 0.00000004\n"
          ]
        },
        {
          "output_type": "stream",
          "name": "stderr",
          "text": [
            "\rTask 4 Epoch 13:  25%|██▌       | 1/4 [00:02<00:07,  2.57s/batch]"
          ]
        },
        {
          "output_type": "stream",
          "name": "stdout",
          "text": [
            "WARNING: Average EWC penalty per parameter is very small: 0.00000004\n"
          ]
        },
        {
          "output_type": "stream",
          "name": "stderr",
          "text": [
            "\rTask 4 Epoch 13:  50%|█████     | 2/4 [00:03<00:02,  1.34s/batch]"
          ]
        },
        {
          "output_type": "stream",
          "name": "stdout",
          "text": [
            "WARNING: Average EWC penalty per parameter is very small: 0.00000004\n"
          ]
        },
        {
          "output_type": "stream",
          "name": "stderr",
          "text": [
            "\rTask 4 Epoch 13:  75%|███████▌  | 3/4 [00:03<00:00,  1.05batch/s]"
          ]
        },
        {
          "output_type": "stream",
          "name": "stdout",
          "text": [
            "WARNING: Average EWC penalty per parameter is very small: 0.00000004\n"
          ]
        },
        {
          "output_type": "stream",
          "name": "stderr",
          "text": [
            "Task 4 Epoch 13: 100%|██████████| 4/4 [00:04<00:00,  1.02s/batch]\n",
            "Validating: 100%|██████████| 3/3 [00:04<00:00,  1.37s/it]\n"
          ]
        },
        {
          "output_type": "stream",
          "name": "stdout",
          "text": [
            "Task 4, Epoch 13, EWC Loss: 1.3600, Total Loss: 4.3800, Val Loss (Cumulative): 3.3294\n"
          ]
        },
        {
          "output_type": "stream",
          "name": "stderr",
          "text": [
            "\rTask 4 Epoch 14:   0%|          | 0/4 [00:00<?, ?batch/s]"
          ]
        },
        {
          "output_type": "stream",
          "name": "stdout",
          "text": [
            "WARNING: Average EWC penalty per parameter is very small: 0.00000004\n"
          ]
        },
        {
          "output_type": "stream",
          "name": "stderr",
          "text": [
            "\rTask 4 Epoch 14:  25%|██▌       | 1/4 [00:03<00:10,  3.39s/batch]"
          ]
        },
        {
          "output_type": "stream",
          "name": "stdout",
          "text": [
            "WARNING: Average EWC penalty per parameter is very small: 0.00000004\n"
          ]
        },
        {
          "output_type": "stream",
          "name": "stderr",
          "text": [
            "\rTask 4 Epoch 14:  50%|█████     | 2/4 [00:03<00:03,  1.68s/batch]"
          ]
        },
        {
          "output_type": "stream",
          "name": "stdout",
          "text": [
            "WARNING: Average EWC penalty per parameter is very small: 0.00000004\n"
          ]
        },
        {
          "output_type": "stream",
          "name": "stderr",
          "text": [
            "\rTask 4 Epoch 14:  75%|███████▌  | 3/4 [00:04<00:01,  1.14s/batch]"
          ]
        },
        {
          "output_type": "stream",
          "name": "stdout",
          "text": [
            "WARNING: Average EWC penalty per parameter is very small: 0.00000004\n"
          ]
        },
        {
          "output_type": "stream",
          "name": "stderr",
          "text": [
            "Task 4 Epoch 14: 100%|██████████| 4/4 [00:04<00:00,  1.22s/batch]\n",
            "Validating: 100%|██████████| 3/3 [00:04<00:00,  1.35s/it]\n"
          ]
        },
        {
          "output_type": "stream",
          "name": "stdout",
          "text": [
            "Task 4, Epoch 14, EWC Loss: 1.2612, Total Loss: 4.1656, Val Loss (Cumulative): 3.3595\n",
            "Early stopping triggered at epoch 14 for task 4. Best Val Loss: 3.2803\n",
            "Finished training task 4\n",
            "Storing parameters for task 4...\n",
            "Stored parameter layer4.0.conv1.weight: min=-0.266222, max=0.383210, mean=-0.001587\n",
            "Stored parameter layer4.0.bn1.weight: min=0.137771, max=0.428153, mean=0.264326\n",
            "Stored parameter layer4.0.bn1.bias: min=-0.477449, max=0.147603, mean=-0.225676\n",
            "Stored parameter layer4.0.conv2.weight: min=-0.284155, max=0.349335, mean=-0.001286\n",
            "Stored parameter layer4.0.bn2.weight: min=0.141255, max=0.730531, mean=0.424489\n",
            "Stored parameter layer4.0.bn2.bias: min=-0.400190, max=0.114138, mean=-0.197437\n",
            "Stored parameter layer4.0.downsample.0.weight: min=-0.627806, max=0.747933, mean=-0.000853\n",
            "Stored parameter layer4.0.downsample.1.weight: min=-0.051247, max=0.509771, mean=0.250661\n",
            "Stored parameter layer4.0.downsample.1.bias: min=-0.400190, max=0.114138, mean=-0.197437\n",
            "Stored parameter layer4.1.conv1.weight: min=-0.194847, max=0.266666, mean=-0.002229\n",
            "Stored parameter layer4.1.bn1.weight: min=0.094606, max=0.469136, mean=0.288728\n",
            "Stored parameter layer4.1.bn1.bias: min=-0.586623, max=0.053217, mean=-0.241462\n",
            "Stored parameter layer4.1.conv2.weight: min=-0.174182, max=0.271672, mean=-0.000130\n",
            "Stored parameter layer4.1.bn2.weight: min=1.578157, max=2.408641, mean=1.854950\n",
            "Stored parameter layer4.1.bn2.bias: min=0.074140, max=0.652827, mean=0.274743\n",
            "Stored parameter fc.weight: min=-0.124351, max=0.117239, mean=0.000477\n",
            "Stored parameter fc.bias: min=-0.055483, max=0.058797, mean=-0.005147\n",
            "Stored output size for task 4: 50\n",
            "Sampling 20 examples from task 4 for memory buffer...\n",
            "Memory buffer size: 100 / 1000\n"
          ]
        },
        {
          "output_type": "stream",
          "name": "stderr",
          "text": [
            "Testing: 100%|██████████| 8/8 [00:10<00:00,  1.28s/it]\n"
          ]
        },
        {
          "output_type": "stream",
          "name": "stdout",
          "text": [
            "Overall accuracy for task 4 (on classes 0-49): 0.2479\n",
            "Model for task 4 saved as model_task_4.pth\n"
          ]
        }
      ]
    },
    {
      "cell_type": "code",
      "source": [
        "import shutil\n",
        "shutil.make_archive('replay-ewc-coarse-grained-1M', 'zip', 'replay-ewc-coarse-grained-1M')"
      ],
      "metadata": {
        "id": "z6gQ0keu9OCN",
        "outputId": "96da50ad-dab2-47d3-d5c0-0c39874ca36a",
        "colab": {
          "base_uri": "https://localhost:8080/",
          "height": 35
        }
      },
      "id": "z6gQ0keu9OCN",
      "execution_count": 18,
      "outputs": [
        {
          "output_type": "execute_result",
          "data": {
            "text/plain": [
              "'/content/replay-ewc-coarse-grained-1M.zip'"
            ],
            "application/vnd.google.colaboratory.intrinsic+json": {
              "type": "string"
            }
          },
          "metadata": {},
          "execution_count": 18
        }
      ]
    },
    {
      "cell_type": "markdown",
      "source": [
        "# Plotting Code"
      ],
      "metadata": {
        "id": "unSzyOy64w1G"
      },
      "id": "unSzyOy64w1G"
    },
    {
      "cell_type": "code",
      "source": [
        "import matplotlib.pyplot as plt\n",
        "import numpy as np\n",
        "import seaborn as sns\n",
        "import ast # To safely evaluate the string list literal\n",
        "import os # To check if file exists\n",
        "\n",
        "def viz_acc_drops(accuracy_file_path, num_total_classes, num_classes_per_task, dataset):\n",
        "  # --- Data Loading and Manual Parsing ---\n",
        "  parsed_data = {}\n",
        "\n",
        "  # Check if the file exists before trying to read\n",
        "  if not os.path.exists(accuracy_file_path):\n",
        "      print(f\"Error: Accuracy file not found at '{accuracy_file_path}'\")\n",
        "      print(\"Please make sure you have saved the data into a file named 'accuracies.txt' in the correct directory.\")\n",
        "      exit()\n",
        "\n",
        "  try:\n",
        "      with open(accuracy_file_path, 'r') as f:\n",
        "          header = f.readline().strip() # Read and ignore the header line\n",
        "          if not header.startswith(\"Task,Overall Accuracy,Per-Class Accuracy\"):\n",
        "              print(\"Warning: Header doesn't exactly match expected format, but proceeding.\")\n",
        "\n",
        "          for line_num, line in enumerate(f, start=2): # Start line count from 2 for error messages\n",
        "              line = line.strip()\n",
        "              if not line: # Skip empty lines\n",
        "                  continue\n",
        "\n",
        "              try:\n",
        "                  # Find the first comma to isolate Task ID\n",
        "                  first_comma_idx = line.find(',')\n",
        "                  if first_comma_idx == -1:\n",
        "                      raise ValueError(\"Missing first comma separating Task ID\")\n",
        "                  task_id_str = line[:first_comma_idx]\n",
        "                  task_id = int(task_id_str)\n",
        "\n",
        "                  # Find the second comma to isolate Overall Accuracy (and the start of the list)\n",
        "                  # Start searching *after* the first comma\n",
        "                  second_comma_idx = line.find(',', first_comma_idx + 1)\n",
        "                  if second_comma_idx == -1:\n",
        "                      raise ValueError(\"Missing second comma separating Overall Accuracy\")\n",
        "\n",
        "                  # The rest of the line, starting after the second comma, is the list string\n",
        "                  list_str = line[second_comma_idx + 1:]\n",
        "\n",
        "                  # Safely evaluate the string list using ast.literal_eval\n",
        "                  per_class_acc_list = ast.literal_eval(list_str)\n",
        "\n",
        "                  # Validate that it's actually a list\n",
        "                  if not isinstance(per_class_acc_list, list):\n",
        "                      raise TypeError(f\"Parsed data for 'Per-Class Accuracy' is not a list (type: {type(per_class_acc_list)}).\")\n",
        "\n",
        "                  # Convert elements to float just in case\n",
        "                  per_class_acc_list = [float(acc) for acc in per_class_acc_list]\n",
        "                  parsed_data[task_id] = per_class_acc_list\n",
        "                  # print(f\"Parsed Task {task_id}, found {len(per_class_acc_list)} accuracies.\") # Optional print\n",
        "\n",
        "              except (ValueError, SyntaxError, TypeError, IndexError) as e:\n",
        "                  print(f\"Warning: Could not parse line {line_num}. Error: {e}. Line content: '{line}'\")\n",
        "              except Exception as e:\n",
        "                  # Catch any other unexpected errors during parsing of a specific line\n",
        "                  print(f\"An unexpected error occurred parsing line {line_num}: {e}\")\n",
        "\n",
        "\n",
        "  except FileNotFoundError:\n",
        "      # This case is handled by the os.path.exists check above, but kept for safety\n",
        "      print(f\"Error: Accuracy file not found at '{accuracy_file_path}'\")\n",
        "      exit()\n",
        "  except Exception as e:\n",
        "      # Catch errors related to opening or reading the file itself\n",
        "      print(f\"Error reading file '{accuracy_file_path}': {e}\")\n",
        "      exit()\n",
        "\n",
        "  # --- Prepare Data Matrix for Heatmap (Code remains the same) ---\n",
        "  num_tasks_found = len(parsed_data)\n",
        "  if num_tasks_found == 0:\n",
        "      print(\"No valid task data parsed. Exiting.\")\n",
        "      exit()\n",
        "\n",
        "  # Create a matrix: rows = tasks, cols = classes\n",
        "  # Initialize with NaN for classes not yet seen/evaluated\n",
        "  acc_matrix = np.full((num_tasks_found, num_total_classes), np.nan)\n",
        "\n",
        "  sorted_task_ids = sorted(parsed_data.keys())\n",
        "\n",
        "  for task_idx, task_id in enumerate(sorted_task_ids):\n",
        "      accuracies = parsed_data[task_id]\n",
        "      num_classes_in_task_eval = len(accuracies)\n",
        "      if num_classes_in_task_eval > num_total_classes:\n",
        "          print(f\"Warning: Task {task_id} reported {num_classes_in_task_eval} accuracies, exceeding total classes {num_total_classes}. Truncating.\")\n",
        "          num_classes_in_task_eval = num_total_classes\n",
        "          accuracies = accuracies[:num_total_classes]\n",
        "\n",
        "      # Fill the matrix row for this task up to the number of classes evaluated\n",
        "      acc_matrix[task_idx, :num_classes_in_task_eval] = accuracies\n",
        "\n",
        "  # --- Plotting the Heatmap (Code remains the same) ---\n",
        "  plt.figure(figsize=(20, max(5, num_tasks_found * 0.7))) # Adjusted size\n",
        "\n",
        "  heatmap = sns.heatmap(\n",
        "      acc_matrix,\n",
        "      annot=False,\n",
        "      fmt=\".2f\",\n",
        "      cmap=\"viridis\",\n",
        "      linewidths=0.2,\n",
        "      linecolor='lightgrey',\n",
        "      cbar_kws={'label': 'Per-Class Accuracy'},\n",
        "      vmin=0.0,\n",
        "      vmax=1.0\n",
        "  )\n",
        "\n",
        "  plt.xlabel(\"Class ID\")\n",
        "  plt.ylabel(\"Evaluation Point (After Task X Completed)\")\n",
        "  plt.title(f\"Per-Class Accuracy After Each Task - {dataset}\", fontsize=16)\n",
        "  plt.xticks(ticks=np.arange(0, num_total_classes, 5) + 0.5, labels=np.arange(0, num_total_classes, 5), rotation=90, fontsize=8)\n",
        "  plt.yticks(ticks=np.arange(num_tasks_found) + 0.5, labels=[f\"After Task {t}\" for t in sorted_task_ids], rotation=0)\n",
        "\n",
        "  for i in range(num_classes_per_task, num_total_classes, num_classes_per_task):\n",
        "      plt.axvline(x=i, color='white', linestyle='--', linewidth=1.0)\n",
        "\n",
        "  plt.tight_layout()\n",
        "  plt.show()"
      ],
      "metadata": {
        "id": "r9Mnt_TlE0RS"
      },
      "id": "r9Mnt_TlE0RS",
      "execution_count": 19,
      "outputs": []
    },
    {
      "cell_type": "code",
      "source": [
        "# texture dataset\n",
        "accuracy_file_path = 'replay-ewc-coarse-grained-1M/accuracies.txt' # Make sure this file exists\n",
        "num_total_classes = 50\n",
        "num_classes_per_task = 10\n",
        "\n",
        "viz_acc_drops(accuracy_file_path, num_total_classes, num_classes_per_task, 'DTD')"
      ],
      "metadata": {
        "id": "OXSaW29YzqTV",
        "outputId": "f3d0ee83-bf86-4d1c-af07-2d0fae5d950c",
        "colab": {
          "base_uri": "https://localhost:8080/",
          "height": 340
        }
      },
      "id": "OXSaW29YzqTV",
      "execution_count": 20,
      "outputs": [
        {
          "output_type": "display_data",
          "data": {
            "text/plain": [
              "<Figure size 2000x500 with 2 Axes>"
            ],
            "image/png": "[encoded data removed]"
          },
          "metadata": {}
        }
      ]
    },
    {
      "cell_type": "code",
      "source": [
        "import pandas as pd\n",
        "import numpy as np\n",
        "import matplotlib.pyplot as plt\n",
        "import ast\n",
        "\n",
        "def viz_forgetting_measure(filepath, dataset):\n",
        "  \"\"\"\n",
        "  Forgetting for a previous task i after learning task t is:\n",
        "  max_accuracy(task i) - current_accuracy(task i).\n",
        "  The average forgetting after task t is the average of this\n",
        "  value across all tasks i < t.\n",
        "  \"\"\"\n",
        "  data = []\n",
        "  with open(filepath, 'r') as f:\n",
        "      header = next(f) # Read header\n",
        "      for line in f:\n",
        "          parts = line.strip().split(',', 2) # Split only twice\n",
        "          if len(parts) == 3:\n",
        "              task = int(parts[0])\n",
        "              overall_acc = float(parts[1])\n",
        "              # Safely parse the string representation of the list\n",
        "              per_class_str = parts[2]\n",
        "              per_class_list = ast.literal_eval(per_class_str)\n",
        "              data.append({\n",
        "                  'Task': task,\n",
        "                  'Overall Accuracy': overall_acc,\n",
        "                  'Per-Class Accuracy': per_class_list\n",
        "              })\n",
        "\n",
        "  df = pd.DataFrame(data)\n",
        "  # --- Determine classes per task ---\n",
        "  num_tasks = len(df)\n",
        "  classes_per_task = []\n",
        "  cumulative_classes = 0\n",
        "  class_indices_per_task = {} # Dictionary to store class indices for each task\n",
        "  for i in range(num_tasks):\n",
        "      current_total_classes = len(df.loc[i, 'Per-Class Accuracy'])\n",
        "      num_new_classes = current_total_classes - cumulative_classes\n",
        "      classes_per_task.append(num_new_classes)\n",
        "      task_class_indices = list(range(cumulative_classes, current_total_classes))\n",
        "      class_indices_per_task[i] = task_class_indices\n",
        "      cumulative_classes = current_total_classes\n",
        "\n",
        "  print(f\"Detected {num_tasks} tasks.\")\n",
        "  print(f\"Classes introduced per task: {classes_per_task}\")\n",
        "  print(f\"Class indices per task: {class_indices_per_task}\")\n",
        "\n",
        "  # --- Calculate peak accuracy for each task ---\n",
        "  # (Average accuracy on its classes right after it was learned)\n",
        "  peak_task_accuracies = {}\n",
        "  for i in range(num_tasks):\n",
        "      task_class_indices = class_indices_per_task.get(i, [])\n",
        "      # Get accuracies evaluated right after task i\n",
        "      accuracies_at_eval_i = df.loc[i, 'Per-Class Accuracy']\n",
        "      # Extract accuracies ONLY for classes belonging to task i\n",
        "      task_i_class_accuracies = [accuracies_at_eval_i[idx] for idx in task_class_indices]\n",
        "      peak_task_accuracies[i] = np.mean(task_i_class_accuracies)\n",
        "\n",
        "  print(f\"Peak average accuracy per task (Acc(i,i)): {peak_task_accuracies}\")\n",
        "\n",
        "  # --- Calculate Average Forgetting ---\n",
        "  average_forgetting = []\n",
        "  evaluation_points = [] # Tasks after which forgetting is measured (1 to T)\n",
        "\n",
        "  for t in range(1, num_tasks): # Evaluate forgetting AFTER task t (t=1 to num_tasks-1)\n",
        "      total_forgetting_at_t = 0.0\n",
        "      num_previous_tasks_measured = 0\n",
        "\n",
        "      # Get accuracies evaluated after task t\n",
        "      accuracies_at_eval_t = df.loc[t, 'Per-Class Accuracy']\n",
        "\n",
        "      for i in range(t): # Iterate through all tasks learned *before* t (i=0 to t-1)\n",
        "        task_i_class_indices = class_indices_per_task.get(i, [])\n",
        "\n",
        "        # Extract accuracies for task i's classes measured after task t\n",
        "        task_i_accuracies_at_t = [accuracies_at_eval_t[idx] for idx in task_i_class_indices]\n",
        "        current_acc_i_at_t = np.mean(task_i_accuracies_at_t)\n",
        "        peak_acc_i = peak_task_accuracies.get(i, 0) # Get peak accuracy for task i\n",
        "\n",
        "        # Calculate forgetting for task i\n",
        "        forgetting_i_at_t = max(0, peak_acc_i - current_acc_i_at_t) # Ensure non-negative\n",
        "        total_forgetting_at_t += forgetting_i_at_t\n",
        "        num_previous_tasks_measured += 1\n",
        "\n",
        "      avg_forgetting_t = total_forgetting_at_t / num_previous_tasks_measured\n",
        "      average_forgetting.append(avg_forgetting_t)\n",
        "      evaluation_points.append(t) # Record the task number after which this avg forgetting was calculated\n",
        "  print(f\"\\nAverage Forgetting after each task {evaluation_points}: {average_forgetting}\")\n",
        "\n",
        "  # --- Plotting ---\n",
        "  plt.figure(figsize=(8, 5))\n",
        "  plt.plot(evaluation_points, average_forgetting, marker='o', linestyle='-')\n",
        "  plt.xlabel(\"Task Number Completed (Evaluation Point)\")\n",
        "  plt.ylabel(\"Average Forgetting\")\n",
        "  plt.title(f\"Average Forgetting vs. Number of Tasks Completed - {dataset}\")\n",
        "  plt.xticks(evaluation_points) # Ensure ticks are at the actual task numbers\n",
        "  plt.grid(True, linestyle='--', alpha=0.6)\n",
        "  plt.ylim(bottom=0) # Forgetting cannot be negative\n",
        "  plt.show()"
      ],
      "metadata": {
        "id": "pS0ii61_0Qzj"
      },
      "id": "pS0ii61_0Qzj",
      "execution_count": null,
      "outputs": []
    },
    {
      "cell_type": "code",
      "source": [
        "viz_forgetting_measure('replay-ewc-coarse-grained/accuracies.txt', 'DTD')"
      ],
      "metadata": {
        "id": "PTVYL_F8Ez1l"
      },
      "id": "PTVYL_F8Ez1l",
      "execution_count": null,
      "outputs": []
    }
  ],
  "metadata": {
    "accelerator": "GPU",
    "colab": {
      "gpuType": "T4",
      "provenance": []
    },
    "kernelspec": {
      "display_name": "Python 3",
      "name": "python3"
    },
    "language_info": {
      "name": "python",
      "version": "3.13.2"
    }
  },
  "nbformat": 4,
  "nbformat_minor": 5
}