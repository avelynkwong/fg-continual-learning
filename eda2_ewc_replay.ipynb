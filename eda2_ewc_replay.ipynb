{
  "cells": [
    {
      "cell_type": "code",
      "execution_count": 1,
      "id": "4ZIq16KN2hQw",
      "metadata": {
        "id": "4ZIq16KN2hQw"
      },
      "outputs": [],
      "source": [
        "import os\n",
        "os.environ[\"CUBLAS_WORKSPACE_CONFIG\"] = \":4096:8\""
      ]
    },
    {
      "cell_type": "code",
      "execution_count": 2,
      "id": "8caPCMc81HvQ",
      "metadata": {
        "id": "8caPCMc81HvQ"
      },
      "outputs": [],
      "source": [
        "import torch\n",
        "import torch.backends.cudnn as cudnn\n",
        "import random\n",
        "import numpy as np\n",
        "\n",
        "# seeds\n",
        "seed = 88\n",
        "random.seed(seed)\n",
        "np.random.seed(seed)\n",
        "torch.manual_seed(seed)\n",
        "torch.cuda.manual_seed(seed)\n",
        "torch.cuda.manual_seed_all(seed)\n",
        "cudnn.deterministic = True\n",
        "cudnn.benchmark = False\n",
        "torch.use_deterministic_algorithms(True)\n",
        "g = torch.Generator()\n",
        "g.manual_seed(seed)\n",
        "\n",
        "def seed_worker(worker_id):\n",
        "    worker_seed = torch.initial_seed() % 2**32\n",
        "    np.random.seed(worker_seed)\n",
        "    random.seed(worker_seed)"
      ]
    },
    {
      "cell_type": "code",
      "execution_count": null,
      "id": "dbeff534",
      "metadata": {
        "id": "dbeff534",
        "outputId": "bcd2c9a2-20bc-415d-e1e9-12f30ad22fd1",
        "colab": {
          "base_uri": "https://localhost:8080/"
        }
      },
      "outputs": [
        {
          "output_type": "stream",
          "name": "stdout",
          "text": [
            "Downloading https://www.robots.ox.ac.uk/~vgg/data/fgvc-aircraft/archives/fgvc-aircraft-2013b.tar.gz to ./data/fgvc-aircraft-2013b.tar.gz\n"
          ]
        },
        {
          "output_type": "stream",
          "name": "stderr",
          "text": [
            "100%|██████████| 2.75G/2.75G [02:18<00:00, 19.9MB/s]\n"
          ]
        },
        {
          "output_type": "stream",
          "name": "stdout",
          "text": [
            "Extracting ./data/fgvc-aircraft-2013b.tar.gz to ./data\n"
          ]
        }
      ],
      "source": [
        "import torchvision.datasets as datasets\n",
        "import torchvision.transforms as transforms\n",
        "import matplotlib.pyplot as plt\n",
        "from torch.utils.data import ConcatDataset\n",
        "\n",
        "# remove copyright banner\n",
        "class RemoveCopyrightBanner(object):\n",
        "    def __call__(self, img):\n",
        "        width, height = img.size\n",
        "        return img.crop((0, 0, width, height - 20))\n",
        "\n",
        "transform = transforms.Compose([\n",
        "    RemoveCopyrightBanner(),\n",
        "    transforms.Resize((224, 224)),\n",
        "    transforms.ToTensor(),\n",
        "    transforms.Normalize(mean=[0.485, 0.456, 0.406], std=[0.229, 0.224, 0.225])\n",
        "])\n",
        "\n",
        "granularity = 'variant'\n",
        "\n",
        "# # Create the FGVC Aircraft dataset instance\n",
        "# train_dataset = FGVCAircraft(\n",
        "#     root='./data',\n",
        "#     split='trainval',              # Options: 'train', 'val', 'trainval', 'test'\n",
        "#     annotation_level=granularity,    # Options: 'variant', 'family', 'manufacturer'\n",
        "#     transform=transform,\n",
        "#     download=True\n",
        "# )\n",
        "\n",
        "data_root = './data'\n",
        "\n",
        "train_dataset = datasets.FGVCAircraft(\n",
        "    root=data_root,\n",
        "    split='train',\n",
        "    annotation_level=granularity,\n",
        "    download=True,\n",
        "    transform=transform\n",
        ")\n",
        "\n",
        "val_dataset = datasets.FGVCAircraft(\n",
        "    root=data_root,\n",
        "    split='val',\n",
        "    annotation_level=granularity,\n",
        "    download=True,\n",
        "    transform=transform\n",
        ")\n",
        "test_dataset = datasets.FGVCAircraft(\n",
        "    root=data_root,\n",
        "    split='test',\n",
        "    annotation_level=granularity,\n",
        "    download=True,\n",
        "    transform=transform\n",
        ")\n",
        "\n",
        "trainval_dataset = ConcatDataset([train_dataset, val_dataset])\n",
        "train_dataset, val_dataset = torch.utils.data.random_split(trainval_dataset, [0.8, 0.2], generator=g)\n",
        "\n",
        "# val_dataset = FGVCAircraft(\n",
        "#     root='./data',\n",
        "#     split='val',\n",
        "#     annotation_level='variant',\n",
        "#     transform=transform,\n",
        "#     download=True\n",
        "# )\n",
        "\n",
        "# test_dataset = FGVCAircraft(\n",
        "#     root='./data',\n",
        "#     split='test',\n",
        "#     annotation_level=granularity,\n",
        "#     transform=transform,\n",
        "#     download=True\n",
        "# )"
      ]
    },
    {
      "cell_type": "code",
      "execution_count": null,
      "id": "a8dd6b2b",
      "metadata": {
        "id": "a8dd6b2b"
      },
      "outputs": [],
      "source": [
        "# function to show images\n",
        "def show_images(train_dataset, num_images=5):\n",
        "  #shuffle the dataset\n",
        "  train_dataset = torch.utils.data.Subset(train_dataset, torch.randperm(len(train_dataset)))\n",
        "  fig, axes = plt.subplots(1, num_images, figsize=(15, 5))\n",
        "  for i in range(num_images):\n",
        "      image, label = train_dataset[i]\n",
        "      image = image.permute(1, 2, 0)  # convert from CxHxW to HxWxC\n",
        "      axes[i].imshow(image)\n",
        "      axes[i].set_title(f'Label: {label}')\n",
        "      axes[i].axis('off')\n",
        "  plt.show()\n",
        "\n",
        "show_images(train_dataset, num_images=5)"
      ]
    },
    {
      "cell_type": "markdown",
      "id": "f7TG9oD76Q6G",
      "metadata": {
        "id": "f7TG9oD76Q6G"
      },
      "source": [
        "# Create Dataset"
      ]
    },
    {
      "cell_type": "code",
      "execution_count": 5,
      "id": "4a397327",
      "metadata": {
        "colab": {
          "base_uri": "https://localhost:8080/"
        },
        "id": "4a397327",
        "outputId": "43d2e7ae-f27a-4da5-bfa9-2871336cff0e"
      },
      "outputs": [
        {
          "output_type": "stream",
          "name": "stderr",
          "text": [
            "100%|██████████| 3008/3008 [00:16<00:00, 186.72it/s]\n",
            "100%|██████████| 752/752 [00:03<00:00, 202.70it/s]\n",
            "100%|██████████| 1880/1880 [00:09<00:00, 203.68it/s]\n"
          ]
        }
      ],
      "source": [
        "from collections import defaultdict\n",
        "import torch\n",
        "from tqdm import tqdm\n",
        "\n",
        "def group_task_indices(dataset, cumulative=False, max_per_class=1000, classes_per_task=10):\n",
        "    \"\"\"\n",
        "    Task 0: 0-9, Task 1: 10-19, ..., Task 9: 90-99\n",
        "    Output a dictionary where keys are task indices and values are lists of image indices.\n",
        "    For example, task_dict[0] will contain indices of images with labels 0-9.\n",
        "    \"\"\"\n",
        "    per_class_counts = defaultdict(int)\n",
        "    task_dict = defaultdict(list)\n",
        "    for idx, (_, label) in tqdm(enumerate(dataset), total=len(dataset)):\n",
        "        # for test and val, should have cumulative indices (all classes seen so far)\n",
        "        if per_class_counts[label] >= max_per_class:\n",
        "          continue\n",
        "        per_class_counts[label] += 1\n",
        "        if cumulative:\n",
        "          for i in range((label // classes_per_task), classes_per_task):\n",
        "            task_dict[i].append(idx)\n",
        "        else:\n",
        "          task_dict[label // classes_per_task].append(idx)\n",
        "    return task_dict\n",
        "\n",
        "train_task_idxs = group_task_indices(train_dataset, cumulative=False, max_per_class=60)\n",
        "val_task_idxs = group_task_indices(val_dataset, cumulative=True)\n",
        "test_task_idxs = group_task_indices(test_dataset, cumulative=True)"
      ]
    },
    {
      "cell_type": "code",
      "execution_count": 6,
      "id": "infsWUtUupE4",
      "metadata": {
        "colab": {
          "base_uri": "https://localhost:8080/"
        },
        "id": "infsWUtUupE4",
        "outputId": "a6f26811-6d10-4e92-a82a-7742c93d04bb"
      },
      "outputs": [
        {
          "output_type": "stream",
          "name": "stderr",
          "text": [
            "599it [00:02, 216.25it/s]"
          ]
        },
        {
          "output_type": "stream",
          "name": "stdout",
          "text": [
            "defaultdict(<class 'int'>, {0: 60, 5: 60, 3: 60, 2: 60, 7: 60, 4: 60, 1: 60, 6: 59, 8: 60, 9: 60})\n",
            "Total number of tasks: 5\n"
          ]
        },
        {
          "output_type": "stream",
          "name": "stderr",
          "text": [
            "\n"
          ]
        }
      ],
      "source": [
        "labels_dict = defaultdict(int)\n",
        "for i in tqdm(train_task_idxs[0], total=len(train_task_idxs)):\n",
        "    _, label = train_dataset[i]\n",
        "    labels_dict[label] += 1\n",
        "print(labels_dict)\n",
        "\n",
        "print(f'Total number of tasks: {len(train_task_idxs)}')"
      ]
    },
    {
      "cell_type": "markdown",
      "id": "cub55VRd6Q6J",
      "metadata": {
        "id": "cub55VRd6Q6J"
      },
      "source": [
        "## Training Code"
      ]
    },
    {
      "cell_type": "code",
      "execution_count": 7,
      "id": "1J34wLym6Q6J",
      "metadata": {
        "id": "1J34wLym6Q6J"
      },
      "outputs": [],
      "source": [
        "def val_net(net_to_val, val_loader):\n",
        "    net_to_val.eval()\n",
        "    loss = 0\n",
        "\n",
        "    criterion = torch.nn.CrossEntropyLoss()\n",
        "\n",
        "    with torch.no_grad():\n",
        "        for img, label in tqdm(val_loader, desc=\"Validating\"):\n",
        "\n",
        "            # Get the input images and their corresponding labels\n",
        "            img, label = img.cuda(), label.cuda()\n",
        "\n",
        "            # Forward pass: Get predictions from the model\n",
        "            outputs = net_to_val(img)\n",
        "\n",
        "            # compute SmoothL1Losss\n",
        "            loss += criterion(outputs, label)\n",
        "\n",
        "        return loss / len(val_loader)\n",
        "\n",
        "def train_net(max_epochs, freeze_epochs, patience, net_to_train, opt, train_loader, val_loader, task, save_file=None, save_path=None):\n",
        "    criterion = torch.nn.CrossEntropyLoss()\n",
        "\n",
        "    train_losses = []\n",
        "    val_losses = []\n",
        "    # prepare the net for training\n",
        "    net_to_train.cuda()\n",
        "\n",
        "    # freeze backbone\n",
        "    for param in net_to_train.parameters():\n",
        "        param.requires_grad = False\n",
        "    for param in net_to_train.fc.parameters():\n",
        "        param.requires_grad = True\n",
        "\n",
        "    # loop over the dataset multiple times\n",
        "    for epoch in range(max_epochs):\n",
        "        net_to_train.train()\n",
        "\n",
        "        running_loss = 0.0\n",
        "\n",
        "        # unfreeze all layers\n",
        "        if epoch == freeze_epochs:\n",
        "          for param in net_to_train.parameters():\n",
        "              param.requires_grad = True\n",
        "              # change optimizer learning rate\n",
        "              opt.param_groups[0]['lr'] = 1e-4\n",
        "\n",
        "        # train on batches of data\n",
        "        for imgs, labels in tqdm(train_loader, unit='batch'):\n",
        "\n",
        "            imgs, labels = imgs.cuda(), labels.cuda()\n",
        "\n",
        "            # zero the parameter gradients\n",
        "            opt.zero_grad()\n",
        "\n",
        "            # prediction\n",
        "            outputs = net_to_train(imgs)\n",
        "\n",
        "            # compute the loss\n",
        "            loss = criterion(outputs, labels)\n",
        "            loss.backward()\n",
        "            opt.step()\n",
        "\n",
        "            # print loss statistics\n",
        "            running_loss += loss.item()\n",
        "\n",
        "        avg_loss = running_loss / len(train_loader)\n",
        "        train_losses.append(avg_loss)\n",
        "        val_losses.append(val_net(net_to_train, val_loader))\n",
        "        print(f\"Epoch {epoch + 1}, Training Loss: {avg_loss:.3f}, Validation Loss: {val_losses[-1]:.3f}\")\n",
        "\n",
        "        # save to checkpoint\n",
        "        if save_path:\n",
        "            torch.save({\n",
        "                'epoch': epoch + 1,\n",
        "                'model_state_dict': net_to_train.state_dict(),\n",
        "                'optimizer_state_dict': opt.state_dict(),\n",
        "                'loss': avg_loss,\n",
        "            }, save_path)\n",
        "            print(f\"Checkpoint saved to {save_path}\")\n",
        "\n",
        "        # save task, trainloss, valloss to file\n",
        "        if save_file:\n",
        "            with open(save_file, 'a') as f:\n",
        "                f.write(f\"{task},{epoch + 1},{avg_loss},{val_losses[-1]}\\n\")\n",
        "\n",
        "        # early stopping based on patience\n",
        "        if len(val_losses) > patience and val_losses[-1] >= min(val_losses[:-patience]):\n",
        "            print(f\"Early stopping at epoch {epoch + 1}\")\n",
        "            break\n",
        "\n",
        "    print(\"finished training\")\n",
        "    return train_losses, val_losses"
      ]
    },
    {
      "cell_type": "code",
      "execution_count": 8,
      "id": "fc054005",
      "metadata": {
        "id": "fc054005"
      },
      "outputs": [],
      "source": [
        "import torch.nn as nn\n",
        "def modify_resnet_head(model, num_classes):\n",
        "  \"\"\"\n",
        "  Modify the last fully connected layer of the ResNet model to match the number of classes.\n",
        "  \"\"\"\n",
        "\n",
        "  old_fc = model.fc\n",
        "  old_num_classes = old_fc.out_features\n",
        "  num_ftrs = old_fc.in_features\n",
        "\n",
        "  # Create the new head\n",
        "  new_fc = nn.Linear(num_ftrs, num_classes).cuda()\n",
        "\n",
        "  # Copy weights and biases from the old head\n",
        "  if old_num_classes < num_classes:\n",
        "    new_fc.weight.data[:old_num_classes, :] = old_fc.weight.data.clone().cuda()\n",
        "    new_fc.bias.data[:old_num_classes] = old_fc.bias.data.clone().cuda()\n",
        "\n",
        "  model.fc = new_fc\n",
        "  return model"
      ]
    },
    {
      "cell_type": "code",
      "execution_count": 9,
      "id": "61220f9a",
      "metadata": {
        "id": "61220f9a"
      },
      "outputs": [],
      "source": [
        "import torch\n",
        "\n",
        "def get_test_accuracy(model, test_loader, num_classes):\n",
        "    model.eval()\n",
        "    correct_preds = 0\n",
        "    total = 0\n",
        "    correct_per_class = [0] * num_classes\n",
        "    total_per_class = [0] * num_classes\n",
        "\n",
        "    with torch.no_grad():\n",
        "        for imgs, labels in tqdm(test_loader, desc=\"Testing\", total=len(test_loader)):\n",
        "            imgs, labels = imgs.cuda(), labels.cuda()\n",
        "            output = model(imgs)\n",
        "            preds = output.argmax(dim=1)\n",
        "\n",
        "            correct_preds += (preds == labels).sum().item()\n",
        "            total += labels.size(0)\n",
        "\n",
        "            # Per-class stats\n",
        "            for c in range(num_classes):\n",
        "                correct_per_class[c] += ((preds == c) & (labels == c)).sum().item()\n",
        "                total_per_class[c] += (labels == c).sum().item()\n",
        "\n",
        "    overall_acc = correct_preds / total\n",
        "    per_class_acc = [correct_per_class[c] / total_per_class[c] if total_per_class[c] > 0 else 0.0\n",
        "                     for c in range(num_classes)]\n",
        "    return overall_acc, per_class_acc\n"
      ]
    },
    {
      "cell_type": "code",
      "execution_count": null,
      "id": "c93b1d5b",
      "metadata": {
        "id": "c93b1d5b"
      },
      "outputs": [],
      "source": [
        "from torch.utils.data import Subset\n",
        "from torchvision import models\n",
        "import torch.optim as optim\n",
        "\n",
        "# Initialize the model\n",
        "model = models.resnet18(pretrained=True)\n",
        "\n",
        "# freeze all parameters except the last fc layer\n",
        "for name, param in model.named_parameters():\n",
        "    if name != 'fc.weight' and name != 'fc.bias':\n",
        "        param.requires_grad = False\n",
        "\n",
        "# test_loader = torch.utils.data.DataLoader(\n",
        "#     test_dataset, batch_size=32, shuffle=False, num_workers=4, worker_init_fn=seed_worker, generator=g\n",
        "# )\n",
        "\n",
        "# create output file for train and val losses\n",
        "\n",
        "save_dir = 'naive'\n",
        "\n",
        "for task in range(10):\n",
        "\n",
        "    print(f\"Training on task {task}...\")\n",
        "\n",
        "    model = modify_resnet_head(model, (task+1) * 10)\n",
        "    model = model.cuda()\n",
        "\n",
        "    optimizer = optim.Adam(model.parameters(), lr=0.0015)\n",
        "\n",
        "    train_loader = torch.utils.data.DataLoader(\n",
        "        Subset(train_dataset, train_task_idxs[task]), batch_size=64, shuffle=True, num_workers=4, worker_init_fn=seed_worker, generator=g\n",
        "    )\n",
        "    val_loader = torch.utils.data.DataLoader(\n",
        "        Subset(val_dataset, val_task_idxs[task]), batch_size=64, shuffle=False, num_workers=4, worker_init_fn=seed_worker, generator=g\n",
        "    )\n",
        "\n",
        "    test_loader = torch.utils.data.DataLoader(\n",
        "        Subset(test_dataset, test_task_idxs[task]), batch_size=64, shuffle=False, num_workers=4, worker_init_fn=seed_worker, generator=g\n",
        "    )\n",
        "\n",
        "    # create output file for train and val losses\n",
        "    if not os.path.exists(save_dir):\n",
        "        os.makedirs(save_dir)\n",
        "\n",
        "    # Train the model on the current task\n",
        "    train_losses, val_losses = train_net(15, 5, 8, model, optimizer, train_loader, val_loader, task, save_file=os.path.join(save_dir, 'train_val_losses.txt'))\n",
        "\n",
        "    # Evaluate the model on the test set\n",
        "    overall_acc, per_class_acc = get_test_accuracy(model, test_loader, (task+1) * 10)\n",
        "    print(f\"Overall accuracy for task {task}: {overall_acc:.4f}\")\n",
        "    print(f\"Per-class accuracy for task {task}: {per_class_acc}\")\n",
        "\n",
        "    # save to text file in save dir\n",
        "    if not os.path.exists(os.path.join(save_dir, 'accuracies.txt')):\n",
        "        with open(os.path.join(save_dir, 'accuracies.txt'), 'w') as f:\n",
        "            f.write(\"Task,Overall Accuracy,Per-Class Accuracy\\n\")\n",
        "    with open(os.path.join(save_dir, 'accuracies.txt'), 'a') as f:\n",
        "        f.write(f\"{task},{overall_acc:.4f},{per_class_acc}\\n\")\n",
        "\n",
        "    # Save the model after training on each task in save dir\n",
        "    if not os.path.exists(save_dir):\n",
        "        os.makedirs(save_dir)\n",
        "    torch.save(model.state_dict(), os.path.join(save_dir, f\"model_task_{task}.pth\"))\n",
        "    print(f\"Model for task {task} saved as model_task_{task}.pth\")"
      ]
    },
    {
      "cell_type": "code",
      "execution_count": null,
      "id": "HwbezrmjWwIA",
      "metadata": {
        "id": "HwbezrmjWwIA",
        "colab": {
          "base_uri": "https://localhost:8080/",
          "height": 35
        },
        "outputId": "2cde0f4c-2717-44f8-9bce-2d81a1ae38f0"
      },
      "outputs": [
        {
          "output_type": "execute_result",
          "data": {
            "text/plain": [
              "'/content/naive.zip'"
            ],
            "application/vnd.google.colaboratory.intrinsic+json": {
              "type": "string"
            }
          },
          "metadata": {},
          "execution_count": 15
        }
      ],
      "source": [
        "# zip the naive folder\n",
        "import shutil\n",
        "shutil.make_archive('naive', 'zip', 'naive')"
      ]
    },
    {
      "cell_type": "markdown",
      "source": [
        "## Replay Code"
      ],
      "metadata": {
        "id": "SXRAKbeHyXKj"
      },
      "id": "SXRAKbeHyXKj"
    },
    {
      "cell_type": "code",
      "source": [
        "def train_net(max_epochs, freeze_epochs, patience, net_to_train, opt, train_loader, val_loader, task, save_file=None, save_path=None):\n",
        "    criterion = torch.nn.CrossEntropyLoss()\n",
        "\n",
        "    train_losses = []\n",
        "    val_losses = []\n",
        "    net_to_train.cuda()\n",
        "\n",
        "    initial_freeze = (task == 0) # Only freeze initially for the very first task\n",
        "\n",
        "    for name, param in net_to_train.named_parameters():\n",
        "        # do not train non-fc layers\n",
        "        if initial_freeze and 'fc' not in name:\n",
        "            param.requires_grad = False\n",
        "        else:\n",
        "            param.requires_grad = True\n",
        "\n",
        "    optimizer = opt\n",
        "\n",
        "    best_val_loss = float('inf')\n",
        "    epochs_no_improve = 0\n",
        "\n",
        "    print(f\"Starting training for Task {task}. Trainable parameters:\")\n",
        "    for name, param in net_to_train.named_parameters():\n",
        "        if param.requires_grad:\n",
        "             print(f\"  - {name}\")\n",
        "\n",
        "\n",
        "    for epoch in range(max_epochs):\n",
        "        net_to_train.train()\n",
        "        running_loss = 0.0\n",
        "\n",
        "        # Unfreeze logic (if desired for staged training within a task)\n",
        "        if epoch == freeze_epochs and task > 0: # Only unfreeze/adjust LR if NOT task 0 and freeze_epochs > 0\n",
        "            print(f\"Unfreezing backbone at epoch {epoch} for task {task}\")\n",
        "            for param in net_to_train.parameters():\n",
        "                param.requires_grad = True\n",
        "            # Adjust LR for the existing optimizer\n",
        "            current_lr = optimizer.param_groups[0]['lr']\n",
        "            new_lr = 1e-4 # Or some other value\n",
        "            if current_lr != new_lr:\n",
        "                 print(f\"Setting LR to {new_lr}\")\n",
        "                 for g in optimizer.param_groups:\n",
        "                     g['lr'] = new_lr\n",
        "\n",
        "\n",
        "        for imgs, labels in tqdm(train_loader, unit='batch', desc=f\"Task {task} Epoch {epoch+1}\"):\n",
        "            imgs, labels = imgs.cuda(), labels.cuda()\n",
        "            optimizer.zero_grad()\n",
        "            outputs = net_to_train(imgs)\n",
        "            loss = criterion(outputs, labels) # Loss calculated on combined batch\n",
        "            loss.backward()\n",
        "            optimizer.step()\n",
        "            running_loss += loss.item()\n",
        "\n",
        "        avg_loss = running_loss / len(train_loader)\n",
        "        train_losses.append(avg_loss)\n",
        "\n",
        "        # --- Validation (Use Cumulative Loader!) ---\n",
        "        current_val_loss = val_net(net_to_train, val_loader) # val_loader MUST be cumulative\n",
        "        val_losses.append(current_val_loss)\n",
        "\n",
        "        print(f\"Task {task}, Epoch {epoch + 1}, Train Loss: {avg_loss:.4f}, Val Loss (Cumulative): {current_val_loss:.4f}\")\n",
        "\n",
        "        # --- Logging to file ---\n",
        "        if save_file:\n",
        "             with open(save_file, 'a') as f:\n",
        "                  f.write(f\"{task},{epoch + 1},{avg_loss},{current_val_loss}\\n\") # Log cumulative val loss\n",
        "\n",
        "        # --- Early Stopping (Based on CUMULATIVE validation loss) ---\n",
        "        if current_val_loss < best_val_loss:\n",
        "            best_val_loss = current_val_loss\n",
        "            epochs_no_improve = 0\n",
        "            if save_path: # Optional: save best model state\n",
        "               torch.save(net_to_train.state_dict(), os.path.join(save_path, f\"model_task{task}_best.pth\"))\n",
        "               print(f\"  New best validation loss: {best_val_loss:.4f}. Saved best model.\")\n",
        "        else:\n",
        "            epochs_no_improve += 1\n",
        "            # print(f\"  Validation loss did not improve for {epochs_no_improve} epoch(s). Best: {best_val_loss:.4f}\") # Optional verbose print\n",
        "\n",
        "        if epochs_no_improve >= patience:\n",
        "            print(f\"Early stopping triggered at epoch {epoch + 1} for task {task}. Best Val Loss: {best_val_loss:.4f}\")\n",
        "            if save_path and os.path.exists(os.path.join(save_path, f\"model_task{task}_best.pth\")):\n",
        "               print(\"Loading best model weights before exiting.\")\n",
        "               net_to_train.load_state_dict(torch.load(os.path.join(save_path, f\"model_task{task}_best.pth\")))\n",
        "            break\n",
        "\n",
        "    print(f\"Finished training task {task}\")\n",
        "    return train_losses, val_losses"
      ],
      "metadata": {
        "id": "Ke2aqvBaynhG"
      },
      "id": "Ke2aqvBaynhG",
      "execution_count": null,
      "outputs": []
    },
    {
      "cell_type": "code",
      "source": [
        "import random\n",
        "from torch.utils.data import Dataset, DataLoader, Subset, ConcatDataset\n",
        "from torchvision import models\n",
        "import torch.optim as optim\n",
        "\n",
        "\n",
        "# Initialize the model\n",
        "model = models.resnet18(pretrained=True)\n",
        "\n",
        "# freeze all parameters except the last fc layer\n",
        "for name, param in model.named_parameters():\n",
        "    if name != 'fc.weight' and name != 'fc.bias':\n",
        "        param.requires_grad = False\n",
        "\n",
        "# --- Add outside the loop ---\n",
        "memory_buffer = [] # Simple list to store (image_tensor, label) tuples\n",
        "memory_size = 1000 # Max number of samples in buffer (hyperparameter)\n",
        "samples_per_task_in_memory = 20 # How many samples to add from each task (hyperparameter)\n",
        "\n",
        "def update_memory_buffer(buffer, max_size, new_samples):\n",
        "    \"\"\"Adds new samples to the buffer and trims it if it exceeds max_size.\"\"\"\n",
        "    buffer.extend(new_samples)\n",
        "    # If buffer exceeds max size, remove samples randomly (or use FIFO)\n",
        "    overflow = len(buffer) - max_size\n",
        "    if overflow > 0:\n",
        "        # Randomly remove 'overflow' samples\n",
        "        indices_to_remove = random.sample(range(len(buffer)), overflow)\n",
        "        # Remove in reverse sorted order to avoid index shifting issues\n",
        "        for index in sorted(indices_to_remove, reverse=True):\n",
        "            del buffer[index]\n",
        "        # Alternatively, for FIFO: del buffer[:overflow]\n",
        "    print(f\"Memory buffer size: {len(buffer)} / {max_size}\")\n",
        "\n",
        "class MemoryDataset(Dataset):\n",
        "    \"\"\"A simple Dataset wrapper for the list-based memory buffer.\"\"\"\n",
        "    def __init__(self, buffer_list):\n",
        "        self.buffer = buffer_list\n",
        "\n",
        "    def __len__(self):\n",
        "        return len(self.buffer)\n",
        "\n",
        "    def __getitem__(self, idx):\n",
        "        # buffer contains (image_tensor, label)\n",
        "        return self.buffer[idx]\n",
        "\n",
        "# --- Modify your main loop ---\n",
        "save_dir = 'replay-coarse-grained' # Changed directory name\n",
        "\n",
        "if not os.path.exists(save_dir):\n",
        "    os.makedirs(save_dir)\n",
        "# Clear or initialize log files\n",
        "open(os.path.join(save_dir, 'train_val_losses.txt'), 'w').close()\n",
        "open(os.path.join(save_dir, 'accuracies.txt'), 'w').write(\"Task,Overall Accuracy,Per-Class Accuracy\\n\")\n",
        "\n",
        "\n",
        "for task in range(5):\n",
        "    print(f\"Training on task {task}...\")\n",
        "\n",
        "    model = modify_resnet_head(model, (task+1) * 10)\n",
        "    model = model.cuda()\n",
        "\n",
        "    # --- Prepare Current Task Dataset ---\n",
        "    current_task_train_subset = Subset(train_dataset, train_task_idxs[task])\n",
        "\n",
        "    # --- Prepare Combined Training Loader ---\n",
        "    if task > 0 and len(memory_buffer) > 0:\n",
        "        # Create a dataset from the memory buffer\n",
        "        replay_dataset = MemoryDataset(memory_buffer)\n",
        "        # Combine current task data and replay data\n",
        "        combined_train_dataset = ConcatDataset([current_task_train_subset, replay_dataset])\n",
        "        print(f\"Task {task}: Training with {len(current_task_train_subset)} current samples and {len(replay_dataset)} replay samples.\")\n",
        "    else:\n",
        "        # Task 0 or empty buffer: train only on current task data\n",
        "        combined_train_dataset = current_task_train_subset\n",
        "        print(f\"Task {task}: Training only with {len(current_task_train_subset)} current samples.\")\n",
        "\n",
        "    # Create DataLoader for the combined dataset\n",
        "    # Adjust batch size if needed, maybe smaller if memory is large\n",
        "    train_loader_combined = DataLoader(\n",
        "        combined_train_dataset,\n",
        "        batch_size=128, # Or adjust dynamically\n",
        "        shuffle=True,\n",
        "        num_workers=4,\n",
        "        worker_init_fn=seed_worker,\n",
        "        generator=g\n",
        "    )\n",
        "\n",
        "    # --- Validation and Test Loaders (Should still be CUMULATIVE!) ---\n",
        "    val_loader_cumulative = torch.utils.data.DataLoader(\n",
        "        Subset(val_dataset, val_task_idxs[task]),\n",
        "        batch_size=256,\n",
        "        shuffle=False,\n",
        "        num_workers=4,\n",
        "        worker_init_fn=seed_worker,\n",
        "        generator=g\n",
        "    )\n",
        "\n",
        "    test_loader_cumulative = torch.utils.data.DataLoader(\n",
        "        Subset(test_dataset, test_task_idxs[task]),\n",
        "        batch_size=256,\n",
        "        shuffle=False,\n",
        "        num_workers=4,\n",
        "        worker_init_fn=seed_worker,\n",
        "        generator=g\n",
        "    )\n",
        "\n",
        "    # --- Optimizer ---\n",
        "    # Consider re-initializing or adjusting LR, especially after task 0\n",
        "    if task == 0:\n",
        "        optimizer = optim.Adam(filter(lambda p: p.requires_grad, model.parameters()), lr=0.0015)\n",
        "    else:\n",
        "        optimizer = optim.Adam(model.parameters(), lr=1e-4) # Lower LR for full network\n",
        "\n",
        "\n",
        "    # --- Train the model ---\n",
        "    # train_net now uses the combined loader\n",
        "    # No need for EWC parameters here\n",
        "    train_losses, val_losses = train_net(\n",
        "        max_epochs=15,\n",
        "        freeze_epochs=5, # Still relevant if you want staged training\n",
        "        patience=5,\n",
        "        net_to_train=model,\n",
        "        opt=optimizer,\n",
        "        train_loader=train_loader_combined, # Use the combined loader\n",
        "        val_loader=val_loader_cumulative, # Use the CUMULATIVE validation loader\n",
        "        task=task,\n",
        "        save_file=os.path.join(save_dir, 'train_val_losses.txt')\n",
        "    )\n",
        "\n",
        "    # --- Update Memory Buffer AFTER training ---\n",
        "    # Select samples from the task just finished\n",
        "    num_to_sample = min(samples_per_task_in_memory, len(current_task_train_subset))\n",
        "    if num_to_sample > 0:\n",
        "        indices_to_sample = random.sample(range(len(current_task_train_subset)), num_to_sample)\n",
        "        new_memory_samples = []\n",
        "        print(f\"Sampling {num_to_sample} examples from task {task} for memory buffer...\")\n",
        "        for idx in indices_to_sample:\n",
        "            # Get the actual data point (image tensor, label) from the subset\n",
        "            img_tensor, label = current_task_train_subset[idx]\n",
        "            new_memory_samples.append((img_tensor, label)) # Append as tuple\n",
        "\n",
        "        # Add to buffer and manage size\n",
        "        update_memory_buffer(memory_buffer, memory_size, new_memory_samples)\n",
        "    else:\n",
        "        print(f\"Not enough samples in task {task} subset to add to memory.\")\n",
        "\n",
        "\n",
        "    # --- Evaluate and Save ---\n",
        "    overall_acc, per_class_acc = get_test_accuracy(model, test_loader_cumulative, (task+1) * 10)\n",
        "    print(f\"Overall accuracy for task {task} (on classes 0-{(task+1)*10 - 1}): {overall_acc:.4f}\")\n",
        "\n",
        "    with open(os.path.join(save_dir, 'accuracies.txt'), 'a') as f:\n",
        "        f.write(f\"{task},{overall_acc:.4f},{per_class_acc}\\n\")\n",
        "\n",
        "    torch.save(model.state_dict(), os.path.join(save_dir, f\"model_task_{task}.pth\"))\n",
        "    print(f\"Model for task {task} saved as model_task_{task}.pth\")"
      ],
      "metadata": {
        "id": "o7yuCLojysxx"
      },
      "id": "o7yuCLojysxx",
      "execution_count": null,
      "outputs": []
    },
    {
      "cell_type": "code",
      "source": [
        "import shutil\n",
        "shutil.make_archive('replay-coarse-grained', 'zip', 'replay-coarse-grained')"
      ],
      "metadata": {
        "colab": {
          "base_uri": "https://localhost:8080/",
          "height": 35
        },
        "id": "L1MIgUIEzAX6",
        "outputId": "6e3e632f-4602-4a41-f89e-db49c87e91e4"
      },
      "id": "L1MIgUIEzAX6",
      "execution_count": null,
      "outputs": [
        {
          "output_type": "execute_result",
          "data": {
            "text/plain": [
              "'/content/replay-coardse-grained.zip'"
            ],
            "application/vnd.google.colaboratory.intrinsic+json": {
              "type": "string"
            }
          },
          "metadata": {},
          "execution_count": 37
        }
      ]
    },
    {
      "cell_type": "markdown",
      "source": [
        "# EWC + Replay Code"
      ],
      "metadata": {
        "id": "7kDzzGHR4zUJ"
      },
      "id": "7kDzzGHR4zUJ"
    },
    {
      "cell_type": "code",
      "source": [
        "import torch\n",
        "import torch.nn.functional as F\n",
        "from tqdm import tqdm\n",
        "import random\n",
        "\n",
        "class EWC:\n",
        "    def __init__(self, model, device='cuda', lambda_ewc=5000):\n",
        "        \"\"\"\n",
        "        Initialize the Robust EWC class with a model and hyperparameters.\n",
        "\n",
        "        Args:\n",
        "            model: The neural network model\n",
        "            device: Device to perform computations on ('cuda' or 'cpu')\n",
        "            lambda_ewc: Regularization strength for EWC penalty\n",
        "        \"\"\"\n",
        "        self.model = model\n",
        "        self.device = device\n",
        "        self.lambda_ewc = lambda_ewc\n",
        "\n",
        "        # Dictionary to store Fisher information for each task\n",
        "        self.fisher_dict = {}\n",
        "        # Dictionary to store optimal parameters for each task\n",
        "        self.optpar_dict = {}\n",
        "        # Dictionary to store output layer sizes for each task\n",
        "        self.output_sizes = {}\n",
        "        # Dictionary to track important parameters\n",
        "        self.important_params = {}\n",
        "\n",
        "    def compute_fisher(self, data_loader, samples=500):\n",
        "        \"\"\"\n",
        "        Compute the diagonal Fisher Information Matrix with proper sampling and verification.\n",
        "\n",
        "        Args:\n",
        "            data_loader: DataLoader containing the task's data\n",
        "            samples: Number of samples to use for Fisher computation\n",
        "\n",
        "        Returns:\n",
        "            Dictionary with parameter names as keys and Fisher values as values\n",
        "        \"\"\"\n",
        "        fisher = {n: torch.zeros_like(p) for n, p in self.model.named_parameters() if p.requires_grad}\n",
        "        self.model.eval()\n",
        "\n",
        "        sample_loader = torch.utils.data.DataLoader(\n",
        "            torch.utils.data.Subset(data_loader.dataset,\n",
        "                                  torch.randperm(len(data_loader.dataset))[:samples].tolist()),\n",
        "            batch_size=1, shuffle=True\n",
        "        )\n",
        "\n",
        "        for input_data, _ in sample_loader:\n",
        "            input_data = input_data.to(self.device)\n",
        "            output = self.model(input_data)\n",
        "            probs = F.softmax(output, dim=1)\n",
        "\n",
        "            num_classes = probs.size(1)\n",
        "            for c in range(num_classes):\n",
        "                self.model.zero_grad()\n",
        "                class_prob = probs[0, c]\n",
        "                log_class_prob = torch.log(class_prob)\n",
        "                log_class_prob.backward(retain_graph=(c < num_classes-1))\n",
        "\n",
        "                prob_value = class_prob.item()\n",
        "                for n, p in self.model.named_parameters():\n",
        "                    if p.grad is not None and p.requires_grad:\n",
        "                        fisher[n] += prob_value * p.grad.data.pow(2) / samples\n",
        "\n",
        "        return fisher\n",
        "\n",
        "    def store_task_parameters(self, task_id, data_loader):\n",
        "        \"\"\"\n",
        "        Store the optimal parameters and compute Fisher after training on a task.\n",
        "\n",
        "        Args:\n",
        "            task_id: ID of the current task\n",
        "            data_loader: DataLoader for the current task\n",
        "        \"\"\"\n",
        "        print(f\"Storing parameters for task {task_id}...\")\n",
        "\n",
        "        # Store current parameter values\n",
        "        self.optpar_dict[task_id] = {}\n",
        "        for n, p in self.model.named_parameters():\n",
        "            if p.requires_grad:\n",
        "                self.optpar_dict[task_id][n] = p.data.clone()\n",
        "                # Debug: Print parameter statistics for key layers\n",
        "                if 'fc' in n or 'layer4' in n:\n",
        "                    print(f\"Stored parameter {n}: min={p.min().item():.6f}, max={p.max().item():.6f}, mean={p.mean().item():.6f}\")\n",
        "\n",
        "        # Compute and store Fisher Information Matrix\n",
        "        self.fisher_dict[task_id] = self.compute_fisher(data_loader)\n",
        "\n",
        "        # Store output layer size for this task\n",
        "        if hasattr(self.model, 'fc'):\n",
        "            self.output_sizes[task_id] = self.model.fc.weight.size(0)\n",
        "            print(f\"Stored output size for task {task_id}: {self.output_sizes[task_id]}\")\n",
        "        elif hasattr(self.model, 'classifier'):\n",
        "            self.output_sizes[task_id] = self.model.classifier.weight.size(0)\n",
        "            print(f\"Stored output size for task {task_id}: {self.output_sizes[task_id]}\")\n",
        "\n",
        "    def ewc_loss(self, current_task_id):\n",
        "        \"\"\"\n",
        "        Calculate the EWC penalty with importance scaling and verification.\n",
        "\n",
        "        Args:\n",
        "            current_task_id: ID of the current task\n",
        "\n",
        "        Returns:\n",
        "            EWC penalty loss\n",
        "        \"\"\"\n",
        "        if current_task_id == 0:\n",
        "            return torch.tensor(0.0, device=self.device)\n",
        "\n",
        "        total_loss = 0\n",
        "        param_count = 0\n",
        "\n",
        "        # Calculate EWC loss for all previous tasks\n",
        "        for task_id in range(current_task_id):\n",
        "            task_loss = 0\n",
        "\n",
        "            for n, p in self.model.named_parameters():\n",
        "                if p.requires_grad and n in self.fisher_dict[task_id] and n in self.optpar_dict[task_id]:\n",
        "                    # Handle expanding output layer\n",
        "                    if \"fc.weight\" in n:\n",
        "                        prev_size = self.output_sizes[task_id]\n",
        "                        fisher_term = self.fisher_dict[task_id][n][:prev_size, :]\n",
        "                        param_diff = (p[:prev_size, :] - self.optpar_dict[task_id][n][:prev_size, :]).pow(2)\n",
        "                        task_loss += (fisher_term * param_diff).sum()\n",
        "                        param_count += fisher_term.numel()\n",
        "                    elif \"fc.bias\" in n:\n",
        "                        prev_size = self.output_sizes[task_id]\n",
        "                        fisher_term = self.fisher_dict[task_id][n][:prev_size]\n",
        "                        param_diff = (p[:prev_size] - self.optpar_dict[task_id][n][:prev_size]).pow(2)\n",
        "                        task_loss += (fisher_term * param_diff).sum()\n",
        "                        param_count += fisher_term.numel()\n",
        "                    else:\n",
        "                        fisher_term = self.fisher_dict[task_id][n]\n",
        "                        param_diff = (p - self.optpar_dict[task_id][n]).pow(2)\n",
        "                        task_loss += (fisher_term * param_diff).sum()\n",
        "                        param_count += fisher_term.numel()\n",
        "\n",
        "            total_loss += task_loss\n",
        "\n",
        "        # Apply lambda scaling\n",
        "        ewc_penalty = self.lambda_ewc * total_loss / 2\n",
        "\n",
        "        # Verify EWC penalty is significant enough (only in training mode to avoid spam)\n",
        "        if self.model.training:\n",
        "            with torch.no_grad():\n",
        "                avg_penalty = ewc_penalty.item() / param_count if param_count > 0 else 0\n",
        "                if avg_penalty < 1e-4:\n",
        "                    print(f\"WARNING: Average EWC penalty per parameter is very small: {avg_penalty:.8f}\")\n",
        "\n",
        "        return ewc_penalty\n",
        "\n",
        "    def freeze_important_parameters(self, current_task_id, importance_threshold=0.1):\n",
        "        \"\"\"\n",
        "        Freeze parameters that are most important for previous tasks.\n",
        "\n",
        "        Args:\n",
        "            current_task_id: ID of the current task\n",
        "            importance_threshold: Threshold for determining important parameters\n",
        "        \"\"\"\n",
        "        if current_task_id == 0:\n",
        "            return\n",
        "\n",
        "        # Calculate importance for each parameter based on Fisher\n",
        "        importance = {}\n",
        "        for n, p in self.model.named_parameters():\n",
        "            if p.requires_grad:\n",
        "                importance[n] = 0\n",
        "                for task_id in range(current_task_id):\n",
        "                    if n in self.fisher_dict[task_id]:\n",
        "                        # For expanding layers, only consider the relevant part\n",
        "                        if \"fc.weight\" in n or \"fc.bias\" in n:\n",
        "                            prev_size = self.output_sizes[task_id]\n",
        "                            if \"fc.weight\" in n:\n",
        "                                importance[n] += self.fisher_dict[task_id][n][:prev_size, :].mean().item()\n",
        "                            else:  # fc.bias\n",
        "                                importance[n] += self.fisher_dict[task_id][n][:prev_size].mean().item()\n",
        "                        else:\n",
        "                            importance[n] += self.fisher_dict[task_id][n].mean().item()\n",
        "\n",
        "                # Average across tasks\n",
        "                importance[n] /= current_task_id\n",
        "\n",
        "        # Sort parameters by importance\n",
        "        sorted_importance = sorted(importance.items(), key=lambda x: x[1], reverse=True)\n",
        "\n",
        "        # Determine threshold value\n",
        "        if importance_threshold < 1:  # Interpreted as a fraction\n",
        "            threshold_idx = int(len(sorted_importance) * importance_threshold)\n",
        "            threshold_value = sorted_importance[threshold_idx][1] if threshold_idx < len(sorted_importance) else 0\n",
        "        else:  # Interpreted as an absolute value\n",
        "            threshold_value = importance_threshold\n",
        "\n",
        "        # Freeze important parameters\n",
        "        frozen_count = 0\n",
        "        self.important_params = {}\n",
        "        for n, imp in sorted_importance:\n",
        "            if imp > threshold_value:\n",
        "                for name, param in self.model.named_parameters():\n",
        "                    if name == n:\n",
        "                        param.requires_grad = False\n",
        "                        self.important_params[name] = imp\n",
        "                        frozen_count += 1\n",
        "                        break\n",
        "\n",
        "        print(f\"Froze {frozen_count} important parameters with importance > {threshold_value:.6f}\")\n",
        "\n",
        "    def consolidate_weights(self):\n",
        "        \"\"\"\n",
        "        Consolidate weights after training on a task by averaging with previous optimal weights\n",
        "        weighted by their importance.\n",
        "        \"\"\"\n",
        "        if not self.optpar_dict:  # No previous tasks\n",
        "            return\n",
        "\n",
        "        print(\"Consolidating weights based on importance...\")\n",
        "\n",
        "        # Get the most recent task_id\n",
        "        last_task_id = max(self.optpar_dict.keys())\n",
        "\n",
        "        with torch.no_grad():\n",
        "            for n, p in self.model.named_parameters():\n",
        "                if n in self.important_params and n in self.optpar_dict[last_task_id]:\n",
        "                    # Calculate importance-weighted average of current weights and previous optimal weights\n",
        "                    importance = self.important_params[n]\n",
        "                    if importance > 0.1:  # Only consolidate highly important parameters\n",
        "                        weight_factor = min(0.8, importance)  # Cap at 0.8 to allow some adaptation\n",
        "                        consolidated_weight = (\n",
        "                            weight_factor * self.optpar_dict[last_task_id][n] +\n",
        "                            (1 - weight_factor) * p.data\n",
        "                        )\n",
        "                        p.data.copy_(consolidated_weight)\n",
        "                        print(f\"Consolidated parameter {n} with weight factor {weight_factor:.4f}\")"
      ],
      "metadata": {
        "id": "spOBQduj5jgi"
      },
      "id": "spOBQduj5jgi",
      "execution_count": 11,
      "outputs": []
    },
    {
      "cell_type": "code",
      "source": [
        "def train_net_ewc_replay(max_epochs, freeze_epochs, patience, ewc, net_to_train, opt, train_loader, val_loader, task, save_file=None, save_path=None):\n",
        "    criterion = torch.nn.CrossEntropyLoss()\n",
        "\n",
        "    train_losses = []\n",
        "    val_losses = []\n",
        "    net_to_train.cuda()\n",
        "\n",
        "    initial_freeze = (task == 0) # Only freeze initially for the very first task\n",
        "\n",
        "    if task > 0:\n",
        "        ewc.freeze_important_parameters(task, importance_threshold=0.05)\n",
        "\n",
        "    for name, param in net_to_train.named_parameters():\n",
        "        # do not train non-fc layers\n",
        "        if initial_freeze and 'fc' not in name:\n",
        "            param.requires_grad = False\n",
        "        else:\n",
        "            param.requires_grad = True\n",
        "\n",
        "    optimizer = opt\n",
        "\n",
        "    best_val_loss = float('inf')\n",
        "    epochs_no_improve = 0\n",
        "\n",
        "    print(f\"Starting training for Task {task}. Trainable parameters:\")\n",
        "    for name, param in net_to_train.named_parameters():\n",
        "        if param.requires_grad:\n",
        "             print(f\"  - {name}\")\n",
        "\n",
        "\n",
        "    for epoch in range(max_epochs):\n",
        "        net_to_train.train()\n",
        "        running_loss = 0.0\n",
        "        running_ewc = 0.0\n",
        "\n",
        "        # Unfreeze logic (if desired for staged training within a task)\n",
        "        if epoch == freeze_epochs and task > 0: # Only unfreeze/adjust LR if NOT task 0 and freeze_epochs > 0\n",
        "            print(f\"Unfreezing backbone at epoch {epoch} for task {task}\")\n",
        "            for name, param in net_to_train.named_parameters():\n",
        "                if not param.requires_grad and 'fc' not in name:\n",
        "                    # Check if this parameter was frozen by importance\n",
        "                    was_frozen_by_importance = False\n",
        "                    for n, imp in getattr(ewc, 'important_params', {}).items():\n",
        "                        if n == name:\n",
        "                            was_frozen_by_importance = True\n",
        "                            break\n",
        "\n",
        "                    if not was_frozen_by_importance:\n",
        "                        param.requires_grad = True\n",
        "\n",
        "            # Adjust LR for the existing optimizer\n",
        "            current_lr = optimizer.param_groups[0]['lr']\n",
        "            new_lr = 1e-4 # Or some other value\n",
        "            if current_lr != new_lr:\n",
        "                 print(f\"Setting LR to {new_lr}\")\n",
        "                 for g in optimizer.param_groups:\n",
        "                     g['lr'] = new_lr\n",
        "\n",
        "\n",
        "        for imgs, labels in tqdm(train_loader, unit='batch', desc=f\"Task {task} Epoch {epoch+1}\"):\n",
        "            imgs, labels = imgs.cuda(), labels.cuda()\n",
        "            optimizer.zero_grad()\n",
        "            outputs = net_to_train(imgs)\n",
        "            loss = criterion(outputs, labels) # Loss calculated on combined batch\n",
        "            ewc_loss = ewc.ewc_loss(task)\n",
        "            running_ewc += ewc_loss.item()\n",
        "            loss += ewc_loss\n",
        "            loss.backward()\n",
        "            torch.nn.utils.clip_grad_norm_(net_to_train.parameters(), max_norm=1.0) # Gradient clipping\n",
        "            optimizer.step()\n",
        "            running_loss += loss.item()\n",
        "\n",
        "        avg_loss = running_loss / len(train_loader)\n",
        "        avg_ewc_loss = running_ewc / len(train_loader)\n",
        "        train_losses.append(avg_loss)\n",
        "\n",
        "        # --- Validation (Use Cumulative Loader!) ---\n",
        "        current_val_loss = val_net(net_to_train, val_loader) # val_loader MUST be cumulative\n",
        "        val_losses.append(current_val_loss)\n",
        "\n",
        "        print(f\"Task {task}, Epoch {epoch + 1}, EWC Loss: {avg_ewc_loss:.4f}, Total Loss: {avg_loss:.4f}, Val Loss (Cumulative): {current_val_loss:.4f}\")\n",
        "\n",
        "        # --- Logging to file ---\n",
        "        if save_file:\n",
        "             with open(save_file, 'a') as f:\n",
        "                  f.write(f\"{task},{epoch + 1},{avg_loss},{current_val_loss}\\n\") # Log cumulative val loss\n",
        "\n",
        "        # --- Early Stopping (Based on CUMULATIVE validation loss) ---\n",
        "        if current_val_loss < best_val_loss:\n",
        "            best_val_loss = current_val_loss\n",
        "            epochs_no_improve = 0\n",
        "            if save_path: # Optional: save best model state\n",
        "               torch.save(net_to_train.state_dict(), os.path.join(save_path, f\"model_task{task}_best.pth\"))\n",
        "               print(f\"  New best validation loss: {best_val_loss:.4f}. Saved best model.\")\n",
        "        else:\n",
        "            epochs_no_improve += 1\n",
        "            # print(f\"  Validation loss did not improve for {epochs_no_improve} epoch(s). Best: {best_val_loss:.4f}\") # Optional verbose print\n",
        "\n",
        "        if epochs_no_improve >= patience:\n",
        "            print(f\"Early stopping triggered at epoch {epoch + 1} for task {task}. Best Val Loss: {best_val_loss:.4f}\")\n",
        "            if save_path and os.path.exists(os.path.join(save_path, f\"model_task{task}_best.pth\")):\n",
        "               print(\"Loading best model weights before exiting.\")\n",
        "               net_to_train.load_state_dict(torch.load(os.path.join(save_path, f\"model_task{task}_best.pth\")))\n",
        "            break\n",
        "\n",
        "    print(f\"Finished training task {task}\")\n",
        "    return train_losses, val_losses"
      ],
      "metadata": {
        "id": "mfz2G2XV42EH"
      },
      "id": "mfz2G2XV42EH",
      "execution_count": 19,
      "outputs": []
    },
    {
      "cell_type": "code",
      "source": [
        "import random\n",
        "from torch.utils.data import Dataset, DataLoader, Subset, ConcatDataset\n",
        "from torchvision import models\n",
        "import torch.optim as optim\n",
        "\n",
        "\n",
        "# Initialize the model\n",
        "model = models.resnet18(pretrained=True)\n",
        "ewc = EWC(model, device='cuda', lambda_ewc=10e7)\n",
        "\n",
        "# freeze all parameters except the last fc layer\n",
        "for name, param in model.named_parameters():\n",
        "    if name != 'fc.weight' and name != 'fc.bias':\n",
        "        param.requires_grad = False\n",
        "\n",
        "# --- Add outside the loop ---\n",
        "memory_buffer = [] # Simple list to store (image_tensor, label) tuples\n",
        "memory_size = 1000 # Max number of samples in buffer (hyperparameter)\n",
        "samples_per_task_in_memory = 20 # How many samples to add from each task (hyperparameter)\n",
        "\n",
        "def update_memory_buffer(buffer, max_size, new_samples):\n",
        "    \"\"\"Adds new samples to the buffer and trims it if it exceeds max_size.\"\"\"\n",
        "    buffer.extend(new_samples)\n",
        "    # If buffer exceeds max size, remove samples randomly (or use FIFO)\n",
        "    overflow = len(buffer) - max_size\n",
        "    if overflow > 0:\n",
        "        # Randomly remove 'overflow' samples\n",
        "        indices_to_remove = random.sample(range(len(buffer)), overflow)\n",
        "        # Remove in reverse sorted order to avoid index shifting issues\n",
        "        for index in sorted(indices_to_remove, reverse=True):\n",
        "            del buffer[index]\n",
        "        # Alternatively, for FIFO: del buffer[:overflow]\n",
        "    print(f\"Memory buffer size: {len(buffer)} / {max_size}\")\n",
        "\n",
        "class MemoryDataset(Dataset):\n",
        "    \"\"\"A simple Dataset wrapper for the list-based memory buffer.\"\"\"\n",
        "    def __init__(self, buffer_list):\n",
        "        self.buffer = buffer_list\n",
        "\n",
        "    def __len__(self):\n",
        "        return len(self.buffer)\n",
        "\n",
        "    def __getitem__(self, idx):\n",
        "        # buffer contains (image_tensor, label)\n",
        "        return self.buffer[idx]\n",
        "\n",
        "# --- Modify your main loop ---\n",
        "save_dir = 'replay-ewc-coarse-grained' # Changed directory name\n",
        "\n",
        "if not os.path.exists(save_dir):\n",
        "    os.makedirs(save_dir)\n",
        "# Clear or initialize log files\n",
        "open(os.path.join(save_dir, 'train_val_losses.txt'), 'w').close()\n",
        "open(os.path.join(save_dir, 'accuracies.txt'), 'w').write(\"Task,Overall Accuracy,Per-Class Accuracy\\n\")\n",
        "\n",
        "\n",
        "for task in range(5):\n",
        "    print(f\"Training on task {task}...\")\n",
        "\n",
        "    model = modify_resnet_head(model, (task+1) * 10)\n",
        "    model = model.cuda()\n",
        "\n",
        "    # --- Prepare Current Task Dataset ---\n",
        "    current_task_train_subset = Subset(train_dataset, train_task_idxs[task])\n",
        "\n",
        "    # --- Prepare Combined Training Loader ---\n",
        "    if task > 0 and len(memory_buffer) > 0:\n",
        "        # Create a dataset from the memory buffer\n",
        "        replay_dataset = MemoryDataset(memory_buffer)\n",
        "        # Combine current task data and replay data\n",
        "        combined_train_dataset = ConcatDataset([current_task_train_subset, replay_dataset])\n",
        "        print(f\"Task {task}: Training with {len(current_task_train_subset)} current samples and {len(replay_dataset)} replay samples.\")\n",
        "    else:\n",
        "        # Task 0 or empty buffer: train only on current task data\n",
        "        combined_train_dataset = current_task_train_subset\n",
        "        print(f\"Task {task}: Training only with {len(current_task_train_subset)} current samples.\")\n",
        "\n",
        "    # Create DataLoader for the combined dataset\n",
        "    # Adjust batch size if needed, maybe smaller if memory is large\n",
        "    train_loader_combined = DataLoader(\n",
        "        combined_train_dataset,\n",
        "        batch_size=128, # Or adjust dynamically\n",
        "        shuffle=True,\n",
        "        num_workers=4,\n",
        "        worker_init_fn=seed_worker,\n",
        "        generator=g\n",
        "    )\n",
        "\n",
        "    # --- Validation and Test Loaders (Should still be CUMULATIVE!) ---\n",
        "    val_loader_cumulative = torch.utils.data.DataLoader(\n",
        "        Subset(val_dataset, val_task_idxs[task]),\n",
        "        batch_size=256,\n",
        "        shuffle=False,\n",
        "        num_workers=4,\n",
        "        worker_init_fn=seed_worker,\n",
        "        generator=g\n",
        "    )\n",
        "\n",
        "    test_loader_cumulative = torch.utils.data.DataLoader(\n",
        "        Subset(test_dataset, test_task_idxs[task]),\n",
        "        batch_size=256,\n",
        "        shuffle=False,\n",
        "        num_workers=4,\n",
        "        worker_init_fn=seed_worker,\n",
        "        generator=g\n",
        "    )\n",
        "\n",
        "    # --- Optimizer ---\n",
        "    # Consider re-initializing or adjusting LR, especially after task 0\n",
        "    if task == 0:\n",
        "        optimizer = optim.Adam(filter(lambda p: p.requires_grad, model.parameters()), lr=0.0015)\n",
        "    else:\n",
        "        optimizer = optim.Adam(model.parameters(), lr=1e-4) # Lower LR for full network\n",
        "\n",
        "\n",
        "    # --- Train the model ---\n",
        "    # train_net now uses the combined loader\n",
        "    # No need for EWC parameters here\n",
        "    train_losses, val_losses = train_net_ewc_replay(\n",
        "        max_epochs=15,\n",
        "        freeze_epochs=5, # Still relevant if you want staged training\n",
        "        patience=5,\n",
        "        ewc=ewc,\n",
        "        net_to_train=model,\n",
        "        opt=optimizer,\n",
        "        train_loader=train_loader_combined, # Use the combined loader\n",
        "        val_loader=val_loader_cumulative, # Use the CUMULATIVE validation loader\n",
        "        task=task,\n",
        "        save_file=os.path.join(save_dir, 'train_val_losses.txt')\n",
        "    )\n",
        "\n",
        "    # --- Update EWC after training ---\n",
        "    ewc.store_task_parameters(task, train_loader_combined)\n",
        "    ewc.consolidate_weights()\n",
        "\n",
        "    # --- Update Memory Buffer AFTER training ---\n",
        "    # Select samples from the task just finished\n",
        "    num_to_sample = min(samples_per_task_in_memory, len(current_task_train_subset))\n",
        "    if num_to_sample > 0:\n",
        "        indices_to_sample = random.sample(range(len(current_task_train_subset)), num_to_sample)\n",
        "        new_memory_samples = []\n",
        "        print(f\"Sampling {num_to_sample} examples from task {task} for memory buffer...\")\n",
        "        for idx in indices_to_sample:\n",
        "            # Get the actual data point (image tensor, label) from the subset\n",
        "            img_tensor, label = current_task_train_subset[idx]\n",
        "            new_memory_samples.append((img_tensor, label)) # Append as tuple\n",
        "\n",
        "        # Add to buffer and manage size\n",
        "        update_memory_buffer(memory_buffer, memory_size, new_memory_samples)\n",
        "    else:\n",
        "        print(f\"Not enough samples in task {task} subset to add to memory.\")\n",
        "\n",
        "\n",
        "    # --- Evaluate and Save ---\n",
        "    overall_acc, per_class_acc = get_test_accuracy(model, test_loader_cumulative, (task+1) * 10)\n",
        "    print(f\"Overall accuracy for task {task} (on classes 0-{(task+1)*10 - 1}): {overall_acc:.4f}\")\n",
        "\n",
        "    with open(os.path.join(save_dir, 'accuracies.txt'), 'a') as f:\n",
        "        f.write(f\"{task},{overall_acc:.4f},{per_class_acc}\\n\")\n",
        "\n",
        "    torch.save(model.state_dict(), os.path.join(save_dir, f\"model_task_{task}.pth\"))\n",
        "    print(f\"Model for task {task} saved as model_task_{task}.pth\")"
      ],
      "metadata": {
        "collapsed": true,
        "id": "ELJye_8m5iEp",
        "outputId": "33d584b1-aa75-4cb0-b08c-f820a31538d9",
        "colab": {
          "base_uri": "https://localhost:8080/"
        }
      },
      "id": "ELJye_8m5iEp",
      "execution_count": 20,
      "outputs": [
        {
          "output_type": "stream",
          "name": "stdout",
          "text": [
            "Training on task 0...\n",
            "Task 0: Training only with 599 current samples.\n",
            "Starting training for Task 0. Trainable parameters:\n",
            "  - fc.weight\n",
            "  - fc.bias\n"
          ]
        },
        {
          "output_type": "stream",
          "name": "stderr",
          "text": [
            "Task 0 Epoch 1: 100%|██████████| 5/5 [00:04<00:00,  1.13batch/s]\n",
            "Validating: 100%|██████████| 1/1 [00:01<00:00,  1.07s/it]\n"
          ]
        },
        {
          "output_type": "stream",
          "name": "stdout",
          "text": [
            "Task 0, Epoch 1, EWC Loss: 0.0000, Total Loss: 2.3803, Val Loss (Cumulative): 2.0020\n"
          ]
        },
        {
          "output_type": "stream",
          "name": "stderr",
          "text": [
            "Task 0 Epoch 2: 100%|██████████| 5/5 [00:03<00:00,  1.59batch/s]\n",
            "Validating: 100%|██████████| 1/1 [00:01<00:00,  1.09s/it]\n"
          ]
        },
        {
          "output_type": "stream",
          "name": "stdout",
          "text": [
            "Task 0, Epoch 2, EWC Loss: 0.0000, Total Loss: 1.7852, Val Loss (Cumulative): 1.6639\n"
          ]
        },
        {
          "output_type": "stream",
          "name": "stderr",
          "text": [
            "Task 0 Epoch 3: 100%|██████████| 5/5 [00:03<00:00,  1.37batch/s]\n",
            "Validating: 100%|██████████| 1/1 [00:01<00:00,  1.39s/it]\n"
          ]
        },
        {
          "output_type": "stream",
          "name": "stdout",
          "text": [
            "Task 0, Epoch 3, EWC Loss: 0.0000, Total Loss: 1.3890, Val Loss (Cumulative): 1.3474\n"
          ]
        },
        {
          "output_type": "stream",
          "name": "stderr",
          "text": [
            "Task 0 Epoch 4: 100%|██████████| 5/5 [00:03<00:00,  1.60batch/s]\n",
            "Validating: 100%|██████████| 1/1 [00:01<00:00,  1.19s/it]\n"
          ]
        },
        {
          "output_type": "stream",
          "name": "stdout",
          "text": [
            "Task 0, Epoch 4, EWC Loss: 0.0000, Total Loss: 1.1109, Val Loss (Cumulative): 1.1345\n"
          ]
        },
        {
          "output_type": "stream",
          "name": "stderr",
          "text": [
            "Task 0 Epoch 5: 100%|██████████| 5/5 [00:03<00:00,  1.59batch/s]\n",
            "Validating: 100%|██████████| 1/1 [00:01<00:00,  1.07s/it]\n"
          ]
        },
        {
          "output_type": "stream",
          "name": "stdout",
          "text": [
            "Task 0, Epoch 5, EWC Loss: 0.0000, Total Loss: 0.8849, Val Loss (Cumulative): 0.9859\n"
          ]
        },
        {
          "output_type": "stream",
          "name": "stderr",
          "text": [
            "Task 0 Epoch 6: 100%|██████████| 5/5 [00:04<00:00,  1.10batch/s]\n",
            "Validating: 100%|██████████| 1/1 [00:01<00:00,  1.06s/it]\n"
          ]
        },
        {
          "output_type": "stream",
          "name": "stdout",
          "text": [
            "Task 0, Epoch 6, EWC Loss: 0.0000, Total Loss: 0.7376, Val Loss (Cumulative): 0.8777\n"
          ]
        },
        {
          "output_type": "stream",
          "name": "stderr",
          "text": [
            "Task 0 Epoch 7: 100%|██████████| 5/5 [00:03<00:00,  1.59batch/s]\n",
            "Validating: 100%|██████████| 1/1 [00:01<00:00,  1.07s/it]\n"
          ]
        },
        {
          "output_type": "stream",
          "name": "stdout",
          "text": [
            "Task 0, Epoch 7, EWC Loss: 0.0000, Total Loss: 0.6351, Val Loss (Cumulative): 0.7882\n"
          ]
        },
        {
          "output_type": "stream",
          "name": "stderr",
          "text": [
            "Task 0 Epoch 8: 100%|██████████| 5/5 [00:03<00:00,  1.59batch/s]\n",
            "Validating: 100%|██████████| 1/1 [00:01<00:00,  1.46s/it]\n"
          ]
        },
        {
          "output_type": "stream",
          "name": "stdout",
          "text": [
            "Task 0, Epoch 8, EWC Loss: 0.0000, Total Loss: 0.5426, Val Loss (Cumulative): 0.7582\n"
          ]
        },
        {
          "output_type": "stream",
          "name": "stderr",
          "text": [
            "Task 0 Epoch 9: 100%|██████████| 5/5 [00:03<00:00,  1.39batch/s]\n",
            "Validating: 100%|██████████| 1/1 [00:01<00:00,  1.07s/it]\n"
          ]
        },
        {
          "output_type": "stream",
          "name": "stdout",
          "text": [
            "Task 0, Epoch 9, EWC Loss: 0.0000, Total Loss: 0.4795, Val Loss (Cumulative): 0.6865\n"
          ]
        },
        {
          "output_type": "stream",
          "name": "stderr",
          "text": [
            "Task 0 Epoch 10: 100%|██████████| 5/5 [00:03<00:00,  1.57batch/s]\n",
            "Validating: 100%|██████████| 1/1 [00:01<00:00,  1.08s/it]\n"
          ]
        },
        {
          "output_type": "stream",
          "name": "stdout",
          "text": [
            "Task 0, Epoch 10, EWC Loss: 0.0000, Total Loss: 0.4318, Val Loss (Cumulative): 0.6639\n"
          ]
        },
        {
          "output_type": "stream",
          "name": "stderr",
          "text": [
            "Task 0 Epoch 11: 100%|██████████| 5/5 [00:03<00:00,  1.37batch/s]\n",
            "Validating: 100%|██████████| 1/1 [00:01<00:00,  1.47s/it]\n"
          ]
        },
        {
          "output_type": "stream",
          "name": "stdout",
          "text": [
            "Task 0, Epoch 11, EWC Loss: 0.0000, Total Loss: 0.3771, Val Loss (Cumulative): 0.6492\n"
          ]
        },
        {
          "output_type": "stream",
          "name": "stderr",
          "text": [
            "Task 0 Epoch 12: 100%|██████████| 5/5 [00:03<00:00,  1.58batch/s]\n",
            "Validating: 100%|██████████| 1/1 [00:01<00:00,  1.09s/it]\n"
          ]
        },
        {
          "output_type": "stream",
          "name": "stdout",
          "text": [
            "Task 0, Epoch 12, EWC Loss: 0.0000, Total Loss: 0.3570, Val Loss (Cumulative): 0.6238\n"
          ]
        },
        {
          "output_type": "stream",
          "name": "stderr",
          "text": [
            "Task 0 Epoch 13: 100%|██████████| 5/5 [00:03<00:00,  1.58batch/s]\n",
            "Validating: 100%|██████████| 1/1 [00:01<00:00,  1.08s/it]\n"
          ]
        },
        {
          "output_type": "stream",
          "name": "stdout",
          "text": [
            "Task 0, Epoch 13, EWC Loss: 0.0000, Total Loss: 0.3158, Val Loss (Cumulative): 0.6053\n"
          ]
        },
        {
          "output_type": "stream",
          "name": "stderr",
          "text": [
            "Task 0 Epoch 14: 100%|██████████| 5/5 [00:04<00:00,  1.18batch/s]\n",
            "Validating: 100%|██████████| 1/1 [00:01<00:00,  1.08s/it]\n"
          ]
        },
        {
          "output_type": "stream",
          "name": "stdout",
          "text": [
            "Task 0, Epoch 14, EWC Loss: 0.0000, Total Loss: 0.2975, Val Loss (Cumulative): 0.6180\n"
          ]
        },
        {
          "output_type": "stream",
          "name": "stderr",
          "text": [
            "Task 0 Epoch 15: 100%|██████████| 5/5 [00:03<00:00,  1.57batch/s]\n",
            "Validating: 100%|██████████| 1/1 [00:01<00:00,  1.08s/it]\n"
          ]
        },
        {
          "output_type": "stream",
          "name": "stdout",
          "text": [
            "Task 0, Epoch 15, EWC Loss: 0.0000, Total Loss: 0.2738, Val Loss (Cumulative): 0.5709\n",
            "Finished training task 0\n",
            "Storing parameters for task 0...\n",
            "Stored parameter fc.weight: min=-0.119342, max=0.112156, mean=-0.005719\n",
            "Stored parameter fc.bias: min=-0.051298, max=0.046737, mean=0.007633\n",
            "Stored output size for task 0: 10\n",
            "Consolidating weights based on importance...\n",
            "Sampling 20 examples from task 0 for memory buffer...\n",
            "Memory buffer size: 20 / 1000\n"
          ]
        },
        {
          "output_type": "stream",
          "name": "stderr",
          "text": [
            "Testing: 100%|██████████| 2/2 [00:02<00:00,  1.17s/it]\n"
          ]
        },
        {
          "output_type": "stream",
          "name": "stdout",
          "text": [
            "Overall accuracy for task 0 (on classes 0-9): 0.8300\n",
            "Model for task 0 saved as model_task_0.pth\n",
            "Training on task 1...\n",
            "Task 1: Training with 591 current samples and 20 replay samples.\n",
            "Froze 0 important parameters with importance > 0.037191\n",
            "Starting training for Task 1. Trainable parameters:\n",
            "  - conv1.weight\n",
            "  - bn1.weight\n",
            "  - bn1.bias\n",
            "  - layer1.0.conv1.weight\n",
            "  - layer1.0.bn1.weight\n",
            "  - layer1.0.bn1.bias\n",
            "  - layer1.0.conv2.weight\n",
            "  - layer1.0.bn2.weight\n",
            "  - layer1.0.bn2.bias\n",
            "  - layer1.1.conv1.weight\n",
            "  - layer1.1.bn1.weight\n",
            "  - layer1.1.bn1.bias\n",
            "  - layer1.1.conv2.weight\n",
            "  - layer1.1.bn2.weight\n",
            "  - layer1.1.bn2.bias\n",
            "  - layer2.0.conv1.weight\n",
            "  - layer2.0.bn1.weight\n",
            "  - layer2.0.bn1.bias\n",
            "  - layer2.0.conv2.weight\n",
            "  - layer2.0.bn2.weight\n",
            "  - layer2.0.bn2.bias\n",
            "  - layer2.0.downsample.0.weight\n",
            "  - layer2.0.downsample.1.weight\n",
            "  - layer2.0.downsample.1.bias\n",
            "  - layer2.1.conv1.weight\n",
            "  - layer2.1.bn1.weight\n",
            "  - layer2.1.bn1.bias\n",
            "  - layer2.1.conv2.weight\n",
            "  - layer2.1.bn2.weight\n",
            "  - layer2.1.bn2.bias\n",
            "  - layer3.0.conv1.weight\n",
            "  - layer3.0.bn1.weight\n",
            "  - layer3.0.bn1.bias\n",
            "  - layer3.0.conv2.weight\n",
            "  - layer3.0.bn2.weight\n",
            "  - layer3.0.bn2.bias\n",
            "  - layer3.0.downsample.0.weight\n",
            "  - layer3.0.downsample.1.weight\n",
            "  - layer3.0.downsample.1.bias\n",
            "  - layer3.1.conv1.weight\n",
            "  - layer3.1.bn1.weight\n",
            "  - layer3.1.bn1.bias\n",
            "  - layer3.1.conv2.weight\n",
            "  - layer3.1.bn2.weight\n",
            "  - layer3.1.bn2.bias\n",
            "  - layer4.0.conv1.weight\n",
            "  - layer4.0.bn1.weight\n",
            "  - layer4.0.bn1.bias\n",
            "  - layer4.0.conv2.weight\n",
            "  - layer4.0.bn2.weight\n",
            "  - layer4.0.bn2.bias\n",
            "  - layer4.0.downsample.0.weight\n",
            "  - layer4.0.downsample.1.weight\n",
            "  - layer4.0.downsample.1.bias\n",
            "  - layer4.1.conv1.weight\n",
            "  - layer4.1.bn1.weight\n",
            "  - layer4.1.bn1.bias\n",
            "  - layer4.1.conv2.weight\n",
            "  - layer4.1.bn2.weight\n",
            "  - layer4.1.bn2.bias\n",
            "  - fc.weight\n",
            "  - fc.bias\n"
          ]
        },
        {
          "output_type": "stream",
          "name": "stderr",
          "text": [
            "\rTask 1 Epoch 1:   0%|          | 0/5 [00:00<?, ?batch/s]"
          ]
        },
        {
          "output_type": "stream",
          "name": "stdout",
          "text": [
            "WARNING: Average EWC penalty per parameter is very small: 0.00000000\n"
          ]
        },
        {
          "output_type": "stream",
          "name": "stderr",
          "text": [
            "Task 1 Epoch 1: 100%|██████████| 5/5 [00:04<00:00,  1.10batch/s]\n",
            "Validating: 100%|██████████| 2/2 [00:02<00:00,  1.33s/it]\n"
          ]
        },
        {
          "output_type": "stream",
          "name": "stdout",
          "text": [
            "Task 1, Epoch 1, EWC Loss: 31.6160, Total Loss: 34.0099, Val Loss (Cumulative): 2.0917\n"
          ]
        },
        {
          "output_type": "stream",
          "name": "stderr",
          "text": [
            "Task 1 Epoch 2: 100%|██████████| 5/5 [00:04<00:00,  1.08batch/s]\n",
            "Validating: 100%|██████████| 2/2 [00:02<00:00,  1.05s/it]\n"
          ]
        },
        {
          "output_type": "stream",
          "name": "stdout",
          "text": [
            "Task 1, Epoch 2, EWC Loss: 13.5389, Total Loss: 15.1845, Val Loss (Cumulative): 2.0538\n"
          ]
        },
        {
          "output_type": "stream",
          "name": "stderr",
          "text": [
            "Task 1 Epoch 3: 100%|██████████| 5/5 [00:04<00:00,  1.01batch/s]\n",
            "Validating: 100%|██████████| 2/2 [00:02<00:00,  1.07s/it]\n"
          ]
        },
        {
          "output_type": "stream",
          "name": "stdout",
          "text": [
            "Task 1, Epoch 3, EWC Loss: 6.0242, Total Loss: 7.4648, Val Loss (Cumulative): 2.0263\n"
          ]
        },
        {
          "output_type": "stream",
          "name": "stderr",
          "text": [
            "Task 1 Epoch 4: 100%|██████████| 5/5 [00:04<00:00,  1.08batch/s]\n",
            "Validating: 100%|██████████| 2/2 [00:02<00:00,  1.12s/it]\n"
          ]
        },
        {
          "output_type": "stream",
          "name": "stdout",
          "text": [
            "Task 1, Epoch 4, EWC Loss: 3.1720, Total Loss: 4.5344, Val Loss (Cumulative): 2.0024\n"
          ]
        },
        {
          "output_type": "stream",
          "name": "stderr",
          "text": [
            "Task 1 Epoch 5: 100%|██████████| 5/5 [00:05<00:00,  1.15s/batch]\n",
            "Validating: 100%|██████████| 2/2 [00:02<00:00,  1.06s/it]\n"
          ]
        },
        {
          "output_type": "stream",
          "name": "stdout",
          "text": [
            "Task 1, Epoch 5, EWC Loss: 1.6544, Total Loss: 2.9400, Val Loss (Cumulative): 1.9785\n",
            "Unfreezing backbone at epoch 5 for task 1\n"
          ]
        },
        {
          "output_type": "stream",
          "name": "stderr",
          "text": [
            "Task 1 Epoch 6: 100%|██████████| 5/5 [00:04<00:00,  1.08batch/s]\n",
            "Validating: 100%|██████████| 2/2 [00:02<00:00,  1.35s/it]\n"
          ]
        },
        {
          "output_type": "stream",
          "name": "stdout",
          "text": [
            "Task 1, Epoch 6, EWC Loss: 0.8813, Total Loss: 2.1257, Val Loss (Cumulative): 1.9502\n"
          ]
        },
        {
          "output_type": "stream",
          "name": "stderr",
          "text": [
            "Task 1 Epoch 7:  60%|██████    | 3/5 [00:03<00:02,  1.00s/batch]"
          ]
        },
        {
          "output_type": "stream",
          "name": "stdout",
          "text": [
            "WARNING: Average EWC penalty per parameter is very small: 0.00007767\n"
          ]
        },
        {
          "output_type": "stream",
          "name": "stderr",
          "text": [
            "\rTask 1 Epoch 7:  80%|████████  | 4/5 [00:04<00:00,  1.27batch/s]"
          ]
        },
        {
          "output_type": "stream",
          "name": "stdout",
          "text": [
            "WARNING: Average EWC penalty per parameter is very small: 0.00007641\n"
          ]
        },
        {
          "output_type": "stream",
          "name": "stderr",
          "text": [
            "Task 1 Epoch 7: 100%|██████████| 5/5 [00:04<00:00,  1.07batch/s]\n",
            "Validating: 100%|██████████| 2/2 [00:02<00:00,  1.07s/it]\n"
          ]
        },
        {
          "output_type": "stream",
          "name": "stdout",
          "text": [
            "Task 1, Epoch 7, EWC Loss: 0.4859, Total Loss: 1.6644, Val Loss (Cumulative): 1.9220\n"
          ]
        },
        {
          "output_type": "stream",
          "name": "stderr",
          "text": [
            "\rTask 1 Epoch 8:   0%|          | 0/5 [00:00<?, ?batch/s]"
          ]
        },
        {
          "output_type": "stream",
          "name": "stdout",
          "text": [
            "WARNING: Average EWC penalty per parameter is very small: 0.00007385\n"
          ]
        },
        {
          "output_type": "stream",
          "name": "stderr",
          "text": [
            "\rTask 1 Epoch 8:  20%|██        | 1/5 [00:02<00:11,  2.88s/batch]"
          ]
        },
        {
          "output_type": "stream",
          "name": "stdout",
          "text": [
            "WARNING: Average EWC penalty per parameter is very small: 0.00005815\n"
          ]
        },
        {
          "output_type": "stream",
          "name": "stderr",
          "text": [
            "\rTask 1 Epoch 8:  40%|████      | 2/5 [00:03<00:04,  1.46s/batch]"
          ]
        },
        {
          "output_type": "stream",
          "name": "stdout",
          "text": [
            "WARNING: Average EWC penalty per parameter is very small: 0.00005650\n"
          ]
        },
        {
          "output_type": "stream",
          "name": "stderr",
          "text": [
            "\rTask 1 Epoch 8:  60%|██████    | 3/5 [00:03<00:02,  1.00s/batch]"
          ]
        },
        {
          "output_type": "stream",
          "name": "stdout",
          "text": [
            "WARNING: Average EWC penalty per parameter is very small: 0.00005422\n"
          ]
        },
        {
          "output_type": "stream",
          "name": "stderr",
          "text": [
            "\rTask 1 Epoch 8:  80%|████████  | 4/5 [00:04<00:00,  1.27batch/s]"
          ]
        },
        {
          "output_type": "stream",
          "name": "stdout",
          "text": [
            "WARNING: Average EWC penalty per parameter is very small: 0.00004312\n"
          ]
        },
        {
          "output_type": "stream",
          "name": "stderr",
          "text": [
            "Task 1 Epoch 8: 100%|██████████| 5/5 [00:04<00:00,  1.05batch/s]\n",
            "Validating: 100%|██████████| 2/2 [00:02<00:00,  1.32s/it]\n"
          ]
        },
        {
          "output_type": "stream",
          "name": "stdout",
          "text": [
            "Task 1, Epoch 8, EWC Loss: 0.2933, Total Loss: 1.4109, Val Loss (Cumulative): 1.8898\n"
          ]
        },
        {
          "output_type": "stream",
          "name": "stderr",
          "text": [
            "\rTask 1 Epoch 9:   0%|          | 0/5 [00:00<?, ?batch/s]"
          ]
        },
        {
          "output_type": "stream",
          "name": "stdout",
          "text": [
            "WARNING: Average EWC penalty per parameter is very small: 0.00004634\n"
          ]
        },
        {
          "output_type": "stream",
          "name": "stderr",
          "text": [
            "\rTask 1 Epoch 9:  20%|██        | 1/5 [00:02<00:11,  2.88s/batch]"
          ]
        },
        {
          "output_type": "stream",
          "name": "stdout",
          "text": [
            "WARNING: Average EWC penalty per parameter is very small: 0.00003897\n"
          ]
        },
        {
          "output_type": "stream",
          "name": "stderr",
          "text": [
            "\rTask 1 Epoch 9:  40%|████      | 2/5 [00:03<00:04,  1.46s/batch]"
          ]
        },
        {
          "output_type": "stream",
          "name": "stdout",
          "text": [
            "WARNING: Average EWC penalty per parameter is very small: 0.00003735\n"
          ]
        },
        {
          "output_type": "stream",
          "name": "stderr",
          "text": [
            "\rTask 1 Epoch 9:  60%|██████    | 3/5 [00:03<00:01,  1.00batch/s]"
          ]
        },
        {
          "output_type": "stream",
          "name": "stdout",
          "text": [
            "WARNING: Average EWC penalty per parameter is very small: 0.00003696\n"
          ]
        },
        {
          "output_type": "stream",
          "name": "stderr",
          "text": [
            "\rTask 1 Epoch 9:  80%|████████  | 4/5 [00:04<00:00,  1.28batch/s]"
          ]
        },
        {
          "output_type": "stream",
          "name": "stdout",
          "text": [
            "WARNING: Average EWC penalty per parameter is very small: 0.00003101\n"
          ]
        },
        {
          "output_type": "stream",
          "name": "stderr",
          "text": [
            "Task 1 Epoch 9: 100%|██████████| 5/5 [00:04<00:00,  1.07batch/s]\n",
            "Validating: 100%|██████████| 2/2 [00:02<00:00,  1.08s/it]\n"
          ]
        },
        {
          "output_type": "stream",
          "name": "stdout",
          "text": [
            "Task 1, Epoch 9, EWC Loss: 0.1956, Total Loss: 1.2541, Val Loss (Cumulative): 1.8542\n"
          ]
        },
        {
          "output_type": "stream",
          "name": "stderr",
          "text": [
            "\rTask 1 Epoch 10:   0%|          | 0/5 [00:00<?, ?batch/s]"
          ]
        },
        {
          "output_type": "stream",
          "name": "stdout",
          "text": [
            "WARNING: Average EWC penalty per parameter is very small: 0.00003418\n"
          ]
        },
        {
          "output_type": "stream",
          "name": "stderr",
          "text": [
            "\rTask 1 Epoch 10:  20%|██        | 1/5 [00:02<00:11,  2.96s/batch]"
          ]
        },
        {
          "output_type": "stream",
          "name": "stdout",
          "text": [
            "WARNING: Average EWC penalty per parameter is very small: 0.00002825\n"
          ]
        },
        {
          "output_type": "stream",
          "name": "stderr",
          "text": [
            "\rTask 1 Epoch 10:  40%|████      | 2/5 [00:03<00:04,  1.56s/batch]"
          ]
        },
        {
          "output_type": "stream",
          "name": "stdout",
          "text": [
            "WARNING: Average EWC penalty per parameter is very small: 0.00002907\n"
          ]
        },
        {
          "output_type": "stream",
          "name": "stderr",
          "text": [
            "\rTask 1 Epoch 10:  60%|██████    | 3/5 [00:04<00:02,  1.08s/batch]"
          ]
        },
        {
          "output_type": "stream",
          "name": "stdout",
          "text": [
            "WARNING: Average EWC penalty per parameter is very small: 0.00002932\n"
          ]
        },
        {
          "output_type": "stream",
          "name": "stderr",
          "text": [
            "\rTask 1 Epoch 10:  80%|████████  | 4/5 [00:04<00:00,  1.17batch/s]"
          ]
        },
        {
          "output_type": "stream",
          "name": "stdout",
          "text": [
            "WARNING: Average EWC penalty per parameter is very small: 0.00002537\n"
          ]
        },
        {
          "output_type": "stream",
          "name": "stderr",
          "text": [
            "Task 1 Epoch 10: 100%|██████████| 5/5 [00:04<00:00,  1.00batch/s]\n",
            "Validating: 100%|██████████| 2/2 [00:02<00:00,  1.05s/it]\n"
          ]
        },
        {
          "output_type": "stream",
          "name": "stdout",
          "text": [
            "Task 1, Epoch 10, EWC Loss: 0.1500, Total Loss: 1.1212, Val Loss (Cumulative): 1.8152\n"
          ]
        },
        {
          "output_type": "stream",
          "name": "stderr",
          "text": [
            "\rTask 1 Epoch 11:   0%|          | 0/5 [00:00<?, ?batch/s]"
          ]
        },
        {
          "output_type": "stream",
          "name": "stdout",
          "text": [
            "WARNING: Average EWC penalty per parameter is very small: 0.00002601\n"
          ]
        },
        {
          "output_type": "stream",
          "name": "stderr",
          "text": [
            "\rTask 1 Epoch 11:  20%|██        | 1/5 [00:02<00:11,  2.85s/batch]"
          ]
        },
        {
          "output_type": "stream",
          "name": "stdout",
          "text": [
            "WARNING: Average EWC penalty per parameter is very small: 0.00002328\n"
          ]
        },
        {
          "output_type": "stream",
          "name": "stderr",
          "text": [
            "\rTask 1 Epoch 11:  40%|████      | 2/5 [00:03<00:04,  1.45s/batch]"
          ]
        },
        {
          "output_type": "stream",
          "name": "stdout",
          "text": [
            "WARNING: Average EWC penalty per parameter is very small: 0.00002313\n"
          ]
        },
        {
          "output_type": "stream",
          "name": "stderr",
          "text": [
            "\rTask 1 Epoch 11:  60%|██████    | 3/5 [00:03<00:01,  1.01batch/s]"
          ]
        },
        {
          "output_type": "stream",
          "name": "stdout",
          "text": [
            "WARNING: Average EWC penalty per parameter is very small: 0.00002312\n"
          ]
        },
        {
          "output_type": "stream",
          "name": "stderr",
          "text": [
            "\rTask 1 Epoch 11:  80%|████████  | 4/5 [00:04<00:00,  1.28batch/s]"
          ]
        },
        {
          "output_type": "stream",
          "name": "stdout",
          "text": [
            "WARNING: Average EWC penalty per parameter is very small: 0.00002112\n"
          ]
        },
        {
          "output_type": "stream",
          "name": "stderr",
          "text": [
            "Task 1 Epoch 11: 100%|██████████| 5/5 [00:04<00:00,  1.08batch/s]\n",
            "Validating: 100%|██████████| 2/2 [00:02<00:00,  1.07s/it]\n"
          ]
        },
        {
          "output_type": "stream",
          "name": "stdout",
          "text": [
            "Task 1, Epoch 11, EWC Loss: 0.1197, Total Loss: 1.0009, Val Loss (Cumulative): 1.7773\n"
          ]
        },
        {
          "output_type": "stream",
          "name": "stderr",
          "text": [
            "\rTask 1 Epoch 12:   0%|          | 0/5 [00:00<?, ?batch/s]"
          ]
        },
        {
          "output_type": "stream",
          "name": "stdout",
          "text": [
            "WARNING: Average EWC penalty per parameter is very small: 0.00002015\n"
          ]
        },
        {
          "output_type": "stream",
          "name": "stderr",
          "text": [
            "\rTask 1 Epoch 12:  20%|██        | 1/5 [00:03<00:15,  3.99s/batch]"
          ]
        },
        {
          "output_type": "stream",
          "name": "stdout",
          "text": [
            "WARNING: Average EWC penalty per parameter is very small: 0.00001878\n"
          ]
        },
        {
          "output_type": "stream",
          "name": "stderr",
          "text": [
            "\rTask 1 Epoch 12:  40%|████      | 2/5 [00:04<00:05,  1.92s/batch]"
          ]
        },
        {
          "output_type": "stream",
          "name": "stdout",
          "text": [
            "WARNING: Average EWC penalty per parameter is very small: 0.00002203\n"
          ]
        },
        {
          "output_type": "stream",
          "name": "stderr",
          "text": [
            "\rTask 1 Epoch 12:  60%|██████    | 3/5 [00:04<00:02,  1.25s/batch]"
          ]
        },
        {
          "output_type": "stream",
          "name": "stdout",
          "text": [
            "WARNING: Average EWC penalty per parameter is very small: 0.00001605\n"
          ]
        },
        {
          "output_type": "stream",
          "name": "stderr",
          "text": [
            "\rTask 1 Epoch 12:  80%|████████  | 4/5 [00:05<00:00,  1.07batch/s]"
          ]
        },
        {
          "output_type": "stream",
          "name": "stdout",
          "text": [
            "WARNING: Average EWC penalty per parameter is very small: 0.00002175\n"
          ]
        },
        {
          "output_type": "stream",
          "name": "stderr",
          "text": [
            "Task 1 Epoch 12: 100%|██████████| 5/5 [00:05<00:00,  1.15s/batch]\n",
            "Validating: 100%|██████████| 2/2 [00:02<00:00,  1.06s/it]\n"
          ]
        },
        {
          "output_type": "stream",
          "name": "stdout",
          "text": [
            "Task 1, Epoch 12, EWC Loss: 0.1013, Total Loss: 0.8880, Val Loss (Cumulative): 1.7416\n"
          ]
        },
        {
          "output_type": "stream",
          "name": "stderr",
          "text": [
            "\rTask 1 Epoch 13:   0%|          | 0/5 [00:00<?, ?batch/s]"
          ]
        },
        {
          "output_type": "stream",
          "name": "stdout",
          "text": [
            "WARNING: Average EWC penalty per parameter is very small: 0.00001577\n"
          ]
        },
        {
          "output_type": "stream",
          "name": "stderr",
          "text": [
            "\rTask 1 Epoch 13:  20%|██        | 1/5 [00:02<00:11,  2.93s/batch]"
          ]
        },
        {
          "output_type": "stream",
          "name": "stdout",
          "text": [
            "WARNING: Average EWC penalty per parameter is very small: 0.00002097\n"
          ]
        },
        {
          "output_type": "stream",
          "name": "stderr",
          "text": [
            "\rTask 1 Epoch 13:  40%|████      | 2/5 [00:03<00:04,  1.48s/batch]"
          ]
        },
        {
          "output_type": "stream",
          "name": "stdout",
          "text": [
            "WARNING: Average EWC penalty per parameter is very small: 0.00001239\n"
          ]
        },
        {
          "output_type": "stream",
          "name": "stderr",
          "text": [
            "\rTask 1 Epoch 13:  60%|██████    | 3/5 [00:03<00:02,  1.01s/batch]"
          ]
        },
        {
          "output_type": "stream",
          "name": "stdout",
          "text": [
            "WARNING: Average EWC penalty per parameter is very small: 0.00002748\n"
          ]
        },
        {
          "output_type": "stream",
          "name": "stderr",
          "text": [
            "\rTask 1 Epoch 13:  80%|████████  | 4/5 [00:04<00:00,  1.26batch/s]"
          ]
        },
        {
          "output_type": "stream",
          "name": "stdout",
          "text": [
            "WARNING: Average EWC penalty per parameter is very small: 0.00001058\n"
          ]
        },
        {
          "output_type": "stream",
          "name": "stderr",
          "text": [
            "Task 1 Epoch 13: 100%|██████████| 5/5 [00:04<00:00,  1.06batch/s]\n",
            "Validating: 100%|██████████| 2/2 [00:02<00:00,  1.37s/it]\n"
          ]
        },
        {
          "output_type": "stream",
          "name": "stdout",
          "text": [
            "Task 1, Epoch 13, EWC Loss: 0.0895, Total Loss: 0.8289, Val Loss (Cumulative): 1.7050\n"
          ]
        },
        {
          "output_type": "stream",
          "name": "stderr",
          "text": [
            "\rTask 1 Epoch 14:   0%|          | 0/5 [00:00<?, ?batch/s]"
          ]
        },
        {
          "output_type": "stream",
          "name": "stdout",
          "text": [
            "WARNING: Average EWC penalty per parameter is very small: 0.00003687\n"
          ]
        },
        {
          "output_type": "stream",
          "name": "stderr",
          "text": [
            "\rTask 1 Epoch 14:  20%|██        | 1/5 [00:03<00:12,  3.04s/batch]"
          ]
        },
        {
          "output_type": "stream",
          "name": "stdout",
          "text": [
            "WARNING: Average EWC penalty per parameter is very small: 0.00001383\n"
          ]
        },
        {
          "output_type": "stream",
          "name": "stderr",
          "text": [
            "\rTask 1 Epoch 14:  40%|████      | 2/5 [00:03<00:04,  1.53s/batch]"
          ]
        },
        {
          "output_type": "stream",
          "name": "stdout",
          "text": [
            "WARNING: Average EWC penalty per parameter is very small: 0.00004995\n"
          ]
        },
        {
          "output_type": "stream",
          "name": "stderr",
          "text": [
            "\rTask 1 Epoch 14:  60%|██████    | 3/5 [00:03<00:02,  1.04s/batch]"
          ]
        },
        {
          "output_type": "stream",
          "name": "stdout",
          "text": [
            "WARNING: Average EWC penalty per parameter is very small: 0.00003565\n"
          ]
        },
        {
          "output_type": "stream",
          "name": "stderr",
          "text": [
            "\rTask 1 Epoch 14:  80%|████████  | 4/5 [00:04<00:00,  1.24batch/s]"
          ]
        },
        {
          "output_type": "stream",
          "name": "stdout",
          "text": [
            "WARNING: Average EWC penalty per parameter is very small: 0.00003225\n"
          ]
        },
        {
          "output_type": "stream",
          "name": "stderr",
          "text": [
            "Task 1 Epoch 14: 100%|██████████| 5/5 [00:04<00:00,  1.03batch/s]\n",
            "Validating: 100%|██████████| 2/2 [00:02<00:00,  1.06s/it]\n"
          ]
        },
        {
          "output_type": "stream",
          "name": "stdout",
          "text": [
            "Task 1, Epoch 14, EWC Loss: 0.1729, Total Loss: 0.8172, Val Loss (Cumulative): 1.6711\n"
          ]
        },
        {
          "output_type": "stream",
          "name": "stderr",
          "text": [
            "\rTask 1 Epoch 15:   0%|          | 0/5 [00:00<?, ?batch/s]"
          ]
        },
        {
          "output_type": "stream",
          "name": "stdout",
          "text": [
            "WARNING: Average EWC penalty per parameter is very small: 0.00004629\n"
          ]
        },
        {
          "output_type": "stream",
          "name": "stderr",
          "text": [
            "\rTask 1 Epoch 15:  20%|██        | 1/5 [00:02<00:11,  2.78s/batch]"
          ]
        },
        {
          "output_type": "stream",
          "name": "stdout",
          "text": [
            "WARNING: Average EWC penalty per parameter is very small: 0.00001826\n"
          ]
        },
        {
          "output_type": "stream",
          "name": "stderr",
          "text": [
            "\rTask 1 Epoch 15:  40%|████      | 2/5 [00:03<00:04,  1.42s/batch]"
          ]
        },
        {
          "output_type": "stream",
          "name": "stdout",
          "text": [
            "WARNING: Average EWC penalty per parameter is very small: 0.00005099\n"
          ]
        },
        {
          "output_type": "stream",
          "name": "stderr",
          "text": [
            "\rTask 1 Epoch 15:  60%|██████    | 3/5 [00:03<00:01,  1.02batch/s]"
          ]
        },
        {
          "output_type": "stream",
          "name": "stdout",
          "text": [
            "WARNING: Average EWC penalty per parameter is very small: 0.00003703\n"
          ]
        },
        {
          "output_type": "stream",
          "name": "stderr",
          "text": [
            "\rTask 1 Epoch 15:  80%|████████  | 4/5 [00:04<00:00,  1.28batch/s]"
          ]
        },
        {
          "output_type": "stream",
          "name": "stdout",
          "text": [
            "WARNING: Average EWC penalty per parameter is very small: 0.00003464\n"
          ]
        },
        {
          "output_type": "stream",
          "name": "stderr",
          "text": [
            "Task 1 Epoch 15: 100%|██████████| 5/5 [00:04<00:00,  1.08batch/s]\n",
            "Validating: 100%|██████████| 2/2 [00:02<00:00,  1.30s/it]\n"
          ]
        },
        {
          "output_type": "stream",
          "name": "stdout",
          "text": [
            "Task 1, Epoch 15, EWC Loss: 0.1921, Total Loss: 0.7774, Val Loss (Cumulative): 1.6487\n",
            "Finished training task 1\n",
            "Storing parameters for task 1...\n",
            "Stored parameter layer4.0.conv1.weight: min=-0.264371, max=0.383067, mean=-0.001575\n",
            "Stored parameter layer4.0.bn1.weight: min=0.136661, max=0.428629, mean=0.264354\n",
            "Stored parameter layer4.0.bn1.bias: min=-0.477037, max=0.145683, mean=-0.225701\n",
            "Stored parameter layer4.0.conv2.weight: min=-0.282774, max=0.348377, mean=-0.001305\n",
            "Stored parameter layer4.0.bn2.weight: min=0.140037, max=0.732721, mean=0.424390\n",
            "Stored parameter layer4.0.bn2.bias: min=-0.400334, max=0.117097, mean=-0.197624\n",
            "Stored parameter layer4.0.downsample.0.weight: min=-0.628815, max=0.746463, mean=-0.000855\n",
            "Stored parameter layer4.0.downsample.1.weight: min=-0.053271, max=0.509675, mean=0.250608\n",
            "Stored parameter layer4.0.downsample.1.bias: min=-0.400334, max=0.117097, mean=-0.197624\n",
            "Stored parameter layer4.1.conv1.weight: min=-0.194928, max=0.265121, mean=-0.002261\n",
            "Stored parameter layer4.1.bn1.weight: min=0.097248, max=0.465722, mean=0.288570\n",
            "Stored parameter layer4.1.bn1.bias: min=-0.594482, max=0.053118, mean=-0.241736\n",
            "Stored parameter layer4.1.conv2.weight: min=-0.173942, max=0.272460, mean=-0.000118\n",
            "Stored parameter layer4.1.bn2.weight: min=1.578238, max=2.409823, mean=1.853904\n",
            "Stored parameter layer4.1.bn2.bias: min=0.072867, max=0.651685, mean=0.273993\n",
            "Stored parameter fc.weight: min=-0.119344, max=0.112157, mean=-0.002944\n",
            "Stored parameter fc.bias: min=-0.051300, max=0.046734, mean=0.003548\n",
            "Stored output size for task 1: 20\n",
            "Consolidating weights based on importance...\n",
            "Sampling 20 examples from task 1 for memory buffer...\n",
            "Memory buffer size: 40 / 1000\n"
          ]
        },
        {
          "output_type": "stream",
          "name": "stderr",
          "text": [
            "Testing: 100%|██████████| 4/4 [00:04<00:00,  1.12s/it]\n"
          ]
        },
        {
          "output_type": "stream",
          "name": "stdout",
          "text": [
            "Overall accuracy for task 1 (on classes 0-19): 0.5787\n",
            "Model for task 1 saved as model_task_1.pth\n",
            "Training on task 2...\n",
            "Task 2: Training with 599 current samples and 40 replay samples.\n",
            "Froze 3 important parameters with importance > 0.061667\n",
            "Starting training for Task 2. Trainable parameters:\n",
            "  - conv1.weight\n",
            "  - bn1.weight\n",
            "  - bn1.bias\n",
            "  - layer1.0.conv1.weight\n",
            "  - layer1.0.bn1.weight\n",
            "  - layer1.0.bn1.bias\n",
            "  - layer1.0.conv2.weight\n",
            "  - layer1.0.bn2.weight\n",
            "  - layer1.0.bn2.bias\n",
            "  - layer1.1.conv1.weight\n",
            "  - layer1.1.bn1.weight\n",
            "  - layer1.1.bn1.bias\n",
            "  - layer1.1.conv2.weight\n",
            "  - layer1.1.bn2.weight\n",
            "  - layer1.1.bn2.bias\n",
            "  - layer2.0.conv1.weight\n",
            "  - layer2.0.bn1.weight\n",
            "  - layer2.0.bn1.bias\n",
            "  - layer2.0.conv2.weight\n",
            "  - layer2.0.bn2.weight\n",
            "  - layer2.0.bn2.bias\n",
            "  - layer2.0.downsample.0.weight\n",
            "  - layer2.0.downsample.1.weight\n",
            "  - layer2.0.downsample.1.bias\n",
            "  - layer2.1.conv1.weight\n",
            "  - layer2.1.bn1.weight\n",
            "  - layer2.1.bn1.bias\n",
            "  - layer2.1.conv2.weight\n",
            "  - layer2.1.bn2.weight\n",
            "  - layer2.1.bn2.bias\n",
            "  - layer3.0.conv1.weight\n",
            "  - layer3.0.bn1.weight\n",
            "  - layer3.0.bn1.bias\n",
            "  - layer3.0.conv2.weight\n",
            "  - layer3.0.bn2.weight\n",
            "  - layer3.0.bn2.bias\n",
            "  - layer3.0.downsample.0.weight\n",
            "  - layer3.0.downsample.1.weight\n",
            "  - layer3.0.downsample.1.bias\n",
            "  - layer3.1.conv1.weight\n",
            "  - layer3.1.bn1.weight\n",
            "  - layer3.1.bn1.bias\n",
            "  - layer3.1.conv2.weight\n",
            "  - layer3.1.bn2.weight\n",
            "  - layer3.1.bn2.bias\n",
            "  - layer4.0.conv1.weight\n",
            "  - layer4.0.bn1.weight\n",
            "  - layer4.0.bn1.bias\n",
            "  - layer4.0.conv2.weight\n",
            "  - layer4.0.bn2.weight\n",
            "  - layer4.0.bn2.bias\n",
            "  - layer4.0.downsample.0.weight\n",
            "  - layer4.0.downsample.1.weight\n",
            "  - layer4.0.downsample.1.bias\n",
            "  - layer4.1.conv1.weight\n",
            "  - layer4.1.bn1.weight\n",
            "  - layer4.1.bn1.bias\n",
            "  - layer4.1.conv2.weight\n",
            "  - layer4.1.bn2.weight\n",
            "  - layer4.1.bn2.bias\n",
            "  - fc.weight\n",
            "  - fc.bias\n"
          ]
        },
        {
          "output_type": "stream",
          "name": "stderr",
          "text": [
            "\rTask 2 Epoch 1:   0%|          | 0/5 [00:00<?, ?batch/s]"
          ]
        },
        {
          "output_type": "stream",
          "name": "stdout",
          "text": [
            "WARNING: Average EWC penalty per parameter is very small: 0.00000002\n"
          ]
        },
        {
          "output_type": "stream",
          "name": "stderr",
          "text": [
            "Task 2 Epoch 1:  40%|████      | 2/5 [00:03<00:04,  1.43s/batch]"
          ]
        },
        {
          "output_type": "stream",
          "name": "stdout",
          "text": [
            "WARNING: Average EWC penalty per parameter is very small: 0.00002487\n"
          ]
        },
        {
          "output_type": "stream",
          "name": "stderr",
          "text": [
            "\rTask 2 Epoch 1:  60%|██████    | 3/5 [00:03<00:01,  1.00batch/s]"
          ]
        },
        {
          "output_type": "stream",
          "name": "stdout",
          "text": [
            "WARNING: Average EWC penalty per parameter is very small: 0.00005758\n"
          ]
        },
        {
          "output_type": "stream",
          "name": "stderr",
          "text": [
            "\rTask 2 Epoch 1:  80%|████████  | 4/5 [00:04<00:00,  1.27batch/s]"
          ]
        },
        {
          "output_type": "stream",
          "name": "stdout",
          "text": [
            "WARNING: Average EWC penalty per parameter is very small: 0.00008618\n"
          ]
        },
        {
          "output_type": "stream",
          "name": "stderr",
          "text": [
            "Task 2 Epoch 1: 100%|██████████| 5/5 [00:04<00:00,  1.06batch/s]\n",
            "Validating: 100%|██████████| 2/2 [00:02<00:00,  1.43s/it]\n"
          ]
        },
        {
          "output_type": "stream",
          "name": "stdout",
          "text": [
            "Task 2, Epoch 1, EWC Loss: 756.0660, Total Loss: 759.5506, Val Loss (Cumulative): 2.5900\n"
          ]
        },
        {
          "output_type": "stream",
          "name": "stderr",
          "text": [
            "\rTask 2 Epoch 2:   0%|          | 0/5 [00:00<?, ?batch/s]"
          ]
        },
        {
          "output_type": "stream",
          "name": "stdout",
          "text": [
            "WARNING: Average EWC penalty per parameter is very small: 0.00004770\n"
          ]
        },
        {
          "output_type": "stream",
          "name": "stderr",
          "text": [
            "\rTask 2 Epoch 2:  20%|██        | 1/5 [00:03<00:13,  3.42s/batch]"
          ]
        },
        {
          "output_type": "stream",
          "name": "stdout",
          "text": [
            "WARNING: Average EWC penalty per parameter is very small: 0.00000782\n"
          ]
        },
        {
          "output_type": "stream",
          "name": "stderr",
          "text": [
            "\rTask 2 Epoch 2:  40%|████      | 2/5 [00:03<00:05,  1.69s/batch]"
          ]
        },
        {
          "output_type": "stream",
          "name": "stdout",
          "text": [
            "WARNING: Average EWC penalty per parameter is very small: 0.00002122\n"
          ]
        },
        {
          "output_type": "stream",
          "name": "stderr",
          "text": [
            "\rTask 2 Epoch 2:  60%|██████    | 3/5 [00:04<00:02,  1.13s/batch]"
          ]
        },
        {
          "output_type": "stream",
          "name": "stdout",
          "text": [
            "WARNING: Average EWC penalty per parameter is very small: 0.00004185\n"
          ]
        },
        {
          "output_type": "stream",
          "name": "stderr",
          "text": [
            "\rTask 2 Epoch 2:  80%|████████  | 4/5 [00:04<00:00,  1.15batch/s]"
          ]
        },
        {
          "output_type": "stream",
          "name": "stdout",
          "text": [
            "WARNING: Average EWC penalty per parameter is very small: 0.00003335\n"
          ]
        },
        {
          "output_type": "stream",
          "name": "stderr",
          "text": [
            "Task 2 Epoch 2: 100%|██████████| 5/5 [00:05<00:00,  1.07s/batch]\n",
            "Validating: 100%|██████████| 2/2 [00:02<00:00,  1.29s/it]\n"
          ]
        },
        {
          "output_type": "stream",
          "name": "stdout",
          "text": [
            "Task 2, Epoch 2, EWC Loss: 340.0959, Total Loss: 343.5072, Val Loss (Cumulative): 2.4764\n"
          ]
        },
        {
          "output_type": "stream",
          "name": "stderr",
          "text": [
            "\rTask 2 Epoch 3:   0%|          | 0/5 [00:00<?, ?batch/s]"
          ]
        },
        {
          "output_type": "stream",
          "name": "stdout",
          "text": [
            "WARNING: Average EWC penalty per parameter is very small: 0.00001096\n"
          ]
        },
        {
          "output_type": "stream",
          "name": "stderr",
          "text": [
            "\rTask 2 Epoch 3:  20%|██        | 1/5 [00:02<00:10,  2.74s/batch]"
          ]
        },
        {
          "output_type": "stream",
          "name": "stdout",
          "text": [
            "WARNING: Average EWC penalty per parameter is very small: 0.00000554\n"
          ]
        },
        {
          "output_type": "stream",
          "name": "stderr",
          "text": [
            "\rTask 2 Epoch 3:  40%|████      | 2/5 [00:03<00:04,  1.41s/batch]"
          ]
        },
        {
          "output_type": "stream",
          "name": "stdout",
          "text": [
            "WARNING: Average EWC penalty per parameter is very small: 0.00001585\n"
          ]
        },
        {
          "output_type": "stream",
          "name": "stderr",
          "text": [
            "\rTask 2 Epoch 3:  60%|██████    | 3/5 [00:03<00:01,  1.02batch/s]"
          ]
        },
        {
          "output_type": "stream",
          "name": "stdout",
          "text": [
            "WARNING: Average EWC penalty per parameter is very small: 0.00001660\n"
          ]
        },
        {
          "output_type": "stream",
          "name": "stderr",
          "text": [
            "\rTask 2 Epoch 3:  80%|████████  | 4/5 [00:04<00:00,  1.28batch/s]"
          ]
        },
        {
          "output_type": "stream",
          "name": "stdout",
          "text": [
            "WARNING: Average EWC penalty per parameter is very small: 0.00000743\n"
          ]
        },
        {
          "output_type": "stream",
          "name": "stderr",
          "text": [
            "Task 2 Epoch 3: 100%|██████████| 5/5 [00:04<00:00,  1.05batch/s]\n",
            "Validating: 100%|██████████| 2/2 [00:02<00:00,  1.50s/it]\n"
          ]
        },
        {
          "output_type": "stream",
          "name": "stdout",
          "text": [
            "Task 2, Epoch 3, EWC Loss: 126.2072, Total Loss: 129.6641, Val Loss (Cumulative): 2.5447\n"
          ]
        },
        {
          "output_type": "stream",
          "name": "stderr",
          "text": [
            "\rTask 2 Epoch 4:   0%|          | 0/5 [00:00<?, ?batch/s]"
          ]
        },
        {
          "output_type": "stream",
          "name": "stdout",
          "text": [
            "WARNING: Average EWC penalty per parameter is very small: 0.00000379\n"
          ]
        },
        {
          "output_type": "stream",
          "name": "stderr",
          "text": [
            "\rTask 2 Epoch 4:  20%|██        | 1/5 [00:02<00:10,  2.67s/batch]"
          ]
        },
        {
          "output_type": "stream",
          "name": "stdout",
          "text": [
            "WARNING: Average EWC penalty per parameter is very small: 0.00000839\n"
          ]
        },
        {
          "output_type": "stream",
          "name": "stderr",
          "text": [
            "\rTask 2 Epoch 4:  40%|████      | 2/5 [00:03<00:04,  1.39s/batch]"
          ]
        },
        {
          "output_type": "stream",
          "name": "stdout",
          "text": [
            "WARNING: Average EWC penalty per parameter is very small: 0.00000818\n"
          ]
        },
        {
          "output_type": "stream",
          "name": "stderr",
          "text": [
            "\rTask 2 Epoch 4:  60%|██████    | 3/5 [00:03<00:01,  1.03batch/s]"
          ]
        },
        {
          "output_type": "stream",
          "name": "stdout",
          "text": [
            "WARNING: Average EWC penalty per parameter is very small: 0.00000332\n"
          ]
        },
        {
          "output_type": "stream",
          "name": "stderr",
          "text": [
            "\rTask 2 Epoch 4:  80%|████████  | 4/5 [00:04<00:00,  1.30batch/s]"
          ]
        },
        {
          "output_type": "stream",
          "name": "stdout",
          "text": [
            "WARNING: Average EWC penalty per parameter is very small: 0.00000390\n"
          ]
        },
        {
          "output_type": "stream",
          "name": "stderr",
          "text": [
            "Task 2 Epoch 4: 100%|██████████| 5/5 [00:04<00:00,  1.08batch/s]\n",
            "Validating: 100%|██████████| 2/2 [00:02<00:00,  1.32s/it]\n"
          ]
        },
        {
          "output_type": "stream",
          "name": "stdout",
          "text": [
            "Task 2, Epoch 4, EWC Loss: 61.7312, Total Loss: 65.0517, Val Loss (Cumulative): 2.5462\n"
          ]
        },
        {
          "output_type": "stream",
          "name": "stderr",
          "text": [
            "\rTask 2 Epoch 5:   0%|          | 0/5 [00:00<?, ?batch/s]"
          ]
        },
        {
          "output_type": "stream",
          "name": "stdout",
          "text": [
            "WARNING: Average EWC penalty per parameter is very small: 0.00000706\n"
          ]
        },
        {
          "output_type": "stream",
          "name": "stderr",
          "text": [
            "\rTask 2 Epoch 5:  20%|██        | 1/5 [00:04<00:16,  4.05s/batch]"
          ]
        },
        {
          "output_type": "stream",
          "name": "stdout",
          "text": [
            "WARNING: Average EWC penalty per parameter is very small: 0.00000499\n"
          ]
        },
        {
          "output_type": "stream",
          "name": "stderr",
          "text": [
            "\rTask 2 Epoch 5:  40%|████      | 2/5 [00:04<00:05,  1.95s/batch]"
          ]
        },
        {
          "output_type": "stream",
          "name": "stdout",
          "text": [
            "WARNING: Average EWC penalty per parameter is very small: 0.00000224\n"
          ]
        },
        {
          "output_type": "stream",
          "name": "stderr",
          "text": [
            "\rTask 2 Epoch 5:  60%|██████    | 3/5 [00:05<00:02,  1.28s/batch]"
          ]
        },
        {
          "output_type": "stream",
          "name": "stdout",
          "text": [
            "WARNING: Average EWC penalty per parameter is very small: 0.00000325\n"
          ]
        },
        {
          "output_type": "stream",
          "name": "stderr",
          "text": [
            "\rTask 2 Epoch 5:  80%|████████  | 4/5 [00:05<00:00,  1.04batch/s]"
          ]
        },
        {
          "output_type": "stream",
          "name": "stdout",
          "text": [
            "WARNING: Average EWC penalty per parameter is very small: 0.00000355\n"
          ]
        },
        {
          "output_type": "stream",
          "name": "stderr",
          "text": [
            "Task 2 Epoch 5: 100%|██████████| 5/5 [00:06<00:00,  1.20s/batch]\n",
            "Validating: 100%|██████████| 2/2 [00:02<00:00,  1.33s/it]\n"
          ]
        },
        {
          "output_type": "stream",
          "name": "stdout",
          "text": [
            "Task 2, Epoch 5, EWC Loss: 47.2039, Total Loss: 50.5723, Val Loss (Cumulative): 2.5275\n",
            "Unfreezing backbone at epoch 5 for task 2\n"
          ]
        },
        {
          "output_type": "stream",
          "name": "stderr",
          "text": [
            "\rTask 2 Epoch 6:   0%|          | 0/5 [00:00<?, ?batch/s]"
          ]
        },
        {
          "output_type": "stream",
          "name": "stdout",
          "text": [
            "WARNING: Average EWC penalty per parameter is very small: 0.00000213\n"
          ]
        },
        {
          "output_type": "stream",
          "name": "stderr",
          "text": [
            "\rTask 2 Epoch 6:  20%|██        | 1/5 [00:02<00:11,  2.84s/batch]"
          ]
        },
        {
          "output_type": "stream",
          "name": "stdout",
          "text": [
            "WARNING: Average EWC penalty per parameter is very small: 0.00000210\n"
          ]
        },
        {
          "output_type": "stream",
          "name": "stderr",
          "text": [
            "\rTask 2 Epoch 6:  40%|████      | 2/5 [00:03<00:04,  1.45s/batch]"
          ]
        },
        {
          "output_type": "stream",
          "name": "stdout",
          "text": [
            "WARNING: Average EWC penalty per parameter is very small: 0.00000218\n"
          ]
        },
        {
          "output_type": "stream",
          "name": "stderr",
          "text": [
            "\rTask 2 Epoch 6:  60%|██████    | 3/5 [00:03<00:02,  1.01s/batch]"
          ]
        },
        {
          "output_type": "stream",
          "name": "stdout",
          "text": [
            "WARNING: Average EWC penalty per parameter is very small: 0.00000175\n"
          ]
        },
        {
          "output_type": "stream",
          "name": "stderr",
          "text": [
            "\rTask 2 Epoch 6:  80%|████████  | 4/5 [00:04<00:00,  1.26batch/s]"
          ]
        },
        {
          "output_type": "stream",
          "name": "stdout",
          "text": [
            "WARNING: Average EWC penalty per parameter is very small: 0.00000194\n"
          ]
        },
        {
          "output_type": "stream",
          "name": "stderr",
          "text": [
            "Task 2 Epoch 6: 100%|██████████| 5/5 [00:04<00:00,  1.04batch/s]\n",
            "Validating: 100%|██████████| 2/2 [00:03<00:00,  1.88s/it]\n"
          ]
        },
        {
          "output_type": "stream",
          "name": "stdout",
          "text": [
            "Task 2, Epoch 6, EWC Loss: 22.5861, Total Loss: 25.8731, Val Loss (Cumulative): 2.5529\n"
          ]
        },
        {
          "output_type": "stream",
          "name": "stderr",
          "text": [
            "\rTask 2 Epoch 7:   0%|          | 0/5 [00:00<?, ?batch/s]"
          ]
        },
        {
          "output_type": "stream",
          "name": "stdout",
          "text": [
            "WARNING: Average EWC penalty per parameter is very small: 0.00000133\n"
          ]
        },
        {
          "output_type": "stream",
          "name": "stderr",
          "text": [
            "\rTask 2 Epoch 7:  20%|██        | 1/5 [00:02<00:11,  2.81s/batch]"
          ]
        },
        {
          "output_type": "stream",
          "name": "stdout",
          "text": [
            "WARNING: Average EWC penalty per parameter is very small: 0.00000119\n"
          ]
        },
        {
          "output_type": "stream",
          "name": "stderr",
          "text": [
            "\rTask 2 Epoch 7:  40%|████      | 2/5 [00:03<00:04,  1.45s/batch]"
          ]
        },
        {
          "output_type": "stream",
          "name": "stdout",
          "text": [
            "WARNING: Average EWC penalty per parameter is very small: 0.00000142\n"
          ]
        },
        {
          "output_type": "stream",
          "name": "stderr",
          "text": [
            "\rTask 2 Epoch 7:  60%|██████    | 3/5 [00:03<00:02,  1.01s/batch]"
          ]
        },
        {
          "output_type": "stream",
          "name": "stdout",
          "text": [
            "WARNING: Average EWC penalty per parameter is very small: 0.00000120\n"
          ]
        },
        {
          "output_type": "stream",
          "name": "stderr",
          "text": [
            "\rTask 2 Epoch 7:  80%|████████  | 4/5 [00:04<00:00,  1.25batch/s]"
          ]
        },
        {
          "output_type": "stream",
          "name": "stdout",
          "text": [
            "WARNING: Average EWC penalty per parameter is very small: 0.00000113\n"
          ]
        },
        {
          "output_type": "stream",
          "name": "stderr",
          "text": [
            "Task 2 Epoch 7: 100%|██████████| 5/5 [00:04<00:00,  1.04batch/s]\n",
            "Validating: 100%|██████████| 2/2 [00:02<00:00,  1.32s/it]\n"
          ]
        },
        {
          "output_type": "stream",
          "name": "stdout",
          "text": [
            "Task 2, Epoch 7, EWC Loss: 14.0189, Total Loss: 17.2451, Val Loss (Cumulative): 2.5609\n",
            "Early stopping triggered at epoch 7 for task 2. Best Val Loss: 2.4764\n",
            "Finished training task 2\n",
            "Storing parameters for task 2...\n",
            "Stored parameter layer4.0.conv1.weight: min=-0.264367, max=0.383074, mean=-0.001576\n",
            "Stored parameter layer4.0.bn1.weight: min=0.136670, max=0.428622, mean=0.264354\n",
            "Stored parameter layer4.0.bn1.bias: min=-0.477031, max=0.145689, mean=-0.225701\n",
            "Stored parameter layer4.0.conv2.weight: min=-0.282766, max=0.348384, mean=-0.001305\n",
            "Stored parameter layer4.0.bn2.weight: min=0.140032, max=0.732727, mean=0.424391\n",
            "Stored parameter layer4.0.bn2.bias: min=-0.400330, max=0.117100, mean=-0.197623\n",
            "Stored parameter layer4.0.downsample.0.weight: min=-0.628806, max=0.746463, mean=-0.000855\n",
            "Stored parameter layer4.0.downsample.1.weight: min=-0.053268, max=0.509674, mean=0.250608\n",
            "Stored parameter layer4.0.downsample.1.bias: min=-0.400330, max=0.117100, mean=-0.197623\n",
            "Stored parameter layer4.1.conv1.weight: min=-0.194919, max=0.265121, mean=-0.002261\n",
            "Stored parameter layer4.1.bn1.weight: min=0.097244, max=0.465707, mean=0.288569\n",
            "Stored parameter layer4.1.bn1.bias: min=-0.594479, max=0.053111, mean=-0.241736\n",
            "Stored parameter layer4.1.conv2.weight: min=-0.173955, max=0.272458, mean=-0.000118\n",
            "Stored parameter layer4.1.bn2.weight: min=1.578236, max=2.409802, mean=1.853905\n",
            "Stored parameter layer4.1.bn2.bias: min=0.072881, max=0.651686, mean=0.273993\n",
            "Stored parameter fc.weight: min=-0.119341, max=0.112167, mean=-0.001712\n",
            "Stored parameter fc.bias: min=-0.051309, max=0.046747, mean=0.001014\n",
            "Stored output size for task 2: 30\n",
            "Consolidating weights based on importance...\n",
            "Consolidated parameter bn1.weight with weight factor 0.1010\n",
            "Consolidated parameter bn1.bias with weight factor 0.1668\n",
            "Consolidated parameter layer1.0.bn1.bias with weight factor 0.1189\n",
            "Sampling 20 examples from task 2 for memory buffer...\n",
            "Memory buffer size: 60 / 1000\n"
          ]
        },
        {
          "output_type": "stream",
          "name": "stderr",
          "text": [
            "Testing: 100%|██████████| 5/5 [00:05<00:00,  1.16s/it]\n"
          ]
        },
        {
          "output_type": "stream",
          "name": "stdout",
          "text": [
            "Overall accuracy for task 2 (on classes 0-29): 0.3517\n",
            "Model for task 2 saved as model_task_2.pth\n",
            "Training on task 3...\n",
            "Task 3: Training with 596 current samples and 60 replay samples.\n",
            "Froze 3 important parameters with importance > 0.123007\n",
            "Starting training for Task 3. Trainable parameters:\n",
            "  - conv1.weight\n",
            "  - bn1.weight\n",
            "  - bn1.bias\n",
            "  - layer1.0.conv1.weight\n",
            "  - layer1.0.bn1.weight\n",
            "  - layer1.0.bn1.bias\n",
            "  - layer1.0.conv2.weight\n",
            "  - layer1.0.bn2.weight\n",
            "  - layer1.0.bn2.bias\n",
            "  - layer1.1.conv1.weight\n",
            "  - layer1.1.bn1.weight\n",
            "  - layer1.1.bn1.bias\n",
            "  - layer1.1.conv2.weight\n",
            "  - layer1.1.bn2.weight\n",
            "  - layer1.1.bn2.bias\n",
            "  - layer2.0.conv1.weight\n",
            "  - layer2.0.bn1.weight\n",
            "  - layer2.0.bn1.bias\n",
            "  - layer2.0.conv2.weight\n",
            "  - layer2.0.bn2.weight\n",
            "  - layer2.0.bn2.bias\n",
            "  - layer2.0.downsample.0.weight\n",
            "  - layer2.0.downsample.1.weight\n",
            "  - layer2.0.downsample.1.bias\n",
            "  - layer2.1.conv1.weight\n",
            "  - layer2.1.bn1.weight\n",
            "  - layer2.1.bn1.bias\n",
            "  - layer2.1.conv2.weight\n",
            "  - layer2.1.bn2.weight\n",
            "  - layer2.1.bn2.bias\n",
            "  - layer3.0.conv1.weight\n",
            "  - layer3.0.bn1.weight\n",
            "  - layer3.0.bn1.bias\n",
            "  - layer3.0.conv2.weight\n",
            "  - layer3.0.bn2.weight\n",
            "  - layer3.0.bn2.bias\n",
            "  - layer3.0.downsample.0.weight\n",
            "  - layer3.0.downsample.1.weight\n",
            "  - layer3.0.downsample.1.bias\n",
            "  - layer3.1.conv1.weight\n",
            "  - layer3.1.bn1.weight\n",
            "  - layer3.1.bn1.bias\n",
            "  - layer3.1.conv2.weight\n",
            "  - layer3.1.bn2.weight\n",
            "  - layer3.1.bn2.bias\n",
            "  - layer4.0.conv1.weight\n",
            "  - layer4.0.bn1.weight\n",
            "  - layer4.0.bn1.bias\n",
            "  - layer4.0.conv2.weight\n",
            "  - layer4.0.bn2.weight\n",
            "  - layer4.0.bn2.bias\n",
            "  - layer4.0.downsample.0.weight\n",
            "  - layer4.0.downsample.1.weight\n",
            "  - layer4.0.downsample.1.bias\n",
            "  - layer4.1.conv1.weight\n",
            "  - layer4.1.bn1.weight\n",
            "  - layer4.1.bn1.bias\n",
            "  - layer4.1.conv2.weight\n",
            "  - layer4.1.bn2.weight\n",
            "  - layer4.1.bn2.bias\n",
            "  - fc.weight\n",
            "  - fc.bias\n"
          ]
        },
        {
          "output_type": "stream",
          "name": "stderr",
          "text": [
            "\rTask 3 Epoch 1:   0%|          | 0/6 [00:00<?, ?batch/s]"
          ]
        },
        {
          "output_type": "stream",
          "name": "stdout",
          "text": [
            "WARNING: Average EWC penalty per parameter is very small: 0.00000056\n"
          ]
        },
        {
          "output_type": "stream",
          "name": "stderr",
          "text": [
            "Task 3 Epoch 1:  50%|█████     | 3/6 [00:04<00:03,  1.20s/batch]"
          ]
        },
        {
          "output_type": "stream",
          "name": "stdout",
          "text": [
            "WARNING: Average EWC penalty per parameter is very small: 0.00008847\n"
          ]
        },
        {
          "output_type": "stream",
          "name": "stderr",
          "text": [
            "\rTask 3 Epoch 1:  67%|██████▋   | 4/6 [00:05<00:01,  1.10batch/s]"
          ]
        },
        {
          "output_type": "stream",
          "name": "stdout",
          "text": [
            "WARNING: Average EWC penalty per parameter is very small: 0.00004618\n"
          ]
        },
        {
          "output_type": "stream",
          "name": "stderr",
          "text": [
            "Task 3 Epoch 1: 100%|██████████| 6/6 [00:05<00:00,  1.04batch/s]\n"
          ]
        },
        {
          "output_type": "stream",
          "name": "stdout",
          "text": [
            "WARNING: Average EWC penalty per parameter is very small: 0.00004588\n"
          ]
        },
        {
          "output_type": "stream",
          "name": "stderr",
          "text": [
            "Validating: 100%|██████████| 3/3 [00:03<00:00,  1.19s/it]\n"
          ]
        },
        {
          "output_type": "stream",
          "name": "stdout",
          "text": [
            "Task 3, Epoch 1, EWC Loss: 2233.3681, Total Loss: 2236.9778, Val Loss (Cumulative): 3.1381\n"
          ]
        },
        {
          "output_type": "stream",
          "name": "stderr",
          "text": [
            "\rTask 3 Epoch 2:   0%|          | 0/6 [00:00<?, ?batch/s]"
          ]
        },
        {
          "output_type": "stream",
          "name": "stdout",
          "text": [
            "WARNING: Average EWC penalty per parameter is very small: 0.00005302\n"
          ]
        },
        {
          "output_type": "stream",
          "name": "stderr",
          "text": [
            "\rTask 3 Epoch 2:  17%|█▋        | 1/6 [00:02<00:12,  2.53s/batch]"
          ]
        },
        {
          "output_type": "stream",
          "name": "stdout",
          "text": [
            "WARNING: Average EWC penalty per parameter is very small: 0.00005002\n"
          ]
        },
        {
          "output_type": "stream",
          "name": "stderr",
          "text": [
            "\rTask 3 Epoch 2:  33%|███▎      | 2/6 [00:03<00:05,  1.33s/batch]"
          ]
        },
        {
          "output_type": "stream",
          "name": "stdout",
          "text": [
            "WARNING: Average EWC penalty per parameter is very small: 0.00003675\n"
          ]
        },
        {
          "output_type": "stream",
          "name": "stderr",
          "text": [
            "\rTask 3 Epoch 2:  50%|█████     | 3/6 [00:03<00:02,  1.05batch/s]"
          ]
        },
        {
          "output_type": "stream",
          "name": "stdout",
          "text": [
            "WARNING: Average EWC penalty per parameter is very small: 0.00002536\n"
          ]
        },
        {
          "output_type": "stream",
          "name": "stderr",
          "text": [
            "\rTask 3 Epoch 2:  67%|██████▋   | 4/6 [00:04<00:01,  1.31batch/s]"
          ]
        },
        {
          "output_type": "stream",
          "name": "stdout",
          "text": [
            "WARNING: Average EWC penalty per parameter is very small: 0.00002283\n"
          ]
        },
        {
          "output_type": "stream",
          "name": "stderr",
          "text": [
            "Task 3 Epoch 2: 100%|██████████| 6/6 [00:04<00:00,  1.28batch/s]\n"
          ]
        },
        {
          "output_type": "stream",
          "name": "stdout",
          "text": [
            "WARNING: Average EWC penalty per parameter is very small: 0.00002256\n"
          ]
        },
        {
          "output_type": "stream",
          "name": "stderr",
          "text": [
            "Validating: 100%|██████████| 3/3 [00:04<00:00,  1.41s/it]\n"
          ]
        },
        {
          "output_type": "stream",
          "name": "stdout",
          "text": [
            "Task 3, Epoch 2, EWC Loss: 785.4734, Total Loss: 788.9553, Val Loss (Cumulative): 3.1211\n"
          ]
        },
        {
          "output_type": "stream",
          "name": "stderr",
          "text": [
            "\rTask 3 Epoch 3:   0%|          | 0/6 [00:00<?, ?batch/s]"
          ]
        },
        {
          "output_type": "stream",
          "name": "stdout",
          "text": [
            "WARNING: Average EWC penalty per parameter is very small: 0.00001855\n"
          ]
        },
        {
          "output_type": "stream",
          "name": "stderr",
          "text": [
            "\rTask 3 Epoch 3:  17%|█▋        | 1/6 [00:02<00:13,  2.63s/batch]"
          ]
        },
        {
          "output_type": "stream",
          "name": "stdout",
          "text": [
            "WARNING: Average EWC penalty per parameter is very small: 0.00001515\n"
          ]
        },
        {
          "output_type": "stream",
          "name": "stderr",
          "text": [
            "\rTask 3 Epoch 3:  33%|███▎      | 2/6 [00:03<00:05,  1.37s/batch]"
          ]
        },
        {
          "output_type": "stream",
          "name": "stdout",
          "text": [
            "WARNING: Average EWC penalty per parameter is very small: 0.00001499\n"
          ]
        },
        {
          "output_type": "stream",
          "name": "stderr",
          "text": [
            "\rTask 3 Epoch 3:  50%|█████     | 3/6 [00:03<00:02,  1.04batch/s]"
          ]
        },
        {
          "output_type": "stream",
          "name": "stdout",
          "text": [
            "WARNING: Average EWC penalty per parameter is very small: 0.00001297\n"
          ]
        },
        {
          "output_type": "stream",
          "name": "stderr",
          "text": [
            "\rTask 3 Epoch 3:  67%|██████▋   | 4/6 [00:04<00:01,  1.30batch/s]"
          ]
        },
        {
          "output_type": "stream",
          "name": "stdout",
          "text": [
            "WARNING: Average EWC penalty per parameter is very small: 0.00000889\n"
          ]
        },
        {
          "output_type": "stream",
          "name": "stderr",
          "text": [
            "Task 3 Epoch 3: 100%|██████████| 6/6 [00:04<00:00,  1.27batch/s]\n"
          ]
        },
        {
          "output_type": "stream",
          "name": "stdout",
          "text": [
            "WARNING: Average EWC penalty per parameter is very small: 0.00000865\n"
          ]
        },
        {
          "output_type": "stream",
          "name": "stderr",
          "text": [
            "Validating: 100%|██████████| 3/3 [00:03<00:00,  1.18s/it]\n"
          ]
        },
        {
          "output_type": "stream",
          "name": "stdout",
          "text": [
            "Task 3, Epoch 3, EWC Loss: 295.4787, Total Loss: 298.9569, Val Loss (Cumulative): 3.1285\n"
          ]
        },
        {
          "output_type": "stream",
          "name": "stderr",
          "text": [
            "\rTask 3 Epoch 4:   0%|          | 0/6 [00:00<?, ?batch/s]"
          ]
        },
        {
          "output_type": "stream",
          "name": "stdout",
          "text": [
            "WARNING: Average EWC penalty per parameter is very small: 0.00000979\n"
          ]
        },
        {
          "output_type": "stream",
          "name": "stderr",
          "text": [
            "\rTask 3 Epoch 4:  17%|█▋        | 1/6 [00:03<00:17,  3.58s/batch]"
          ]
        },
        {
          "output_type": "stream",
          "name": "stdout",
          "text": [
            "WARNING: Average EWC penalty per parameter is very small: 0.00000754\n"
          ]
        },
        {
          "output_type": "stream",
          "name": "stderr",
          "text": [
            "\rTask 3 Epoch 4:  33%|███▎      | 2/6 [00:04<00:07,  1.76s/batch]"
          ]
        },
        {
          "output_type": "stream",
          "name": "stdout",
          "text": [
            "WARNING: Average EWC penalty per parameter is very small: 0.00000544\n"
          ]
        },
        {
          "output_type": "stream",
          "name": "stderr",
          "text": [
            "\rTask 3 Epoch 4:  50%|█████     | 3/6 [00:04<00:03,  1.17s/batch]"
          ]
        },
        {
          "output_type": "stream",
          "name": "stdout",
          "text": [
            "WARNING: Average EWC penalty per parameter is very small: 0.00000569\n"
          ]
        },
        {
          "output_type": "stream",
          "name": "stderr",
          "text": [
            "\rTask 3 Epoch 4:  67%|██████▋   | 4/6 [00:05<00:01,  1.11batch/s]"
          ]
        },
        {
          "output_type": "stream",
          "name": "stdout",
          "text": [
            "WARNING: Average EWC penalty per parameter is very small: 0.00000531\n"
          ]
        },
        {
          "output_type": "stream",
          "name": "stderr",
          "text": [
            "Task 3 Epoch 4: 100%|██████████| 6/6 [00:05<00:00,  1.06batch/s]\n"
          ]
        },
        {
          "output_type": "stream",
          "name": "stdout",
          "text": [
            "WARNING: Average EWC penalty per parameter is very small: 0.00000462\n"
          ]
        },
        {
          "output_type": "stream",
          "name": "stderr",
          "text": [
            "Validating: 100%|██████████| 3/3 [00:03<00:00,  1.11s/it]\n"
          ]
        },
        {
          "output_type": "stream",
          "name": "stdout",
          "text": [
            "Task 3, Epoch 4, EWC Loss: 143.2358, Total Loss: 146.6575, Val Loss (Cumulative): 3.1338\n"
          ]
        },
        {
          "output_type": "stream",
          "name": "stderr",
          "text": [
            "\rTask 3 Epoch 5:   0%|          | 0/6 [00:00<?, ?batch/s]"
          ]
        },
        {
          "output_type": "stream",
          "name": "stdout",
          "text": [
            "WARNING: Average EWC penalty per parameter is very small: 0.00000384\n"
          ]
        },
        {
          "output_type": "stream",
          "name": "stderr",
          "text": [
            "\rTask 3 Epoch 5:  17%|█▋        | 1/6 [00:02<00:13,  2.70s/batch]"
          ]
        },
        {
          "output_type": "stream",
          "name": "stdout",
          "text": [
            "WARNING: Average EWC penalty per parameter is very small: 0.00000322\n"
          ]
        },
        {
          "output_type": "stream",
          "name": "stderr",
          "text": [
            "\rTask 3 Epoch 5:  33%|███▎      | 2/6 [00:03<00:05,  1.39s/batch]"
          ]
        },
        {
          "output_type": "stream",
          "name": "stdout",
          "text": [
            "WARNING: Average EWC penalty per parameter is very small: 0.00000357\n"
          ]
        },
        {
          "output_type": "stream",
          "name": "stderr",
          "text": [
            "\rTask 3 Epoch 5:  50%|█████     | 3/6 [00:03<00:02,  1.02batch/s]"
          ]
        },
        {
          "output_type": "stream",
          "name": "stdout",
          "text": [
            "WARNING: Average EWC penalty per parameter is very small: 0.00000283\n"
          ]
        },
        {
          "output_type": "stream",
          "name": "stderr",
          "text": [
            "\rTask 3 Epoch 5:  67%|██████▋   | 4/6 [00:04<00:01,  1.27batch/s]"
          ]
        },
        {
          "output_type": "stream",
          "name": "stdout",
          "text": [
            "WARNING: Average EWC penalty per parameter is very small: 0.00000242\n"
          ]
        },
        {
          "output_type": "stream",
          "name": "stderr",
          "text": [
            "Task 3 Epoch 5: 100%|██████████| 6/6 [00:04<00:00,  1.23batch/s]\n"
          ]
        },
        {
          "output_type": "stream",
          "name": "stdout",
          "text": [
            "WARNING: Average EWC penalty per parameter is very small: 0.00000258\n"
          ]
        },
        {
          "output_type": "stream",
          "name": "stderr",
          "text": [
            "Validating: 100%|██████████| 3/3 [00:03<00:00,  1.28s/it]\n"
          ]
        },
        {
          "output_type": "stream",
          "name": "stdout",
          "text": [
            "Task 3, Epoch 5, EWC Loss: 68.8414, Total Loss: 72.1509, Val Loss (Cumulative): 3.1412\n",
            "Unfreezing backbone at epoch 5 for task 3\n"
          ]
        },
        {
          "output_type": "stream",
          "name": "stderr",
          "text": [
            "\rTask 3 Epoch 6:   0%|          | 0/6 [00:00<?, ?batch/s]"
          ]
        },
        {
          "output_type": "stream",
          "name": "stdout",
          "text": [
            "WARNING: Average EWC penalty per parameter is very small: 0.00000208\n"
          ]
        },
        {
          "output_type": "stream",
          "name": "stderr",
          "text": [
            "\rTask 3 Epoch 6:  17%|█▋        | 1/6 [00:02<00:13,  2.75s/batch]"
          ]
        },
        {
          "output_type": "stream",
          "name": "stdout",
          "text": [
            "WARNING: Average EWC penalty per parameter is very small: 0.00000188\n"
          ]
        },
        {
          "output_type": "stream",
          "name": "stderr",
          "text": [
            "\rTask 3 Epoch 6:  33%|███▎      | 2/6 [00:03<00:05,  1.43s/batch]"
          ]
        },
        {
          "output_type": "stream",
          "name": "stdout",
          "text": [
            "WARNING: Average EWC penalty per parameter is very small: 0.00000181\n"
          ]
        },
        {
          "output_type": "stream",
          "name": "stderr",
          "text": [
            "\rTask 3 Epoch 6:  50%|█████     | 3/6 [00:03<00:02,  1.01batch/s]"
          ]
        },
        {
          "output_type": "stream",
          "name": "stdout",
          "text": [
            "WARNING: Average EWC penalty per parameter is very small: 0.00000156\n"
          ]
        },
        {
          "output_type": "stream",
          "name": "stderr",
          "text": [
            "\rTask 3 Epoch 6:  67%|██████▋   | 4/6 [00:04<00:01,  1.26batch/s]"
          ]
        },
        {
          "output_type": "stream",
          "name": "stdout",
          "text": [
            "WARNING: Average EWC penalty per parameter is very small: 0.00000149\n"
          ]
        },
        {
          "output_type": "stream",
          "name": "stderr",
          "text": [
            "Task 3 Epoch 6: 100%|██████████| 6/6 [00:04<00:00,  1.24batch/s]\n"
          ]
        },
        {
          "output_type": "stream",
          "name": "stdout",
          "text": [
            "WARNING: Average EWC penalty per parameter is very small: 0.00000133\n"
          ]
        },
        {
          "output_type": "stream",
          "name": "stderr",
          "text": [
            "Validating: 100%|██████████| 3/3 [00:04<00:00,  1.35s/it]\n"
          ]
        },
        {
          "output_type": "stream",
          "name": "stdout",
          "text": [
            "Task 3, Epoch 6, EWC Loss: 37.8978, Total Loss: 41.0533, Val Loss (Cumulative): 3.1532\n"
          ]
        },
        {
          "output_type": "stream",
          "name": "stderr",
          "text": [
            "\rTask 3 Epoch 7:   0%|          | 0/6 [00:00<?, ?batch/s]"
          ]
        },
        {
          "output_type": "stream",
          "name": "stdout",
          "text": [
            "WARNING: Average EWC penalty per parameter is very small: 0.00000124\n"
          ]
        },
        {
          "output_type": "stream",
          "name": "stderr",
          "text": [
            "\rTask 3 Epoch 7:  17%|█▋        | 1/6 [00:03<00:15,  3.01s/batch]"
          ]
        },
        {
          "output_type": "stream",
          "name": "stdout",
          "text": [
            "WARNING: Average EWC penalty per parameter is very small: 0.00000117\n"
          ]
        },
        {
          "output_type": "stream",
          "name": "stderr",
          "text": [
            "\rTask 3 Epoch 7:  33%|███▎      | 2/6 [00:03<00:06,  1.54s/batch]"
          ]
        },
        {
          "output_type": "stream",
          "name": "stdout",
          "text": [
            "WARNING: Average EWC penalty per parameter is very small: 0.00000104\n"
          ]
        },
        {
          "output_type": "stream",
          "name": "stderr",
          "text": [
            "\rTask 3 Epoch 7:  50%|█████     | 3/6 [00:03<00:03,  1.06s/batch]"
          ]
        },
        {
          "output_type": "stream",
          "name": "stdout",
          "text": [
            "WARNING: Average EWC penalty per parameter is very small: 0.00000103\n"
          ]
        },
        {
          "output_type": "stream",
          "name": "stderr",
          "text": [
            "\rTask 3 Epoch 7:  67%|██████▋   | 4/6 [00:04<00:01,  1.20batch/s]"
          ]
        },
        {
          "output_type": "stream",
          "name": "stdout",
          "text": [
            "WARNING: Average EWC penalty per parameter is very small: 0.00000094\n"
          ]
        },
        {
          "output_type": "stream",
          "name": "stderr",
          "text": [
            "Task 3 Epoch 7: 100%|██████████| 6/6 [00:05<00:00,  1.17batch/s]\n"
          ]
        },
        {
          "output_type": "stream",
          "name": "stdout",
          "text": [
            "WARNING: Average EWC penalty per parameter is very small: 0.00000084\n"
          ]
        },
        {
          "output_type": "stream",
          "name": "stderr",
          "text": [
            "Validating: 100%|██████████| 3/3 [00:03<00:00,  1.20s/it]\n"
          ]
        },
        {
          "output_type": "stream",
          "name": "stdout",
          "text": [
            "Task 3, Epoch 7, EWC Loss: 23.3572, Total Loss: 26.4283, Val Loss (Cumulative): 3.1628\n",
            "Early stopping triggered at epoch 7 for task 3. Best Val Loss: 3.1211\n",
            "Finished training task 3\n",
            "Storing parameters for task 3...\n",
            "Stored parameter layer4.0.conv1.weight: min=-0.264365, max=0.383065, mean=-0.001576\n",
            "Stored parameter layer4.0.bn1.weight: min=0.136659, max=0.428622, mean=0.264354\n",
            "Stored parameter layer4.0.bn1.bias: min=-0.477037, max=0.145693, mean=-0.225701\n",
            "Stored parameter layer4.0.conv2.weight: min=-0.282775, max=0.348381, mean=-0.001305\n",
            "Stored parameter layer4.0.bn2.weight: min=0.140041, max=0.732726, mean=0.424390\n",
            "Stored parameter layer4.0.bn2.bias: min=-0.400338, max=0.117094, mean=-0.197624\n",
            "Stored parameter layer4.0.downsample.0.weight: min=-0.628815, max=0.746460, mean=-0.000855\n",
            "Stored parameter layer4.0.downsample.1.weight: min=-0.053276, max=0.509670, mean=0.250608\n",
            "Stored parameter layer4.0.downsample.1.bias: min=-0.400338, max=0.117094, mean=-0.197624\n",
            "Stored parameter layer4.1.conv1.weight: min=-0.194927, max=0.265118, mean=-0.002261\n",
            "Stored parameter layer4.1.bn1.weight: min=0.097249, max=0.465706, mean=0.288570\n",
            "Stored parameter layer4.1.bn1.bias: min=-0.594475, max=0.053120, mean=-0.241736\n",
            "Stored parameter layer4.1.conv2.weight: min=-0.173939, max=0.272456, mean=-0.000118\n",
            "Stored parameter layer4.1.bn2.weight: min=1.578233, max=2.409818, mean=1.853905\n",
            "Stored parameter layer4.1.bn2.bias: min=0.072876, max=0.651691, mean=0.273993\n",
            "Stored parameter fc.weight: min=-0.119346, max=0.112154, mean=-0.000759\n",
            "Stored parameter fc.bias: min=-0.051302, max=0.046741, mean=0.006642\n",
            "Stored output size for task 3: 40\n",
            "Consolidating weights based on importance...\n",
            "Consolidated parameter bn1.weight with weight factor 0.1891\n",
            "Consolidated parameter bn1.bias with weight factor 0.3027\n",
            "Consolidated parameter layer1.0.bn1.bias with weight factor 0.2288\n",
            "Sampling 20 examples from task 3 for memory buffer...\n",
            "Memory buffer size: 80 / 1000\n"
          ]
        },
        {
          "output_type": "stream",
          "name": "stderr",
          "text": [
            "Testing: 100%|██████████| 7/7 [00:07<00:00,  1.13s/it]\n"
          ]
        },
        {
          "output_type": "stream",
          "name": "stdout",
          "text": [
            "Overall accuracy for task 3 (on classes 0-39): 0.2575\n",
            "Model for task 3 saved as model_task_3.pth\n",
            "Training on task 4...\n",
            "Task 4: Training with 419 current samples and 80 replay samples.\n",
            "Froze 3 important parameters with importance > 0.129899\n",
            "Starting training for Task 4. Trainable parameters:\n",
            "  - conv1.weight\n",
            "  - bn1.weight\n",
            "  - bn1.bias\n",
            "  - layer1.0.conv1.weight\n",
            "  - layer1.0.bn1.weight\n",
            "  - layer1.0.bn1.bias\n",
            "  - layer1.0.conv2.weight\n",
            "  - layer1.0.bn2.weight\n",
            "  - layer1.0.bn2.bias\n",
            "  - layer1.1.conv1.weight\n",
            "  - layer1.1.bn1.weight\n",
            "  - layer1.1.bn1.bias\n",
            "  - layer1.1.conv2.weight\n",
            "  - layer1.1.bn2.weight\n",
            "  - layer1.1.bn2.bias\n",
            "  - layer2.0.conv1.weight\n",
            "  - layer2.0.bn1.weight\n",
            "  - layer2.0.bn1.bias\n",
            "  - layer2.0.conv2.weight\n",
            "  - layer2.0.bn2.weight\n",
            "  - layer2.0.bn2.bias\n",
            "  - layer2.0.downsample.0.weight\n",
            "  - layer2.0.downsample.1.weight\n",
            "  - layer2.0.downsample.1.bias\n",
            "  - layer2.1.conv1.weight\n",
            "  - layer2.1.bn1.weight\n",
            "  - layer2.1.bn1.bias\n",
            "  - layer2.1.conv2.weight\n",
            "  - layer2.1.bn2.weight\n",
            "  - layer2.1.bn2.bias\n",
            "  - layer3.0.conv1.weight\n",
            "  - layer3.0.bn1.weight\n",
            "  - layer3.0.bn1.bias\n",
            "  - layer3.0.conv2.weight\n",
            "  - layer3.0.bn2.weight\n",
            "  - layer3.0.bn2.bias\n",
            "  - layer3.0.downsample.0.weight\n",
            "  - layer3.0.downsample.1.weight\n",
            "  - layer3.0.downsample.1.bias\n",
            "  - layer3.1.conv1.weight\n",
            "  - layer3.1.bn1.weight\n",
            "  - layer3.1.bn1.bias\n",
            "  - layer3.1.conv2.weight\n",
            "  - layer3.1.bn2.weight\n",
            "  - layer3.1.bn2.bias\n",
            "  - layer4.0.conv1.weight\n",
            "  - layer4.0.bn1.weight\n",
            "  - layer4.0.bn1.bias\n",
            "  - layer4.0.conv2.weight\n",
            "  - layer4.0.bn2.weight\n",
            "  - layer4.0.bn2.bias\n",
            "  - layer4.0.downsample.0.weight\n",
            "  - layer4.0.downsample.1.weight\n",
            "  - layer4.0.downsample.1.bias\n",
            "  - layer4.1.conv1.weight\n",
            "  - layer4.1.bn1.weight\n",
            "  - layer4.1.bn1.bias\n",
            "  - layer4.1.conv2.weight\n",
            "  - layer4.1.bn2.weight\n",
            "  - layer4.1.bn2.bias\n",
            "  - fc.weight\n",
            "  - fc.bias\n"
          ]
        },
        {
          "output_type": "stream",
          "name": "stderr",
          "text": [
            "\rTask 4 Epoch 1:   0%|          | 0/4 [00:00<?, ?batch/s]"
          ]
        },
        {
          "output_type": "stream",
          "name": "stdout",
          "text": [
            "WARNING: Average EWC penalty per parameter is very small: 0.00000062\n"
          ]
        },
        {
          "output_type": "stream",
          "name": "stderr",
          "text": [
            "Task 4 Epoch 1:  75%|███████▌  | 3/4 [00:03<00:00,  1.04batch/s]"
          ]
        },
        {
          "output_type": "stream",
          "name": "stdout",
          "text": [
            "WARNING: Average EWC penalty per parameter is very small: 0.00007209\n"
          ]
        },
        {
          "output_type": "stream",
          "name": "stderr",
          "text": [
            "Task 4 Epoch 1: 100%|██████████| 4/4 [00:04<00:00,  1.03s/batch]\n",
            "Validating: 100%|██████████| 3/3 [00:04<00:00,  1.44s/it]\n"
          ]
        },
        {
          "output_type": "stream",
          "name": "stdout",
          "text": [
            "Task 4, Epoch 1, EWC Loss: 4056.5673, Total Loss: 4060.6362, Val Loss (Cumulative): 3.4455\n"
          ]
        },
        {
          "output_type": "stream",
          "name": "stderr",
          "text": [
            "\rTask 4 Epoch 2:   0%|          | 0/4 [00:00<?, ?batch/s]"
          ]
        },
        {
          "output_type": "stream",
          "name": "stdout",
          "text": [
            "WARNING: Average EWC penalty per parameter is very small: 0.00002730\n"
          ]
        },
        {
          "output_type": "stream",
          "name": "stderr",
          "text": [
            "\rTask 4 Epoch 2:  25%|██▌       | 1/4 [00:02<00:07,  2.53s/batch]"
          ]
        },
        {
          "output_type": "stream",
          "name": "stdout",
          "text": [
            "WARNING: Average EWC penalty per parameter is very small: 0.00003869\n"
          ]
        },
        {
          "output_type": "stream",
          "name": "stderr",
          "text": [
            "\rTask 4 Epoch 2:  50%|█████     | 2/4 [00:03<00:02,  1.33s/batch]"
          ]
        },
        {
          "output_type": "stream",
          "name": "stdout",
          "text": [
            "WARNING: Average EWC penalty per parameter is very small: 0.00005615\n"
          ]
        },
        {
          "output_type": "stream",
          "name": "stderr",
          "text": [
            "\rTask 4 Epoch 2:  75%|███████▌  | 3/4 [00:03<00:00,  1.06batch/s]"
          ]
        },
        {
          "output_type": "stream",
          "name": "stdout",
          "text": [
            "WARNING: Average EWC penalty per parameter is very small: 0.00005267\n"
          ]
        },
        {
          "output_type": "stream",
          "name": "stderr",
          "text": [
            "Task 4 Epoch 2: 100%|██████████| 4/4 [00:03<00:00,  1.00batch/s]\n",
            "Validating: 100%|██████████| 3/3 [00:04<00:00,  1.55s/it]\n"
          ]
        },
        {
          "output_type": "stream",
          "name": "stdout",
          "text": [
            "Task 4, Epoch 2, EWC Loss: 1467.5140, Total Loss: 1471.4928, Val Loss (Cumulative): 3.4294\n"
          ]
        },
        {
          "output_type": "stream",
          "name": "stderr",
          "text": [
            "\rTask 4 Epoch 3:   0%|          | 0/4 [00:00<?, ?batch/s]"
          ]
        },
        {
          "output_type": "stream",
          "name": "stdout",
          "text": [
            "WARNING: Average EWC penalty per parameter is very small: 0.00003304\n"
          ]
        },
        {
          "output_type": "stream",
          "name": "stderr",
          "text": [
            "\rTask 4 Epoch 3:  25%|██▌       | 1/4 [00:02<00:08,  2.75s/batch]"
          ]
        },
        {
          "output_type": "stream",
          "name": "stdout",
          "text": [
            "WARNING: Average EWC penalty per parameter is very small: 0.00001566\n"
          ]
        },
        {
          "output_type": "stream",
          "name": "stderr",
          "text": [
            "\rTask 4 Epoch 3:  50%|█████     | 2/4 [00:03<00:02,  1.41s/batch]"
          ]
        },
        {
          "output_type": "stream",
          "name": "stdout",
          "text": [
            "WARNING: Average EWC penalty per parameter is very small: 0.00001407\n"
          ]
        },
        {
          "output_type": "stream",
          "name": "stderr",
          "text": [
            "\rTask 4 Epoch 3:  75%|███████▌  | 3/4 [00:03<00:00,  1.01batch/s]"
          ]
        },
        {
          "output_type": "stream",
          "name": "stdout",
          "text": [
            "WARNING: Average EWC penalty per parameter is very small: 0.00002150\n"
          ]
        },
        {
          "output_type": "stream",
          "name": "stderr",
          "text": [
            "Task 4 Epoch 3: 100%|██████████| 4/4 [00:04<00:00,  1.06s/batch]\n",
            "Validating: 100%|██████████| 3/3 [00:04<00:00,  1.35s/it]\n"
          ]
        },
        {
          "output_type": "stream",
          "name": "stdout",
          "text": [
            "Task 4, Epoch 3, EWC Loss: 707.5478, Total Loss: 711.4703, Val Loss (Cumulative): 3.4387\n"
          ]
        },
        {
          "output_type": "stream",
          "name": "stderr",
          "text": [
            "\rTask 4 Epoch 4:   0%|          | 0/4 [00:00<?, ?batch/s]"
          ]
        },
        {
          "output_type": "stream",
          "name": "stdout",
          "text": [
            "WARNING: Average EWC penalty per parameter is very small: 0.00002281\n"
          ]
        },
        {
          "output_type": "stream",
          "name": "stderr",
          "text": [
            "\rTask 4 Epoch 4:  25%|██▌       | 1/4 [00:02<00:07,  2.59s/batch]"
          ]
        },
        {
          "output_type": "stream",
          "name": "stdout",
          "text": [
            "WARNING: Average EWC penalty per parameter is very small: 0.00001550\n"
          ]
        },
        {
          "output_type": "stream",
          "name": "stderr",
          "text": [
            "\rTask 4 Epoch 4:  50%|█████     | 2/4 [00:03<00:02,  1.36s/batch]"
          ]
        },
        {
          "output_type": "stream",
          "name": "stdout",
          "text": [
            "WARNING: Average EWC penalty per parameter is very small: 0.00000827\n"
          ]
        },
        {
          "output_type": "stream",
          "name": "stderr",
          "text": [
            "\rTask 4 Epoch 4:  75%|███████▌  | 3/4 [00:03<00:00,  1.03batch/s]"
          ]
        },
        {
          "output_type": "stream",
          "name": "stdout",
          "text": [
            "WARNING: Average EWC penalty per parameter is very small: 0.00000870\n"
          ]
        },
        {
          "output_type": "stream",
          "name": "stderr",
          "text": [
            "Task 4 Epoch 4: 100%|██████████| 4/4 [00:04<00:00,  1.04s/batch]\n",
            "Validating: 100%|██████████| 3/3 [00:04<00:00,  1.43s/it]\n"
          ]
        },
        {
          "output_type": "stream",
          "name": "stdout",
          "text": [
            "Task 4, Epoch 4, EWC Loss: 464.1192, Total Loss: 467.9869, Val Loss (Cumulative): 3.4336\n"
          ]
        },
        {
          "output_type": "stream",
          "name": "stderr",
          "text": [
            "\rTask 4 Epoch 5:   0%|          | 0/4 [00:00<?, ?batch/s]"
          ]
        },
        {
          "output_type": "stream",
          "name": "stdout",
          "text": [
            "WARNING: Average EWC penalty per parameter is very small: 0.00001119\n"
          ]
        },
        {
          "output_type": "stream",
          "name": "stderr",
          "text": [
            "\rTask 4 Epoch 5:  25%|██▌       | 1/4 [00:02<00:07,  2.58s/batch]"
          ]
        },
        {
          "output_type": "stream",
          "name": "stdout",
          "text": [
            "WARNING: Average EWC penalty per parameter is very small: 0.00000974\n"
          ]
        },
        {
          "output_type": "stream",
          "name": "stderr",
          "text": [
            "\rTask 4 Epoch 5:  50%|█████     | 2/4 [00:03<00:02,  1.35s/batch]"
          ]
        },
        {
          "output_type": "stream",
          "name": "stdout",
          "text": [
            "WARNING: Average EWC penalty per parameter is very small: 0.00000673\n"
          ]
        },
        {
          "output_type": "stream",
          "name": "stderr",
          "text": [
            "\rTask 4 Epoch 5:  75%|███████▌  | 3/4 [00:03<00:00,  1.04batch/s]"
          ]
        },
        {
          "output_type": "stream",
          "name": "stdout",
          "text": [
            "WARNING: Average EWC penalty per parameter is very small: 0.00000577\n"
          ]
        },
        {
          "output_type": "stream",
          "name": "stderr",
          "text": [
            "Task 4 Epoch 5: 100%|██████████| 4/4 [00:04<00:00,  1.02s/batch]\n",
            "Validating: 100%|██████████| 3/3 [00:05<00:00,  1.69s/it]\n"
          ]
        },
        {
          "output_type": "stream",
          "name": "stdout",
          "text": [
            "Task 4, Epoch 5, EWC Loss: 280.7107, Total Loss: 284.4960, Val Loss (Cumulative): 3.4383\n",
            "Unfreezing backbone at epoch 5 for task 4\n"
          ]
        },
        {
          "output_type": "stream",
          "name": "stderr",
          "text": [
            "\rTask 4 Epoch 6:   0%|          | 0/4 [00:00<?, ?batch/s]"
          ]
        },
        {
          "output_type": "stream",
          "name": "stdout",
          "text": [
            "WARNING: Average EWC penalty per parameter is very small: 0.00000574\n"
          ]
        },
        {
          "output_type": "stream",
          "name": "stderr",
          "text": [
            "\rTask 4 Epoch 6:  25%|██▌       | 1/4 [00:02<00:07,  2.55s/batch]"
          ]
        },
        {
          "output_type": "stream",
          "name": "stdout",
          "text": [
            "WARNING: Average EWC penalty per parameter is very small: 0.00000517\n"
          ]
        },
        {
          "output_type": "stream",
          "name": "stderr",
          "text": [
            "\rTask 4 Epoch 6:  50%|█████     | 2/4 [00:03<00:02,  1.34s/batch]"
          ]
        },
        {
          "output_type": "stream",
          "name": "stdout",
          "text": [
            "WARNING: Average EWC penalty per parameter is very small: 0.00000445\n"
          ]
        },
        {
          "output_type": "stream",
          "name": "stderr",
          "text": [
            "\rTask 4 Epoch 6:  75%|███████▌  | 3/4 [00:03<00:00,  1.05batch/s]"
          ]
        },
        {
          "output_type": "stream",
          "name": "stdout",
          "text": [
            "WARNING: Average EWC penalty per parameter is very small: 0.00000395\n"
          ]
        },
        {
          "output_type": "stream",
          "name": "stderr",
          "text": [
            "Task 4 Epoch 6: 100%|██████████| 4/4 [00:04<00:00,  1.01s/batch]\n",
            "Validating: 100%|██████████| 3/3 [00:04<00:00,  1.37s/it]\n"
          ]
        },
        {
          "output_type": "stream",
          "name": "stdout",
          "text": [
            "Task 4, Epoch 6, EWC Loss: 162.0703, Total Loss: 165.7887, Val Loss (Cumulative): 3.4394\n"
          ]
        },
        {
          "output_type": "stream",
          "name": "stderr",
          "text": [
            "\rTask 4 Epoch 7:   0%|          | 0/4 [00:00<?, ?batch/s]"
          ]
        },
        {
          "output_type": "stream",
          "name": "stdout",
          "text": [
            "WARNING: Average EWC penalty per parameter is very small: 0.00000355\n"
          ]
        },
        {
          "output_type": "stream",
          "name": "stderr",
          "text": [
            "\rTask 4 Epoch 7:  25%|██▌       | 1/4 [00:03<00:09,  3.30s/batch]"
          ]
        },
        {
          "output_type": "stream",
          "name": "stdout",
          "text": [
            "WARNING: Average EWC penalty per parameter is very small: 0.00000295\n"
          ]
        },
        {
          "output_type": "stream",
          "name": "stderr",
          "text": [
            "\rTask 4 Epoch 7:  50%|█████     | 2/4 [00:03<00:03,  1.65s/batch]"
          ]
        },
        {
          "output_type": "stream",
          "name": "stdout",
          "text": [
            "WARNING: Average EWC penalty per parameter is very small: 0.00000288\n"
          ]
        },
        {
          "output_type": "stream",
          "name": "stderr",
          "text": [
            "\rTask 4 Epoch 7:  75%|███████▌  | 3/4 [00:04<00:01,  1.12s/batch]"
          ]
        },
        {
          "output_type": "stream",
          "name": "stdout",
          "text": [
            "WARNING: Average EWC penalty per parameter is very small: 0.00000264\n"
          ]
        },
        {
          "output_type": "stream",
          "name": "stderr",
          "text": [
            "Task 4 Epoch 7: 100%|██████████| 4/4 [00:04<00:00,  1.20s/batch]\n",
            "Validating: 100%|██████████| 3/3 [00:04<00:00,  1.37s/it]\n"
          ]
        },
        {
          "output_type": "stream",
          "name": "stdout",
          "text": [
            "Task 4, Epoch 7, EWC Loss: 100.8631, Total Loss: 104.4964, Val Loss (Cumulative): 3.4405\n",
            "Early stopping triggered at epoch 7 for task 4. Best Val Loss: 3.4294\n",
            "Finished training task 4\n",
            "Storing parameters for task 4...\n",
            "Stored parameter layer4.0.conv1.weight: min=-0.264380, max=0.383059, mean=-0.001576\n",
            "Stored parameter layer4.0.bn1.weight: min=0.136654, max=0.428623, mean=0.264354\n",
            "Stored parameter layer4.0.bn1.bias: min=-0.477031, max=0.145676, mean=-0.225701\n",
            "Stored parameter layer4.0.conv2.weight: min=-0.282776, max=0.348375, mean=-0.001305\n",
            "Stored parameter layer4.0.bn2.weight: min=0.140046, max=0.732724, mean=0.424390\n",
            "Stored parameter layer4.0.bn2.bias: min=-0.400330, max=0.117106, mean=-0.197623\n",
            "Stored parameter layer4.0.downsample.0.weight: min=-0.628817, max=0.746461, mean=-0.000855\n",
            "Stored parameter layer4.0.downsample.1.weight: min=-0.053270, max=0.509679, mean=0.250608\n",
            "Stored parameter layer4.0.downsample.1.bias: min=-0.400330, max=0.117106, mean=-0.197623\n",
            "Stored parameter layer4.1.conv1.weight: min=-0.194920, max=0.265119, mean=-0.002261\n",
            "Stored parameter layer4.1.bn1.weight: min=0.097247, max=0.465721, mean=0.288570\n",
            "Stored parameter layer4.1.bn1.bias: min=-0.594490, max=0.053120, mean=-0.241736\n",
            "Stored parameter layer4.1.conv2.weight: min=-0.173925, max=0.272460, mean=-0.000118\n",
            "Stored parameter layer4.1.bn2.weight: min=1.578239, max=2.409793, mean=1.853904\n",
            "Stored parameter layer4.1.bn2.bias: min=0.072871, max=0.651680, mean=0.273992\n",
            "Stored parameter fc.weight: min=-0.119340, max=0.112178, mean=-0.000544\n",
            "Stored parameter fc.bias: min=-0.051299, max=0.046732, mean=0.007130\n",
            "Stored output size for task 4: 50\n",
            "Consolidating weights based on importance...\n",
            "Consolidated parameter bn1.weight with weight factor 0.2154\n",
            "Consolidated parameter bn1.bias with weight factor 0.3365\n",
            "Consolidated parameter layer1.0.bn1.bias with weight factor 0.2373\n",
            "Sampling 20 examples from task 4 for memory buffer...\n",
            "Memory buffer size: 100 / 1000\n"
          ]
        },
        {
          "output_type": "stream",
          "name": "stderr",
          "text": [
            "Testing: 100%|██████████| 8/8 [00:10<00:00,  1.29s/it]\n"
          ]
        },
        {
          "output_type": "stream",
          "name": "stdout",
          "text": [
            "Overall accuracy for task 4 (on classes 0-49): 0.1931\n",
            "Model for task 4 saved as model_task_4.pth\n"
          ]
        }
      ]
    },
    {
      "cell_type": "code",
      "source": [
        "import shutil\n",
        "shutil.make_archive('replay-ewc-coarse-grained', 'zip', 'replay-ewc-coarse-grained')"
      ],
      "metadata": {
        "id": "z6gQ0keu9OCN",
        "outputId": "092ded74-8b19-4d46-afb2-489c1800b401",
        "colab": {
          "base_uri": "https://localhost:8080/",
          "height": 35
        }
      },
      "id": "z6gQ0keu9OCN",
      "execution_count": 21,
      "outputs": [
        {
          "output_type": "execute_result",
          "data": {
            "text/plain": [
              "'/content/replay-ewc-coarse-grained.zip'"
            ],
            "application/vnd.google.colaboratory.intrinsic+json": {
              "type": "string"
            }
          },
          "metadata": {},
          "execution_count": 21
        }
      ]
    },
    {
      "cell_type": "markdown",
      "source": [
        "# Plotting Code"
      ],
      "metadata": {
        "id": "unSzyOy64w1G"
      },
      "id": "unSzyOy64w1G"
    },
    {
      "cell_type": "code",
      "source": [
        "import matplotlib.pyplot as plt\n",
        "import numpy as np\n",
        "import seaborn as sns\n",
        "import ast # To safely evaluate the string list literal\n",
        "import os # To check if file exists\n",
        "\n",
        "def visualize_forgetting(accuracy_file_path, num_total_classes, num_classes_per_task):\n",
        "  # --- Data Loading and Manual Parsing ---\n",
        "  parsed_data = {}\n",
        "\n",
        "  # Check if the file exists before trying to read\n",
        "  if not os.path.exists(accuracy_file_path):\n",
        "      print(f\"Error: Accuracy file not found at '{accuracy_file_path}'\")\n",
        "      print(\"Please make sure you have saved the data into a file named 'accuracies.txt' in the correct directory.\")\n",
        "      exit()\n",
        "\n",
        "  try:\n",
        "      with open(accuracy_file_path, 'r') as f:\n",
        "          header = f.readline().strip() # Read and ignore the header line\n",
        "          if not header.startswith(\"Task,Overall Accuracy,Per-Class Accuracy\"):\n",
        "              print(\"Warning: Header doesn't exactly match expected format, but proceeding.\")\n",
        "\n",
        "          for line_num, line in enumerate(f, start=2): # Start line count from 2 for error messages\n",
        "              line = line.strip()\n",
        "              if not line: # Skip empty lines\n",
        "                  continue\n",
        "\n",
        "              try:\n",
        "                  # Find the first comma to isolate Task ID\n",
        "                  first_comma_idx = line.find(',')\n",
        "                  if first_comma_idx == -1:\n",
        "                      raise ValueError(\"Missing first comma separating Task ID\")\n",
        "                  task_id_str = line[:first_comma_idx]\n",
        "                  task_id = int(task_id_str)\n",
        "\n",
        "                  # Find the second comma to isolate Overall Accuracy (and the start of the list)\n",
        "                  # Start searching *after* the first comma\n",
        "                  second_comma_idx = line.find(',', first_comma_idx + 1)\n",
        "                  if second_comma_idx == -1:\n",
        "                      raise ValueError(\"Missing second comma separating Overall Accuracy\")\n",
        "\n",
        "                  # The rest of the line, starting after the second comma, is the list string\n",
        "                  list_str = line[second_comma_idx + 1:]\n",
        "\n",
        "                  # Safely evaluate the string list using ast.literal_eval\n",
        "                  per_class_acc_list = ast.literal_eval(list_str)\n",
        "\n",
        "                  # Validate that it's actually a list\n",
        "                  if not isinstance(per_class_acc_list, list):\n",
        "                      raise TypeError(f\"Parsed data for 'Per-Class Accuracy' is not a list (type: {type(per_class_acc_list)}).\")\n",
        "\n",
        "                  # Convert elements to float just in case\n",
        "                  per_class_acc_list = [float(acc) for acc in per_class_acc_list]\n",
        "                  parsed_data[task_id] = per_class_acc_list\n",
        "                  # print(f\"Parsed Task {task_id}, found {len(per_class_acc_list)} accuracies.\") # Optional print\n",
        "\n",
        "              except (ValueError, SyntaxError, TypeError, IndexError) as e:\n",
        "                  print(f\"Warning: Could not parse line {line_num}. Error: {e}. Line content: '{line}'\")\n",
        "              except Exception as e:\n",
        "                  # Catch any other unexpected errors during parsing of a specific line\n",
        "                  print(f\"An unexpected error occurred parsing line {line_num}: {e}\")\n",
        "\n",
        "\n",
        "  except FileNotFoundError:\n",
        "      # This case is handled by the os.path.exists check above, but kept for safety\n",
        "      print(f\"Error: Accuracy file not found at '{accuracy_file_path}'\")\n",
        "      exit()\n",
        "  except Exception as e:\n",
        "      # Catch errors related to opening or reading the file itself\n",
        "      print(f\"Error reading file '{accuracy_file_path}': {e}\")\n",
        "      exit()\n",
        "\n",
        "  # --- Prepare Data Matrix for Heatmap (Code remains the same) ---\n",
        "  num_tasks_found = len(parsed_data)\n",
        "  if num_tasks_found == 0:\n",
        "      print(\"No valid task data parsed. Exiting.\")\n",
        "      exit()\n",
        "\n",
        "  # Create a matrix: rows = tasks, cols = classes\n",
        "  # Initialize with NaN for classes not yet seen/evaluated\n",
        "  acc_matrix = np.full((num_tasks_found, num_total_classes), np.nan)\n",
        "\n",
        "  sorted_task_ids = sorted(parsed_data.keys())\n",
        "\n",
        "  for task_idx, task_id in enumerate(sorted_task_ids):\n",
        "      accuracies = parsed_data[task_id]\n",
        "      num_classes_in_task_eval = len(accuracies)\n",
        "      if num_classes_in_task_eval > num_total_classes:\n",
        "          print(f\"Warning: Task {task_id} reported {num_classes_in_task_eval} accuracies, exceeding total classes {num_total_classes}. Truncating.\")\n",
        "          num_classes_in_task_eval = num_total_classes\n",
        "          accuracies = accuracies[:num_total_classes]\n",
        "\n",
        "      # Fill the matrix row for this task up to the number of classes evaluated\n",
        "      acc_matrix[task_idx, :num_classes_in_task_eval] = accuracies\n",
        "\n",
        "  # --- Plotting the Heatmap (Code remains the same) ---\n",
        "  plt.figure(figsize=(20, max(5, num_tasks_found * 0.7))) # Adjusted size\n",
        "\n",
        "  heatmap = sns.heatmap(\n",
        "      acc_matrix,\n",
        "      annot=False,\n",
        "      fmt=\".2f\",\n",
        "      cmap=\"viridis\",\n",
        "      linewidths=0.2,\n",
        "      linecolor='lightgrey',\n",
        "      cbar_kws={'label': 'Per-Class Accuracy'},\n",
        "      vmin=0.0,\n",
        "      vmax=1.0\n",
        "  )\n",
        "\n",
        "  plt.xlabel(\"Class ID\")\n",
        "  plt.ylabel(\"Evaluation Point (After Task X Completed)\")\n",
        "  plt.title(\"Per-Class Accuracy After Each Task\", fontsize=16)\n",
        "  plt.xticks(ticks=np.arange(0, num_total_classes, 5) + 0.5, labels=np.arange(0, num_total_classes, 5), rotation=90, fontsize=8)\n",
        "  plt.yticks(ticks=np.arange(num_tasks_found) + 0.5, labels=[f\"After Task {t}\" for t in sorted_task_ids], rotation=0)\n",
        "\n",
        "  for i in range(num_classes_per_task, num_total_classes, num_classes_per_task):\n",
        "      plt.axvline(x=i, color='white', linestyle='--', linewidth=1.0)\n",
        "\n",
        "  plt.tight_layout()\n",
        "  plt.show()"
      ],
      "metadata": {
        "id": "r9Mnt_TlE0RS"
      },
      "id": "r9Mnt_TlE0RS",
      "execution_count": 22,
      "outputs": []
    },
    {
      "cell_type": "code",
      "source": [
        "# texture dataset\n",
        "accuracy_file_path = 'replay-ewc-coarse-grained/accuracies.txt' # Make sure this file exists\n",
        "num_total_classes = 50\n",
        "num_classes_per_task = 10\n",
        "\n",
        "visualize_forgetting(accuracy_file_path, num_total_classes, num_classes_per_task)"
      ],
      "metadata": {
        "id": "OXSaW29YzqTV",
        "outputId": "8f8884a0-8172-4b95-d10b-f9fa8718e8ed",
        "colab": {
          "base_uri": "https://localhost:8080/",
          "height": 316
        }
      },
      "id": "OXSaW29YzqTV",
      "execution_count": 23,
      "outputs": [
        {
          "output_type": "display_data",
          "data": {
            "text/plain": [
              "<Figure size 2000x500 with 2 Axes>"
            ],
            "image/png": "[encoded data removed]"
          },
          "metadata": {}
        }
      ]
    },
    {
      "cell_type": "code",
      "source": [
        "# the aircraft families\n",
        "accuracy_file_path = 'accuracies.txt'\n",
        "num_total_classes = 50\n",
        "num_classes_per_task = 10\n",
        "\n",
        "visualize_forgetting(accuracy_file_path, num_total_classes, num_classes_per_task)"
      ],
      "metadata": {
        "id": "pS0ii61_0Qzj",
        "outputId": "1f12f72d-5ad9-4356-84de-616f85901a2d",
        "colab": {
          "base_uri": "https://localhost:8080/",
          "height": 445
        }
      },
      "id": "pS0ii61_0Qzj",
      "execution_count": 24,
      "outputs": [
        {
          "output_type": "stream",
          "name": "stdout",
          "text": [
            "Error: Accuracy file not found at 'accuracies.txt'\n",
            "Please make sure you have saved the data into a file named 'accuracies.txt' in the correct directory.\n",
            "Error: Accuracy file not found at 'accuracies.txt'\n",
            "No valid task data parsed. Exiting.\n"
          ]
        },
        {
          "output_type": "stream",
          "name": "stderr",
          "text": [
            "/usr/local/lib/python3.11/dist-packages/seaborn/matrix.py:309: UserWarning: Attempting to set identical low and high ylims makes transformation singular; automatically expanding.\n",
            "  ax.set(xlim=(0, self.data.shape[1]), ylim=(0, self.data.shape[0]))\n"
          ]
        },
        {
          "output_type": "display_data",
          "data": {
            "text/plain": [
              "<Figure size 2000x500 with 2 Axes>"
            ],
            "image/png": "[encoded data removed]"
          },
          "metadata": {}
        }
      ]
    },
    {
      "cell_type": "code",
      "source": [],
      "metadata": {
        "id": "PTVYL_F8Ez1l"
      },
      "id": "PTVYL_F8Ez1l",
      "execution_count": null,
      "outputs": []
    }
  ],
  "metadata": {
    "accelerator": "GPU",
    "colab": {
      "gpuType": "T4",
      "provenance": []
    },
    "kernelspec": {
      "display_name": "Python 3",
      "name": "python3"
    },
    "language_info": {
      "name": "python",
      "version": "3.13.2"
    }
  },
  "nbformat": 4,
  "nbformat_minor": 5
}