{
 "cells": [
  {
   "cell_type": "code",
   "execution_count": null,
   "id": "dbeff534",
   "metadata": {},
   "outputs": [],
   "source": [
    "from torchvision.datasets import FGVCAircraft\n",
    "import torchvision.transforms as transforms\n",
    "import matplotlib.pyplot as plt\n",
    "\n",
    "# remove copyright banner\n",
    "class RemoveCopyrightBanner(object):\n",
    "    def __call__(self, img):\n",
    "        width, height = img.size\n",
    "        return img.crop((0, 0, width, height - 20))\n",
    "\n",
    "transform = transforms.Compose([\n",
    "    RemoveCopyrightBanner(),\n",
    "    transforms.Resize((224, 224)),\n",
    "    transforms.ToTensor(),\n",
    "    transforms.Normalize(mean=[0.485, 0.456, 0.406], std=[0.229, 0.224, 0.225])\n",
    "])\n",
    "\n",
    "# Create the FGVC Aircraft dataset instance\n",
    "train_dataset = FGVCAircraft(\n",
    "    root='./data', \n",
    "    split='train',              # Options: 'train', 'val', 'trainval', 'test'\n",
    "    annotation_level='variant',    # Options: 'variant', 'family', 'manufacturer'\n",
    "    transform=transform, \n",
    "    download=True\n",
    ")\n",
    "\n",
    "val_dataset = FGVCAircraft(\n",
    "    root='./data', \n",
    "    split='val',           \n",
    "    annotation_level='variant', \n",
    "    transform=transform, \n",
    "    download=True\n",
    ")\n",
    "\n",
    "test_dataset = FGVCAircraft(\n",
    "    root='./data', \n",
    "    split='test',             \n",
    "    annotation_level='variant',  \n",
    "    transform=transform, \n",
    "    download=True\n",
    ")"
   ]
  },
  {
   "cell_type": "code",
   "execution_count": null,
   "id": "a8dd6b2b",
   "metadata": {},
   "outputs": [],
   "source": [
    "# function to show images\n",
    "def show_images(train_dataset, num_images=5):\n",
    "    fig, axes = plt.subplots(1, num_images, figsize=(15, 5))\n",
    "    for i in range(num_images):\n",
    "        image, label = train_dataset[i]\n",
    "        image = image.permute(1, 2, 0)  # convert from CxHxW to HxWxC\n",
    "        axes[i].imshow(image)\n",
    "        axes[i].set_title(f'Label: {label}')\n",
    "        axes[i].axis('off')\n",
    "    plt.show()\n",
    "\n",
    "show_images(train_dataset, num_images=5)"
   ]
  },
  {
   "cell_type": "markdown",
   "metadata": {},
   "source": [
    "# Create Dataset"
   ]
  },
  {
   "cell_type": "code",
   "execution_count": null,
   "id": "4a397327",
   "metadata": {},
   "outputs": [],
   "source": [
    "from collections import defaultdict\n",
    "import torch\n",
    "\n",
    "def group_task_indices(dataset):\n",
    "    \"\"\"\n",
    "    Task 0: 0-9, Task 1: 10-19, ..., Task 9: 90-99\n",
    "    Output a dictionary where keys are task indices and values are lists of image indices.\n",
    "    For example, task_dict[0] will contain indices of images with labels 0-9.\n",
    "    \"\"\"\n",
    "    task_dict = defaultdict(list)\n",
    "    for idx, (_, label) in enumerate(dataset):\n",
    "        for i in range((label // 10) + 1):\n",
    "            task_dict[i].append(idx)\n",
    "    return task_dict\n",
    "    \n",
    "train_task_idxs = group_task_indices(train_dataset)\n",
    "val_task_idxs = group_task_indices(val_dataset)\n",
    "test__idxs = group_task_indices(test_dataset)"
   ]
  },
  {
   "cell_type": "code",
   "execution_count": null,
   "metadata": {},
   "outputs": [],
   "source": [
    "from torch.utils.data import Subset\n",
    "train_subset = Subset(train_dataset, train_task_idxs[0])\n",
    "\n",
    "# initialize dataloaders with task 0\n",
    "train_loader = torch.utils.data.DataLoader(\n",
    "    train_subset, batch_size=32, shuffle=True, num_workers=4\n",
    ")\n",
    "# initalize val_loader with task 0\n",
    "val_subset = Subset(val_dataset, val_task_idxs[0])\n",
    "val_loader = torch.utils.data.DataLoader(\n",
    "    val_subset, batch_size=32, shuffle=False, num_workers=4\n",
    ")\n",
    "# initalize test_loader with task 0\n",
    "test_subset = Subset(test_dataset, test__idxs[0])\n",
    "test_loader = torch.utils.data.DataLoader(\n",
    "    test_subset, batch_size=32, shuffle=False, num_workers=4\n",
    ")"
   ]
  },
  {
   "cell_type": "code",
   "execution_count": null,
   "metadata": {},
   "outputs": [],
   "source": []
  }
 ],
 "metadata": {
  "kernelspec": {
   "display_name": "Python 3",
   "language": "python",
   "name": "python3"
  },
  "language_info": {
   "name": "python",
   "version": "3.13.2"
  }
 },
 "nbformat": 4,
 "nbformat_minor": 5
}
