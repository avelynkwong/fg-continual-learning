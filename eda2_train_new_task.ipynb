{
  "cells": [
    {
      "cell_type": "code",
      "execution_count": 1,
      "id": "4ZIq16KN2hQw",
      "metadata": {
        "id": "4ZIq16KN2hQw"
      },
      "outputs": [],
      "source": [
        "import os\n",
        "os.environ[\"CUBLAS_WORKSPACE_CONFIG\"] = \":4096:8\""
      ]
    },
    {
      "cell_type": "code",
      "execution_count": 2,
      "id": "8caPCMc81HvQ",
      "metadata": {
        "id": "8caPCMc81HvQ"
      },
      "outputs": [],
      "source": [
        "import torch\n",
        "import torch.backends.cudnn as cudnn\n",
        "import random\n",
        "import numpy as np\n",
        "\n",
        "# seeds\n",
        "seed = 88\n",
        "random.seed(seed)\n",
        "np.random.seed(seed)\n",
        "torch.manual_seed(seed)\n",
        "torch.cuda.manual_seed(seed)\n",
        "torch.cuda.manual_seed_all(seed)\n",
        "cudnn.deterministic = True\n",
        "cudnn.benchmark = False\n",
        "torch.use_deterministic_algorithms(True)\n",
        "g = torch.Generator()\n",
        "g.manual_seed(seed)\n",
        "\n",
        "def seed_worker(worker_id):\n",
        "    worker_seed = torch.initial_seed() % 2**32\n",
        "    np.random.seed(worker_seed)\n",
        "    random.seed(worker_seed)"
      ]
    },
    {
      "cell_type": "code",
      "execution_count": 3,
      "id": "dbeff534",
      "metadata": {
        "id": "dbeff534",
        "colab": {
          "base_uri": "https://localhost:8080/"
        },
        "outputId": "ca401fc6-485e-4313-c3dc-829058999b86"
      },
      "outputs": [
        {
          "output_type": "stream",
          "name": "stderr",
          "text": [
            "100%|██████████| 2.75G/2.75G [00:24<00:00, 114MB/s]\n"
          ]
        }
      ],
      "source": [
        "from torchvision.datasets import FGVCAircraft\n",
        "import torchvision.transforms as transforms\n",
        "import matplotlib.pyplot as plt\n",
        "\n",
        "# remove copyright banner\n",
        "class RemoveCopyrightBanner(object):\n",
        "    def __call__(self, img):\n",
        "        width, height = img.size\n",
        "        return img.crop((0, 0, width, height - 20))\n",
        "\n",
        "transform = transforms.Compose([\n",
        "    RemoveCopyrightBanner(),\n",
        "    transforms.Resize((224, 224)),\n",
        "    transforms.ToTensor(),\n",
        "    transforms.Normalize(mean=[0.485, 0.456, 0.406], std=[0.229, 0.224, 0.225])\n",
        "])\n",
        "\n",
        "granularity = 'family'\n",
        "\n",
        "# Create the FGVC Aircraft dataset instance\n",
        "train_dataset = FGVCAircraft(\n",
        "    root='./data',\n",
        "    split='trainval',              # Options: 'train', 'val', 'trainval', 'test'\n",
        "    annotation_level=granularity,    # Options: 'variant', 'family', 'manufacturer'\n",
        "    transform=transform,\n",
        "    download=True\n",
        ")\n",
        "\n",
        "# shuffle the train dataset and split into 20% val, 80% train\n",
        "train_dataset, val_dataset = torch.utils.data.random_split(train_dataset, [0.8, 0.2])\n",
        "\n",
        "# val_dataset = FGVCAircraft(\n",
        "#     root='./data',\n",
        "#     split='val',\n",
        "#     annotation_level='variant',\n",
        "#     transform=transform,\n",
        "#     download=True\n",
        "# )\n",
        "\n",
        "test_dataset = FGVCAircraft(\n",
        "    root='./data',\n",
        "    split='test',\n",
        "    annotation_level=granularity,\n",
        "    transform=transform,\n",
        "    download=True\n",
        ")"
      ]
    },
    {
      "cell_type": "code",
      "execution_count": 4,
      "id": "a8dd6b2b",
      "metadata": {
        "colab": {
          "base_uri": "https://localhost:8080/",
          "height": 364
        },
        "id": "a8dd6b2b",
        "outputId": "31ee9423-5eb6-43f2-a95a-f6d7c91d18dc"
      },
      "outputs": [
        {
          "output_type": "stream",
          "name": "stderr",
          "text": [
            "WARNING:matplotlib.image:Clipping input data to the valid range for imshow with RGB data ([0..1] for floats or [0..255] for integers). Got range [-2.1007793..2.535425].\n",
            "WARNING:matplotlib.image:Clipping input data to the valid range for imshow with RGB data ([0..1] for floats or [0..255] for integers). Got range [-2.0494049..2.3611329].\n",
            "WARNING:matplotlib.image:Clipping input data to the valid range for imshow with RGB data ([0..1] for floats or [0..255] for integers). Got range [-1.9980307..2.4285715].\n",
            "WARNING:matplotlib.image:Clipping input data to the valid range for imshow with RGB data ([0..1] for floats or [0..255] for integers). Got range [-2.1007793..2.2535014].\n",
            "WARNING:matplotlib.image:Clipping input data to the valid range for imshow with RGB data ([0..1] for floats or [0..255] for integers). Got range [-2.0494049..2.5528543].\n"
          ]
        },
        {
          "output_type": "display_data",
          "data": {
            "text/plain": [
              "<Figure size 1500x500 with 5 Axes>"
            ],
            "image/png": "[encoded data removed]"
          },
          "metadata": {}
        }
      ],
      "source": [
        "# function to show images\n",
        "def show_images(train_dataset, num_images=5):\n",
        "    fig, axes = plt.subplots(1, num_images, figsize=(15, 5))\n",
        "    for i in range(num_images):\n",
        "        image, label = train_dataset[i]\n",
        "        image = image.permute(1, 2, 0)  # convert from CxHxW to HxWxC\n",
        "        axes[i].imshow(image)\n",
        "        axes[i].set_title(f'Label: {label}')\n",
        "        axes[i].axis('off')\n",
        "    plt.show()\n",
        "\n",
        "show_images(train_dataset, num_images=5)"
      ]
    },
    {
      "cell_type": "markdown",
      "id": "f7TG9oD76Q6G",
      "metadata": {
        "id": "f7TG9oD76Q6G"
      },
      "source": [
        "# Create Dataset"
      ]
    },
    {
      "cell_type": "code",
      "execution_count": 5,
      "id": "4a397327",
      "metadata": {
        "colab": {
          "base_uri": "https://localhost:8080/"
        },
        "id": "4a397327",
        "outputId": "a90a0d26-8543-4431-bb7c-d27df0c2588e"
      },
      "outputs": [
        {
          "output_type": "stream",
          "name": "stderr",
          "text": [
            "100%|██████████| 5334/5334 [01:23<00:00, 63.55it/s]\n",
            "100%|██████████| 1333/1333 [00:18<00:00, 73.38it/s]\n",
            "100%|██████████| 3333/3333 [00:47<00:00, 70.79it/s]\n"
          ]
        }
      ],
      "source": [
        "from collections import defaultdict\n",
        "import torch\n",
        "from tqdm import tqdm\n",
        "\n",
        "def group_task_indices(dataset, cumulative=False):\n",
        "    \"\"\"\n",
        "    Task 0: 0-9, Task 1: 10-19, ..., Task 9: 90-99\n",
        "    Output a dictionary where keys are task indices and values are lists of image indices.\n",
        "    For example, task_dict[0] will contain indices of images with labels 0-9.\n",
        "    \"\"\"\n",
        "    task_dict = defaultdict(list)\n",
        "    for idx, (_, label) in tqdm(enumerate(dataset), total=len(dataset)):\n",
        "        # for test and val, should have cumulative indices (all classes seen so far)\n",
        "        if cumulative:\n",
        "          for i in range((label // 10), 10):\n",
        "            task_dict[i].append(idx)\n",
        "        else:\n",
        "          task_dict[label // 10].append(idx)\n",
        "    return task_dict\n",
        "\n",
        "train_task_idxs = group_task_indices(train_dataset)\n",
        "val_task_idxs = group_task_indices(val_dataset, cumulative=True)\n",
        "test_task_idxs = group_task_indices(test_dataset, cumulative=True)"
      ]
    },
    {
      "cell_type": "code",
      "execution_count": 6,
      "id": "infsWUtUupE4",
      "metadata": {
        "colab": {
          "base_uri": "https://localhost:8080/"
        },
        "id": "infsWUtUupE4",
        "outputId": "d0bb638c-26f5-4dfa-ded3-3736135e1c18"
      },
      "outputs": [
        {
          "output_type": "stream",
          "name": "stderr",
          "text": [
            "1292it [00:17, 71.88it/s]"
          ]
        },
        {
          "output_type": "stream",
          "name": "stdout",
          "text": [
            "defaultdict(<class 'int'>, {16: 210, 17: 105, 19: 108, 15: 426, 11: 51, 18: 163, 13: 54, 10: 58, 14: 57, 12: 60})\n"
          ]
        },
        {
          "output_type": "stream",
          "name": "stderr",
          "text": [
            "\n"
          ]
        }
      ],
      "source": [
        "labels_dict = defaultdict(int)\n",
        "for i in tqdm(train_task_idxs[1], total=len(train_task_idxs)):\n",
        "    _, label = train_dataset[i]\n",
        "    labels_dict[label] += 1\n",
        "print(labels_dict)"
      ]
    },
    {
      "cell_type": "markdown",
      "id": "cub55VRd6Q6J",
      "metadata": {
        "id": "cub55VRd6Q6J"
      },
      "source": [
        "## Training Code"
      ]
    },
    {
      "cell_type": "code",
      "execution_count": 7,
      "id": "1J34wLym6Q6J",
      "metadata": {
        "id": "1J34wLym6Q6J"
      },
      "outputs": [],
      "source": [
        "def val_net(net_to_val, val_loader):\n",
        "    net_to_val.eval()\n",
        "    loss = 0\n",
        "\n",
        "    criterion = torch.nn.CrossEntropyLoss()\n",
        "\n",
        "    with torch.no_grad():\n",
        "        for img, label in tqdm(val_loader, desc=\"Validating\"):\n",
        "\n",
        "            # Get the input images and their corresponding labels\n",
        "            img, label = img.cuda(), label.cuda()\n",
        "\n",
        "            # Forward pass: Get predictions from the model\n",
        "            outputs = net_to_val(img)\n",
        "\n",
        "            # compute SmoothL1Losss\n",
        "            loss += criterion(outputs, label)\n",
        "\n",
        "        return loss / len(val_loader)\n",
        "\n",
        "def train_net(max_epochs, freeze_epochs, patience, net_to_train, opt, train_loader, val_loader, task, save_file=None, save_path=None):\n",
        "    criterion = torch.nn.CrossEntropyLoss()\n",
        "\n",
        "    train_losses = []\n",
        "    val_losses = []\n",
        "    # prepare the net for training\n",
        "    net_to_train.cuda()\n",
        "\n",
        "    # freeze backbone\n",
        "    for param in net_to_train.parameters():\n",
        "        param.requires_grad = False\n",
        "    for param in net_to_train.fc.parameters():\n",
        "        param.requires_grad = True\n",
        "\n",
        "    # loop over the dataset multiple times\n",
        "    for epoch in range(max_epochs):\n",
        "        net_to_train.train()\n",
        "\n",
        "        running_loss = 0.0\n",
        "\n",
        "        # unfreeze all layers\n",
        "        if epoch == freeze_epochs:\n",
        "          for param in net_to_train.parameters():\n",
        "              param.requires_grad = True\n",
        "              # change optimizer learning rate\n",
        "              opt.param_groups[0]['lr'] = 1e-4\n",
        "\n",
        "        # train on batches of data\n",
        "        for imgs, labels in tqdm(train_loader, unit='batch'):\n",
        "\n",
        "            imgs, labels = imgs.cuda(), labels.cuda()\n",
        "\n",
        "            # zero the parameter gradients\n",
        "            opt.zero_grad()\n",
        "\n",
        "            # prediction\n",
        "            outputs = net_to_train(imgs)\n",
        "\n",
        "            # compute the loss\n",
        "            loss = criterion(outputs, labels)\n",
        "            loss.backward()\n",
        "            opt.step()\n",
        "\n",
        "            # print loss statistics\n",
        "            running_loss += loss.item()\n",
        "\n",
        "        avg_loss = running_loss / len(train_loader)\n",
        "        train_losses.append(avg_loss)\n",
        "        val_losses.append(val_net(net_to_train, val_loader))\n",
        "        print(f\"Epoch {epoch + 1}, Training Loss: {avg_loss:.3f}, Validation Loss: {val_losses[-1]:.3f}\")\n",
        "\n",
        "        # save to checkpoint\n",
        "        if save_path:\n",
        "            torch.save({\n",
        "                'epoch': epoch + 1,\n",
        "                'model_state_dict': net_to_train.state_dict(),\n",
        "                'optimizer_state_dict': opt.state_dict(),\n",
        "                'loss': avg_loss,\n",
        "            }, save_path)\n",
        "            print(f\"Checkpoint saved to {save_path}\")\n",
        "\n",
        "        # save task, trainloss, valloss to file\n",
        "        if save_file:\n",
        "            with open(save_file, 'a') as f:\n",
        "                f.write(f\"{task},{epoch + 1},{avg_loss},{val_losses[-1]}\\n\")\n",
        "\n",
        "        # early stopping based on patience\n",
        "        if len(val_losses) > patience and val_losses[-1] >= min(val_losses[:-patience]):\n",
        "            print(f\"Early stopping at epoch {epoch + 1}\")\n",
        "            break\n",
        "\n",
        "    print(\"finished training\")\n",
        "    return train_losses, val_losses"
      ]
    },
    {
      "cell_type": "code",
      "execution_count": 8,
      "id": "fc054005",
      "metadata": {
        "id": "fc054005"
      },
      "outputs": [],
      "source": [
        "import torch.nn as nn\n",
        "def modify_resnet_head(model, num_classes):\n",
        "  \"\"\"\n",
        "  Modify the last fully connected layer of the ResNet model to match the number of classes.\n",
        "  \"\"\"\n",
        "\n",
        "  old_fc = model.fc\n",
        "  old_num_classes = old_fc.out_features\n",
        "  num_ftrs = old_fc.in_features\n",
        "\n",
        "  # Create the new head\n",
        "  new_fc = nn.Linear(num_ftrs, num_classes).cuda()\n",
        "\n",
        "  # Copy weights and biases from the old head\n",
        "  if old_num_classes < num_classes:\n",
        "    new_fc.weight.data[:old_num_classes, :] = old_fc.weight.data.clone().cuda()\n",
        "    new_fc.bias.data[:old_num_classes] = old_fc.bias.data.clone().cuda()\n",
        "\n",
        "  model.fc = new_fc\n",
        "  return model"
      ]
    },
    {
      "cell_type": "code",
      "execution_count": 9,
      "id": "61220f9a",
      "metadata": {
        "id": "61220f9a"
      },
      "outputs": [],
      "source": [
        "import torch\n",
        "\n",
        "def get_test_accuracy(model, test_loader, num_classes):\n",
        "    model.eval()\n",
        "    correct_preds = 0\n",
        "    total = 0\n",
        "    correct_per_class = [0] * num_classes\n",
        "    total_per_class = [0] * num_classes\n",
        "\n",
        "    with torch.no_grad():\n",
        "        for imgs, labels in tqdm(test_loader, desc=\"Testing\", total=len(test_loader)):\n",
        "            imgs, labels = imgs.cuda(), labels.cuda()\n",
        "            output = model(imgs)\n",
        "            preds = output.argmax(dim=1)\n",
        "\n",
        "            correct_preds += (preds == labels).sum().item()\n",
        "            total += labels.size(0)\n",
        "\n",
        "            # Per-class stats\n",
        "            for c in range(num_classes):\n",
        "                correct_per_class[c] += ((preds == c) & (labels == c)).sum().item()\n",
        "                total_per_class[c] += (labels == c).sum().item()\n",
        "\n",
        "    overall_acc = correct_preds / total\n",
        "    per_class_acc = [correct_per_class[c] / total_per_class[c] if total_per_class[c] > 0 else 0.0\n",
        "                     for c in range(num_classes)]\n",
        "    return overall_acc, per_class_acc\n"
      ]
    },
    {
      "cell_type": "code",
      "execution_count": null,
      "id": "c93b1d5b",
      "metadata": {
        "colab": {
          "base_uri": "https://localhost:8080/"
        },
        "id": "c93b1d5b",
        "outputId": "03f6687d-7e1b-4c37-891f-eade83b7ba08"
      },
      "outputs": [
        {
          "output_type": "stream",
          "name": "stderr",
          "text": [
            "/usr/local/lib/python3.11/dist-packages/torchvision/models/_utils.py:208: UserWarning: The parameter 'pretrained' is deprecated since 0.13 and may be removed in the future, please use 'weights' instead.\n",
            "  warnings.warn(\n",
            "/usr/local/lib/python3.11/dist-packages/torchvision/models/_utils.py:223: UserWarning: Arguments other than a weight enum or `None` for 'weights' are deprecated since 0.13 and may be removed in the future. The current behavior is equivalent to passing `weights=ResNet18_Weights.IMAGENET1K_V1`. You can also use `weights=ResNet18_Weights.DEFAULT` to get the most up-to-date weights.\n",
            "  warnings.warn(msg)\n",
            "/usr/local/lib/python3.11/dist-packages/torch/utils/data/dataloader.py:624: UserWarning: This DataLoader will create 4 worker processes in total. Our suggested max number of worker in current system is 2, which is smaller than what this DataLoader is going to create. Please be aware that excessive worker creation might get DataLoader running slow or even freeze, lower the worker number to avoid potential slowness/freeze if necessary.\n",
            "  warnings.warn(\n"
          ]
        },
        {
          "output_type": "stream",
          "name": "stdout",
          "text": [
            "Training on task 0...\n"
          ]
        },
        {
          "output_type": "stream",
          "name": "stderr",
          "text": [
            "100%|██████████| 9/9 [00:06<00:00,  1.31batch/s]\n",
            "Validating: 100%|██████████| 2/2 [00:01<00:00,  1.28it/s]\n"
          ]
        },
        {
          "output_type": "stream",
          "name": "stdout",
          "text": [
            "Epoch 1, Training Loss: 2.407, Validation Loss: 2.315\n"
          ]
        },
        {
          "output_type": "stream",
          "name": "stderr",
          "text": [
            "100%|██████████| 9/9 [00:07<00:00,  1.22batch/s]\n",
            "Validating: 100%|██████████| 2/2 [00:01<00:00,  1.30it/s]\n"
          ]
        },
        {
          "output_type": "stream",
          "name": "stdout",
          "text": [
            "Epoch 2, Training Loss: 2.156, Validation Loss: 2.292\n"
          ]
        },
        {
          "output_type": "stream",
          "name": "stderr",
          "text": [
            "100%|██████████| 9/9 [00:06<00:00,  1.44batch/s]\n",
            "Validating: 100%|██████████| 2/2 [00:02<00:00,  1.17s/it]\n"
          ]
        },
        {
          "output_type": "stream",
          "name": "stdout",
          "text": [
            "Epoch 3, Training Loss: 1.961, Validation Loss: 2.176\n"
          ]
        },
        {
          "output_type": "stream",
          "name": "stderr",
          "text": [
            "100%|██████████| 9/9 [00:06<00:00,  1.35batch/s]\n",
            "Validating: 100%|██████████| 2/2 [00:01<00:00,  1.32it/s]\n"
          ]
        },
        {
          "output_type": "stream",
          "name": "stdout",
          "text": [
            "Epoch 4, Training Loss: 1.814, Validation Loss: 2.110\n"
          ]
        },
        {
          "output_type": "stream",
          "name": "stderr",
          "text": [
            "100%|██████████| 9/9 [00:07<00:00,  1.23batch/s]\n",
            "Validating: 100%|██████████| 2/2 [00:01<00:00,  1.30it/s]\n"
          ]
        },
        {
          "output_type": "stream",
          "name": "stdout",
          "text": [
            "Epoch 5, Training Loss: 1.740, Validation Loss: 2.066\n"
          ]
        },
        {
          "output_type": "stream",
          "name": "stderr",
          "text": [
            "100%|██████████| 9/9 [00:06<00:00,  1.30batch/s]\n",
            "Validating: 100%|██████████| 2/2 [00:02<00:00,  1.13s/it]\n"
          ]
        },
        {
          "output_type": "stream",
          "name": "stdout",
          "text": [
            "Epoch 6, Training Loss: 1.548, Validation Loss: 1.900\n"
          ]
        },
        {
          "output_type": "stream",
          "name": "stderr",
          "text": [
            "100%|██████████| 9/9 [00:06<00:00,  1.32batch/s]\n",
            "Validating: 100%|██████████| 2/2 [00:01<00:00,  1.31it/s]\n"
          ]
        },
        {
          "output_type": "stream",
          "name": "stdout",
          "text": [
            "Epoch 7, Training Loss: 0.688, Validation Loss: 1.699\n"
          ]
        },
        {
          "output_type": "stream",
          "name": "stderr",
          "text": [
            "100%|██████████| 9/9 [00:08<00:00,  1.10batch/s]\n",
            "Validating: 100%|██████████| 2/2 [00:01<00:00,  1.32it/s]\n"
          ]
        },
        {
          "output_type": "stream",
          "name": "stdout",
          "text": [
            "Epoch 8, Training Loss: 0.327, Validation Loss: 1.629\n"
          ]
        },
        {
          "output_type": "stream",
          "name": "stderr",
          "text": [
            "100%|██████████| 9/9 [00:07<00:00,  1.16batch/s]\n",
            "Validating: 100%|██████████| 2/2 [00:01<00:00,  1.29it/s]\n"
          ]
        },
        {
          "output_type": "stream",
          "name": "stdout",
          "text": [
            "Epoch 9, Training Loss: 0.146, Validation Loss: 1.586\n"
          ]
        },
        {
          "output_type": "stream",
          "name": "stderr",
          "text": [
            "100%|██████████| 9/9 [00:07<00:00,  1.23batch/s]\n",
            "Validating: 100%|██████████| 2/2 [00:01<00:00,  1.10it/s]\n"
          ]
        },
        {
          "output_type": "stream",
          "name": "stdout",
          "text": [
            "Epoch 10, Training Loss: 0.074, Validation Loss: 1.525\n"
          ]
        },
        {
          "output_type": "stream",
          "name": "stderr",
          "text": [
            "100%|██████████| 9/9 [00:08<00:00,  1.10batch/s]\n",
            "Validating: 100%|██████████| 2/2 [00:01<00:00,  1.30it/s]\n"
          ]
        },
        {
          "output_type": "stream",
          "name": "stdout",
          "text": [
            "Epoch 11, Training Loss: 0.044, Validation Loss: 1.498\n"
          ]
        },
        {
          "output_type": "stream",
          "name": "stderr",
          "text": [
            "100%|██████████| 9/9 [00:08<00:00,  1.11batch/s]\n",
            "Validating: 100%|██████████| 2/2 [00:01<00:00,  1.29it/s]\n"
          ]
        },
        {
          "output_type": "stream",
          "name": "stdout",
          "text": [
            "Epoch 12, Training Loss: 0.031, Validation Loss: 1.506\n"
          ]
        },
        {
          "output_type": "stream",
          "name": "stderr",
          "text": [
            "100%|██████████| 9/9 [00:07<00:00,  1.19batch/s]\n",
            "Validating: 100%|██████████| 2/2 [00:01<00:00,  1.24it/s]\n"
          ]
        },
        {
          "output_type": "stream",
          "name": "stdout",
          "text": [
            "Epoch 13, Training Loss: 0.021, Validation Loss: 1.514\n"
          ]
        },
        {
          "output_type": "stream",
          "name": "stderr",
          "text": [
            "100%|██████████| 9/9 [00:06<00:00,  1.31batch/s]\n",
            "Validating: 100%|██████████| 2/2 [00:01<00:00,  1.29it/s]\n"
          ]
        },
        {
          "output_type": "stream",
          "name": "stdout",
          "text": [
            "Epoch 14, Training Loss: 0.018, Validation Loss: 1.512\n"
          ]
        },
        {
          "output_type": "stream",
          "name": "stderr",
          "text": [
            "100%|██████████| 9/9 [00:08<00:00,  1.10batch/s]\n",
            "Validating: 100%|██████████| 2/2 [00:01<00:00,  1.07it/s]\n"
          ]
        },
        {
          "output_type": "stream",
          "name": "stdout",
          "text": [
            "Epoch 15, Training Loss: 0.015, Validation Loss: 1.514\n",
            "finished training\n"
          ]
        },
        {
          "output_type": "stream",
          "name": "stderr",
          "text": [
            "Testing: 100%|██████████| 6/6 [00:04<00:00,  1.23it/s]\n"
          ]
        },
        {
          "output_type": "stream",
          "name": "stdout",
          "text": [
            "Overall accuracy for task 0: 0.5195\n",
            "Per-class accuracy for task 0: [0.8787878787878788, 0.8484848484848485, 0.5294117647058824, 0.12121212121212122, 0.5151515151515151, 0.38235294117647056, 0.696969696969697, 0.21212121212121213, 0.29411764705882354, 0.7272727272727273]\n",
            "Model for task 0 saved as model_task_0.pth\n",
            "Training on task 1...\n"
          ]
        },
        {
          "output_type": "stream",
          "name": "stderr",
          "text": [
            "100%|██████████| 9/9 [00:06<00:00,  1.40batch/s]\n",
            "Validating: 100%|██████████| 5/5 [00:03<00:00,  1.54it/s]\n"
          ]
        },
        {
          "output_type": "stream",
          "name": "stdout",
          "text": [
            "Epoch 1, Training Loss: 2.529, Validation Loss: 4.674\n"
          ]
        },
        {
          "output_type": "stream",
          "name": "stderr",
          "text": [
            "100%|██████████| 9/9 [00:07<00:00,  1.21batch/s]\n",
            "Validating: 100%|██████████| 5/5 [00:03<00:00,  1.55it/s]\n"
          ]
        },
        {
          "output_type": "stream",
          "name": "stdout",
          "text": [
            "Epoch 2, Training Loss: 2.096, Validation Loss: 5.697\n"
          ]
        },
        {
          "output_type": "stream",
          "name": "stderr",
          "text": [
            "100%|██████████| 9/9 [00:07<00:00,  1.23batch/s]\n",
            "Validating: 100%|██████████| 5/5 [00:03<00:00,  1.52it/s]\n"
          ]
        },
        {
          "output_type": "stream",
          "name": "stdout",
          "text": [
            "Epoch 3, Training Loss: 1.878, Validation Loss: 6.165\n"
          ]
        },
        {
          "output_type": "stream",
          "name": "stderr",
          "text": [
            "100%|██████████| 9/9 [00:08<00:00,  1.05batch/s]\n",
            "Validating: 100%|██████████| 5/5 [00:03<00:00,  1.33it/s]\n"
          ]
        },
        {
          "output_type": "stream",
          "name": "stdout",
          "text": [
            "Epoch 4, Training Loss: 1.737, Validation Loss: 6.275\n"
          ]
        },
        {
          "output_type": "stream",
          "name": "stderr",
          "text": [
            "100%|██████████| 9/9 [00:06<00:00,  1.38batch/s]\n",
            "Validating: 100%|██████████| 5/5 [00:04<00:00,  1.25it/s]\n"
          ]
        },
        {
          "output_type": "stream",
          "name": "stdout",
          "text": [
            "Epoch 5, Training Loss: 1.639, Validation Loss: 6.375\n"
          ]
        },
        {
          "output_type": "stream",
          "name": "stderr",
          "text": [
            "100%|██████████| 9/9 [00:06<00:00,  1.31batch/s]\n",
            "Validating: 100%|██████████| 5/5 [00:04<00:00,  1.16it/s]\n"
          ]
        },
        {
          "output_type": "stream",
          "name": "stdout",
          "text": [
            "Epoch 6, Training Loss: 1.479, Validation Loss: 6.827\n"
          ]
        },
        {
          "output_type": "stream",
          "name": "stderr",
          "text": [
            "100%|██████████| 9/9 [00:06<00:00,  1.29batch/s]\n",
            "Validating: 100%|██████████| 5/5 [00:03<00:00,  1.42it/s]\n"
          ]
        },
        {
          "output_type": "stream",
          "name": "stdout",
          "text": [
            "Epoch 7, Training Loss: 0.620, Validation Loss: 6.484\n"
          ]
        },
        {
          "output_type": "stream",
          "name": "stderr",
          "text": [
            "100%|██████████| 9/9 [00:07<00:00,  1.17batch/s]\n",
            "Validating: 100%|██████████| 5/5 [00:03<00:00,  1.56it/s]\n"
          ]
        },
        {
          "output_type": "stream",
          "name": "stdout",
          "text": [
            "Epoch 8, Training Loss: 0.303, Validation Loss: 6.153\n"
          ]
        },
        {
          "output_type": "stream",
          "name": "stderr",
          "text": [
            "100%|██████████| 9/9 [00:08<00:00,  1.11batch/s]\n",
            "Validating: 100%|██████████| 5/5 [00:03<00:00,  1.52it/s]\n"
          ]
        },
        {
          "output_type": "stream",
          "name": "stdout",
          "text": [
            "Epoch 9, Training Loss: 0.142, Validation Loss: 6.267\n",
            "Early stopping at epoch 9\n",
            "finished training\n"
          ]
        },
        {
          "output_type": "stream",
          "name": "stderr",
          "text": [
            "Testing: 100%|██████████| 11/11 [00:09<00:00,  1.21it/s]\n"
          ]
        },
        {
          "output_type": "stream",
          "name": "stdout",
          "text": [
            "Overall accuracy for task 1: 0.2297\n",
            "Per-class accuracy for task 1: [0.0, 0.0, 0.0, 0.0, 0.0, 0.0, 0.0, 0.0, 0.0, 0.0, 0.42424242424242425, 0.4117647058823529, 0.3333333333333333, 0.36363636363636365, 0.4411764705882353, 0.7272727272727273, 0.5757575757575758, 0.23529411764705882, 0.6666666666666666, 0.42424242424242425]\n",
            "Model for task 1 saved as model_task_1.pth\n",
            "Training on task 2...\n"
          ]
        },
        {
          "output_type": "stream",
          "name": "stderr",
          "text": [
            "100%|██████████| 9/9 [00:06<00:00,  1.35batch/s]\n",
            "Validating: 100%|██████████| 7/7 [00:05<00:00,  1.28it/s]\n"
          ]
        },
        {
          "output_type": "stream",
          "name": "stdout",
          "text": [
            "Epoch 1, Training Loss: 2.978, Validation Loss: 7.444\n"
          ]
        },
        {
          "output_type": "stream",
          "name": "stderr",
          "text": [
            "100%|██████████| 9/9 [00:06<00:00,  1.42batch/s]\n",
            "Validating: 100%|██████████| 7/7 [00:05<00:00,  1.24it/s]\n"
          ]
        },
        {
          "output_type": "stream",
          "name": "stdout",
          "text": [
            "Epoch 2, Training Loss: 2.052, Validation Loss: 8.932\n"
          ]
        },
        {
          "output_type": "stream",
          "name": "stderr",
          "text": [
            "100%|██████████| 9/9 [00:06<00:00,  1.40batch/s]\n",
            "Validating: 100%|██████████| 7/7 [00:05<00:00,  1.23it/s]\n"
          ]
        },
        {
          "output_type": "stream",
          "name": "stdout",
          "text": [
            "Epoch 3, Training Loss: 1.748, Validation Loss: 9.524\n"
          ]
        },
        {
          "output_type": "stream",
          "name": "stderr",
          "text": [
            "100%|██████████| 9/9 [00:06<00:00,  1.37batch/s]\n",
            "Validating: 100%|██████████| 7/7 [00:05<00:00,  1.24it/s]\n"
          ]
        },
        {
          "output_type": "stream",
          "name": "stdout",
          "text": [
            "Epoch 4, Training Loss: 1.560, Validation Loss: 9.779\n"
          ]
        },
        {
          "output_type": "stream",
          "name": "stderr",
          "text": [
            "100%|██████████| 9/9 [00:06<00:00,  1.38batch/s]\n",
            "Validating: 100%|██████████| 7/7 [00:05<00:00,  1.19it/s]\n"
          ]
        },
        {
          "output_type": "stream",
          "name": "stdout",
          "text": [
            "Epoch 5, Training Loss: 1.445, Validation Loss: 9.864\n"
          ]
        },
        {
          "output_type": "stream",
          "name": "stderr",
          "text": [
            "100%|██████████| 9/9 [00:07<00:00,  1.28batch/s]\n",
            "Validating: 100%|██████████| 7/7 [00:06<00:00,  1.09it/s]\n"
          ]
        },
        {
          "output_type": "stream",
          "name": "stdout",
          "text": [
            "Epoch 6, Training Loss: 1.269, Validation Loss: 10.688\n"
          ]
        },
        {
          "output_type": "stream",
          "name": "stderr",
          "text": [
            "100%|██████████| 9/9 [00:07<00:00,  1.28batch/s]\n",
            "Validating: 100%|██████████| 7/7 [00:05<00:00,  1.21it/s]\n"
          ]
        },
        {
          "output_type": "stream",
          "name": "stdout",
          "text": [
            "Epoch 7, Training Loss: 0.470, Validation Loss: 9.674\n"
          ]
        },
        {
          "output_type": "stream",
          "name": "stderr",
          "text": [
            "100%|██████████| 9/9 [00:07<00:00,  1.26batch/s]\n",
            "Validating: 100%|██████████| 7/7 [00:05<00:00,  1.24it/s]\n"
          ]
        },
        {
          "output_type": "stream",
          "name": "stdout",
          "text": [
            "Epoch 8, Training Loss: 0.212, Validation Loss: 9.447\n"
          ]
        },
        {
          "output_type": "stream",
          "name": "stderr",
          "text": [
            "100%|██████████| 9/9 [00:06<00:00,  1.29batch/s]\n",
            "Validating: 100%|██████████| 7/7 [00:05<00:00,  1.20it/s]\n"
          ]
        },
        {
          "output_type": "stream",
          "name": "stdout",
          "text": [
            "Epoch 9, Training Loss: 0.098, Validation Loss: 9.363\n",
            "Early stopping at epoch 9\n",
            "finished training\n"
          ]
        },
        {
          "output_type": "stream",
          "name": "stderr",
          "text": [
            "Testing: 100%|██████████| 16/16 [00:12<00:00,  1.23it/s]\n"
          ]
        },
        {
          "output_type": "stream",
          "name": "stdout",
          "text": [
            "Overall accuracy for task 2: 0.2070\n",
            "Per-class accuracy for task 2: [0.0, 0.0, 0.0, 0.0, 0.0, 0.0, 0.0, 0.0, 0.0, 0.0, 0.0, 0.0, 0.0, 0.0, 0.0, 0.0, 0.0, 0.0, 0.0, 0.0, 0.8529411764705882, 0.5757575757575758, 0.48484848484848486, 0.8235294117647058, 0.5454545454545454, 0.5757575757575758, 0.6176470588235294, 0.45454545454545453, 0.5151515151515151, 0.7352941176470589]\n",
            "Model for task 2 saved as model_task_2.pth\n",
            "Training on task 3...\n"
          ]
        },
        {
          "output_type": "stream",
          "name": "stderr",
          "text": [
            "100%|██████████| 9/9 [00:06<00:00,  1.39batch/s]\n",
            "Validating: 100%|██████████| 9/9 [00:07<00:00,  1.21it/s]\n"
          ]
        },
        {
          "output_type": "stream",
          "name": "stdout",
          "text": [
            "Epoch 1, Training Loss: 4.087, Validation Loss: 10.463\n"
          ]
        },
        {
          "output_type": "stream",
          "name": "stderr",
          "text": [
            "100%|██████████| 9/9 [00:06<00:00,  1.39batch/s]\n",
            "Validating: 100%|██████████| 9/9 [00:07<00:00,  1.19it/s]\n"
          ]
        },
        {
          "output_type": "stream",
          "name": "stdout",
          "text": [
            "Epoch 2, Training Loss: 2.012, Validation Loss: 13.063\n"
          ]
        },
        {
          "output_type": "stream",
          "name": "stderr",
          "text": [
            "100%|██████████| 9/9 [00:06<00:00,  1.39batch/s]\n",
            "Validating: 100%|██████████| 9/9 [00:07<00:00,  1.21it/s]\n"
          ]
        },
        {
          "output_type": "stream",
          "name": "stdout",
          "text": [
            "Epoch 3, Training Loss: 1.599, Validation Loss: 14.094\n"
          ]
        },
        {
          "output_type": "stream",
          "name": "stderr",
          "text": [
            "100%|██████████| 9/9 [00:06<00:00,  1.40batch/s]\n",
            "Validating: 100%|██████████| 9/9 [00:07<00:00,  1.18it/s]\n"
          ]
        },
        {
          "output_type": "stream",
          "name": "stdout",
          "text": [
            "Epoch 4, Training Loss: 1.357, Validation Loss: 14.490\n"
          ]
        },
        {
          "output_type": "stream",
          "name": "stderr",
          "text": [
            "100%|██████████| 9/9 [00:07<00:00,  1.28batch/s]\n",
            "Validating: 100%|██████████| 9/9 [00:06<00:00,  1.35it/s]\n"
          ]
        },
        {
          "output_type": "stream",
          "name": "stdout",
          "text": [
            "Epoch 5, Training Loss: 1.242, Validation Loss: 14.631\n"
          ]
        },
        {
          "output_type": "stream",
          "name": "stderr",
          "text": [
            "100%|██████████| 9/9 [00:08<00:00,  1.08batch/s]\n",
            "Validating: 100%|██████████| 9/9 [00:06<00:00,  1.41it/s]\n"
          ]
        },
        {
          "output_type": "stream",
          "name": "stdout",
          "text": [
            "Epoch 6, Training Loss: 0.951, Validation Loss: 15.884\n"
          ]
        },
        {
          "output_type": "stream",
          "name": "stderr",
          "text": [
            "100%|██████████| 9/9 [00:08<00:00,  1.06batch/s]\n",
            "Validating: 100%|██████████| 9/9 [00:06<00:00,  1.43it/s]\n"
          ]
        },
        {
          "output_type": "stream",
          "name": "stdout",
          "text": [
            "Epoch 7, Training Loss: 0.310, Validation Loss: 14.838\n"
          ]
        },
        {
          "output_type": "stream",
          "name": "stderr",
          "text": [
            "100%|██████████| 9/9 [00:08<00:00,  1.09batch/s]\n",
            "Validating: 100%|██████████| 9/9 [00:06<00:00,  1.34it/s]\n"
          ]
        },
        {
          "output_type": "stream",
          "name": "stdout",
          "text": [
            "Epoch 8, Training Loss: 0.158, Validation Loss: 14.271\n"
          ]
        },
        {
          "output_type": "stream",
          "name": "stderr",
          "text": [
            "100%|██████████| 9/9 [00:08<00:00,  1.11batch/s]\n",
            "Validating: 100%|██████████| 9/9 [00:07<00:00,  1.21it/s]\n"
          ]
        },
        {
          "output_type": "stream",
          "name": "stdout",
          "text": [
            "Epoch 9, Training Loss: 0.077, Validation Loss: 13.827\n",
            "Early stopping at epoch 9\n",
            "finished training\n"
          ]
        },
        {
          "output_type": "stream",
          "name": "stderr",
          "text": [
            "Testing: 100%|██████████| 21/21 [00:16<00:00,  1.28it/s]\n"
          ]
        },
        {
          "output_type": "stream",
          "name": "stdout",
          "text": [
            "Overall accuracy for task 3: 0.1853\n",
            "Per-class accuracy for task 3: [0.0, 0.0, 0.0, 0.0, 0.0, 0.0, 0.0, 0.0, 0.0, 0.0, 0.0, 0.0, 0.0, 0.0, 0.0, 0.0, 0.0, 0.0, 0.0, 0.0, 0.0, 0.0, 0.0, 0.0, 0.0, 0.0, 0.0, 0.0, 0.0, 0.0, 0.5454545454545454, 0.6363636363636364, 0.5882352941176471, 0.6666666666666666, 0.8484848484848485, 0.8823529411764706, 1.0, 0.7272727272727273, 0.5882352941176471, 0.9393939393939394]\n",
            "Model for task 3 saved as model_task_3.pth\n",
            "Training on task 4...\n"
          ]
        },
        {
          "output_type": "stream",
          "name": "stderr",
          "text": [
            "100%|██████████| 9/9 [00:07<00:00,  1.22batch/s]\n",
            "Validating: 100%|██████████| 11/11 [00:08<00:00,  1.34it/s]\n"
          ]
        },
        {
          "output_type": "stream",
          "name": "stdout",
          "text": [
            "Epoch 1, Training Loss: 5.194, Validation Loss: 12.296\n"
          ]
        },
        {
          "output_type": "stream",
          "name": "stderr",
          "text": [
            "100%|██████████| 9/9 [00:07<00:00,  1.20batch/s]\n",
            "Validating: 100%|██████████| 11/11 [00:08<00:00,  1.37it/s]\n"
          ]
        },
        {
          "output_type": "stream",
          "name": "stdout",
          "text": [
            "Epoch 2, Training Loss: 2.095, Validation Loss: 15.133\n"
          ]
        },
        {
          "output_type": "stream",
          "name": "stderr",
          "text": [
            "100%|██████████| 9/9 [00:07<00:00,  1.21batch/s]\n",
            "Validating: 100%|██████████| 11/11 [00:09<00:00,  1.19it/s]\n"
          ]
        },
        {
          "output_type": "stream",
          "name": "stdout",
          "text": [
            "Epoch 3, Training Loss: 1.674, Validation Loss: 16.116\n"
          ]
        },
        {
          "output_type": "stream",
          "name": "stderr",
          "text": [
            "100%|██████████| 9/9 [00:06<00:00,  1.42batch/s]\n",
            "Validating: 100%|██████████| 11/11 [00:09<00:00,  1.18it/s]\n"
          ]
        },
        {
          "output_type": "stream",
          "name": "stdout",
          "text": [
            "Epoch 4, Training Loss: 1.409, Validation Loss: 16.596\n"
          ]
        },
        {
          "output_type": "stream",
          "name": "stderr",
          "text": [
            "100%|██████████| 9/9 [00:06<00:00,  1.40batch/s]\n",
            "Validating: 100%|██████████| 11/11 [00:09<00:00,  1.21it/s]\n"
          ]
        },
        {
          "output_type": "stream",
          "name": "stdout",
          "text": [
            "Epoch 5, Training Loss: 1.267, Validation Loss: 16.785\n"
          ]
        },
        {
          "output_type": "stream",
          "name": "stderr",
          "text": [
            "100%|██████████| 9/9 [00:08<00:00,  1.10batch/s]\n",
            "Validating: 100%|██████████| 11/11 [00:08<00:00,  1.37it/s]\n"
          ]
        },
        {
          "output_type": "stream",
          "name": "stdout",
          "text": [
            "Epoch 6, Training Loss: 1.008, Validation Loss: 17.784\n"
          ]
        },
        {
          "output_type": "stream",
          "name": "stderr",
          "text": [
            "100%|██████████| 9/9 [00:08<00:00,  1.08batch/s]\n",
            "Validating: 100%|██████████| 11/11 [00:09<00:00,  1.20it/s]\n"
          ]
        },
        {
          "output_type": "stream",
          "name": "stdout",
          "text": [
            "Epoch 7, Training Loss: 0.323, Validation Loss: 16.864\n"
          ]
        },
        {
          "output_type": "stream",
          "name": "stderr",
          "text": [
            "100%|██████████| 9/9 [00:07<00:00,  1.28batch/s]\n",
            "Validating: 100%|██████████| 11/11 [00:09<00:00,  1.18it/s]\n"
          ]
        },
        {
          "output_type": "stream",
          "name": "stdout",
          "text": [
            "Epoch 8, Training Loss: 0.160, Validation Loss: 16.387\n"
          ]
        },
        {
          "output_type": "stream",
          "name": "stderr",
          "text": [
            "100%|██████████| 9/9 [00:07<00:00,  1.14batch/s]\n",
            "Validating: 100%|██████████| 11/11 [00:08<00:00,  1.37it/s]\n"
          ]
        },
        {
          "output_type": "stream",
          "name": "stdout",
          "text": [
            "Epoch 9, Training Loss: 0.098, Validation Loss: 16.434\n",
            "Early stopping at epoch 9\n",
            "finished training\n"
          ]
        },
        {
          "output_type": "stream",
          "name": "stderr",
          "text": [
            "Testing: 100%|██████████| 27/27 [00:21<00:00,  1.23it/s]\n"
          ]
        },
        {
          "output_type": "stream",
          "name": "stdout",
          "text": [
            "Overall accuracy for task 4: 0.1681\n",
            "Per-class accuracy for task 4: [0.0, 0.0, 0.0, 0.0, 0.0, 0.0, 0.0, 0.0, 0.0, 0.0, 0.0, 0.0, 0.0, 0.0, 0.0, 0.0, 0.0, 0.0, 0.0, 0.0, 0.0, 0.0, 0.0, 0.0, 0.0, 0.0, 0.0, 0.0, 0.0, 0.0, 0.0, 0.0, 0.0, 0.0, 0.0, 0.0, 0.0, 0.0, 0.0, 0.0, 0.8787878787878788, 0.8235294117647058, 1.0, 0.9090909090909091, 0.7352941176470589, 0.7272727272727273, 0.6060606060606061, 1.0, 0.7272727272727273, 1.0]\n",
            "Model for task 4 saved as model_task_4.pth\n",
            "Training on task 5...\n"
          ]
        },
        {
          "output_type": "stream",
          "name": "stderr",
          "text": [
            "100%|██████████| 9/9 [00:06<00:00,  1.39batch/s]\n",
            "Validating: 100%|██████████| 13/13 [00:10<00:00,  1.24it/s]\n"
          ]
        },
        {
          "output_type": "stream",
          "name": "stdout",
          "text": [
            "Epoch 1, Training Loss: 5.523, Validation Loss: 14.164\n"
          ]
        },
        {
          "output_type": "stream",
          "name": "stderr",
          "text": [
            "100%|██████████| 9/9 [00:07<00:00,  1.19batch/s]\n",
            "Validating: 100%|██████████| 13/13 [00:10<00:00,  1.21it/s]\n"
          ]
        },
        {
          "output_type": "stream",
          "name": "stdout",
          "text": [
            "Epoch 2, Training Loss: 1.956, Validation Loss: 17.021\n"
          ]
        },
        {
          "output_type": "stream",
          "name": "stderr",
          "text": [
            "100%|██████████| 9/9 [00:06<00:00,  1.46batch/s]\n",
            "Validating: 100%|██████████| 13/13 [00:10<00:00,  1.20it/s]\n"
          ]
        },
        {
          "output_type": "stream",
          "name": "stdout",
          "text": [
            "Epoch 3, Training Loss: 1.437, Validation Loss: 18.315\n"
          ]
        },
        {
          "output_type": "stream",
          "name": "stderr",
          "text": [
            "100%|██████████| 9/9 [00:07<00:00,  1.25batch/s]\n",
            "Validating: 100%|██████████| 13/13 [00:09<00:00,  1.34it/s]\n"
          ]
        },
        {
          "output_type": "stream",
          "name": "stdout",
          "text": [
            "Epoch 4, Training Loss: 1.140, Validation Loss: 18.629\n"
          ]
        },
        {
          "output_type": "stream",
          "name": "stderr",
          "text": [
            "100%|██████████| 9/9 [00:07<00:00,  1.22batch/s]\n",
            "Validating: 100%|██████████| 13/13 [00:10<00:00,  1.20it/s]\n"
          ]
        },
        {
          "output_type": "stream",
          "name": "stdout",
          "text": [
            "Epoch 5, Training Loss: 0.917, Validation Loss: 18.944\n"
          ]
        },
        {
          "output_type": "stream",
          "name": "stderr",
          "text": [
            "100%|██████████| 9/9 [00:06<00:00,  1.30batch/s]\n",
            "Validating: 100%|██████████| 13/13 [00:10<00:00,  1.21it/s]\n"
          ]
        },
        {
          "output_type": "stream",
          "name": "stdout",
          "text": [
            "Epoch 6, Training Loss: 0.693, Validation Loss: 20.158\n"
          ]
        },
        {
          "output_type": "stream",
          "name": "stderr",
          "text": [
            "100%|██████████| 9/9 [00:08<00:00,  1.08batch/s]\n",
            "Validating: 100%|██████████| 13/13 [00:10<00:00,  1.29it/s]\n"
          ]
        },
        {
          "output_type": "stream",
          "name": "stdout",
          "text": [
            "Epoch 7, Training Loss: 0.169, Validation Loss: 18.716\n"
          ]
        },
        {
          "output_type": "stream",
          "name": "stderr",
          "text": [
            "100%|██████████| 9/9 [00:07<00:00,  1.22batch/s]\n",
            "Validating: 100%|██████████| 13/13 [00:10<00:00,  1.21it/s]\n"
          ]
        },
        {
          "output_type": "stream",
          "name": "stdout",
          "text": [
            "Epoch 8, Training Loss: 0.081, Validation Loss: 17.811\n"
          ]
        },
        {
          "output_type": "stream",
          "name": "stderr",
          "text": [
            "100%|██████████| 9/9 [00:07<00:00,  1.25batch/s]\n",
            "Validating: 100%|██████████| 13/13 [00:09<00:00,  1.32it/s]\n"
          ]
        },
        {
          "output_type": "stream",
          "name": "stdout",
          "text": [
            "Epoch 9, Training Loss: 0.034, Validation Loss: 17.600\n",
            "Early stopping at epoch 9\n",
            "finished training\n"
          ]
        },
        {
          "output_type": "stream",
          "name": "stderr",
          "text": [
            "Testing: 100%|██████████| 32/32 [00:25<00:00,  1.25it/s]\n"
          ]
        },
        {
          "output_type": "stream",
          "name": "stdout",
          "text": [
            "Overall accuracy for task 5: 0.1450\n",
            "Per-class accuracy for task 5: [0.0, 0.0, 0.0, 0.0, 0.0, 0.0, 0.0, 0.0, 0.0, 0.0, 0.0, 0.0, 0.0, 0.0, 0.0, 0.0, 0.0, 0.0, 0.0, 0.0, 0.0, 0.0, 0.0, 0.0, 0.0, 0.0, 0.0, 0.0, 0.0, 0.0, 0.0, 0.0, 0.0, 0.0, 0.0, 0.0, 0.0, 0.0, 0.0, 0.0, 0.0, 0.0, 0.0, 0.0, 0.0, 0.0, 0.0, 0.0, 0.0, 0.0, 0.8823529411764706, 0.9090909090909091, 0.7878787878787878, 0.7941176470588235, 0.8787878787878788, 0.6363636363636364, 0.9411764705882353, 1.0, 0.8484848484848485, 1.0]\n",
            "Model for task 5 saved as model_task_5.pth\n",
            "Training on task 6...\n"
          ]
        },
        {
          "output_type": "stream",
          "name": "stderr",
          "text": [
            "100%|██████████| 9/9 [00:07<00:00,  1.14batch/s]\n",
            "Validating: 100%|██████████| 15/15 [00:12<00:00,  1.23it/s]\n"
          ]
        },
        {
          "output_type": "stream",
          "name": "stdout",
          "text": [
            "Epoch 1, Training Loss: 6.127, Validation Loss: 14.861\n"
          ]
        },
        {
          "output_type": "stream",
          "name": "stderr",
          "text": [
            "100%|██████████| 9/9 [00:06<00:00,  1.34batch/s]\n",
            "Validating: 100%|██████████| 15/15 [00:12<00:00,  1.25it/s]\n"
          ]
        },
        {
          "output_type": "stream",
          "name": "stdout",
          "text": [
            "Epoch 2, Training Loss: 1.920, Validation Loss: 17.905\n"
          ]
        },
        {
          "output_type": "stream",
          "name": "stderr",
          "text": [
            "100%|██████████| 9/9 [00:07<00:00,  1.13batch/s]\n",
            "Validating: 100%|██████████| 15/15 [00:12<00:00,  1.24it/s]\n"
          ]
        },
        {
          "output_type": "stream",
          "name": "stdout",
          "text": [
            "Epoch 3, Training Loss: 1.363, Validation Loss: 19.276\n"
          ]
        },
        {
          "output_type": "stream",
          "name": "stderr",
          "text": [
            "100%|██████████| 9/9 [00:06<00:00,  1.32batch/s]\n",
            "Validating: 100%|██████████| 15/15 [00:11<00:00,  1.26it/s]\n"
          ]
        },
        {
          "output_type": "stream",
          "name": "stdout",
          "text": [
            "Epoch 4, Training Loss: 1.084, Validation Loss: 19.837\n"
          ]
        },
        {
          "output_type": "stream",
          "name": "stderr",
          "text": [
            "100%|██████████| 9/9 [00:07<00:00,  1.15batch/s]\n",
            "Validating: 100%|██████████| 15/15 [00:12<00:00,  1.25it/s]\n"
          ]
        },
        {
          "output_type": "stream",
          "name": "stdout",
          "text": [
            "Epoch 5, Training Loss: 0.937, Validation Loss: 20.017\n"
          ]
        },
        {
          "output_type": "stream",
          "name": "stderr",
          "text": [
            "100%|██████████| 9/9 [00:07<00:00,  1.21batch/s]\n",
            "Validating: 100%|██████████| 15/15 [00:11<00:00,  1.28it/s]\n"
          ]
        },
        {
          "output_type": "stream",
          "name": "stdout",
          "text": [
            "Epoch 6, Training Loss: 0.764, Validation Loss: 20.710\n"
          ]
        },
        {
          "output_type": "stream",
          "name": "stderr",
          "text": [
            "100%|██████████| 9/9 [00:08<00:00,  1.09batch/s]\n",
            "Validating: 100%|██████████| 15/15 [00:11<00:00,  1.25it/s]\n"
          ]
        },
        {
          "output_type": "stream",
          "name": "stdout",
          "text": [
            "Epoch 7, Training Loss: 0.252, Validation Loss: 20.123\n"
          ]
        },
        {
          "output_type": "stream",
          "name": "stderr",
          "text": [
            "100%|██████████| 9/9 [00:08<00:00,  1.12batch/s]\n",
            "Validating: 100%|██████████| 15/15 [00:11<00:00,  1.35it/s]\n"
          ]
        },
        {
          "output_type": "stream",
          "name": "stdout",
          "text": [
            "Epoch 8, Training Loss: 0.105, Validation Loss: 19.546\n"
          ]
        },
        {
          "output_type": "stream",
          "name": "stderr",
          "text": [
            "100%|██████████| 9/9 [00:07<00:00,  1.14batch/s]\n",
            "Validating: 100%|██████████| 15/15 [00:12<00:00,  1.24it/s]\n"
          ]
        },
        {
          "output_type": "stream",
          "name": "stdout",
          "text": [
            "Epoch 9, Training Loss: 0.050, Validation Loss: 19.338\n",
            "Early stopping at epoch 9\n",
            "finished training\n"
          ]
        },
        {
          "output_type": "stream",
          "name": "stderr",
          "text": [
            "Testing: 100%|██████████| 37/37 [00:29<00:00,  1.26it/s]\n"
          ]
        },
        {
          "output_type": "stream",
          "name": "stdout",
          "text": [
            "Overall accuracy for task 6: 0.1192\n",
            "Per-class accuracy for task 6: [0.0, 0.0, 0.0, 0.0, 0.0, 0.0, 0.0, 0.0, 0.0, 0.0, 0.0, 0.0, 0.0, 0.0, 0.0, 0.0, 0.0, 0.0, 0.0, 0.0, 0.0, 0.0, 0.0, 0.0, 0.0, 0.0, 0.0, 0.0, 0.0, 0.0, 0.0, 0.0, 0.0, 0.0, 0.0, 0.0, 0.0, 0.0, 0.0, 0.0, 0.0, 0.0, 0.0, 0.0, 0.0, 0.0, 0.0, 0.0, 0.0, 0.0, 0.0, 0.0, 0.0, 0.0, 0.0, 0.0, 0.0, 0.0, 0.0, 0.0, 0.7878787878787878, 0.9090909090909091, 0.9705882352941176, 0.8484848484848485, 0.9090909090909091, 0.7352941176470589, 0.7878787878787878, 0.9696969696969697, 0.8823529411764706, 0.5454545454545454]\n",
            "Model for task 6 saved as model_task_6.pth\n",
            "Training on task 7...\n"
          ]
        },
        {
          "output_type": "stream",
          "name": "stderr",
          "text": [
            "100%|██████████| 9/9 [00:07<00:00,  1.15batch/s]\n",
            "Validating: 100%|██████████| 17/17 [00:13<00:00,  1.26it/s]\n"
          ]
        },
        {
          "output_type": "stream",
          "name": "stdout",
          "text": [
            "Epoch 1, Training Loss: 6.264, Validation Loss: 16.407\n"
          ]
        },
        {
          "output_type": "stream",
          "name": "stderr",
          "text": [
            "100%|██████████| 9/9 [00:07<00:00,  1.20batch/s]\n",
            "Validating: 100%|██████████| 17/17 [00:13<00:00,  1.23it/s]\n"
          ]
        },
        {
          "output_type": "stream",
          "name": "stdout",
          "text": [
            "Epoch 2, Training Loss: 1.889, Validation Loss: 19.389\n"
          ]
        },
        {
          "output_type": "stream",
          "name": "stderr",
          "text": [
            "100%|██████████| 9/9 [00:06<00:00,  1.34batch/s]\n",
            "Validating: 100%|██████████| 17/17 [00:13<00:00,  1.25it/s]\n"
          ]
        },
        {
          "output_type": "stream",
          "name": "stdout",
          "text": [
            "Epoch 3, Training Loss: 1.286, Validation Loss: 20.659\n"
          ]
        },
        {
          "output_type": "stream",
          "name": "stderr",
          "text": [
            "100%|██████████| 9/9 [00:07<00:00,  1.17batch/s]\n",
            "Validating: 100%|██████████| 17/17 [00:13<00:00,  1.27it/s]\n"
          ]
        },
        {
          "output_type": "stream",
          "name": "stdout",
          "text": [
            "Epoch 4, Training Loss: 1.025, Validation Loss: 21.138\n"
          ]
        },
        {
          "output_type": "stream",
          "name": "stderr",
          "text": [
            "100%|██████████| 9/9 [00:06<00:00,  1.32batch/s]\n",
            "Validating: 100%|██████████| 17/17 [00:13<00:00,  1.23it/s]\n"
          ]
        },
        {
          "output_type": "stream",
          "name": "stdout",
          "text": [
            "Epoch 5, Training Loss: 0.876, Validation Loss: 21.465\n"
          ]
        },
        {
          "output_type": "stream",
          "name": "stderr",
          "text": [
            "100%|██████████| 9/9 [00:08<00:00,  1.11batch/s]\n",
            "Validating: 100%|██████████| 17/17 [00:13<00:00,  1.25it/s]\n"
          ]
        },
        {
          "output_type": "stream",
          "name": "stdout",
          "text": [
            "Epoch 6, Training Loss: 0.675, Validation Loss: 22.322\n"
          ]
        },
        {
          "output_type": "stream",
          "name": "stderr",
          "text": [
            "100%|██████████| 9/9 [00:08<00:00,  1.08batch/s]\n",
            "Validating: 100%|██████████| 17/17 [00:13<00:00,  1.23it/s]\n"
          ]
        },
        {
          "output_type": "stream",
          "name": "stdout",
          "text": [
            "Epoch 7, Training Loss: 0.198, Validation Loss: 20.772\n"
          ]
        },
        {
          "output_type": "stream",
          "name": "stderr",
          "text": [
            "100%|██████████| 9/9 [00:07<00:00,  1.20batch/s]\n",
            "Validating: 100%|██████████| 17/17 [00:13<00:00,  1.23it/s]\n"
          ]
        },
        {
          "output_type": "stream",
          "name": "stdout",
          "text": [
            "Epoch 8, Training Loss: 0.066, Validation Loss: 20.372\n"
          ]
        },
        {
          "output_type": "stream",
          "name": "stderr",
          "text": [
            "100%|██████████| 9/9 [00:07<00:00,  1.22batch/s]\n",
            "Validating: 100%|██████████| 17/17 [00:13<00:00,  1.26it/s]\n"
          ]
        },
        {
          "output_type": "stream",
          "name": "stdout",
          "text": [
            "Epoch 9, Training Loss: 0.031, Validation Loss: 20.281\n",
            "Early stopping at epoch 9\n",
            "finished training\n"
          ]
        },
        {
          "output_type": "stream",
          "name": "stderr",
          "text": [
            "Testing: 100%|██████████| 42/42 [00:34<00:00,  1.22it/s]\n"
          ]
        },
        {
          "output_type": "stream",
          "name": "stdout",
          "text": [
            "Overall accuracy for task 7: 0.1107\n",
            "Per-class accuracy for task 7: [0.0, 0.0, 0.0, 0.0, 0.0, 0.0, 0.0, 0.0, 0.0, 0.0, 0.0, 0.0, 0.0, 0.0, 0.0, 0.0, 0.0, 0.0, 0.0, 0.0, 0.0, 0.0, 0.0, 0.0, 0.0, 0.0, 0.0, 0.0, 0.0, 0.0, 0.0, 0.0, 0.0, 0.0, 0.0, 0.0, 0.0, 0.0, 0.0, 0.0, 0.0, 0.0, 0.0, 0.0, 0.0, 0.0, 0.0, 0.0, 0.0, 0.0, 0.0, 0.0, 0.0, 0.0, 0.0, 0.0, 0.0, 0.0, 0.0, 0.0, 0.0, 0.0, 0.0, 0.0, 0.0, 0.0, 0.0, 0.0, 0.0, 0.0, 0.9393939393939394, 0.9705882352941176, 0.9696969696969697, 0.9393939393939394, 0.8529411764705882, 0.7575757575757576, 0.8484848484848485, 0.8529411764705882, 0.8181818181818182, 0.9090909090909091]\n",
            "Model for task 7 saved as model_task_7.pth\n",
            "Training on task 8...\n"
          ]
        },
        {
          "output_type": "stream",
          "name": "stderr",
          "text": [
            "100%|██████████| 9/9 [00:06<00:00,  1.35batch/s]\n",
            "Validating: 100%|██████████| 19/19 [00:15<00:00,  1.19it/s]\n"
          ]
        },
        {
          "output_type": "stream",
          "name": "stdout",
          "text": [
            "Epoch 1, Training Loss: 6.678, Validation Loss: 16.852\n"
          ]
        },
        {
          "output_type": "stream",
          "name": "stderr",
          "text": [
            "100%|██████████| 9/9 [00:06<00:00,  1.39batch/s]\n",
            "Validating: 100%|██████████| 19/19 [00:14<00:00,  1.27it/s]\n"
          ]
        },
        {
          "output_type": "stream",
          "name": "stdout",
          "text": [
            "Epoch 2, Training Loss: 2.001, Validation Loss: 19.504\n"
          ]
        },
        {
          "output_type": "stream",
          "name": "stderr",
          "text": [
            "100%|██████████| 9/9 [00:07<00:00,  1.16batch/s]\n",
            "Validating: 100%|██████████| 19/19 [00:14<00:00,  1.28it/s]\n"
          ]
        },
        {
          "output_type": "stream",
          "name": "stdout",
          "text": [
            "Epoch 3, Training Loss: 1.302, Validation Loss: 20.767\n"
          ]
        },
        {
          "output_type": "stream",
          "name": "stderr",
          "text": [
            "100%|██████████| 9/9 [00:07<00:00,  1.14batch/s]\n",
            "Validating: 100%|██████████| 19/19 [00:14<00:00,  1.27it/s]\n"
          ]
        },
        {
          "output_type": "stream",
          "name": "stdout",
          "text": [
            "Epoch 4, Training Loss: 0.991, Validation Loss: 21.292\n"
          ]
        },
        {
          "output_type": "stream",
          "name": "stderr",
          "text": [
            "100%|██████████| 9/9 [00:06<00:00,  1.36batch/s]\n",
            "Validating: 100%|██████████| 19/19 [00:15<00:00,  1.21it/s]\n"
          ]
        },
        {
          "output_type": "stream",
          "name": "stdout",
          "text": [
            "Epoch 5, Training Loss: 0.824, Validation Loss: 21.543\n"
          ]
        },
        {
          "output_type": "stream",
          "name": "stderr",
          "text": [
            "100%|██████████| 9/9 [00:07<00:00,  1.19batch/s]\n",
            "Validating: 100%|██████████| 19/19 [00:14<00:00,  1.30it/s]\n"
          ]
        },
        {
          "output_type": "stream",
          "name": "stdout",
          "text": [
            "Epoch 6, Training Loss: 0.674, Validation Loss: 22.894\n"
          ]
        },
        {
          "output_type": "stream",
          "name": "stderr",
          "text": [
            "100%|██████████| 9/9 [00:08<00:00,  1.07batch/s]\n",
            "Validating: 100%|██████████| 19/19 [00:14<00:00,  1.30it/s]\n"
          ]
        },
        {
          "output_type": "stream",
          "name": "stdout",
          "text": [
            "Epoch 7, Training Loss: 0.254, Validation Loss: 21.555\n"
          ]
        },
        {
          "output_type": "stream",
          "name": "stderr",
          "text": [
            "100%|██████████| 9/9 [00:08<00:00,  1.12batch/s]\n",
            "Validating: 100%|██████████| 19/19 [00:14<00:00,  1.27it/s]\n"
          ]
        },
        {
          "output_type": "stream",
          "name": "stdout",
          "text": [
            "Epoch 8, Training Loss: 0.103, Validation Loss: 20.795\n"
          ]
        },
        {
          "output_type": "stream",
          "name": "stderr",
          "text": [
            "100%|██████████| 9/9 [00:07<00:00,  1.24batch/s]\n",
            "Validating: 100%|██████████| 19/19 [00:15<00:00,  1.21it/s]\n"
          ]
        },
        {
          "output_type": "stream",
          "name": "stdout",
          "text": [
            "Epoch 9, Training Loss: 0.047, Validation Loss: 20.711\n",
            "Early stopping at epoch 9\n",
            "finished training\n"
          ]
        },
        {
          "output_type": "stream",
          "name": "stderr",
          "text": [
            "Testing: 100%|██████████| 47/47 [00:38<00:00,  1.22it/s]\n"
          ]
        },
        {
          "output_type": "stream",
          "name": "stdout",
          "text": [
            "Overall accuracy for task 8: 0.0857\n",
            "Per-class accuracy for task 8: [0.0, 0.0, 0.0, 0.0, 0.0, 0.0, 0.0, 0.0, 0.0, 0.0, 0.0, 0.0, 0.0, 0.0, 0.0, 0.0, 0.0, 0.0, 0.0, 0.0, 0.0, 0.0, 0.0, 0.0, 0.0, 0.0, 0.0, 0.0, 0.0, 0.0, 0.0, 0.0, 0.0, 0.0, 0.0, 0.0, 0.0, 0.0, 0.0, 0.0, 0.0, 0.0, 0.0, 0.0, 0.0, 0.0, 0.0, 0.0, 0.0, 0.0, 0.0, 0.0, 0.0, 0.0, 0.0, 0.0, 0.0, 0.0, 0.0, 0.0, 0.0, 0.0, 0.0, 0.0, 0.0, 0.0, 0.0, 0.0, 0.0, 0.0, 0.0, 0.0, 0.0, 0.0, 0.0, 0.0, 0.0, 0.0, 0.0, 0.0, 0.7058823529411765, 0.7272727272727273, 0.9696969696969697, 0.9705882352941176, 0.7272727272727273, 0.8181818181818182, 0.5882352941176471, 0.6060606060606061, 0.6666666666666666, 0.9117647058823529]\n",
            "Model for task 8 saved as model_task_8.pth\n",
            "Training on task 9...\n"
          ]
        },
        {
          "output_type": "stream",
          "name": "stderr",
          "text": [
            "100%|██████████| 9/9 [00:06<00:00,  1.43batch/s]\n",
            "Validating: 100%|██████████| 21/21 [00:16<00:00,  1.25it/s]\n"
          ]
        },
        {
          "output_type": "stream",
          "name": "stdout",
          "text": [
            "Epoch 1, Training Loss: 6.463, Validation Loss: 17.600\n"
          ]
        },
        {
          "output_type": "stream",
          "name": "stderr",
          "text": [
            "100%|██████████| 9/9 [00:07<00:00,  1.26batch/s]\n",
            "Validating: 100%|██████████| 21/21 [00:16<00:00,  1.29it/s]\n"
          ]
        },
        {
          "output_type": "stream",
          "name": "stdout",
          "text": [
            "Epoch 2, Training Loss: 1.981, Validation Loss: 20.022\n"
          ]
        },
        {
          "output_type": "stream",
          "name": "stderr",
          "text": [
            "100%|██████████| 9/9 [00:07<00:00,  1.23batch/s]\n",
            "Validating: 100%|██████████| 21/21 [00:16<00:00,  1.27it/s]\n"
          ]
        },
        {
          "output_type": "stream",
          "name": "stdout",
          "text": [
            "Epoch 3, Training Loss: 1.373, Validation Loss: 21.229\n"
          ]
        },
        {
          "output_type": "stream",
          "name": "stderr",
          "text": [
            "100%|██████████| 9/9 [00:07<00:00,  1.20batch/s]\n",
            "Validating: 100%|██████████| 21/21 [00:16<00:00,  1.28it/s]\n"
          ]
        },
        {
          "output_type": "stream",
          "name": "stdout",
          "text": [
            "Epoch 4, Training Loss: 0.956, Validation Loss: 21.849\n"
          ]
        },
        {
          "output_type": "stream",
          "name": "stderr",
          "text": [
            "100%|██████████| 9/9 [00:06<00:00,  1.40batch/s]\n",
            "Validating: 100%|██████████| 21/21 [00:17<00:00,  1.21it/s]\n"
          ]
        },
        {
          "output_type": "stream",
          "name": "stdout",
          "text": [
            "Epoch 5, Training Loss: 0.763, Validation Loss: 21.906\n"
          ]
        },
        {
          "output_type": "stream",
          "name": "stderr",
          "text": [
            "100%|██████████| 9/9 [00:07<00:00,  1.27batch/s]\n",
            "Validating: 100%|██████████| 21/21 [00:17<00:00,  1.19it/s]\n"
          ]
        },
        {
          "output_type": "stream",
          "name": "stdout",
          "text": [
            "Epoch 6, Training Loss: 0.501, Validation Loss: 23.049\n"
          ]
        },
        {
          "output_type": "stream",
          "name": "stderr",
          "text": [
            "100%|██████████| 9/9 [00:06<00:00,  1.32batch/s]\n",
            "Validating: 100%|██████████| 21/21 [00:17<00:00,  1.19it/s]\n"
          ]
        },
        {
          "output_type": "stream",
          "name": "stdout",
          "text": [
            "Epoch 7, Training Loss: 0.143, Validation Loss: 21.974\n"
          ]
        },
        {
          "output_type": "stream",
          "name": "stderr",
          "text": [
            "100%|██████████| 9/9 [00:07<00:00,  1.25batch/s]\n",
            "Validating: 100%|██████████| 21/21 [00:17<00:00,  1.22it/s]\n"
          ]
        },
        {
          "output_type": "stream",
          "name": "stdout",
          "text": [
            "Epoch 8, Training Loss: 0.090, Validation Loss: 21.609\n"
          ]
        },
        {
          "output_type": "stream",
          "name": "stderr",
          "text": [
            "100%|██████████| 9/9 [00:07<00:00,  1.25batch/s]\n",
            "Validating: 100%|██████████| 21/21 [00:16<00:00,  1.25it/s]\n"
          ]
        },
        {
          "output_type": "stream",
          "name": "stdout",
          "text": [
            "Epoch 9, Training Loss: 0.060, Validation Loss: 21.019\n",
            "Early stopping at epoch 9\n",
            "finished training\n"
          ]
        },
        {
          "output_type": "stream",
          "name": "stderr",
          "text": [
            "Testing: 100%|██████████| 53/53 [00:42<00:00,  1.24it/s]\n"
          ]
        },
        {
          "output_type": "stream",
          "name": "stdout",
          "text": [
            "Overall accuracy for task 9: 0.0897\n",
            "Per-class accuracy for task 9: [0.0, 0.0, 0.0, 0.0, 0.0, 0.0, 0.0, 0.0, 0.0, 0.0, 0.0, 0.0, 0.0, 0.0, 0.0, 0.0, 0.0, 0.0, 0.0, 0.0, 0.0, 0.0, 0.0, 0.0, 0.0, 0.0, 0.0, 0.0, 0.0, 0.0, 0.0, 0.0, 0.0, 0.0, 0.0, 0.0, 0.0, 0.0, 0.0, 0.0, 0.0, 0.0, 0.0, 0.0, 0.0, 0.0, 0.0, 0.0, 0.0, 0.0, 0.0, 0.0, 0.0, 0.0, 0.0, 0.0, 0.0, 0.0, 0.0, 0.0, 0.0, 0.0, 0.0, 0.0, 0.0, 0.0, 0.0, 0.0, 0.0, 0.0, 0.0, 0.0, 0.0, 0.0, 0.0, 0.0, 0.0, 0.0, 0.0, 0.0, 0.0, 0.0, 0.0, 0.0, 0.0, 0.0, 0.0, 0.0, 0.0, 0.0, 0.9090909090909091, 0.696969696969697, 0.9705882352941176, 0.8181818181818182, 0.8787878787878788, 0.9705882352941176, 0.9696969696969697, 0.9696969696969697, 0.8529411764705882, 0.9393939393939394]\n",
            "Model for task 9 saved as model_task_9.pth\n"
          ]
        }
      ],
      "source": [
        "from torch.utils.data import Subset\n",
        "from torchvision import models\n",
        "import torch.optim as optim\n",
        "\n",
        "# Initialize the model\n",
        "model = models.resnet18(pretrained=True)\n",
        "\n",
        "# freeze all parameters except the last fc layer\n",
        "for name, param in model.named_parameters():\n",
        "    if name != 'fc.weight' and name != 'fc.bias':\n",
        "        param.requires_grad = False\n",
        "\n",
        "# test_loader = torch.utils.data.DataLoader(\n",
        "#     test_dataset, batch_size=32, shuffle=False, num_workers=4, worker_init_fn=seed_worker, generator=g\n",
        "# )\n",
        "\n",
        "# create output file for train and val losses\n",
        "\n",
        "save_dir = 'naive'\n",
        "\n",
        "for task in range(10):\n",
        "\n",
        "    print(f\"Training on task {task}...\")\n",
        "\n",
        "    model = modify_resnet_head(model, (task+1) * 10)\n",
        "    model = model.cuda()\n",
        "\n",
        "    optimizer = optim.Adam(model.parameters(), lr=0.0015)\n",
        "\n",
        "    train_loader = torch.utils.data.DataLoader(\n",
        "        Subset(train_dataset, train_task_idxs[task]), batch_size=64, shuffle=True, num_workers=4, worker_init_fn=seed_worker, generator=g\n",
        "    )\n",
        "    val_loader = torch.utils.data.DataLoader(\n",
        "        Subset(val_dataset, val_task_idxs[task]), batch_size=64, shuffle=False, num_workers=4, worker_init_fn=seed_worker, generator=g\n",
        "    )\n",
        "\n",
        "    test_loader = torch.utils.data.DataLoader(\n",
        "        Subset(test_dataset, test_task_idxs[task]), batch_size=64, shuffle=False, num_workers=4, worker_init_fn=seed_worker, generator=g\n",
        "    )\n",
        "\n",
        "    # create output file for train and val losses\n",
        "    if not os.path.exists(save_dir):\n",
        "        os.makedirs(save_dir)\n",
        "\n",
        "    # Train the model on the current task\n",
        "    train_losses, val_losses = train_net(15, 5, 8, model, optimizer, train_loader, val_loader, task, save_file=os.path.join(save_dir, 'train_val_losses.txt'))\n",
        "\n",
        "    # Evaluate the model on the test set\n",
        "    overall_acc, per_class_acc = get_test_accuracy(model, test_loader, (task+1) * 10)\n",
        "    print(f\"Overall accuracy for task {task}: {overall_acc:.4f}\")\n",
        "    print(f\"Per-class accuracy for task {task}: {per_class_acc}\")\n",
        "\n",
        "    # save to text file in save dir\n",
        "    if not os.path.exists(os.path.join(save_dir, 'accuracies.txt')):\n",
        "        with open(os.path.join(save_dir, 'accuracies.txt'), 'w') as f:\n",
        "            f.write(\"Task,Overall Accuracy,Per-Class Accuracy\\n\")\n",
        "    with open(os.path.join(save_dir, 'accuracies.txt'), 'a') as f:\n",
        "        f.write(f\"{task},{overall_acc:.4f},{per_class_acc}\\n\")\n",
        "\n",
        "    # Save the model after training on each task in save dir\n",
        "    if not os.path.exists(save_dir):\n",
        "        os.makedirs(save_dir)\n",
        "    torch.save(model.state_dict(), os.path.join(save_dir, f\"model_task_{task}.pth\"))\n",
        "    print(f\"Model for task {task} saved as model_task_{task}.pth\")"
      ]
    },
    {
      "cell_type": "code",
      "execution_count": null,
      "id": "HwbezrmjWwIA",
      "metadata": {
        "id": "HwbezrmjWwIA",
        "colab": {
          "base_uri": "https://localhost:8080/",
          "height": 35
        },
        "outputId": "2cde0f4c-2717-44f8-9bce-2d81a1ae38f0"
      },
      "outputs": [
        {
          "output_type": "execute_result",
          "data": {
            "text/plain": [
              "'/content/naive.zip'"
            ],
            "application/vnd.google.colaboratory.intrinsic+json": {
              "type": "string"
            }
          },
          "metadata": {},
          "execution_count": 15
        }
      ],
      "source": [
        "# zip the naive folder\n",
        "import shutil\n",
        "shutil.make_archive('naive', 'zip', 'naive')"
      ]
    },
    {
      "cell_type": "markdown",
      "source": [
        "## Replay Code"
      ],
      "metadata": {
        "id": "SXRAKbeHyXKj"
      },
      "id": "SXRAKbeHyXKj"
    },
    {
      "cell_type": "code",
      "source": [
        "def train_net(max_epochs, freeze_epochs, patience, net_to_train, opt, train_loader, val_loader, task, save_file=None, save_path=None):\n",
        "    criterion = torch.nn.CrossEntropyLoss()\n",
        "\n",
        "    train_losses = []\n",
        "    val_losses = []\n",
        "    net_to_train.cuda()\n",
        "\n",
        "    initial_freeze = (task == 0) # Only freeze initially for the very first task\n",
        "\n",
        "    for name, param in net_to_train.named_parameters():\n",
        "        # do not train non-fc layers\n",
        "        if initial_freeze and 'fc' not in name:\n",
        "            param.requires_grad = False\n",
        "        else:\n",
        "            param.requires_grad = True\n",
        "\n",
        "    optimizer = opt\n",
        "\n",
        "    best_val_loss = float('inf')\n",
        "    epochs_no_improve = 0\n",
        "\n",
        "    print(f\"Starting training for Task {task}. Trainable parameters:\")\n",
        "    for name, param in net_to_train.named_parameters():\n",
        "        if param.requires_grad:\n",
        "             print(f\"  - {name}\")\n",
        "\n",
        "\n",
        "    for epoch in range(max_epochs):\n",
        "        net_to_train.train()\n",
        "        running_loss = 0.0\n",
        "\n",
        "        # Unfreeze logic (if desired for staged training within a task)\n",
        "        if epoch == freeze_epochs and task > 0: # Only unfreeze/adjust LR if NOT task 0 and freeze_epochs > 0\n",
        "            print(f\"Unfreezing backbone at epoch {epoch} for task {task}\")\n",
        "            for param in net_to_train.parameters():\n",
        "                param.requires_grad = True\n",
        "            # Adjust LR for the existing optimizer\n",
        "            current_lr = optimizer.param_groups[0]['lr']\n",
        "            new_lr = 1e-4 # Or some other value\n",
        "            if current_lr != new_lr:\n",
        "                 print(f\"Setting LR to {new_lr}\")\n",
        "                 for g in optimizer.param_groups:\n",
        "                     g['lr'] = new_lr\n",
        "\n",
        "\n",
        "        for imgs, labels in tqdm(train_loader, unit='batch', desc=f\"Task {task} Epoch {epoch+1}\"):\n",
        "            imgs, labels = imgs.cuda(), labels.cuda()\n",
        "            optimizer.zero_grad()\n",
        "            outputs = net_to_train(imgs)\n",
        "            loss = criterion(outputs, labels) # Loss calculated on combined batch\n",
        "            loss.backward()\n",
        "            optimizer.step()\n",
        "            running_loss += loss.item()\n",
        "\n",
        "        avg_loss = running_loss / len(train_loader)\n",
        "        train_losses.append(avg_loss)\n",
        "\n",
        "        # --- Validation (Use Cumulative Loader!) ---\n",
        "        current_val_loss = val_net(net_to_train, val_loader) # val_loader MUST be cumulative\n",
        "        val_losses.append(current_val_loss)\n",
        "\n",
        "        print(f\"Task {task}, Epoch {epoch + 1}, Train Loss: {avg_loss:.4f}, Val Loss (Cumulative): {current_val_loss:.4f}\")\n",
        "\n",
        "        # --- Logging to file ---\n",
        "        if save_file:\n",
        "             with open(save_file, 'a') as f:\n",
        "                  f.write(f\"{task},{epoch + 1},{avg_loss},{current_val_loss}\\n\") # Log cumulative val loss\n",
        "\n",
        "        # --- Early Stopping (Based on CUMULATIVE validation loss) ---\n",
        "        if current_val_loss < best_val_loss:\n",
        "            best_val_loss = current_val_loss\n",
        "            epochs_no_improve = 0\n",
        "            if save_path: # Optional: save best model state\n",
        "               torch.save(net_to_train.state_dict(), os.path.join(save_path, f\"model_task{task}_best.pth\"))\n",
        "               print(f\"  New best validation loss: {best_val_loss:.4f}. Saved best model.\")\n",
        "        else:\n",
        "            epochs_no_improve += 1\n",
        "            # print(f\"  Validation loss did not improve for {epochs_no_improve} epoch(s). Best: {best_val_loss:.4f}\") # Optional verbose print\n",
        "\n",
        "        if epochs_no_improve >= patience:\n",
        "            print(f\"Early stopping triggered at epoch {epoch + 1} for task {task}. Best Val Loss: {best_val_loss:.4f}\")\n",
        "            if save_path and os.path.exists(os.path.join(save_path, f\"model_task{task}_best.pth\")):\n",
        "               print(\"Loading best model weights before exiting.\")\n",
        "               net_to_train.load_state_dict(torch.load(os.path.join(save_path, f\"model_task{task}_best.pth\")))\n",
        "            break\n",
        "\n",
        "    print(f\"Finished training task {task}\")\n",
        "    return train_losses, val_losses"
      ],
      "metadata": {
        "id": "Ke2aqvBaynhG"
      },
      "id": "Ke2aqvBaynhG",
      "execution_count": 11,
      "outputs": []
    },
    {
      "cell_type": "code",
      "source": [
        "import random\n",
        "from torch.utils.data import Dataset, DataLoader, Subset, ConcatDataset\n",
        "from torchvision import models\n",
        "import torch.optim as optim\n",
        "\n",
        "\n",
        "# Initialize the model\n",
        "model = models.resnet18(pretrained=True)\n",
        "\n",
        "# freeze all parameters except the last fc layer\n",
        "for name, param in model.named_parameters():\n",
        "    if name != 'fc.weight' and name != 'fc.bias':\n",
        "        param.requires_grad = False\n",
        "\n",
        "# --- Add outside the loop ---\n",
        "memory_buffer = [] # Simple list to store (image_tensor, label) tuples\n",
        "memory_size = 1000 # Max number of samples in buffer (hyperparameter)\n",
        "samples_per_task_in_memory = 20 # How many samples to add from each task (hyperparameter)\n",
        "\n",
        "def update_memory_buffer(buffer, max_size, new_samples):\n",
        "    \"\"\"Adds new samples to the buffer and trims it if it exceeds max_size.\"\"\"\n",
        "    buffer.extend(new_samples)\n",
        "    # If buffer exceeds max size, remove samples randomly (or use FIFO)\n",
        "    overflow = len(buffer) - max_size\n",
        "    if overflow > 0:\n",
        "        # Randomly remove 'overflow' samples\n",
        "        indices_to_remove = random.sample(range(len(buffer)), overflow)\n",
        "        # Remove in reverse sorted order to avoid index shifting issues\n",
        "        for index in sorted(indices_to_remove, reverse=True):\n",
        "            del buffer[index]\n",
        "        # Alternatively, for FIFO: del buffer[:overflow]\n",
        "    print(f\"Memory buffer size: {len(buffer)} / {max_size}\")\n",
        "\n",
        "class MemoryDataset(Dataset):\n",
        "    \"\"\"A simple Dataset wrapper for the list-based memory buffer.\"\"\"\n",
        "    def __init__(self, buffer_list):\n",
        "        self.buffer = buffer_list\n",
        "\n",
        "    def __len__(self):\n",
        "        return len(self.buffer)\n",
        "\n",
        "    def __getitem__(self, idx):\n",
        "        # buffer contains (image_tensor, label)\n",
        "        return self.buffer[idx]\n",
        "\n",
        "# --- Modify your main loop ---\n",
        "save_dir = 'replay' # Changed directory name\n",
        "\n",
        "if not os.path.exists(save_dir):\n",
        "    os.makedirs(save_dir)\n",
        "# Clear or initialize log files\n",
        "open(os.path.join(save_dir, 'train_val_losses.txt'), 'w').close()\n",
        "open(os.path.join(save_dir, 'accuracies.txt'), 'w').write(\"Task,Overall Accuracy,Per-Class Accuracy\\n\")\n",
        "\n",
        "\n",
        "for task in range(5):\n",
        "    print(f\"Training on task {task}...\")\n",
        "\n",
        "    model = modify_resnet_head(model, (task+1) * 10)\n",
        "    model = model.cuda()\n",
        "\n",
        "    # --- Prepare Current Task Dataset ---\n",
        "    current_task_train_subset = Subset(train_dataset, train_task_idxs[task])\n",
        "\n",
        "    # --- Prepare Combined Training Loader ---\n",
        "    if task > 0 and len(memory_buffer) > 0:\n",
        "        # Create a dataset from the memory buffer\n",
        "        replay_dataset = MemoryDataset(memory_buffer)\n",
        "        # Combine current task data and replay data\n",
        "        combined_train_dataset = ConcatDataset([current_task_train_subset, replay_dataset])\n",
        "        print(f\"Task {task}: Training with {len(current_task_train_subset)} current samples and {len(replay_dataset)} replay samples.\")\n",
        "    else:\n",
        "        # Task 0 or empty buffer: train only on current task data\n",
        "        combined_train_dataset = current_task_train_subset\n",
        "        print(f\"Task {task}: Training only with {len(current_task_train_subset)} current samples.\")\n",
        "\n",
        "    # Create DataLoader for the combined dataset\n",
        "    # Adjust batch size if needed, maybe smaller if memory is large\n",
        "    train_loader_combined = DataLoader(\n",
        "        combined_train_dataset,\n",
        "        batch_size=128, # Or adjust dynamically\n",
        "        shuffle=True,\n",
        "        num_workers=4,\n",
        "        worker_init_fn=seed_worker,\n",
        "        generator=g\n",
        "    )\n",
        "\n",
        "    # --- Validation and Test Loaders (Should still be CUMULATIVE!) ---\n",
        "    val_loader_cumulative = torch.utils.data.DataLoader(\n",
        "        Subset(val_dataset, val_task_idxs[task]),\n",
        "        batch_size=256,\n",
        "        shuffle=False,\n",
        "        num_workers=4,\n",
        "        worker_init_fn=seed_worker,\n",
        "        generator=g\n",
        "    )\n",
        "\n",
        "    test_loader_cumulative = torch.utils.data.DataLoader(\n",
        "        Subset(test_dataset, test_task_idxs[task]),\n",
        "        batch_size=256,\n",
        "        shuffle=False,\n",
        "        num_workers=4,\n",
        "        worker_init_fn=seed_worker,\n",
        "        generator=g\n",
        "    )\n",
        "\n",
        "    # --- Optimizer ---\n",
        "    # Consider re-initializing or adjusting LR, especially after task 0\n",
        "    if task == 0:\n",
        "        optimizer = optim.Adam(filter(lambda p: p.requires_grad, model.parameters()), lr=0.0015)\n",
        "    else:\n",
        "        optimizer = optim.Adam(model.parameters(), lr=1e-4) # Lower LR for full network\n",
        "\n",
        "\n",
        "    # --- Train the model ---\n",
        "    # train_net now uses the combined loader\n",
        "    # No need for EWC parameters here\n",
        "    train_losses, val_losses = train_net(\n",
        "        max_epochs=15,\n",
        "        freeze_epochs=5, # Still relevant if you want staged training\n",
        "        patience=5,\n",
        "        net_to_train=model,\n",
        "        opt=optimizer,\n",
        "        train_loader=train_loader_combined, # Use the combined loader\n",
        "        val_loader=val_loader_cumulative, # Use the CUMULATIVE validation loader\n",
        "        task=task,\n",
        "        save_file=os.path.join(save_dir, 'train_val_losses.txt')\n",
        "    )\n",
        "\n",
        "    # --- Update Memory Buffer AFTER training ---\n",
        "    # Select samples from the task just finished\n",
        "    num_to_sample = min(samples_per_task_in_memory, len(current_task_train_subset))\n",
        "    if num_to_sample > 0:\n",
        "        indices_to_sample = random.sample(range(len(current_task_train_subset)), num_to_sample)\n",
        "        new_memory_samples = []\n",
        "        print(f\"Sampling {num_to_sample} examples from task {task} for memory buffer...\")\n",
        "        for idx in indices_to_sample:\n",
        "            # Get the actual data point (image tensor, label) from the subset\n",
        "            img_tensor, label = current_task_train_subset[idx]\n",
        "            new_memory_samples.append((img_tensor, label)) # Append as tuple\n",
        "\n",
        "        # Add to buffer and manage size\n",
        "        update_memory_buffer(memory_buffer, memory_size, new_memory_samples)\n",
        "    else:\n",
        "        print(f\"Not enough samples in task {task} subset to add to memory.\")\n",
        "\n",
        "\n",
        "    # --- Evaluate and Save ---\n",
        "    overall_acc, per_class_acc = get_test_accuracy(model, test_loader_cumulative, (task+1) * 10)\n",
        "    print(f\"Overall accuracy for task {task} (on classes 0-{(task+1)*10 - 1}): {overall_acc:.4f}\")\n",
        "\n",
        "    with open(os.path.join(save_dir, 'accuracies.txt'), 'a') as f:\n",
        "        f.write(f\"{task},{overall_acc:.4f},{per_class_acc}\\n\")\n",
        "\n",
        "    torch.save(model.state_dict(), os.path.join(save_dir, f\"model_task_{task}.pth\"))\n",
        "    print(f\"Model for task {task} saved as model_task_{task}.pth\")"
      ],
      "metadata": {
        "colab": {
          "base_uri": "https://localhost:8080/"
        },
        "id": "o7yuCLojysxx",
        "outputId": "ae816c4a-bb0d-43ad-8a92-338b510f7787"
      },
      "id": "o7yuCLojysxx",
      "execution_count": 15,
      "outputs": [
        {
          "output_type": "stream",
          "name": "stdout",
          "text": [
            "Training on task 0...\n",
            "Task 0: Training only with 951 current samples.\n",
            "Starting training for Task 0. Trainable parameters:\n",
            "  - fc.weight\n",
            "  - fc.bias\n"
          ]
        },
        {
          "output_type": "stream",
          "name": "stderr",
          "text": [
            "Task 0 Epoch 1: 100%|██████████| 8/8 [00:13<00:00,  1.63s/batch]\n",
            "Validating: 100%|██████████| 1/1 [00:03<00:00,  3.62s/it]\n"
          ]
        },
        {
          "output_type": "stream",
          "name": "stdout",
          "text": [
            "Task 0, Epoch 1, Train Loss: 2.2253, Val Loss (Cumulative): 2.1168\n"
          ]
        },
        {
          "output_type": "stream",
          "name": "stderr",
          "text": [
            "Task 0 Epoch 2: 100%|██████████| 8/8 [00:12<00:00,  1.60s/batch]\n",
            "Validating: 100%|██████████| 1/1 [00:04<00:00,  4.41s/it]\n"
          ]
        },
        {
          "output_type": "stream",
          "name": "stdout",
          "text": [
            "Task 0, Epoch 2, Train Loss: 1.9764, Val Loss (Cumulative): 1.8568\n"
          ]
        },
        {
          "output_type": "stream",
          "name": "stderr",
          "text": [
            "Task 0 Epoch 3: 100%|██████████| 8/8 [00:12<00:00,  1.58s/batch]\n",
            "Validating: 100%|██████████| 1/1 [00:03<00:00,  3.59s/it]\n"
          ]
        },
        {
          "output_type": "stream",
          "name": "stdout",
          "text": [
            "Task 0, Epoch 3, Train Loss: 1.7695, Val Loss (Cumulative): 1.7209\n"
          ]
        },
        {
          "output_type": "stream",
          "name": "stderr",
          "text": [
            "Task 0 Epoch 4: 100%|██████████| 8/8 [00:12<00:00,  1.58s/batch]\n",
            "Validating: 100%|██████████| 1/1 [00:04<00:00,  4.39s/it]\n"
          ]
        },
        {
          "output_type": "stream",
          "name": "stdout",
          "text": [
            "Task 0, Epoch 4, Train Loss: 1.6038, Val Loss (Cumulative): 1.6396\n"
          ]
        },
        {
          "output_type": "stream",
          "name": "stderr",
          "text": [
            "Task 0 Epoch 5: 100%|██████████| 8/8 [00:13<00:00,  1.64s/batch]\n",
            "Validating: 100%|██████████| 1/1 [00:04<00:00,  4.53s/it]\n"
          ]
        },
        {
          "output_type": "stream",
          "name": "stdout",
          "text": [
            "Task 0, Epoch 5, Train Loss: 1.5069, Val Loss (Cumulative): 1.5559\n"
          ]
        },
        {
          "output_type": "stream",
          "name": "stderr",
          "text": [
            "Task 0 Epoch 6: 100%|██████████| 8/8 [00:12<00:00,  1.60s/batch]\n",
            "Validating: 100%|██████████| 1/1 [00:03<00:00,  3.73s/it]\n"
          ]
        },
        {
          "output_type": "stream",
          "name": "stdout",
          "text": [
            "Task 0, Epoch 6, Train Loss: 1.3756, Val Loss (Cumulative): 1.5139\n"
          ]
        },
        {
          "output_type": "stream",
          "name": "stderr",
          "text": [
            "Task 0 Epoch 7: 100%|██████████| 8/8 [00:12<00:00,  1.62s/batch]\n",
            "Validating: 100%|██████████| 1/1 [00:03<00:00,  3.60s/it]\n"
          ]
        },
        {
          "output_type": "stream",
          "name": "stdout",
          "text": [
            "Task 0, Epoch 7, Train Loss: 1.2889, Val Loss (Cumulative): 1.4417\n"
          ]
        },
        {
          "output_type": "stream",
          "name": "stderr",
          "text": [
            "Task 0 Epoch 8: 100%|██████████| 8/8 [00:12<00:00,  1.58s/batch]\n",
            "Validating: 100%|██████████| 1/1 [00:04<00:00,  4.41s/it]\n"
          ]
        },
        {
          "output_type": "stream",
          "name": "stdout",
          "text": [
            "Task 0, Epoch 8, Train Loss: 1.2133, Val Loss (Cumulative): 1.4061\n"
          ]
        },
        {
          "output_type": "stream",
          "name": "stderr",
          "text": [
            "Task 0 Epoch 9: 100%|██████████| 8/8 [00:12<00:00,  1.54s/batch]\n",
            "Validating: 100%|██████████| 1/1 [00:03<00:00,  3.73s/it]\n"
          ]
        },
        {
          "output_type": "stream",
          "name": "stdout",
          "text": [
            "Task 0, Epoch 9, Train Loss: 1.1455, Val Loss (Cumulative): 1.3716\n"
          ]
        },
        {
          "output_type": "stream",
          "name": "stderr",
          "text": [
            "Task 0 Epoch 10: 100%|██████████| 8/8 [00:12<00:00,  1.59s/batch]\n",
            "Validating: 100%|██████████| 1/1 [00:03<00:00,  3.57s/it]\n"
          ]
        },
        {
          "output_type": "stream",
          "name": "stdout",
          "text": [
            "Task 0, Epoch 10, Train Loss: 1.0936, Val Loss (Cumulative): 1.3252\n"
          ]
        },
        {
          "output_type": "stream",
          "name": "stderr",
          "text": [
            "Task 0 Epoch 11: 100%|██████████| 8/8 [00:12<00:00,  1.58s/batch]\n",
            "Validating: 100%|██████████| 1/1 [00:03<00:00,  3.84s/it]\n"
          ]
        },
        {
          "output_type": "stream",
          "name": "stdout",
          "text": [
            "Task 0, Epoch 11, Train Loss: 1.0461, Val Loss (Cumulative): 1.3166\n"
          ]
        },
        {
          "output_type": "stream",
          "name": "stderr",
          "text": [
            "Task 0 Epoch 12: 100%|██████████| 8/8 [00:11<00:00,  1.46s/batch]\n",
            "Validating: 100%|██████████| 1/1 [00:04<00:00,  4.37s/it]\n"
          ]
        },
        {
          "output_type": "stream",
          "name": "stdout",
          "text": [
            "Task 0, Epoch 12, Train Loss: 0.9990, Val Loss (Cumulative): 1.2851\n"
          ]
        },
        {
          "output_type": "stream",
          "name": "stderr",
          "text": [
            "Task 0 Epoch 13: 100%|██████████| 8/8 [00:12<00:00,  1.59s/batch]\n",
            "Validating: 100%|██████████| 1/1 [00:03<00:00,  3.56s/it]\n"
          ]
        },
        {
          "output_type": "stream",
          "name": "stdout",
          "text": [
            "Task 0, Epoch 13, Train Loss: 0.9688, Val Loss (Cumulative): 1.2728\n"
          ]
        },
        {
          "output_type": "stream",
          "name": "stderr",
          "text": [
            "Task 0 Epoch 14: 100%|██████████| 8/8 [00:12<00:00,  1.55s/batch]\n",
            "Validating: 100%|██████████| 1/1 [00:03<00:00,  3.64s/it]\n"
          ]
        },
        {
          "output_type": "stream",
          "name": "stdout",
          "text": [
            "Task 0, Epoch 14, Train Loss: 0.9319, Val Loss (Cumulative): 1.2535\n"
          ]
        },
        {
          "output_type": "stream",
          "name": "stderr",
          "text": [
            "Task 0 Epoch 15: 100%|██████████| 8/8 [00:12<00:00,  1.59s/batch]\n",
            "Validating: 100%|██████████| 1/1 [00:04<00:00,  4.43s/it]\n"
          ]
        },
        {
          "output_type": "stream",
          "name": "stdout",
          "text": [
            "Task 0, Epoch 15, Train Loss: 0.8875, Val Loss (Cumulative): 1.2342\n",
            "Finished training task 0\n",
            "Sampling 20 examples from task 0 for memory buffer...\n",
            "Memory buffer size: 20 / 1000\n"
          ]
        },
        {
          "output_type": "stream",
          "name": "stderr",
          "text": [
            "Testing: 100%|██████████| 3/3 [00:07<00:00,  2.39s/it]\n"
          ]
        },
        {
          "output_type": "stream",
          "name": "stdout",
          "text": [
            "Overall accuracy for task 0 (on classes 0-9): 0.6433\n",
            "Model for task 0 saved as model_task_0.pth\n",
            "Training on task 1...\n",
            "Task 1: Training with 1292 current samples and 20 replay samples.\n",
            "Starting training for Task 1. Trainable parameters:\n",
            "  - conv1.weight\n",
            "  - bn1.weight\n",
            "  - bn1.bias\n",
            "  - layer1.0.conv1.weight\n",
            "  - layer1.0.bn1.weight\n",
            "  - layer1.0.bn1.bias\n",
            "  - layer1.0.conv2.weight\n",
            "  - layer1.0.bn2.weight\n",
            "  - layer1.0.bn2.bias\n",
            "  - layer1.1.conv1.weight\n",
            "  - layer1.1.bn1.weight\n",
            "  - layer1.1.bn1.bias\n",
            "  - layer1.1.conv2.weight\n",
            "  - layer1.1.bn2.weight\n",
            "  - layer1.1.bn2.bias\n",
            "  - layer2.0.conv1.weight\n",
            "  - layer2.0.bn1.weight\n",
            "  - layer2.0.bn1.bias\n",
            "  - layer2.0.conv2.weight\n",
            "  - layer2.0.bn2.weight\n",
            "  - layer2.0.bn2.bias\n",
            "  - layer2.0.downsample.0.weight\n",
            "  - layer2.0.downsample.1.weight\n",
            "  - layer2.0.downsample.1.bias\n",
            "  - layer2.1.conv1.weight\n",
            "  - layer2.1.bn1.weight\n",
            "  - layer2.1.bn1.bias\n",
            "  - layer2.1.conv2.weight\n",
            "  - layer2.1.bn2.weight\n",
            "  - layer2.1.bn2.bias\n",
            "  - layer3.0.conv1.weight\n",
            "  - layer3.0.bn1.weight\n",
            "  - layer3.0.bn1.bias\n",
            "  - layer3.0.conv2.weight\n",
            "  - layer3.0.bn2.weight\n",
            "  - layer3.0.bn2.bias\n",
            "  - layer3.0.downsample.0.weight\n",
            "  - layer3.0.downsample.1.weight\n",
            "  - layer3.0.downsample.1.bias\n",
            "  - layer3.1.conv1.weight\n",
            "  - layer3.1.bn1.weight\n",
            "  - layer3.1.bn1.bias\n",
            "  - layer3.1.conv2.weight\n",
            "  - layer3.1.bn2.weight\n",
            "  - layer3.1.bn2.bias\n",
            "  - layer4.0.conv1.weight\n",
            "  - layer4.0.bn1.weight\n",
            "  - layer4.0.bn1.bias\n",
            "  - layer4.0.conv2.weight\n",
            "  - layer4.0.bn2.weight\n",
            "  - layer4.0.bn2.bias\n",
            "  - layer4.0.downsample.0.weight\n",
            "  - layer4.0.downsample.1.weight\n",
            "  - layer4.0.downsample.1.bias\n",
            "  - layer4.1.conv1.weight\n",
            "  - layer4.1.bn1.weight\n",
            "  - layer4.1.bn1.bias\n",
            "  - layer4.1.conv2.weight\n",
            "  - layer4.1.bn2.weight\n",
            "  - layer4.1.bn2.bias\n",
            "  - fc.weight\n",
            "  - fc.bias\n"
          ]
        },
        {
          "output_type": "stream",
          "name": "stderr",
          "text": [
            "Task 1 Epoch 1: 100%|██████████| 11/11 [00:18<00:00,  1.71s/batch]\n",
            "Validating: 100%|██████████| 3/3 [00:06<00:00,  2.27s/it]\n"
          ]
        },
        {
          "output_type": "stream",
          "name": "stdout",
          "text": [
            "Task 1, Epoch 1, Train Loss: 2.2271, Val Loss (Cumulative): 2.3815\n"
          ]
        },
        {
          "output_type": "stream",
          "name": "stderr",
          "text": [
            "Task 1 Epoch 2: 100%|██████████| 11/11 [00:18<00:00,  1.71s/batch]\n",
            "Validating: 100%|██████████| 3/3 [00:06<00:00,  2.32s/it]\n"
          ]
        },
        {
          "output_type": "stream",
          "name": "stdout",
          "text": [
            "Task 1, Epoch 2, Train Loss: 1.0079, Val Loss (Cumulative): 2.4198\n"
          ]
        },
        {
          "output_type": "stream",
          "name": "stderr",
          "text": [
            "Task 1 Epoch 3: 100%|██████████| 11/11 [00:18<00:00,  1.66s/batch]\n",
            "Validating: 100%|██████████| 3/3 [00:06<00:00,  2.30s/it]\n"
          ]
        },
        {
          "output_type": "stream",
          "name": "stdout",
          "text": [
            "Task 1, Epoch 3, Train Loss: 0.4796, Val Loss (Cumulative): 2.2295\n"
          ]
        },
        {
          "output_type": "stream",
          "name": "stderr",
          "text": [
            "Task 1 Epoch 4: 100%|██████████| 11/11 [00:17<00:00,  1.62s/batch]\n",
            "Validating: 100%|██████████| 3/3 [00:07<00:00,  2.41s/it]\n"
          ]
        },
        {
          "output_type": "stream",
          "name": "stdout",
          "text": [
            "Task 1, Epoch 4, Train Loss: 0.2242, Val Loss (Cumulative): 2.2531\n"
          ]
        },
        {
          "output_type": "stream",
          "name": "stderr",
          "text": [
            "Task 1 Epoch 5: 100%|██████████| 11/11 [00:17<00:00,  1.63s/batch]\n",
            "Validating: 100%|██████████| 3/3 [00:07<00:00,  2.54s/it]\n"
          ]
        },
        {
          "output_type": "stream",
          "name": "stdout",
          "text": [
            "Task 1, Epoch 5, Train Loss: 0.1056, Val Loss (Cumulative): 2.3218\n",
            "Unfreezing backbone at epoch 5 for task 1\n"
          ]
        },
        {
          "output_type": "stream",
          "name": "stderr",
          "text": [
            "Task 1 Epoch 6: 100%|██████████| 11/11 [00:18<00:00,  1.72s/batch]\n",
            "Validating: 100%|██████████| 3/3 [00:07<00:00,  2.34s/it]\n"
          ]
        },
        {
          "output_type": "stream",
          "name": "stdout",
          "text": [
            "Task 1, Epoch 6, Train Loss: 0.0565, Val Loss (Cumulative): 2.3691\n"
          ]
        },
        {
          "output_type": "stream",
          "name": "stderr",
          "text": [
            "Task 1 Epoch 7: 100%|██████████| 11/11 [00:17<00:00,  1.57s/batch]\n",
            "Validating: 100%|██████████| 3/3 [00:07<00:00,  2.47s/it]\n"
          ]
        },
        {
          "output_type": "stream",
          "name": "stdout",
          "text": [
            "Task 1, Epoch 7, Train Loss: 0.0323, Val Loss (Cumulative): 2.3555\n"
          ]
        },
        {
          "output_type": "stream",
          "name": "stderr",
          "text": [
            "Task 1 Epoch 8: 100%|██████████| 11/11 [00:17<00:00,  1.57s/batch]\n",
            "Validating: 100%|██████████| 3/3 [00:08<00:00,  2.69s/it]\n"
          ]
        },
        {
          "output_type": "stream",
          "name": "stdout",
          "text": [
            "Task 1, Epoch 8, Train Loss: 0.0221, Val Loss (Cumulative): 2.3505\n",
            "Early stopping triggered at epoch 8 for task 1. Best Val Loss: 2.2295\n",
            "Finished training task 1\n",
            "Sampling 20 examples from task 1 for memory buffer...\n",
            "Memory buffer size: 40 / 1000\n"
          ]
        },
        {
          "output_type": "stream",
          "name": "stderr",
          "text": [
            "Testing: 100%|██████████| 6/6 [00:17<00:00,  2.93s/it]\n"
          ]
        },
        {
          "output_type": "stream",
          "name": "stdout",
          "text": [
            "Overall accuracy for task 1 (on classes 0-19): 0.4700\n",
            "Model for task 1 saved as model_task_1.pth\n",
            "Training on task 2...\n",
            "Task 2: Training with 615 current samples and 40 replay samples.\n",
            "Starting training for Task 2. Trainable parameters:\n",
            "  - conv1.weight\n",
            "  - bn1.weight\n",
            "  - bn1.bias\n",
            "  - layer1.0.conv1.weight\n",
            "  - layer1.0.bn1.weight\n",
            "  - layer1.0.bn1.bias\n",
            "  - layer1.0.conv2.weight\n",
            "  - layer1.0.bn2.weight\n",
            "  - layer1.0.bn2.bias\n",
            "  - layer1.1.conv1.weight\n",
            "  - layer1.1.bn1.weight\n",
            "  - layer1.1.bn1.bias\n",
            "  - layer1.1.conv2.weight\n",
            "  - layer1.1.bn2.weight\n",
            "  - layer1.1.bn2.bias\n",
            "  - layer2.0.conv1.weight\n",
            "  - layer2.0.bn1.weight\n",
            "  - layer2.0.bn1.bias\n",
            "  - layer2.0.conv2.weight\n",
            "  - layer2.0.bn2.weight\n",
            "  - layer2.0.bn2.bias\n",
            "  - layer2.0.downsample.0.weight\n",
            "  - layer2.0.downsample.1.weight\n",
            "  - layer2.0.downsample.1.bias\n",
            "  - layer2.1.conv1.weight\n",
            "  - layer2.1.bn1.weight\n",
            "  - layer2.1.bn1.bias\n",
            "  - layer2.1.conv2.weight\n",
            "  - layer2.1.bn2.weight\n",
            "  - layer2.1.bn2.bias\n",
            "  - layer3.0.conv1.weight\n",
            "  - layer3.0.bn1.weight\n",
            "  - layer3.0.bn1.bias\n",
            "  - layer3.0.conv2.weight\n",
            "  - layer3.0.bn2.weight\n",
            "  - layer3.0.bn2.bias\n",
            "  - layer3.0.downsample.0.weight\n",
            "  - layer3.0.downsample.1.weight\n",
            "  - layer3.0.downsample.1.bias\n",
            "  - layer3.1.conv1.weight\n",
            "  - layer3.1.bn1.weight\n",
            "  - layer3.1.bn1.bias\n",
            "  - layer3.1.conv2.weight\n",
            "  - layer3.1.bn2.weight\n",
            "  - layer3.1.bn2.bias\n",
            "  - layer4.0.conv1.weight\n",
            "  - layer4.0.bn1.weight\n",
            "  - layer4.0.bn1.bias\n",
            "  - layer4.0.conv2.weight\n",
            "  - layer4.0.bn2.weight\n",
            "  - layer4.0.bn2.bias\n",
            "  - layer4.0.downsample.0.weight\n",
            "  - layer4.0.downsample.1.weight\n",
            "  - layer4.0.downsample.1.bias\n",
            "  - layer4.1.conv1.weight\n",
            "  - layer4.1.bn1.weight\n",
            "  - layer4.1.bn1.bias\n",
            "  - layer4.1.conv2.weight\n",
            "  - layer4.1.bn2.weight\n",
            "  - layer4.1.bn2.bias\n",
            "  - fc.weight\n",
            "  - fc.bias\n"
          ]
        },
        {
          "output_type": "stream",
          "name": "stderr",
          "text": [
            "Task 2 Epoch 1: 100%|██████████| 6/6 [00:09<00:00,  1.61s/batch]\n",
            "Validating: 100%|██████████| 3/3 [00:09<00:00,  3.30s/it]\n"
          ]
        },
        {
          "output_type": "stream",
          "name": "stdout",
          "text": [
            "Task 2, Epoch 1, Train Loss: 3.3384, Val Loss (Cumulative): 2.7483\n"
          ]
        },
        {
          "output_type": "stream",
          "name": "stderr",
          "text": [
            "Task 2 Epoch 2: 100%|██████████| 6/6 [00:09<00:00,  1.57s/batch]\n",
            "Validating: 100%|██████████| 3/3 [00:08<00:00,  2.99s/it]\n"
          ]
        },
        {
          "output_type": "stream",
          "name": "stdout",
          "text": [
            "Task 2, Epoch 2, Train Loss: 1.7771, Val Loss (Cumulative): 2.7247\n"
          ]
        },
        {
          "output_type": "stream",
          "name": "stderr",
          "text": [
            "Task 2 Epoch 3: 100%|██████████| 6/6 [00:09<00:00,  1.61s/batch]\n",
            "Validating: 100%|██████████| 3/3 [00:10<00:00,  3.36s/it]\n"
          ]
        },
        {
          "output_type": "stream",
          "name": "stdout",
          "text": [
            "Task 2, Epoch 3, Train Loss: 1.0363, Val Loss (Cumulative): 2.8201\n"
          ]
        },
        {
          "output_type": "stream",
          "name": "stderr",
          "text": [
            "Task 2 Epoch 4: 100%|██████████| 6/6 [00:09<00:00,  1.55s/batch]\n",
            "Validating: 100%|██████████| 3/3 [00:08<00:00,  2.87s/it]\n"
          ]
        },
        {
          "output_type": "stream",
          "name": "stdout",
          "text": [
            "Task 2, Epoch 4, Train Loss: 0.6149, Val Loss (Cumulative): 2.9395\n"
          ]
        },
        {
          "output_type": "stream",
          "name": "stderr",
          "text": [
            "Task 2 Epoch 5: 100%|██████████| 6/6 [00:09<00:00,  1.61s/batch]\n",
            "Validating: 100%|██████████| 3/3 [00:09<00:00,  3.26s/it]\n"
          ]
        },
        {
          "output_type": "stream",
          "name": "stdout",
          "text": [
            "Task 2, Epoch 5, Train Loss: 0.3378, Val Loss (Cumulative): 3.0255\n",
            "Unfreezing backbone at epoch 5 for task 2\n"
          ]
        },
        {
          "output_type": "stream",
          "name": "stderr",
          "text": [
            "Task 2 Epoch 6: 100%|██████████| 6/6 [00:09<00:00,  1.57s/batch]\n",
            "Validating: 100%|██████████| 3/3 [00:08<00:00,  2.97s/it]\n"
          ]
        },
        {
          "output_type": "stream",
          "name": "stdout",
          "text": [
            "Task 2, Epoch 6, Train Loss: 0.2309, Val Loss (Cumulative): 3.0791\n"
          ]
        },
        {
          "output_type": "stream",
          "name": "stderr",
          "text": [
            "Task 2 Epoch 7: 100%|██████████| 6/6 [00:09<00:00,  1.63s/batch]\n",
            "Validating: 100%|██████████| 3/3 [00:10<00:00,  3.36s/it]\n"
          ]
        },
        {
          "output_type": "stream",
          "name": "stdout",
          "text": [
            "Task 2, Epoch 7, Train Loss: 0.1519, Val Loss (Cumulative): 3.0452\n",
            "Early stopping triggered at epoch 7 for task 2. Best Val Loss: 2.7247\n",
            "Finished training task 2\n",
            "Sampling 20 examples from task 2 for memory buffer...\n",
            "Memory buffer size: 60 / 1000\n"
          ]
        },
        {
          "output_type": "stream",
          "name": "stderr",
          "text": [
            "Testing: 100%|██████████| 8/8 [00:23<00:00,  2.89s/it]\n"
          ]
        },
        {
          "output_type": "stream",
          "name": "stdout",
          "text": [
            "Overall accuracy for task 2 (on classes 0-29): 0.3078\n",
            "Model for task 2 saved as model_task_2.pth\n",
            "Training on task 3...\n",
            "Task 3: Training with 600 current samples and 60 replay samples.\n",
            "Starting training for Task 3. Trainable parameters:\n",
            "  - conv1.weight\n",
            "  - bn1.weight\n",
            "  - bn1.bias\n",
            "  - layer1.0.conv1.weight\n",
            "  - layer1.0.bn1.weight\n",
            "  - layer1.0.bn1.bias\n",
            "  - layer1.0.conv2.weight\n",
            "  - layer1.0.bn2.weight\n",
            "  - layer1.0.bn2.bias\n",
            "  - layer1.1.conv1.weight\n",
            "  - layer1.1.bn1.weight\n",
            "  - layer1.1.bn1.bias\n",
            "  - layer1.1.conv2.weight\n",
            "  - layer1.1.bn2.weight\n",
            "  - layer1.1.bn2.bias\n",
            "  - layer2.0.conv1.weight\n",
            "  - layer2.0.bn1.weight\n",
            "  - layer2.0.bn1.bias\n",
            "  - layer2.0.conv2.weight\n",
            "  - layer2.0.bn2.weight\n",
            "  - layer2.0.bn2.bias\n",
            "  - layer2.0.downsample.0.weight\n",
            "  - layer2.0.downsample.1.weight\n",
            "  - layer2.0.downsample.1.bias\n",
            "  - layer2.1.conv1.weight\n",
            "  - layer2.1.bn1.weight\n",
            "  - layer2.1.bn1.bias\n",
            "  - layer2.1.conv2.weight\n",
            "  - layer2.1.bn2.weight\n",
            "  - layer2.1.bn2.bias\n",
            "  - layer3.0.conv1.weight\n",
            "  - layer3.0.bn1.weight\n",
            "  - layer3.0.bn1.bias\n",
            "  - layer3.0.conv2.weight\n",
            "  - layer3.0.bn2.weight\n",
            "  - layer3.0.bn2.bias\n",
            "  - layer3.0.downsample.0.weight\n",
            "  - layer3.0.downsample.1.weight\n",
            "  - layer3.0.downsample.1.bias\n",
            "  - layer3.1.conv1.weight\n",
            "  - layer3.1.bn1.weight\n",
            "  - layer3.1.bn1.bias\n",
            "  - layer3.1.conv2.weight\n",
            "  - layer3.1.bn2.weight\n",
            "  - layer3.1.bn2.bias\n",
            "  - layer4.0.conv1.weight\n",
            "  - layer4.0.bn1.weight\n",
            "  - layer4.0.bn1.bias\n",
            "  - layer4.0.conv2.weight\n",
            "  - layer4.0.bn2.weight\n",
            "  - layer4.0.bn2.bias\n",
            "  - layer4.0.downsample.0.weight\n",
            "  - layer4.0.downsample.1.weight\n",
            "  - layer4.0.downsample.1.bias\n",
            "  - layer4.1.conv1.weight\n",
            "  - layer4.1.bn1.weight\n",
            "  - layer4.1.bn1.bias\n",
            "  - layer4.1.conv2.weight\n",
            "  - layer4.1.bn2.weight\n",
            "  - layer4.1.bn2.bias\n",
            "  - fc.weight\n",
            "  - fc.bias\n"
          ]
        },
        {
          "output_type": "stream",
          "name": "stderr",
          "text": [
            "Task 3 Epoch 1: 100%|██████████| 6/6 [00:08<00:00,  1.37s/batch]\n",
            "Validating: 100%|██████████| 4/4 [00:11<00:00,  2.88s/it]\n"
          ]
        },
        {
          "output_type": "stream",
          "name": "stdout",
          "text": [
            "Task 3, Epoch 1, Train Loss: 3.2813, Val Loss (Cumulative): 3.4336\n"
          ]
        },
        {
          "output_type": "stream",
          "name": "stderr",
          "text": [
            "Task 3 Epoch 2: 100%|██████████| 6/6 [00:08<00:00,  1.50s/batch]\n",
            "Validating: 100%|██████████| 4/4 [00:11<00:00,  2.93s/it]\n"
          ]
        },
        {
          "output_type": "stream",
          "name": "stdout",
          "text": [
            "Task 3, Epoch 2, Train Loss: 1.6845, Val Loss (Cumulative): 3.2309\n"
          ]
        },
        {
          "output_type": "stream",
          "name": "stderr",
          "text": [
            "Task 3 Epoch 3: 100%|██████████| 6/6 [00:07<00:00,  1.32s/batch]\n",
            "Validating: 100%|██████████| 4/4 [00:11<00:00,  2.87s/it]\n"
          ]
        },
        {
          "output_type": "stream",
          "name": "stdout",
          "text": [
            "Task 3, Epoch 3, Train Loss: 0.8707, Val Loss (Cumulative): 3.2892\n"
          ]
        },
        {
          "output_type": "stream",
          "name": "stderr",
          "text": [
            "Task 3 Epoch 4: 100%|██████████| 6/6 [00:10<00:00,  1.73s/batch]\n",
            "Validating: 100%|██████████| 4/4 [00:11<00:00,  2.85s/it]\n"
          ]
        },
        {
          "output_type": "stream",
          "name": "stdout",
          "text": [
            "Task 3, Epoch 4, Train Loss: 0.4811, Val Loss (Cumulative): 3.4305\n"
          ]
        },
        {
          "output_type": "stream",
          "name": "stderr",
          "text": [
            "Task 3 Epoch 5: 100%|██████████| 6/6 [00:08<00:00,  1.45s/batch]\n",
            "Validating: 100%|██████████| 4/4 [00:10<00:00,  2.73s/it]\n"
          ]
        },
        {
          "output_type": "stream",
          "name": "stdout",
          "text": [
            "Task 3, Epoch 5, Train Loss: 0.2579, Val Loss (Cumulative): 3.5428\n",
            "Unfreezing backbone at epoch 5 for task 3\n"
          ]
        },
        {
          "output_type": "stream",
          "name": "stderr",
          "text": [
            "Task 3 Epoch 6: 100%|██████████| 6/6 [00:08<00:00,  1.38s/batch]\n",
            "Validating: 100%|██████████| 4/4 [00:11<00:00,  2.85s/it]\n"
          ]
        },
        {
          "output_type": "stream",
          "name": "stdout",
          "text": [
            "Task 3, Epoch 6, Train Loss: 0.1461, Val Loss (Cumulative): 3.5715\n"
          ]
        },
        {
          "output_type": "stream",
          "name": "stderr",
          "text": [
            "Task 3 Epoch 7: 100%|██████████| 6/6 [00:09<00:00,  1.51s/batch]\n",
            "Validating: 100%|██████████| 4/4 [00:11<00:00,  2.81s/it]\n"
          ]
        },
        {
          "output_type": "stream",
          "name": "stdout",
          "text": [
            "Task 3, Epoch 7, Train Loss: 0.0984, Val Loss (Cumulative): 3.5756\n",
            "Early stopping triggered at epoch 7 for task 3. Best Val Loss: 3.2309\n",
            "Finished training task 3\n",
            "Sampling 20 examples from task 3 for memory buffer...\n",
            "Memory buffer size: 80 / 1000\n"
          ]
        },
        {
          "output_type": "stream",
          "name": "stderr",
          "text": [
            "Testing: 100%|██████████| 9/9 [00:27<00:00,  3.01s/it]\n"
          ]
        },
        {
          "output_type": "stream",
          "name": "stdout",
          "text": [
            "Overall accuracy for task 3 (on classes 0-39): 0.2493\n",
            "Model for task 3 saved as model_task_3.pth\n",
            "Training on task 4...\n",
            "Task 4: Training with 708 current samples and 80 replay samples.\n",
            "Starting training for Task 4. Trainable parameters:\n",
            "  - conv1.weight\n",
            "  - bn1.weight\n",
            "  - bn1.bias\n",
            "  - layer1.0.conv1.weight\n",
            "  - layer1.0.bn1.weight\n",
            "  - layer1.0.bn1.bias\n",
            "  - layer1.0.conv2.weight\n",
            "  - layer1.0.bn2.weight\n",
            "  - layer1.0.bn2.bias\n",
            "  - layer1.1.conv1.weight\n",
            "  - layer1.1.bn1.weight\n",
            "  - layer1.1.bn1.bias\n",
            "  - layer1.1.conv2.weight\n",
            "  - layer1.1.bn2.weight\n",
            "  - layer1.1.bn2.bias\n",
            "  - layer2.0.conv1.weight\n",
            "  - layer2.0.bn1.weight\n",
            "  - layer2.0.bn1.bias\n",
            "  - layer2.0.conv2.weight\n",
            "  - layer2.0.bn2.weight\n",
            "  - layer2.0.bn2.bias\n",
            "  - layer2.0.downsample.0.weight\n",
            "  - layer2.0.downsample.1.weight\n",
            "  - layer2.0.downsample.1.bias\n",
            "  - layer2.1.conv1.weight\n",
            "  - layer2.1.bn1.weight\n",
            "  - layer2.1.bn1.bias\n",
            "  - layer2.1.conv2.weight\n",
            "  - layer2.1.bn2.weight\n",
            "  - layer2.1.bn2.bias\n",
            "  - layer3.0.conv1.weight\n",
            "  - layer3.0.bn1.weight\n",
            "  - layer3.0.bn1.bias\n",
            "  - layer3.0.conv2.weight\n",
            "  - layer3.0.bn2.weight\n",
            "  - layer3.0.bn2.bias\n",
            "  - layer3.0.downsample.0.weight\n",
            "  - layer3.0.downsample.1.weight\n",
            "  - layer3.0.downsample.1.bias\n",
            "  - layer3.1.conv1.weight\n",
            "  - layer3.1.bn1.weight\n",
            "  - layer3.1.bn1.bias\n",
            "  - layer3.1.conv2.weight\n",
            "  - layer3.1.bn2.weight\n",
            "  - layer3.1.bn2.bias\n",
            "  - layer4.0.conv1.weight\n",
            "  - layer4.0.bn1.weight\n",
            "  - layer4.0.bn1.bias\n",
            "  - layer4.0.conv2.weight\n",
            "  - layer4.0.bn2.weight\n",
            "  - layer4.0.bn2.bias\n",
            "  - layer4.0.downsample.0.weight\n",
            "  - layer4.0.downsample.1.weight\n",
            "  - layer4.0.downsample.1.bias\n",
            "  - layer4.1.conv1.weight\n",
            "  - layer4.1.bn1.weight\n",
            "  - layer4.1.bn1.bias\n",
            "  - layer4.1.conv2.weight\n",
            "  - layer4.1.bn2.weight\n",
            "  - layer4.1.bn2.bias\n",
            "  - fc.weight\n",
            "  - fc.bias\n"
          ]
        },
        {
          "output_type": "stream",
          "name": "stderr",
          "text": [
            "Task 4 Epoch 1: 100%|██████████| 7/7 [00:09<00:00,  1.40s/batch]\n",
            "Validating: 100%|██████████| 5/5 [00:13<00:00,  2.71s/it]\n"
          ]
        },
        {
          "output_type": "stream",
          "name": "stdout",
          "text": [
            "Task 4, Epoch 1, Train Loss: 3.2243, Val Loss (Cumulative): 4.1135\n"
          ]
        },
        {
          "output_type": "stream",
          "name": "stderr",
          "text": [
            "Task 4 Epoch 2: 100%|██████████| 7/7 [00:09<00:00,  1.40s/batch]\n",
            "Validating: 100%|██████████| 5/5 [00:13<00:00,  2.68s/it]\n"
          ]
        },
        {
          "output_type": "stream",
          "name": "stdout",
          "text": [
            "Task 4, Epoch 2, Train Loss: 1.5103, Val Loss (Cumulative): 4.3247\n"
          ]
        },
        {
          "output_type": "stream",
          "name": "stderr",
          "text": [
            "Task 4 Epoch 3: 100%|██████████| 7/7 [00:10<00:00,  1.57s/batch]\n",
            "Validating: 100%|██████████| 5/5 [00:13<00:00,  2.73s/it]\n"
          ]
        },
        {
          "output_type": "stream",
          "name": "stdout",
          "text": [
            "Task 4, Epoch 3, Train Loss: 0.7255, Val Loss (Cumulative): 4.3578\n"
          ]
        },
        {
          "output_type": "stream",
          "name": "stderr",
          "text": [
            "Task 4 Epoch 4: 100%|██████████| 7/7 [00:11<00:00,  1.59s/batch]\n",
            "Validating: 100%|██████████| 5/5 [00:13<00:00,  2.73s/it]\n"
          ]
        },
        {
          "output_type": "stream",
          "name": "stdout",
          "text": [
            "Task 4, Epoch 4, Train Loss: 0.3983, Val Loss (Cumulative): 4.2055\n"
          ]
        },
        {
          "output_type": "stream",
          "name": "stderr",
          "text": [
            "Task 4 Epoch 5: 100%|██████████| 7/7 [00:10<00:00,  1.54s/batch]\n",
            "Validating: 100%|██████████| 5/5 [00:13<00:00,  2.69s/it]\n"
          ]
        },
        {
          "output_type": "stream",
          "name": "stdout",
          "text": [
            "Task 4, Epoch 5, Train Loss: 0.2119, Val Loss (Cumulative): 4.1209\n",
            "Unfreezing backbone at epoch 5 for task 4\n"
          ]
        },
        {
          "output_type": "stream",
          "name": "stderr",
          "text": [
            "Task 4 Epoch 6: 100%|██████████| 7/7 [00:11<00:00,  1.58s/batch]\n",
            "Validating: 100%|██████████| 5/5 [00:13<00:00,  2.73s/it]\n"
          ]
        },
        {
          "output_type": "stream",
          "name": "stdout",
          "text": [
            "Task 4, Epoch 6, Train Loss: 0.1202, Val Loss (Cumulative): 4.1499\n",
            "Early stopping triggered at epoch 6 for task 4. Best Val Loss: 4.1135\n",
            "Finished training task 4\n",
            "Sampling 20 examples from task 4 for memory buffer...\n",
            "Memory buffer size: 100 / 1000\n"
          ]
        },
        {
          "output_type": "stream",
          "name": "stderr",
          "text": [
            "Testing: 100%|██████████| 11/11 [00:32<00:00,  2.93s/it]"
          ]
        },
        {
          "output_type": "stream",
          "name": "stdout",
          "text": [
            "Overall accuracy for task 4 (on classes 0-49): 0.1935\n",
            "Model for task 4 saved as model_task_4.pth\n"
          ]
        },
        {
          "output_type": "stream",
          "name": "stderr",
          "text": [
            "\n"
          ]
        }
      ]
    },
    {
      "cell_type": "code",
      "source": [
        "import shutil\n",
        "shutil.make_archive('replay', 'zip', 'replay')"
      ],
      "metadata": {
        "colab": {
          "base_uri": "https://localhost:8080/",
          "height": 35
        },
        "id": "L1MIgUIEzAX6",
        "outputId": "28874109-1911-43a6-e6f5-1dbbc6b8ab54"
      },
      "id": "L1MIgUIEzAX6",
      "execution_count": 18,
      "outputs": [
        {
          "output_type": "execute_result",
          "data": {
            "text/plain": [
              "'/content/replay.zip'"
            ],
            "application/vnd.google.colaboratory.intrinsic+json": {
              "type": "string"
            }
          },
          "metadata": {},
          "execution_count": 18
        }
      ]
    },
    {
      "cell_type": "code",
      "source": [
        "import matplotlib.pyplot as plt\n",
        "import numpy as np\n",
        "import seaborn as sns\n",
        "import ast # To safely evaluate the string list literal\n",
        "import os # To check if file exists\n",
        "\n",
        "# --- Configuration ---\n",
        "accuracy_file_path = 'replay/accuracies.txt' # Make sure this file exists\n",
        "num_total_classes = 100 # FGVC Aircraft has 100 classes\n",
        "num_classes_per_task = 10\n",
        "\n",
        "# --- Data Loading and Manual Parsing ---\n",
        "parsed_data = {}\n",
        "\n",
        "# Check if the file exists before trying to read\n",
        "if not os.path.exists(accuracy_file_path):\n",
        "    print(f\"Error: Accuracy file not found at '{accuracy_file_path}'\")\n",
        "    print(\"Please make sure you have saved the data into a file named 'accuracies.txt' in the correct directory.\")\n",
        "    exit()\n",
        "\n",
        "try:\n",
        "    with open(accuracy_file_path, 'r') as f:\n",
        "        header = f.readline().strip() # Read and ignore the header line\n",
        "        if not header.startswith(\"Task,Overall Accuracy,Per-Class Accuracy\"):\n",
        "             print(\"Warning: Header doesn't exactly match expected format, but proceeding.\")\n",
        "\n",
        "        for line_num, line in enumerate(f, start=2): # Start line count from 2 for error messages\n",
        "            line = line.strip()\n",
        "            if not line: # Skip empty lines\n",
        "                continue\n",
        "\n",
        "            try:\n",
        "                # Find the first comma to isolate Task ID\n",
        "                first_comma_idx = line.find(',')\n",
        "                if first_comma_idx == -1:\n",
        "                    raise ValueError(\"Missing first comma separating Task ID\")\n",
        "                task_id_str = line[:first_comma_idx]\n",
        "                task_id = int(task_id_str)\n",
        "\n",
        "                # Find the second comma to isolate Overall Accuracy (and the start of the list)\n",
        "                # Start searching *after* the first comma\n",
        "                second_comma_idx = line.find(',', first_comma_idx + 1)\n",
        "                if second_comma_idx == -1:\n",
        "                     raise ValueError(\"Missing second comma separating Overall Accuracy\")\n",
        "\n",
        "                # The rest of the line, starting after the second comma, is the list string\n",
        "                list_str = line[second_comma_idx + 1:]\n",
        "\n",
        "                # Safely evaluate the string list using ast.literal_eval\n",
        "                per_class_acc_list = ast.literal_eval(list_str)\n",
        "\n",
        "                # Validate that it's actually a list\n",
        "                if not isinstance(per_class_acc_list, list):\n",
        "                    raise TypeError(f\"Parsed data for 'Per-Class Accuracy' is not a list (type: {type(per_class_acc_list)}).\")\n",
        "\n",
        "                # Convert elements to float just in case\n",
        "                per_class_acc_list = [float(acc) for acc in per_class_acc_list]\n",
        "                parsed_data[task_id] = per_class_acc_list\n",
        "                # print(f\"Parsed Task {task_id}, found {len(per_class_acc_list)} accuracies.\") # Optional print\n",
        "\n",
        "            except (ValueError, SyntaxError, TypeError, IndexError) as e:\n",
        "                print(f\"Warning: Could not parse line {line_num}. Error: {e}. Line content: '{line}'\")\n",
        "            except Exception as e:\n",
        "                # Catch any other unexpected errors during parsing of a specific line\n",
        "                print(f\"An unexpected error occurred parsing line {line_num}: {e}\")\n",
        "\n",
        "\n",
        "except FileNotFoundError:\n",
        "    # This case is handled by the os.path.exists check above, but kept for safety\n",
        "    print(f\"Error: Accuracy file not found at '{accuracy_file_path}'\")\n",
        "    exit()\n",
        "except Exception as e:\n",
        "    # Catch errors related to opening or reading the file itself\n",
        "    print(f\"Error reading file '{accuracy_file_path}': {e}\")\n",
        "    exit()\n",
        "\n",
        "# --- Prepare Data Matrix for Heatmap (Code remains the same) ---\n",
        "num_tasks_found = len(parsed_data)\n",
        "if num_tasks_found == 0:\n",
        "    print(\"No valid task data parsed. Exiting.\")\n",
        "    exit()\n",
        "\n",
        "# Create a matrix: rows = tasks, cols = classes\n",
        "# Initialize with NaN for classes not yet seen/evaluated\n",
        "acc_matrix = np.full((num_tasks_found, num_total_classes), np.nan)\n",
        "\n",
        "sorted_task_ids = sorted(parsed_data.keys())\n",
        "\n",
        "for task_idx, task_id in enumerate(sorted_task_ids):\n",
        "    accuracies = parsed_data[task_id]\n",
        "    num_classes_in_task_eval = len(accuracies)\n",
        "    if num_classes_in_task_eval > num_total_classes:\n",
        "         print(f\"Warning: Task {task_id} reported {num_classes_in_task_eval} accuracies, exceeding total classes {num_total_classes}. Truncating.\")\n",
        "         num_classes_in_task_eval = num_total_classes\n",
        "         accuracies = accuracies[:num_total_classes]\n",
        "\n",
        "    # Fill the matrix row for this task up to the number of classes evaluated\n",
        "    acc_matrix[task_idx, :num_classes_in_task_eval] = accuracies\n",
        "\n",
        "# --- Plotting the Heatmap (Code remains the same) ---\n",
        "plt.figure(figsize=(20, max(5, num_tasks_found * 0.7))) # Adjusted size\n",
        "\n",
        "heatmap = sns.heatmap(\n",
        "    acc_matrix,\n",
        "    annot=False,\n",
        "    fmt=\".2f\",\n",
        "    cmap=\"viridis\",\n",
        "    linewidths=0.2,\n",
        "    linecolor='lightgrey',\n",
        "    cbar_kws={'label': 'Per-Class Accuracy'},\n",
        "    vmin=0.0,\n",
        "    vmax=1.0\n",
        ")\n",
        "\n",
        "plt.xlabel(\"Class ID\")\n",
        "plt.ylabel(\"Evaluation Point (After Task X Completed)\")\n",
        "plt.title(\"Per-Class Accuracy After Each Task\", fontsize=16)\n",
        "plt.xticks(ticks=np.arange(0, num_total_classes, 5) + 0.5, labels=np.arange(0, num_total_classes, 5), rotation=90, fontsize=8)\n",
        "plt.yticks(ticks=np.arange(num_tasks_found) + 0.5, labels=[f\"After Task {t}\" for t in sorted_task_ids], rotation=0)\n",
        "\n",
        "for i in range(num_classes_per_task, num_total_classes, num_classes_per_task):\n",
        "    plt.axvline(x=i, color='white', linestyle='--', linewidth=1.0)\n",
        "\n",
        "plt.tight_layout()\n",
        "plt.show()"
      ],
      "metadata": {
        "id": "r9Mnt_TlE0RS",
        "outputId": "28bf7ecc-8e3c-4ea9-9919-7b261f4860e8",
        "colab": {
          "base_uri": "https://localhost:8080/",
          "height": 340
        }
      },
      "id": "r9Mnt_TlE0RS",
      "execution_count": 19,
      "outputs": [
        {
          "output_type": "display_data",
          "data": {
            "text/plain": [
              "<Figure size 2000x500 with 2 Axes>"
            ],
            "image/png": "[encoded data removed]"
          },
          "metadata": {}
        }
      ]
    }
  ],
  "metadata": {
    "accelerator": "GPU",
    "colab": {
      "gpuType": "T4",
      "provenance": []
    },
    "kernelspec": {
      "display_name": "Python 3",
      "name": "python3"
    },
    "language_info": {
      "name": "python",
      "version": "3.13.2"
    }
  },
  "nbformat": 4,
  "nbformat_minor": 5
}